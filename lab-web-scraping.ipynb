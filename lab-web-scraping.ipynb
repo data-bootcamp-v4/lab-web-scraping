{
  "cells": [
    {
      "cell_type": "markdown",
      "id": "7e7a1ab8-2599-417d-9a65-25ef07f3a786",
      "metadata": {
        "id": "7e7a1ab8-2599-417d-9a65-25ef07f3a786"
      },
      "source": [
        "# Lab | Web Scraping"
      ]
    },
    {
      "cell_type": "markdown",
      "id": "ce8882fc-4815-4567-92fa-b4816358ba7d",
      "metadata": {
        "id": "ce8882fc-4815-4567-92fa-b4816358ba7d"
      },
      "source": [
        "Welcome to the IMDb Web Scraping Adventure Lab!\n",
        "\n",
        "**Objective**\n",
        "\n",
        "In this lab, we will embark on a mission to unearth valuable insights from the vast sea of data available on IMDb, one of the largest online databases of movie, TV, and celebrity information. As budding data scientists and business analysts, you have been tasked to scrape a specific subset of data from IMDb to assist film production companies in understanding the landscape of highly-rated movies in a defined time period. Your insights will potentially influence the making of the next netflix movie!\n",
        "\n",
        "**Background**\n",
        "\n",
        "In a world where data has become the new currency, businesses are leveraging big data to make informed decisions that drive success and profitability. The entertainment industry, being no exception, utilizes data analytics to comprehend market trends, audience preferences, and the performance of films based on various parameters such as director, genre, stars involved, etc. IMDb stands as a goldmine of such data, offering intricate details of almost every movie ever made.\n",
        "\n",
        "**Task**\n",
        "\n",
        "Your task is to create a Python script using `BeautifulSoup` and `pandas` to scrape IMDb movie data based on user ratings and release dates. This script should be able to filter movies with ratings above a certain threshold and within a specified date range.\n",
        "\n",
        "**Expected Outcome**\n",
        "\n",
        "- A function named `scrape_imdb` that takes four parameters: `title_type`,`user_rating`, `start_date`, and `end_date`.\n",
        "- The function should return a DataFrame with the following columns:\n",
        "  - **Movie Nr**: The number representing the movie’s position in the list.\n",
        "  - **Title**: The title of the movie.\n",
        "  - **Year**: The year the movie was released.\n",
        "  - **Rating**: The IMDb rating of the movie.\n",
        "  - **Runtime (min)**: The duration of the movie in minutes.\n",
        "  - **Genre**: The genre of the movie.\n",
        "  - **Description**: A brief description of the movie.\n",
        "  - **Director**: The director of the movie.\n",
        "  - **Stars**: The main stars of the movie.\n",
        "  - **Votes**: The number of votes the movie received.\n",
        "  - **Gross ($M)**: The gross earnings of the movie in millions of USD.\n",
        "\n",
        "You will execute this script to scrape data for movies with the Title Type `Feature Film` that have a user rating of `7.5 and above` and were released between `January 1, 1990, and December 31, 1992`.\n",
        "\n",
        "Remember to experiment with different title types, dates and ratings to ensure your code is versatile and can handle various searches effectively!\n",
        "\n",
        "**Resources**\n",
        "\n",
        "- [Beautiful Soup Documentation](https://www.crummy.com/software/BeautifulSoup/bs4/doc/)\n",
        "- [Pandas Documentation](https://pandas.pydata.org/pandas-docs/stable/index.html)\n",
        "- [IMDb Advanced Search](https://www.imdb.com/search/title/)\n"
      ]
    },
    {
      "cell_type": "markdown",
      "id": "3519921d-5890-445b-9a33-934ed8ee378c",
      "metadata": {
        "id": "3519921d-5890-445b-9a33-934ed8ee378c"
      },
      "source": [
        "**Hint**\n",
        "\n",
        "Your first mission is to familiarize yourself with the IMDb advanced search page. Head over to [IMDb advanced search](https://www.imdb.com/search/title/) and input the following parameters, keeping all other fields to their default values or blank:\n",
        "\n",
        "- **Title Type**: Feature film\n",
        "- **Release date**: From 1990 to 1992 (Note: You don't need to specify the day and month)\n",
        "- **User Rating**: 7.5 to -\n",
        "\n",
        "Upon searching, you'll land on a page showcasing a list of movies, each displaying vital details such as the title, release year, and crew information. Your task is to scrape this treasure trove of data.\n",
        "\n",
        "Carefully examine the resulting URL and construct your own URL to include all the necessary parameters for filtering the movies."
      ]
    },
    {
      "cell_type": "markdown",
      "id": "25a83a0d-a742-49f6-985e-e27887cbf922",
      "metadata": {
        "id": "25a83a0d-a742-49f6-985e-e27887cbf922"
      },
      "source": [
        "\n",
        "---\n",
        "\n",
        "**Best of luck! Immerse yourself in the world of movies and may the data be with you!**"
      ]
    },
    {
      "cell_type": "markdown",
      "id": "7b75cf0d-9afa-4eec-a9e2-befeac68b2a0",
      "metadata": {
        "id": "7b75cf0d-9afa-4eec-a9e2-befeac68b2a0"
      },
      "source": [
        "**Important note**:\n",
        "\n",
        "In the fast-changing online world, websites often get updates and make changes. When you try this lab, the IMDb website might be different from what we expect.\n",
        "\n",
        "If you run into problems because of these changes, like new rules or things that stop you from getting data, don't worry! Instead, get creative.\n",
        "\n",
        "You can choose another website that interests you and is good for scraping data. Websites like Wikipedia or The New York Times are good options. The main goal is still the same: get useful data and learn how to scrape it from a website that you find interesting. It's a chance to practice your web scraping skills and explore a source of information you like."
      ]
    },
    {
      "cell_type": "code",
      "execution_count": null,
      "id": "40359eee-9cd7-4884-bfa4-83344c222305",
      "metadata": {
        "id": "40359eee-9cd7-4884-bfa4-83344c222305"
      },
      "outputs": [],
      "source": [
        "# **Task**\n",
        "\n",
        "# Your task is to create a Python script using `BeautifulSoup` and `pandas` to scrape IMDb movie data based on user ratings and release dates. This script should be able to filter movies with ratings above a certain threshold and within a specified date range.\n",
        "\n",
        "# **Expected Outcome**\n",
        "\n",
        "#- A function named `scrape_imdb` that takes four parameters: `title_type`,`user_rating`, `start_date`, and `end_date`.\n",
        "# - The function should return a DataFrame with the following columns:\n",
        "# - **Movie Nr**: The number representing the movie’s position in the list.\n",
        "# - **Title**: The title of the movie.\n",
        "#  - **Year**: The year the movie was released.\n",
        "#  - **Rating**: The IMDb rating of the movie.\n",
        "#  - **Runtime (min)**: The duration of the movie in minutes.\n",
        "#  - **Genre**: The genre of the movie.\n",
        "#  - **Description**: A brief description of the movie.\n",
        "#  - **Director**: The director of the movie.\n",
        "#  - **Stars**: The main stars of the movie.\n",
        "#  - **Votes**: The number of votes the movie received.\n",
        "#  - **Gross ($M)**: The gross earnings of the movie in millions of USD.\n",
        "\n",
        "# You will execute this script to scrape data for movies with the Title Type `Feature Film` that have a user rating of `7.5 and above` and were released between `January 1, 1990, and December 31, 1992`.\n",
        "\n",
        "# Remember to experiment with different title types, dates and ratings to ensure your code is versatile and can handle various searches effectively!"
      ]
    },
    {
      "cell_type": "code",
      "execution_count": 3,
      "id": "0b97e3f2",
      "metadata": {},
      "outputs": [],
      "source": [
        "# import libraries\n",
        "import requests\n",
        "from bs4 import BeautifulSoup\n",
        "import pandas as pd\n",
        "import re\n",
        "import textwrap\n",
        "\n",
        "def scrape_imdb(title_type, user_rating, start_date, end_date):\n",
        "    # create a list to store the data\n",
        "    data = []\n",
        "    # create a list to store the movie numbers\n",
        "    movie_nr = []\n",
        "    # create a list to store the movie titles\n",
        "    title = []\n",
        "    # create a list to store the movie years\n",
        "    year = []\n",
        "    # create a list to store the movie ratings\n",
        "    rating = []\n",
        "    # create a list to store the movie runtimes\n",
        "    runtime = []\n",
        "    # create a list to store the movie genres\n",
        "    genre = []\n",
        "    # create a list to store the movie descriptions\n",
        "    description = []\n",
        "    # create a list to store the movie directors\n",
        "    director = []\n",
        "    # create a list to store the movie stars\n",
        "    stars = []\n",
        "    # create a list to store the movie votes\n",
        "    votes = []\n",
        "    # create a list to store the movie gross earnings\n",
        "    gross = []\n",
        "    # create a list to store the movie links\n",
        "    links = []\n"
      ]
    },
    {
      "cell_type": "code",
      "execution_count": 10,
      "id": "00f6dbc1",
      "metadata": {},
      "outputs": [
        {
          "name": "stdout",
          "output_type": "stream",
          "text": [
            "Empty DataFrame\n",
            "Columns: []\n",
            "Index: []\n"
          ]
        }
      ],
      "source": [
        "# A function named `scrape_imdb` that takes four parameters: `title_type`,`user_rating`, `start_date`, and `end_date`.\n",
        "# - The function should return a DataFrame with the following columns:\n",
        "# - **Movie Nr**: The number representing the movie’s position in the list.\n",
        "# - **Title**: The title of the movie.\n",
        "#  - **Year**: The year the movie was released.\n",
        "#  - **Rating**: The IMDb rating of the movie.\n",
        "#  - **Runtime (min)**: The duration of the movie in minutes.\n",
        "#  - **Genre**: The genre of the movie.\n",
        "#  - **Description**: A brief description of the movie.\n",
        "#  - **Director**: The director of the movie.\n",
        "#  - **Stars**: The main stars of the movie.\n",
        "#  - **Votes**: The number of votes the movie received\n",
        "\n",
        "import requests\n",
        "from bs4 import BeautifulSoup\n",
        "import pandas as pd\n",
        "\n",
        "def scrape_imdb(title_type, user_rating, start_date, end_date):\n",
        "    base_url = 'https://www.imdb.com/search/title/'\n",
        "    params = {\n",
        "        'title_type': title_type,\n",
        "        'user_rating': user_rating,\n",
        "        'release_date': f'{start_date},{end_date}',\n",
        "        'count': 50  # Number of results per page (for simplicity we consider one page)\n",
        "    }\n",
        "    \n",
        "    response = requests.get(base_url, params=params)\n",
        "    soup = BeautifulSoup(response.content, 'html.parser')\n",
        "    \n",
        "    movies_list = []\n",
        "    \n",
        "    for idx, movie_div in enumerate(soup.find_all('div', class_='lister-item mode-advanced'), start=1):\n",
        "        # Movie Nr\n",
        "        movie_nr = idx\n",
        "        \n",
        "        # Title\n",
        "        header = movie_div.find('h3', class_='lister-item-header')\n",
        "        title = header.find('a').text\n",
        "        \n",
        "        # Year\n",
        "        year = header.find('span', class_='lister-item-year').text.strip('()')\n",
        "        \n",
        "        # Rating\n",
        "        rating = movie_div.find('div', class_='inline-block ratings-imdb-rating')\n",
        "        rating = float(rating['data-value']) if rating else None\n",
        "        \n",
        "        # Runtime\n",
        "        runtime = movie_div.find('span', class_='runtime')\n",
        "        runtime = int(runtime.text.replace(' min', '')) if runtime else None\n",
        "        \n",
        "        # Genre\n",
        "        genre = movie_div.find('span', class_='genre')\n",
        "        genre = genre.text.strip() if genre else None\n",
        "        \n",
        "        # Description\n",
        "        description = movie_div.find_all('p', class_='text-muted')[1].text.strip()\n",
        "        \n",
        "        # Director and Stars\n",
        "        people = movie_div.find('p', class_='').text.strip().split('|')\n",
        "        director = people[0].replace('Director:', '').replace('Directors:', '').strip()\n",
        "        stars = people[1].replace('Stars:', '').strip() if len(people) > 1 else None\n",
        "        \n",
        "        # Votes\n",
        "        votes_span = movie_div.find('span', attrs={'name': 'nv'})\n",
        "        votes = int(votes_span['data-value']) if votes_span else None\n",
        "        \n",
        "        movies_list.append({\n",
        "            'Movie Nr': movie_nr,\n",
        "            'Title': title,\n",
        "            'Year': year,\n",
        "            'Rating': rating,\n",
        "            'Runtime (min)': runtime,\n",
        "            'Genre': genre,\n",
        "            'Description': description,\n",
        "            'Director': director,\n",
        "            'Stars': stars,\n",
        "            'Votes': votes\n",
        "        })\n",
        "\n",
        "    # Convert list to DataFrame\n",
        "    df = pd.DataFrame(movies_list)\n",
        "    return df\n",
        "\n",
        "# Example usage:\n",
        "df = scrape_imdb('feature', '7.0,10.0', '2020-01-01', '2020-12-31')\n",
        "print(df)"
      ]
    },
    {
      "cell_type": "markdown",
      "id": "9ab1217a-df9d-4a2b-a32c-2c5f1eecd52a",
      "metadata": {
        "id": "9ab1217a-df9d-4a2b-a32c-2c5f1eecd52a"
      },
      "source": [
        "## BONUS\n",
        "\n",
        "The search results span multiple pages, housing a total of 631 movies in our example with each page displaying 50 movies at most. To scrape data seamlessly from all pages, you'll need to dive deep into the structure of the URLs generated with each \"Next\" click.\n",
        "\n",
        "Take a close look at the following URLs:\n",
        "- First page:\n",
        "  ```\n",
        "  https://www.imdb.com/search/title/?title_type=feature&release_date=1990-01-01,1992-12-31&user_rating=7.5,\n",
        "  ```\n",
        "- Second page:\n",
        "  ```\n",
        "  https://www.imdb.com/search/title/?title_type=feature&release_date=1990-01-01,1992-12-31&user_rating=7.5,&start=51&ref_=adv_nxt\n",
        "  ```\n",
        "- Third page:\n",
        "  ```\n",
        "  https://www.imdb.com/search/title/?title_type=feature&release_date=1990-01-01,1992-12-31&user_rating=7.5,&start=101&ref_=adv_nxt\n",
        "  ```\n",
        "\n",
        "You should notice a pattern. There is a `start` parameter incrementing by 50 with each page, paired with a constant `ref_` parameter holding the value \"adv_nxt\".\n",
        "\n",
        "Modify your script so it's capable of iterating over all available pages to fetch data on all the 631 movies (631 is the total number of movies in the proposed example)."
      ]
    },
    {
      "cell_type": "code",
      "execution_count": null,
      "id": "21ac4fc0-a12b-4a00-9266-2020166f0dea",
      "metadata": {
        "id": "21ac4fc0-a12b-4a00-9266-2020166f0dea"
      },
      "outputs": [],
      "source": [
        "# Your solution goes here"
      ]
    }
  ],
  "metadata": {
    "colab": {
      "provenance": []
    },
    "kernelspec": {
      "display_name": "Python 3 (ipykernel)",
      "language": "python",
      "name": "python3"
    },
    "language_info": {
      "codemirror_mode": {
        "name": "ipython",
        "version": 3
      },
      "file_extension": ".py",
      "mimetype": "text/x-python",
      "name": "python",
      "nbconvert_exporter": "python",
      "pygments_lexer": "ipython3",
      "version": "3.11.9"
    }
  },
  "nbformat": 4,
  "nbformat_minor": 5
}
