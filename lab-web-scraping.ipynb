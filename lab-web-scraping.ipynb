{
  "cells": [
    {
      "cell_type": "markdown",
      "id": "7e7a1ab8-2599-417d-9a65-25ef07f3a786",
      "metadata": {
        "id": "7e7a1ab8-2599-417d-9a65-25ef07f3a786"
      },
      "source": [
        "# Lab | Web Scraping"
      ]
    },
    {
      "cell_type": "markdown",
      "id": "ce8882fc-4815-4567-92fa-b4816358ba7d",
      "metadata": {
        "id": "ce8882fc-4815-4567-92fa-b4816358ba7d"
      },
      "source": [
        "Welcome to the \"Books to Scrape\" Web Scraping Adventure Lab!\n",
        "\n",
        "**Objective**\n",
        "\n",
        "In this lab, we will embark on a mission to unearth valuable insights from the data available on Books to Scrape, an online platform showcasing a wide variety of books. As data analyst, you have been tasked with scraping a specific subset of book data from Books to Scrape to assist publishing companies in understanding the landscape of highly-rated books across different genres. Your insights will help shape future book marketing strategies and publishing decisions.\n",
        "\n",
        "**Background**\n",
        "\n",
        "In a world where data has become the new currency, businesses are leveraging big data to make informed decisions that drive success and profitability. The publishing industry, much like others, utilizes data analytics to understand market trends, reader preferences, and the performance of books based on factors such as genre, author, and ratings. Books to Scrape serves as a rich source of such data, offering detailed information about a diverse range of books, making it an ideal platform for extracting insights to aid in informed decision-making within the literary world.\n",
        "\n",
        "**Task**\n",
        "\n",
        "Your task is to create a Python script using BeautifulSoup and pandas to scrape Books to Scrape book data, focusing on book ratings and genres. The script should be able to filter books with ratings above a certain threshold and in specific genres. Additionally, the script should structure the scraped data in a tabular format using pandas for further analysis.\n",
        "\n",
        "**Expected Outcome**\n",
        "\n",
        "A function named `scrape_books` that takes two parameters: `min_rating` and `max_price`. The function should scrape book data from the \"Books to Scrape\" website and return a `pandas` DataFrame with the following columns:\n",
        "\n",
        "**Expected Outcome**\n",
        "\n",
        "- A function named `scrape_books` that takes two parameters: `min_rating` and `max_price`.\n",
        "- The function should return a DataFrame with the following columns:\n",
        "  - **UPC**: The Universal Product Code (UPC) of the book.\n",
        "  - **Title**: The title of the book.\n",
        "  - **Price (£)**: The price of the book in pounds.\n",
        "  - **Rating**: The rating of the book (1-5 stars).\n",
        "  - **Genre**: The genre of the book.\n",
        "  - **Availability**: Whether the book is in stock or not.\n",
        "  - **Description**: A brief description or product description of the book (if available).\n",
        "  \n",
        "You will execute this script to scrape data for books with a minimum rating of `4.0 and above` and a maximum price of `£20`. \n",
        "\n",
        "Remember to experiment with different ratings and prices to ensure your code is versatile and can handle various searches effectively!\n",
        "\n",
        "**Resources**\n",
        "\n",
        "- [Beautiful Soup Documentation](https://www.crummy.com/software/BeautifulSoup/bs4/doc/)\n",
        "- [Pandas Documentation](https://pandas.pydata.org/pandas-docs/stable/index.html)\n",
        "- [Books to Scrape](https://books.toscrape.com/)\n"
      ]
    },
    {
      "cell_type": "markdown",
      "id": "3519921d-5890-445b-9a33-934ed8ee378c",
      "metadata": {
        "id": "3519921d-5890-445b-9a33-934ed8ee378c"
      },
      "source": [
        "**Hint**\n",
        "\n",
        "Your first mission is to familiarize yourself with the **Books to Scrape** website. Navigate to [Books to Scrape](http://books.toscrape.com/) and explore the available books to understand their layout and structure. \n",
        "\n",
        "Next, think about how you can set parameters for your data extraction:\n",
        "\n",
        "- **Minimum Rating**: Focus on books with a rating of 4.0 and above.\n",
        "- **Maximum Price**: Filter for books priced up to £20.\n",
        "\n",
        "After reviewing the site, you can construct a plan for scraping relevant data. Pay attention to the details displayed for each book, including the title, price, rating, and availability. This will help you identify the correct HTML elements to target with your scraping script.\n",
        "\n",
        "Make sure to build your scraping URL and logic based on the patterns you observe in the HTML structure of the book listings!"
      ]
    },
    {
      "cell_type": "markdown",
      "id": "25a83a0d-a742-49f6-985e-e27887cbf922",
      "metadata": {
        "id": "25a83a0d-a742-49f6-985e-e27887cbf922"
      },
      "source": [
        "\n",
        "---\n",
        "\n",
        "**Best of luck! Immerse yourself in the world of books, and may the data be with you!**"
      ]
    },
    {
      "cell_type": "markdown",
      "id": "7b75cf0d-9afa-4eec-a9e2-befeac68b2a0",
      "metadata": {
        "id": "7b75cf0d-9afa-4eec-a9e2-befeac68b2a0"
      },
      "source": [
        "**Important Note**:\n",
        "\n",
        "In the fast-changing online world, websites often update and change their structures. When you try this lab, the **Books to Scrape** website might differ from what you expect.\n",
        "\n",
        "If you encounter issues due to these changes, like new rules or obstacles preventing data extraction, don’t worry! Get creative.\n",
        "\n",
        "You can choose another website that interests you and is suitable for scraping data. Options like Wikipedia, The New York Times, or even library databases are great alternatives. The main goal remains the same: extract useful data and enhance your web scraping skills while exploring a source of information you enjoy. This is your opportunity to practice and adapt to different web environments!"
      ]
    },
    {
      "cell_type": "code",
      "execution_count": 2,
      "id": "40359eee-9cd7-4884-bfa4-83344c222305",
      "metadata": {
        "id": "40359eee-9cd7-4884-bfa4-83344c222305"
      },
      "outputs": [],
      "source": [
        "import requests\n",
        "from bs4 import BeautifulSoup\n",
        "import pandas as pd"
      ]
    },
    {
      "cell_type": "code",
      "execution_count": null,
      "id": "96f317eb",
      "metadata": {},
      "outputs": [],
      "source": [
        "url = \"https://books.toscrape.com/\"\n",
        "\"\"\"\n",
        "https://books.toscrape.com/catalogue/page-20.html -> to scrape all pages\n",
        "\"\"\"\n",
        "\n",
        "response = requests.get(url)\n",
        "response"
      ]
    },
    {
      "cell_type": "code",
      "execution_count": 4,
      "id": "f730c522",
      "metadata": {},
      "outputs": [],
      "source": [
        "soup = BeautifulSoup(response.content)"
      ]
    },
    {
      "cell_type": "code",
      "execution_count": null,
      "id": "00f1f1e8",
      "metadata": {},
      "outputs": [],
      "source": [
        "# which products we find \n",
        "products = soup.find_all(\"li\", attrs = {\"class\":\"col-xs-6\"})\n",
        "len(products)"
      ]
    },
    {
      "cell_type": "code",
      "execution_count": null,
      "id": "56a54b89",
      "metadata": {},
      "outputs": [],
      "source": [
        "#product title\n",
        "products[0].find_all(\"a\")[1][\"title\"]"
      ]
    },
    {
      "cell_type": "code",
      "execution_count": null,
      "id": "bb1ab113",
      "metadata": {},
      "outputs": [],
      "source": [
        "#ratings -> convert into numeric\n",
        "products[0].find_all(\"p\")[0][\"class\"][1]"
      ]
    },
    {
      "cell_type": "code",
      "execution_count": null,
      "id": "dd351ca9",
      "metadata": {},
      "outputs": [],
      "source": [
        "#href\n",
        "url + products[0].find_all(\"a\")[1][\"href\"]"
      ]
    },
    {
      "cell_type": "code",
      "execution_count": null,
      "id": "abf437f9",
      "metadata": {},
      "outputs": [],
      "source": [
        "#price\n",
        "float(products[0].find_all(\"p\")[1].get_text().replace(\"£\",\"\"))"
      ]
    },
    {
      "cell_type": "code",
      "execution_count": 80,
      "id": "74cde0c0",
      "metadata": {},
      "outputs": [],
      "source": [
        "# genre\n",
        "genre = None"
      ]
    },
    {
      "cell_type": "code",
      "execution_count": 81,
      "id": "ea57edbb",
      "metadata": {},
      "outputs": [],
      "source": [
        "# availability\n",
        "availability = None"
      ]
    },
    {
      "cell_type": "code",
      "execution_count": 82,
      "id": "fcdbdda1",
      "metadata": {},
      "outputs": [],
      "source": [
        "# description\n",
        "description = None"
      ]
    },
    {
      "cell_type": "code",
      "execution_count": 91,
      "id": "8ca63e5f",
      "metadata": {},
      "outputs": [],
      "source": [
        "book_dict = {}\n",
        "k_value = 1\n",
        "\n",
        "for prod in products:\n",
        "    #get title\n",
        "    title = prod.find_all(\"a\")[1][\"title\"]\n",
        "    #price\n",
        "    price = float(prod.find_all(\"p\")[1].get_text().replace(\"£\",\"\"))\n",
        "    #rating\n",
        "    rating = prod.find_all(\"p\")[0][\"class\"][1]\n",
        "    # genre\n",
        "    genre = None\n",
        "     # availability\n",
        "    availability = None\n",
        "     # description\n",
        "    description = None\n",
        "    # href\n",
        "    href = url + prod.find_all(\"a\")[1][\"href\"]\n",
        "    \n",
        "#UPC, Title, Price (£), Rating, Genre, Availability, Description    \n",
        "    book_dict[k_value] = {\"title\": title,\n",
        "                             \"price (£)\": price,\n",
        "                             \"rating\": rating,\n",
        "                             \"genre\":genre,\n",
        "                             \"availability\": availability,\n",
        "                             \"description\": description,\n",
        "                             \"href\": href\n",
        "                             }\n",
        "    \n",
        "    k_value += 1\n",
        "    "
      ]
    },
    {
      "cell_type": "code",
      "execution_count": null,
      "id": "0a79af02",
      "metadata": {},
      "outputs": [],
      "source": [
        "book_dict"
      ]
    },
    {
      "cell_type": "code",
      "execution_count": null,
      "id": "9c265684",
      "metadata": {},
      "outputs": [],
      "source": [
        "\"\"\"\n",
        "**Task**\n",
        "\n",
        "> Create a Python script using BeautifulSoup and pandas to scrape Books to Scrape book data, focusing on book ratings and genres.\n",
        " \n",
        "> The script should filter books by ratings and genres. \n",
        "\n",
        "> Script structure data in a pandas table for further analysis.\n",
        "\n",
        "\"\"\""
      ]
    },
    {
      "cell_type": "code",
      "execution_count": null,
      "id": "c3d96987",
      "metadata": {},
      "outputs": [],
      "source": [
        "# def scrape_books(min_rate, max_price):\n",
        "# > scrape book data from the \"Books to Scrape\" website\n",
        "# > return a `pandas` DataFrame with the following columns: UPC, Title, Price (£), Rating, Genre, Availability, Description\n",
        "\n",
        "# execute this script to scrape data with min_rate = 4.0 & max_price = £ 20. \n",
        "\n",
        "\n",
        "#def scrape_books(min_rate, max_price):\n",
        "\n",
        "##### import all modules, seturl etc...\n",
        "\n",
        "import requests, time, random\n",
        "from bs4 import BeautifulSoup\n",
        "import pandas as pd\n",
        "\n",
        "### 1a make it dynamic so to account for all pages (and not the first 2 results)\n",
        "\n",
        "response_list=[]\n",
        "for i in range(1,5):\n",
        "    response = requests.get(f\"https://books.toscrape.com/catalogue/page-{i}.html\")\n",
        "    \n",
        "    if response.status_code == 200:\n",
        "        soup = BeautifulSoup(response.content, 'html.parser')\n",
        "        response_list.append(soup)\n",
        "        \n",
        "    else:\n",
        "        print(f\"Failed to get #{i}\")\n",
        "        \n",
        "    time.sleep(random.uniform(0.5, 2))\n",
        "\n",
        "\n",
        "# 3. create pandas with the dictionary\n",
        "\n"
      ]
    },
    {
      "cell_type": "code",
      "execution_count": null,
      "id": "27e97745",
      "metadata": {},
      "outputs": [],
      "source": [
        "### make a list of products\n",
        "\n",
        "book_dict = {}\n",
        "k_value = 1\n",
        "\n",
        "for page in response_list:\n",
        "    products = soup.find_all(\"li\", attrs = {\"class\":\"col-xs-6\"})\n",
        "    for prod in products:\n",
        "        #get title\n",
        "        title = prod.find_all(\"a\")[1][\"title\"]\n",
        "        #price\n",
        "        price = float(prod.find_all(\"p\")[1].get_text().replace(\"£\",\"\"))\n",
        "        #rating\n",
        "        rating = prod.find_all(\"p\")[0][\"class\"][1]\n",
        "        # href\n",
        "        url=\"https://books.toscrape.com/catalogue/\"\n",
        "        href = url + prod.find_all(\"a\")[1][\"href\"]\n",
        "        extra = BeautifulSoup(requests.get(href).content, 'html.parser')\n",
        "        # genre\n",
        "        genre = extra.find_all(\"ul\")[0]\n",
        "        genre = genre.find_all(\"li\")[2].get_text().strip()\n",
        "        # availability\n",
        "        availability = extra.find_all(\"p\")[1].get_text().strip()\n",
        "        # description\n",
        "        description = extra.find_all(\"p\")[3].get_text()\n",
        "        # UPC\n",
        "        upc = extra.find_all(\"td\")[0].get_text()        \n",
        "        #UPC, Title, Price (£), Rating, Genre, Availability, Description    \n",
        "        book_dict[k_value] = {\"title\": title,\n",
        "                                \"price (£)\": price,\n",
        "                                \"rating\": rating,\n",
        "                                \"genre\":genre,\n",
        "                                \"availability\": availability,\n",
        "                                \"description\": description,\n",
        "                                \"href\": href,\n",
        "                                \"UPC\": upc\n",
        "                                }\n",
        "        \n",
        "        k_value += 1\n",
        "    \n",
        "display(book_dict)\n"
      ]
    },
    {
      "cell_type": "code",
      "execution_count": null,
      "id": "0bf79dd6",
      "metadata": {},
      "outputs": [],
      "source": [
        "# 2. filter the results by requirements\n",
        "\n",
        "s_book_data = pd.DataFrame.from_dict(book_dict, orient='index')\n",
        "s_book_data[\"rating\"] = s_book_data[\"rating\"].map({\"One\":1, \"Two\":2, \"Three\":3, \"Four\":4, \"Five\":5})\n",
        "\n",
        "filtered_data = s_book_data[(s_book_data[\"rating\"] >= min_rate) & (s_book_data[\"price (£)\"] <= max_price)]\n",
        "\n",
        "# def scrape_books(min_rate, max_price):\n",
        "# execute this script to scrape data with min_rate = 4.0 & max_price = £ 20.\n",
        "\n",
        "display(filtered_data)\n"
      ]
    },
    {
      "cell_type": "code",
      "execution_count": null,
      "id": "c6f6841b",
      "metadata": {},
      "outputs": [],
      "source": [
        "import sbook\n",
        "\n",
        "sbook.scrape_books(4, 20)"
      ]
    }
  ],
  "metadata": {
    "colab": {
      "provenance": []
    },
    "kernelspec": {
      "display_name": "Python 3 (ipykernel)",
      "language": "python",
      "name": "python3"
    },
    "language_info": {
      "codemirror_mode": {
        "name": "ipython",
        "version": 3
      },
      "file_extension": ".py",
      "mimetype": "text/x-python",
      "name": "python",
      "nbconvert_exporter": "python",
      "pygments_lexer": "ipython3",
      "version": "3.8.1"
    }
  },
  "nbformat": 4,
  "nbformat_minor": 5
}
