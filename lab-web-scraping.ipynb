{
  "cells": [
    {
      "cell_type": "markdown",
      "id": "7e7a1ab8-2599-417d-9a65-25ef07f3a786",
      "metadata": {
        "id": "7e7a1ab8-2599-417d-9a65-25ef07f3a786"
      },
      "source": [
        "# Lab | Web Scraping"
      ]
    },
    {
      "cell_type": "markdown",
      "id": "ce8882fc-4815-4567-92fa-b4816358ba7d",
      "metadata": {
        "id": "ce8882fc-4815-4567-92fa-b4816358ba7d"
      },
      "source": [
        "Welcome to the IMDb Web Scraping Adventure Lab!\n",
        "\n",
        "**Objective**\n",
        "\n",
        "In this lab, we will embark on a mission to unearth valuable insights from the vast sea of data available on IMDb, one of the largest online databases of movie, TV, and celebrity information. As budding data scientists and business analysts, you have been tasked to scrape a specific subset of data from IMDb to assist film production companies in understanding the landscape of highly-rated movies in a defined time period. Your insights will potentially influence the making of the next netflix movie!\n",
        "\n",
        "**Background**\n",
        "\n",
        "In a world where data has become the new currency, businesses are leveraging big data to make informed decisions that drive success and profitability. The entertainment industry, being no exception, utilizes data analytics to comprehend market trends, audience preferences, and the performance of films based on various parameters such as director, genre, stars involved, etc. IMDb stands as a goldmine of such data, offering intricate details of almost every movie ever made.\n",
        "\n",
        "**Task**\n",
        "\n",
        "Your task is to create a Python script using `BeautifulSoup` and `pandas` to scrape IMDb movie data based on user ratings and release dates. This script should be able to filter movies with ratings above a certain threshold and within a specified date range.\n",
        "\n",
        "**Expected Outcome**\n",
        "\n",
        "- A function named `scrape_imdb` that takes four parameters: `title_type`,`user_rating`, `start_date`, and `end_date`.\n",
        "- The function should return a DataFrame with the following columns:\n",
        "  - **Movie Nr**: The number representing the movie’s position in the list.\n",
        "  - **Title**: The title of the movie.\n",
        "  - **Year**: The year the movie was released.\n",
        "  - **Rating**: The IMDb rating of the movie.\n",
        "  - **Runtime (min)**: The duration of the movie in minutes.\n",
        "  - **Genre**: The genre of the movie.\n",
        "  - **Description**: A brief description of the movie.\n",
        "  - **Director**: The director of the movie.\n",
        "  - **Stars**: The main stars of the movie.\n",
        "  - **Votes**: The number of votes the movie received.\n",
        "  - **Gross ($M)**: The gross earnings of the movie in millions of USD.\n",
        "\n",
        "You will execute this script to scrape data for movies with the Title Type `Feature Film` that have a user rating of `7.5 and above` and were released between `January 1, 1990, and December 31, 1992`.\n",
        "\n",
        "Remember to experiment with different title types, dates and ratings to ensure your code is versatile and can handle various searches effectively!\n",
        "\n",
        "**Resources**\n",
        "\n",
        "- [Beautiful Soup Documentation](https://www.crummy.com/software/BeautifulSoup/bs4/doc/)\n",
        "- [Pandas Documentation](https://pandas.pydata.org/pandas-docs/stable/index.html)\n",
        "- [IMDb Advanced Search](https://www.imdb.com/search/title/)\n"
      ]
    },
    {
      "cell_type": "markdown",
      "id": "3519921d-5890-445b-9a33-934ed8ee378c",
      "metadata": {
        "id": "3519921d-5890-445b-9a33-934ed8ee378c"
      },
      "source": [
        "**Hint**\n",
        "\n",
        "Your first mission is to familiarize yourself with the IMDb advanced search page. Head over to [IMDb advanced search](https://www.imdb.com/search/title/) and input the following parameters, keeping all other fields to their default values or blank:\n",
        "\n",
        "- **Title Type**: Feature film\n",
        "- **Release date**: From 1990 to 1992 (Note: You don't need to specify the day and month)\n",
        "- **User Rating**: 7.5 to -\n",
        "\n",
        "Upon searching, you'll land on a page showcasing a list of movies, each displaying vital details such as the title, release year, and crew information. Your task is to scrape this treasure trove of data.\n",
        "\n",
        "Carefully examine the resulting URL and construct your own URL to include all the necessary parameters for filtering the movies."
      ]
    },
    {
      "cell_type": "markdown",
      "id": "25a83a0d-a742-49f6-985e-e27887cbf922",
      "metadata": {
        "id": "25a83a0d-a742-49f6-985e-e27887cbf922"
      },
      "source": [
        "\n",
        "---\n",
        "\n",
        "**Best of luck! Immerse yourself in the world of movies and may the data be with you!**"
      ]
    },
    {
      "cell_type": "markdown",
      "id": "7b75cf0d-9afa-4eec-a9e2-befeac68b2a0",
      "metadata": {
        "id": "7b75cf0d-9afa-4eec-a9e2-befeac68b2a0"
      },
      "source": [
        "**Important note**:\n",
        "\n",
        "In the fast-changing online world, websites often get updates and make changes. When you try this lab, the IMDb website might be different from what we expect.\n",
        "\n",
        "If you run into problems because of these changes, like new rules or things that stop you from getting data, don't worry! Instead, get creative.\n",
        "\n",
        "You can choose another website that interests you and is good for scraping data. Websites like Wikipedia or The New York Times are good options. The main goal is still the same: get useful data and learn how to scrape it from a website that you find interesting. It's a chance to practice your web scraping skills and explore a source of information you like."
      ]
    },
    {
      "cell_type": "code",
      "execution_count": 109,
      "id": "7fa5fea3",
      "metadata": {},
      "outputs": [],
      "source": [
        "import requests\n",
        "import pandas as pd \n",
        "from bs4 import BeautifulSoup"
      ]
    },
    {
      "cell_type": "code",
      "execution_count": 121,
      "id": "40359eee-9cd7-4884-bfa4-83344c222305",
      "metadata": {
        "id": "40359eee-9cd7-4884-bfa4-83344c222305"
      },
      "outputs": [],
      "source": [
        "# Your solution goes here\n",
        "#soup collection \n",
        "url = 'https://www.allocine.fr/films/genre-13026/decennie-1990/'\n",
        "\n",
        "soup = BeautifulSoup(requests.get(url).content, 'html.parser')"
      ]
    },
    {
      "cell_type": "code",
      "execution_count": 5,
      "id": "4ccd7ec6",
      "metadata": {},
      "outputs": [
        {
          "name": "stdout",
          "output_type": "stream",
          "text": [
            "Princesse Mononoké\n"
          ]
        }
      ],
      "source": [
        "movie_name_tags = soup.find_all(class_= \"meta-title-link\")\n",
        "print(movie_name_tags [0].text)"
      ]
    },
    {
      "cell_type": "code",
      "execution_count": 83,
      "id": "05a33752",
      "metadata": {},
      "outputs": [],
      "source": [
        "def extract_movie_info(soup):\n",
        "    movie_names = []\n",
        "    movie_years = []\n",
        "    movie_ratings = []\n",
        "    movie_runtimes = []\n",
        "    movie_genres = []\n",
        "    \n",
        "    #Find all components\n",
        "    components = soup.find_all('div', class_='card entity-card entity-card-list cf')\n",
        "\n",
        "    for component in components:\n",
        "        # Extract movie name\n",
        "        movie_name = component.find('a', class_= \"meta-title-link\").text.strip()\n",
        "        movie_names.append(movie_name)\n",
        "\n",
        "        movie_year = component.find('span', class_= \"date\").text.strip()\n",
        "        movie_years.append(movie_year)\n",
        "\n",
        "        movie_rating = component.find('div', class_=\"stareval stareval-small stareval-theme-default\").text.strip()\n",
        "        movie_ratings.append(movie_rating)\n",
        "\n",
        "        meta_body_info = component.find('div', class_='meta-body-item meta-body-info').text.split(\"|\")\n",
        "\n",
        "        runtime_str = meta_body_info[1].strip('\\n')\n",
        "        runtime_final = runtime_str.replace(\" \",\"\").replace(\"min\",\"\")\n",
        "        movie_runtimes.append(runtime_final)\n",
        "\n",
        "        genre_str = meta_body_info[2].strip('\\n')\n",
        "        genre_final = genre_str.replace(\"\\n\",\" \")\n",
        "        movie_genres.append(genre_final)\n",
        "        \n",
        "        \n",
        "    # Create DataFrame\n",
        "    df = pd.DataFrame({\n",
        "            'movie_name': movie_names,\n",
        "            'movie_year': movie_years,\n",
        "            'movie_runtime': movie_runtimes,\n",
        "            'movie_genre': movie_genres,\n",
        "            'movie_rating': movie_ratings,\n",
        "        }) \n",
        "    return df"
      ]
    },
    {
      "cell_type": "code",
      "execution_count": 45,
      "id": "787a1fd6",
      "metadata": {},
      "outputs": [
        {
          "data": {
            "text/plain": [
              "['\\n12 janvier 2000\\n',\n",
              " '\\n2h 15min\\n',\n",
              " '\\nAventure,\\nAnimation,\\nFantastique\\n']"
            ]
          },
          "execution_count": 45,
          "metadata": {},
          "output_type": "execute_result"
        }
      ],
      "source": [
        "meta_body_info = soup.find('div', class_='meta-body-item meta-body-info').text.split(\"|\")\n",
        "\n",
        "meta_body_info"
      ]
    },
    {
      "cell_type": "code",
      "execution_count": 47,
      "id": "13d203de",
      "metadata": {},
      "outputs": [
        {
          "data": {
            "text/plain": [
              "'2h 15min'"
            ]
          },
          "execution_count": 47,
          "metadata": {},
          "output_type": "execute_result"
        }
      ],
      "source": [
        "runtime_str = meta_body_info[1].strip('\\n')\n",
        "runtime_str"
      ]
    },
    {
      "cell_type": "code",
      "execution_count": 84,
      "id": "cc2a06ca",
      "metadata": {},
      "outputs": [
        {
          "data": {
            "text/html": [
              "<div>\n",
              "<style scoped>\n",
              "    .dataframe tbody tr th:only-of-type {\n",
              "        vertical-align: middle;\n",
              "    }\n",
              "\n",
              "    .dataframe tbody tr th {\n",
              "        vertical-align: top;\n",
              "    }\n",
              "\n",
              "    .dataframe thead th {\n",
              "        text-align: right;\n",
              "    }\n",
              "</style>\n",
              "<table border=\"1\" class=\"dataframe\">\n",
              "  <thead>\n",
              "    <tr style=\"text-align: right;\">\n",
              "      <th></th>\n",
              "      <th>movie_name</th>\n",
              "      <th>movie_year</th>\n",
              "      <th>movie_runtime</th>\n",
              "      <th>movie_genre</th>\n",
              "      <th>movie_rating</th>\n",
              "    </tr>\n",
              "  </thead>\n",
              "  <tbody>\n",
              "    <tr>\n",
              "      <th>0</th>\n",
              "      <td>Princesse Mononoké</td>\n",
              "      <td>12 janvier 2000</td>\n",
              "      <td>2h15</td>\n",
              "      <td>Aventure, Animation, Fantastique</td>\n",
              "      <td>4,8</td>\n",
              "    </tr>\n",
              "    <tr>\n",
              "      <th>1</th>\n",
              "      <td>Le Roi Lion</td>\n",
              "      <td>23 novembre 1994</td>\n",
              "      <td>1h29</td>\n",
              "      <td>Aventure, Animation, Famille</td>\n",
              "      <td>3,4</td>\n",
              "    </tr>\n",
              "    <tr>\n",
              "      <th>2</th>\n",
              "      <td>Les Aventures de Zak et Crysta dans la forêt t...</td>\n",
              "      <td>13 janvier 1993</td>\n",
              "      <td>1h16</td>\n",
              "      <td>Aventure, Animation, Famille</td>\n",
              "      <td>3,9</td>\n",
              "    </tr>\n",
              "    <tr>\n",
              "      <th>3</th>\n",
              "      <td>Porco Rosso</td>\n",
              "      <td>21 juin 1995</td>\n",
              "      <td>1h29</td>\n",
              "      <td>Aventure, Animation</td>\n",
              "      <td>4,8</td>\n",
              "    </tr>\n",
              "    <tr>\n",
              "      <th>4</th>\n",
              "      <td>Toy Story</td>\n",
              "      <td>27 mars 1996</td>\n",
              "      <td>1h17</td>\n",
              "      <td>Animation, Comédie, Famille</td>\n",
              "      <td>4,0</td>\n",
              "    </tr>\n",
              "    <tr>\n",
              "      <th>5</th>\n",
              "      <td>Anastasia</td>\n",
              "      <td>4 février 1998</td>\n",
              "      <td>1h25</td>\n",
              "      <td>Aventure, Animation, Famille</td>\n",
              "      <td>3,4</td>\n",
              "    </tr>\n",
              "    <tr>\n",
              "      <th>6</th>\n",
              "      <td>Kirikou et la sorcière</td>\n",
              "      <td>9 décembre 1998</td>\n",
              "      <td>1h10</td>\n",
              "      <td>Animation</td>\n",
              "      <td>3,8</td>\n",
              "    </tr>\n",
              "    <tr>\n",
              "      <th>7</th>\n",
              "      <td>Mulan</td>\n",
              "      <td>25 novembre 1998</td>\n",
              "      <td>1h28</td>\n",
              "      <td>Aventure, Animation</td>\n",
              "      <td>4,2</td>\n",
              "    </tr>\n",
              "    <tr>\n",
              "      <th>8</th>\n",
              "      <td>Princes et princesses</td>\n",
              "      <td>26 janvier 2000</td>\n",
              "      <td>1h10</td>\n",
              "      <td>Animation</td>\n",
              "      <td>4,1</td>\n",
              "    </tr>\n",
              "    <tr>\n",
              "      <th>9</th>\n",
              "      <td>La Belle et la Bête</td>\n",
              "      <td>21 octobre 1992</td>\n",
              "      <td>1h27</td>\n",
              "      <td>Animation, Famille, Comédie musicale</td>\n",
              "      <td>4,2</td>\n",
              "    </tr>\n",
              "    <tr>\n",
              "      <th>10</th>\n",
              "      <td>Ghost in the Shell</td>\n",
              "      <td>29 janvier 1997</td>\n",
              "      <td>1h23</td>\n",
              "      <td>Action, Animation, Science Fiction</td>\n",
              "      <td>4,1</td>\n",
              "    </tr>\n",
              "    <tr>\n",
              "      <th>11</th>\n",
              "      <td>Le Bossu de Notre-Dame</td>\n",
              "      <td>27 novembre 1996</td>\n",
              "      <td>1h31</td>\n",
              "      <td>Animation, Drame, Famille</td>\n",
              "      <td>3,8</td>\n",
              "    </tr>\n",
              "    <tr>\n",
              "      <th>12</th>\n",
              "      <td>Aladdin</td>\n",
              "      <td>24 novembre 1993</td>\n",
              "      <td>1h30</td>\n",
              "      <td>Animation, Comédie musicale, Romance</td>\n",
              "      <td>4,4</td>\n",
              "    </tr>\n",
              "    <tr>\n",
              "      <th>13</th>\n",
              "      <td>Le Géant de fer</td>\n",
              "      <td>8 décembre 1999</td>\n",
              "      <td>1h25</td>\n",
              "      <td>Action, Aventure, Animation</td>\n",
              "      <td>4,0</td>\n",
              "    </tr>\n",
              "    <tr>\n",
              "      <th>14</th>\n",
              "      <td>Le Prince d'Egypte</td>\n",
              "      <td>16 décembre 1998</td>\n",
              "      <td>1h39</td>\n",
              "      <td>Aventure, Animation, Drame</td>\n",
              "      <td>2,8</td>\n",
              "    </tr>\n",
              "  </tbody>\n",
              "</table>\n",
              "</div>"
            ],
            "text/plain": [
              "                                           movie_name        movie_year  \\\n",
              "0                                  Princesse Mononoké   12 janvier 2000   \n",
              "1                                         Le Roi Lion  23 novembre 1994   \n",
              "2   Les Aventures de Zak et Crysta dans la forêt t...   13 janvier 1993   \n",
              "3                                         Porco Rosso      21 juin 1995   \n",
              "4                                           Toy Story      27 mars 1996   \n",
              "5                                           Anastasia    4 février 1998   \n",
              "6                              Kirikou et la sorcière   9 décembre 1998   \n",
              "7                                               Mulan  25 novembre 1998   \n",
              "8                               Princes et princesses   26 janvier 2000   \n",
              "9                                 La Belle et la Bête   21 octobre 1992   \n",
              "10                                 Ghost in the Shell   29 janvier 1997   \n",
              "11                             Le Bossu de Notre-Dame  27 novembre 1996   \n",
              "12                                            Aladdin  24 novembre 1993   \n",
              "13                                    Le Géant de fer   8 décembre 1999   \n",
              "14                                 Le Prince d'Egypte  16 décembre 1998   \n",
              "\n",
              "   movie_runtime                           movie_genre movie_rating  \n",
              "0           2h15      Aventure, Animation, Fantastique          4,8  \n",
              "1           1h29          Aventure, Animation, Famille          3,4  \n",
              "2           1h16          Aventure, Animation, Famille          3,9  \n",
              "3           1h29                   Aventure, Animation          4,8  \n",
              "4           1h17           Animation, Comédie, Famille          4,0  \n",
              "5           1h25          Aventure, Animation, Famille          3,4  \n",
              "6           1h10                             Animation          3,8  \n",
              "7           1h28                   Aventure, Animation          4,2  \n",
              "8           1h10                             Animation          4,1  \n",
              "9           1h27  Animation, Famille, Comédie musicale          4,2  \n",
              "10          1h23    Action, Animation, Science Fiction          4,1  \n",
              "11          1h31             Animation, Drame, Famille          3,8  \n",
              "12          1h30  Animation, Comédie musicale, Romance          4,4  \n",
              "13          1h25           Action, Aventure, Animation          4,0  \n",
              "14          1h39            Aventure, Animation, Drame          2,8  "
            ]
          },
          "execution_count": 84,
          "metadata": {},
          "output_type": "execute_result"
        }
      ],
      "source": [
        "df = (extract_movie_info(soup))\n",
        "df"
      ]
    },
    {
      "cell_type": "markdown",
      "id": "9ab1217a-df9d-4a2b-a32c-2c5f1eecd52a",
      "metadata": {
        "id": "9ab1217a-df9d-4a2b-a32c-2c5f1eecd52a"
      },
      "source": [
        "## BONUS\n",
        "\n",
        "The search results span multiple pages, housing a total of 631 movies in our example with each page displaying 50 movies at most. To scrape data seamlessly from all pages, you'll need to dive deep into the structure of the URLs generated with each \"Next\" click.\n",
        "\n",
        "Take a close look at the following URLs:\n",
        "- First page:\n",
        "  ```\n",
        "  https://www.imdb.com/search/title/?title_type=feature&release_date=1990-01-01,1992-12-31&user_rating=7.5,\n",
        "  ```\n",
        "- Second page:\n",
        "  ```\n",
        "  https://www.imdb.com/search/title/?title_type=feature&release_date=1990-01-01,1992-12-31&user_rating=7.5,&start=51&ref_=adv_nxt\n",
        "  ```\n",
        "- Third page:\n",
        "  ```\n",
        "  https://www.imdb.com/search/title/?title_type=feature&release_date=1990-01-01,1992-12-31&user_rating=7.5,&start=101&ref_=adv_nxt\n",
        "  ```\n",
        "\n",
        "You should notice a pattern. There is a `start` parameter incrementing by 50 with each page, paired with a constant `ref_` parameter holding the value \"adv_nxt\".\n",
        "\n",
        "Modify your script so it's capable of iterating over all available pages to fetch data on all the 631 movies (631 is the total number of movies in the proposed example)."
      ]
    }
  ],
  "metadata": {
    "colab": {
      "provenance": []
    },
    "kernelspec": {
      "display_name": "Python 3 (ipykernel)",
      "language": "python",
      "name": "python3"
    },
    "language_info": {
      "codemirror_mode": {
        "name": "ipython",
        "version": 3
      },
      "file_extension": ".py",
      "mimetype": "text/x-python",
      "name": "python",
      "nbconvert_exporter": "python",
      "pygments_lexer": "ipython3",
      "version": "3.11.3"
    }
  },
  "nbformat": 4,
  "nbformat_minor": 5
}
