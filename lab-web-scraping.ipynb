{
 "cells": [
  {
   "cell_type": "markdown",
   "id": "7e7a1ab8-2599-417d-9a65-25ef07f3a786",
   "metadata": {
    "id": "7e7a1ab8-2599-417d-9a65-25ef07f3a786"
   },
   "source": [
    "# Lab | Web Scraping"
   ]
  },
  {
   "cell_type": "markdown",
   "id": "ce8882fc-4815-4567-92fa-b4816358ba7d",
   "metadata": {
    "id": "ce8882fc-4815-4567-92fa-b4816358ba7d"
   },
   "source": [
    "Welcome to the \"Books to Scrape\" Web Scraping Adventure Lab!\n",
    "\n",
    "**Objective**\n",
    "\n",
    "In this lab, we will embark on a mission to unearth valuable insights from the data available on Books to Scrape, an online platform showcasing a wide variety of books. As data analyst, you have been tasked with scraping a specific subset of book data from Books to Scrape to assist publishing companies in understanding the landscape of highly-rated books across different genres. Your insights will help shape future book marketing strategies and publishing decisions.\n",
    "\n",
    "**Background**\n",
    "\n",
    "In a world where data has become the new currency, businesses are leveraging big data to make informed decisions that drive success and profitability. The publishing industry, much like others, utilizes data analytics to understand market trends, reader preferences, and the performance of books based on factors such as genre, author, and ratings. Books to Scrape serves as a rich source of such data, offering detailed information about a diverse range of books, making it an ideal platform for extracting insights to aid in informed decision-making within the literary world.\n",
    "\n",
    "**Task**\n",
    "\n",
    "Your task is to create a Python script using BeautifulSoup and pandas to scrape Books to Scrape book data, focusing on book ratings and genres. The script should be able to filter books with ratings above a certain threshold and in specific genres. Additionally, the script should structure the scraped data in a tabular format using pandas for further analysis.\n",
    "\n",
    "**Expected Outcome**\n",
    "\n",
    "A function named `scrape_books` that takes two parameters: `min_rating` and `max_price`. The function should scrape book data from the \"Books to Scrape\" website and return a `pandas` DataFrame with the following columns:\n",
    "\n",
    "**Expected Outcome**\n",
    "\n",
    "- A function named `scrape_books` that takes two parameters: `min_rating` and `max_price`.\n",
    "- The function should return a DataFrame with the following columns:\n",
    "  - **UPC**: The Universal Product Code (UPC) of the book.\n",
    "  - **Title**: The title of the book.\n",
    "  - **Price (£)**: The price of the book in pounds.\n",
    "  - **Rating**: The rating of the book (1-5 stars).\n",
    "  - **Genre**: The genre of the book.\n",
    "  - **Availability**: Whether the book is in stock or not.\n",
    "  - **Description**: A brief description or product description of the book (if available).\n",
    "  \n",
    "You will execute this script to scrape data for books with a minimum rating of `4.0 and above` and a maximum price of `£20`. \n",
    "\n",
    "Remember to experiment with different ratings and prices to ensure your code is versatile and can handle various searches effectively!\n",
    "\n",
    "**Resources**\n",
    "\n",
    "- [Beautiful Soup Documentation](https://www.crummy.com/software/BeautifulSoup/bs4/doc/)\n",
    "- [Pandas Documentation](https://pandas.pydata.org/pandas-docs/stable/index.html)\n",
    "- [Books to Scrape](https://books.toscrape.com/)\n"
   ]
  },
  {
   "cell_type": "markdown",
   "id": "3519921d-5890-445b-9a33-934ed8ee378c",
   "metadata": {
    "id": "3519921d-5890-445b-9a33-934ed8ee378c"
   },
   "source": [
    "**Hint**\n",
    "\n",
    "Your first mission is to familiarize yourself with the **Books to Scrape** website. Navigate to [Books to Scrape](http://books.toscrape.com/) and explore the available books to understand their layout and structure. \n",
    "\n",
    "Next, think about how you can set parameters for your data extraction:\n",
    "\n",
    "- **Minimum Rating**: Focus on books with a rating of 4.0 and above.\n",
    "- **Maximum Price**: Filter for books priced up to £20.\n",
    "\n",
    "After reviewing the site, you can construct a plan for scraping relevant data. Pay attention to the details displayed for each book, including the title, price, rating, and availability. This will help you identify the correct HTML elements to target with your scraping script.\n",
    "\n",
    "Make sure to build your scraping URL and logic based on the patterns you observe in the HTML structure of the book listings!"
   ]
  },
  {
   "cell_type": "markdown",
   "id": "25a83a0d-a742-49f6-985e-e27887cbf922",
   "metadata": {
    "id": "25a83a0d-a742-49f6-985e-e27887cbf922"
   },
   "source": [
    "\n",
    "---\n",
    "\n",
    "**Best of luck! Immerse yourself in the world of books, and may the data be with you!**"
   ]
  },
  {
   "cell_type": "markdown",
   "id": "7b75cf0d-9afa-4eec-a9e2-befeac68b2a0",
   "metadata": {
    "id": "7b75cf0d-9afa-4eec-a9e2-befeac68b2a0"
   },
   "source": [
    "**Important Note**:\n",
    "\n",
    "In the fast-changing online world, websites often update and change their structures. When you try this lab, the **Books to Scrape** website might differ from what you expect.\n",
    "\n",
    "If you encounter issues due to these changes, like new rules or obstacles preventing data extraction, don’t worry! Get creative.\n",
    "\n",
    "You can choose another website that interests you and is suitable for scraping data. Options like Wikipedia, The New York Times, or even library databases are great alternatives. The main goal remains the same: extract useful data and enhance your web scraping skills while exploring a source of information you enjoy. This is your opportunity to practice and adapt to different web environments!"
   ]
  },
  {
   "cell_type": "code",
   "execution_count": 1,
   "id": "40359eee-9cd7-4884-bfa4-83344c222305",
   "metadata": {
    "id": "40359eee-9cd7-4884-bfa4-83344c222305"
   },
   "outputs": [],
   "source": [
    "import requests \n",
    "from bs4 import BeautifulSoup\n",
    "import pandas as pd"
   ]
  },
  {
   "cell_type": "code",
   "execution_count": 88,
   "id": "bf80487d-23bf-4e32-8eee-90425fb77a8a",
   "metadata": {},
   "outputs": [
    {
     "data": {
      "text/plain": [
       "<Response [200]>"
      ]
     },
     "execution_count": 88,
     "metadata": {},
     "output_type": "execute_result"
    }
   ],
   "source": [
    "url = \"https://books.toscrape.com/\"\n",
    "\n",
    "r = requests.get(url)\n",
    "r"
   ]
  },
  {
   "cell_type": "code",
   "execution_count": 90,
   "id": "8a2c4404-8059-46bf-90c1-b4b75c2942ea",
   "metadata": {},
   "outputs": [],
   "source": [
    "soup = BeautifulSoup(r.content) #structures the content of responce"
   ]
  },
  {
   "cell_type": "code",
   "execution_count": 6,
   "id": "0339a879-22b3-46f2-962c-0c9a130c4328",
   "metadata": {},
   "outputs": [
    {
     "data": {
      "text/plain": [
       "20"
      ]
     },
     "execution_count": 6,
     "metadata": {},
     "output_type": "execute_result"
    }
   ],
   "source": [
    "all_books = soup.find_all(\"li\", attrs = {\"class\": \"col-xs-6 col-sm-4 col-md-3 col-lg-3\"})\n",
    "len(all_books)"
   ]
  },
  {
   "cell_type": "code",
   "execution_count": 11,
   "id": "9caecd78-d401-4def-bd4c-7d5c4147811f",
   "metadata": {},
   "outputs": [
    {
     "data": {
      "text/plain": [
       "<li class=\"col-xs-6 col-sm-4 col-md-3 col-lg-3\">\n",
       "<article class=\"product_pod\">\n",
       "<div class=\"image_container\">\n",
       "<a href=\"catalogue/a-light-in-the-attic_1000/index.html\"><img alt=\"A Light in the Attic\" class=\"thumbnail\" src=\"media/cache/2c/da/2cdad67c44b002e7ead0cc35693c0e8b.jpg\"/></a>\n",
       "</div>\n",
       "<p class=\"star-rating Three\">\n",
       "<i class=\"icon-star\"></i>\n",
       "<i class=\"icon-star\"></i>\n",
       "<i class=\"icon-star\"></i>\n",
       "<i class=\"icon-star\"></i>\n",
       "<i class=\"icon-star\"></i>\n",
       "</p>\n",
       "<h3><a href=\"catalogue/a-light-in-the-attic_1000/index.html\" title=\"A Light in the Attic\">A Light in the ...</a></h3>\n",
       "<div class=\"product_price\">\n",
       "<p class=\"price_color\">£51.77</p>\n",
       "<p class=\"instock availability\">\n",
       "<i class=\"icon-ok\"></i>\n",
       "    \n",
       "        In stock\n",
       "    \n",
       "</p>\n",
       "<form>\n",
       "<button class=\"btn btn-primary btn-block\" data-loading-text=\"Adding...\" type=\"submit\">Add to basket</button>\n",
       "</form>\n",
       "</div>\n",
       "</article>\n",
       "</li>"
      ]
     },
     "execution_count": 11,
     "metadata": {},
     "output_type": "execute_result"
    }
   ],
   "source": [
    "all_books[0]"
   ]
  },
  {
   "cell_type": "code",
   "execution_count": 13,
   "id": "513dd2a9-d34f-4107-996a-f48beb12df25",
   "metadata": {},
   "outputs": [
    {
     "data": {
      "text/plain": [
       "<p class=\"star-rating Three\">\n",
       "<i class=\"icon-star\"></i>\n",
       "<i class=\"icon-star\"></i>\n",
       "<i class=\"icon-star\"></i>\n",
       "<i class=\"icon-star\"></i>\n",
       "<i class=\"icon-star\"></i>\n",
       "</p>"
      ]
     },
     "execution_count": 13,
     "metadata": {},
     "output_type": "execute_result"
    }
   ],
   "source": [
    "# ratings\n",
    "all_books[0].find(\"p\") #.get_text() doesn make sence"
   ]
  },
  {
   "cell_type": "code",
   "execution_count": 15,
   "id": "b2915178-731a-4561-94dc-5da573fe7baf",
   "metadata": {},
   "outputs": [
    {
     "data": {
      "text/plain": [
       "'Three'"
      ]
     },
     "execution_count": 15,
     "metadata": {},
     "output_type": "execute_result"
    }
   ],
   "source": [
    "all_books[0].find(\"p\")[\"class\"][-1] # to get the number of stars"
   ]
  },
  {
   "cell_type": "code",
   "execution_count": 17,
   "id": "3d340f97-3115-4d61-8031-b5e07195faa4",
   "metadata": {},
   "outputs": [
    {
     "data": {
      "text/plain": [
       "'A Light in the Attic'"
      ]
     },
     "execution_count": 17,
     "metadata": {},
     "output_type": "execute_result"
    }
   ],
   "source": [
    "# book name \n",
    "all_books[0].find_all(\"a\")[-1][\"title\"] # two \"a\"s in script, we need second one"
   ]
  },
  {
   "cell_type": "code",
   "execution_count": 19,
   "id": "af24c8d5-fa72-4455-8c29-93b10d96a480",
   "metadata": {},
   "outputs": [
    {
     "data": {
      "text/plain": [
       "51.77"
      ]
     },
     "execution_count": 19,
     "metadata": {},
     "output_type": "execute_result"
    }
   ],
   "source": [
    "#price\n",
    "float(all_books[0].find_all(\"p\", attrs ={\"class\": \"price_color\"})[0].get_text().replace(\"£\", \"\"))"
   ]
  },
  {
   "cell_type": "code",
   "execution_count": 92,
   "id": "bc62486d-77d7-4878-a826-3835f772a823",
   "metadata": {},
   "outputs": [],
   "source": [
    "def rating_to_num(my_string):\n",
    "    if my_string == \"One\":\n",
    "        return 1\n",
    "    elif my_string == \"Two\":\n",
    "        return 2\n",
    "    elif my_string == \"Three\":\n",
    "        return 3\n",
    "    elif my_string == \"Four\":\n",
    "        return 4\n",
    "    else:\n",
    "        return 5\n",
    "\n",
    "\n",
    "def full_href(my_string):\n",
    "    domain = \"https://books.toscrape.com/catalogue/\"\n",
    "    return domain + my_string\n"
   ]
  },
  {
   "cell_type": "code",
   "execution_count": 94,
   "id": "a372eb3f-2842-4767-8716-6630b44654e6",
   "metadata": {},
   "outputs": [
    {
     "data": {
      "text/plain": [
       "\"It's hard to imagine a world without A Light in the Attic. This now-classic collection of poetry and drawings from Shel Silverstein celebrates its 20th anniversary with this special edition. Silverstein's humorous and creative verse can amuse the dowdiest of readers. Lemon-faced adults and fidgety kids sit still and read these rhythmic words and laugh and smile and love th It's hard to imagine a world without A Light in the Attic. This now-classic collection of poetry and drawings from Shel Silverstein celebrates its 20th anniversary with this special edition. Silverstein's humorous and creative verse can amuse the dowdiest of readers. Lemon-faced adults and fidgety kids sit still and read these rhythmic words and laugh and smile and love that Silverstein. Need proof of his genius? RockabyeRockabye baby, in the treetopDon't you know a treetopIs no safe place to rock?And who put you up there,And your cradle, too?Baby, I think someone down here'sGot it in for you. Shel, you never sounded so good. ...more\""
      ]
     },
     "execution_count": 94,
     "metadata": {},
     "output_type": "execute_result"
    }
   ],
   "source": [
    "url = \"https://books.toscrape.com/catalogue/a-light-in-the-attic_1000/index.html\"\n",
    "\n",
    "r = requests.get(url)\n",
    "soup = BeautifulSoup(r.content)\n",
    "\n",
    "soup.find_all(\"p\")[3].get_text()"
   ]
  },
  {
   "cell_type": "code",
   "execution_count": 102,
   "id": "23b93792-d7e5-4516-89f1-71e17bc2d373",
   "metadata": {},
   "outputs": [],
   "source": [
    "#getting data per book (upc, availability, genre)\n",
    "\n",
    "def book_details(link):\n",
    "    r = requests.get(link)\n",
    "    soup = BeautifulSoup(r.content)\n",
    "\n",
    "    upc = soup.find_all(\"td\")[0].get_text()\n",
    "    book_availability = soup.find_all(\"td\")[-2].get_text()\n",
    "    genre = soup.find_all(\"ul\",attrs = {\"class\":\"breadcrumb\"})[0].find_all(\"li\")[-2].get_text().strip()\n",
    "    description = soup.find_all(\"p\")[3].get_text()\n",
    "\n",
    "    return upc, book_availability, genre, description"
   ]
  },
  {
   "cell_type": "code",
   "execution_count": 104,
   "id": "473493b1-c201-41de-b39f-7afe0a749712",
   "metadata": {},
   "outputs": [],
   "source": [
    "#first step - list all books that satisfy the parameters (price and rating)\n",
    "def get_books_per_page(my_soup, min_rating, max_price):\n",
    "    \n",
    "    all_books = my_soup.find_all(\"li\", attrs = {\"class\": \"col-xs-6 col-sm-4 col-md-3 col-lg-3\"})\n",
    "\n",
    "    book_dict = {}\n",
    "    dict_key = 0\n",
    "    for book in all_books:\n",
    "        #get title\n",
    "        title = book.find_all(\"a\")[-1][\"title\"]\n",
    "        #get price\n",
    "        book_price = float(book.find_all(\"p\", attrs = {\"class\":\"price_color\"})[0].get_text().replace(\"£\",\"\"))\n",
    "        #get rating (and transform it into numerical)\n",
    "        rating = rating_to_num(book.find(\"p\")[\"class\"][-1])\n",
    "        #link (href)\n",
    "        book_link = full_href(book.find_all(\"a\")[0][\"href\"])\n",
    "        if (book_price <= max_price) and (rating >= min_rating):\n",
    "            ###now if a books satisfies the parameters we need to scrape some more data\n",
    "            upc, book_availability, genre, description = book_details(book_link)\n",
    "            \n",
    "            book_dict[dict_key] = {\"title\":title,\n",
    "                                  \"price\":book_price,\n",
    "                                  \"rating\":rating,\n",
    "                                  \"link\": book_link,\n",
    "                                  \"UCP\": upc,\n",
    "                                  \"Stock\": book_availability,\n",
    "                                  \"genre\": genre,\n",
    "                                  \"description\": description}\n",
    "            dict_key +=1\n",
    "    return book_dict"
   ]
  },
  {
   "cell_type": "code",
   "execution_count": 106,
   "id": "a03a2bc1-829d-4561-8ad1-0242b23194db",
   "metadata": {},
   "outputs": [],
   "source": [
    "def get_all_books(num_pages = 50, min_rating = 4, max_price = 20):\n",
    "    books_per_page = []\n",
    "    for i in range(1, num_pages+1):\n",
    "        url = f\"https://books.toscrape.com/catalogue/page-{i}.html\"\n",
    "        r = requests.get(url)\n",
    "        soup = BeautifulSoup(r.content)\n",
    "        \n",
    "        page_data = get_books_per_page(soup, min_rating, max_price)\n",
    "        books_per_page.append(page_data)\n",
    "        #time.sleep(1) -> to avoid getting your IP Adress blocked\n",
    "    #returning a dataframe instead of lists of dicts\n",
    "    df_full = pd.DataFrame()\n",
    "    for dt in books_per_page:\n",
    "        df = pd.DataFrame.from_dict(dt, orient=\"index\")\n",
    "        df_full = pd.concat([df_full, df])\n",
    "        \n",
    "    return df_full.reset_index(drop=True)"
   ]
  },
  {
   "cell_type": "code",
   "execution_count": 108,
   "id": "6ecbded4-4572-46c7-b8f3-3132af74ac64",
   "metadata": {},
   "outputs": [
    {
     "data": {
      "text/html": [
       "<div>\n",
       "<style scoped>\n",
       "    .dataframe tbody tr th:only-of-type {\n",
       "        vertical-align: middle;\n",
       "    }\n",
       "\n",
       "    .dataframe tbody tr th {\n",
       "        vertical-align: top;\n",
       "    }\n",
       "\n",
       "    .dataframe thead th {\n",
       "        text-align: right;\n",
       "    }\n",
       "</style>\n",
       "<table border=\"1\" class=\"dataframe\">\n",
       "  <thead>\n",
       "    <tr style=\"text-align: right;\">\n",
       "      <th></th>\n",
       "      <th>title</th>\n",
       "      <th>price</th>\n",
       "      <th>rating</th>\n",
       "      <th>link</th>\n",
       "      <th>UCP</th>\n",
       "      <th>Stock</th>\n",
       "      <th>genre</th>\n",
       "      <th>description</th>\n",
       "    </tr>\n",
       "  </thead>\n",
       "  <tbody>\n",
       "    <tr>\n",
       "      <th>0</th>\n",
       "      <td>Set Me Free</td>\n",
       "      <td>17.46</td>\n",
       "      <td>5</td>\n",
       "      <td>https://books.toscrape.com/catalogue/set-me-fr...</td>\n",
       "      <td>ce6396b0f23f6ecc</td>\n",
       "      <td>In stock (19 available)</td>\n",
       "      <td>Young Adult</td>\n",
       "      <td>Aaron Ledbetter’s future had been planned out ...</td>\n",
       "    </tr>\n",
       "    <tr>\n",
       "      <th>1</th>\n",
       "      <td>The Four Agreements: A Practical Guide to Pers...</td>\n",
       "      <td>17.66</td>\n",
       "      <td>5</td>\n",
       "      <td>https://books.toscrape.com/catalogue/the-four-...</td>\n",
       "      <td>6258a1f6a6dcfe50</td>\n",
       "      <td>In stock (18 available)</td>\n",
       "      <td>Spirituality</td>\n",
       "      <td>In The Four Agreements, don Miguel Ruiz reveal...</td>\n",
       "    </tr>\n",
       "    <tr>\n",
       "      <th>2</th>\n",
       "      <td>Sophie's World</td>\n",
       "      <td>15.94</td>\n",
       "      <td>5</td>\n",
       "      <td>https://books.toscrape.com/catalogue/sophies-w...</td>\n",
       "      <td>6be3beb0793a53e7</td>\n",
       "      <td>In stock (18 available)</td>\n",
       "      <td>Philosophy</td>\n",
       "      <td>A page-turning novel that is also an explorati...</td>\n",
       "    </tr>\n",
       "    <tr>\n",
       "      <th>3</th>\n",
       "      <td>Untitled Collection: Sabbath Poems 2014</td>\n",
       "      <td>14.27</td>\n",
       "      <td>4</td>\n",
       "      <td>https://books.toscrape.com/catalogue/untitled-...</td>\n",
       "      <td>657fe5ead67a7767</td>\n",
       "      <td>In stock (16 available)</td>\n",
       "      <td>Poetry</td>\n",
       "      <td>More than thirty-five years ago, when the weat...</td>\n",
       "    </tr>\n",
       "    <tr>\n",
       "      <th>4</th>\n",
       "      <td>This One Summer</td>\n",
       "      <td>19.49</td>\n",
       "      <td>4</td>\n",
       "      <td>https://books.toscrape.com/catalogue/this-one-...</td>\n",
       "      <td>51653ef291ab7ddc</td>\n",
       "      <td>In stock (16 available)</td>\n",
       "      <td>Sequential Art</td>\n",
       "      <td>Every summer, Rose goes with her mom and dad t...</td>\n",
       "    </tr>\n",
       "    <tr>\n",
       "      <th>...</th>\n",
       "      <td>...</td>\n",
       "      <td>...</td>\n",
       "      <td>...</td>\n",
       "      <td>...</td>\n",
       "      <td>...</td>\n",
       "      <td>...</td>\n",
       "      <td>...</td>\n",
       "      <td>...</td>\n",
       "    </tr>\n",
       "    <tr>\n",
       "      <th>70</th>\n",
       "      <td>The Zombie Room</td>\n",
       "      <td>19.69</td>\n",
       "      <td>5</td>\n",
       "      <td>https://books.toscrape.com/catalogue/the-zombi...</td>\n",
       "      <td>9c96cd1329fbd82d</td>\n",
       "      <td>In stock (1 available)</td>\n",
       "      <td>Default</td>\n",
       "      <td>An unlikely bond is forged between three men f...</td>\n",
       "    </tr>\n",
       "    <tr>\n",
       "      <th>71</th>\n",
       "      <td>The Silent Wife</td>\n",
       "      <td>12.34</td>\n",
       "      <td>5</td>\n",
       "      <td>https://books.toscrape.com/catalogue/the-silen...</td>\n",
       "      <td>b78deb463531d078</td>\n",
       "      <td>In stock (1 available)</td>\n",
       "      <td>Fiction</td>\n",
       "      <td>A chilling psychological thriller about a marr...</td>\n",
       "    </tr>\n",
       "    <tr>\n",
       "      <th>72</th>\n",
       "      <td>The Girl You Lost</td>\n",
       "      <td>12.29</td>\n",
       "      <td>5</td>\n",
       "      <td>https://books.toscrape.com/catalogue/the-girl-...</td>\n",
       "      <td>4280ac3eab57aa5d</td>\n",
       "      <td>In stock (1 available)</td>\n",
       "      <td>Mystery</td>\n",
       "      <td>Eighteen years ago your baby daughter was snat...</td>\n",
       "    </tr>\n",
       "    <tr>\n",
       "      <th>73</th>\n",
       "      <td>The Edge of Reason (Bridget Jones #2)</td>\n",
       "      <td>19.18</td>\n",
       "      <td>4</td>\n",
       "      <td>https://books.toscrape.com/catalogue/the-edge-...</td>\n",
       "      <td>29fc016c459aeb14</td>\n",
       "      <td>In stock (1 available)</td>\n",
       "      <td>Womens Fiction</td>\n",
       "      <td>Monday 27 January“7:15 a.m. Hurrah! The wilder...</td>\n",
       "    </tr>\n",
       "    <tr>\n",
       "      <th>74</th>\n",
       "      <td>A Spy's Devotion (The Regency Spies of London #1)</td>\n",
       "      <td>16.97</td>\n",
       "      <td>5</td>\n",
       "      <td>https://books.toscrape.com/catalogue/a-spys-de...</td>\n",
       "      <td>19fec36a1dfb4c16</td>\n",
       "      <td>In stock (1 available)</td>\n",
       "      <td>Historical Fiction</td>\n",
       "      <td>In England’s Regency era, manners and elegance...</td>\n",
       "    </tr>\n",
       "  </tbody>\n",
       "</table>\n",
       "<p>75 rows × 8 columns</p>\n",
       "</div>"
      ],
      "text/plain": [
       "                                                title  price  rating  \\\n",
       "0                                         Set Me Free  17.46       5   \n",
       "1   The Four Agreements: A Practical Guide to Pers...  17.66       5   \n",
       "2                                      Sophie's World  15.94       5   \n",
       "3             Untitled Collection: Sabbath Poems 2014  14.27       4   \n",
       "4                                     This One Summer  19.49       4   \n",
       "..                                                ...    ...     ...   \n",
       "70                                    The Zombie Room  19.69       5   \n",
       "71                                    The Silent Wife  12.34       5   \n",
       "72                                  The Girl You Lost  12.29       5   \n",
       "73              The Edge of Reason (Bridget Jones #2)  19.18       4   \n",
       "74  A Spy's Devotion (The Regency Spies of London #1)  16.97       5   \n",
       "\n",
       "                                                 link               UCP  \\\n",
       "0   https://books.toscrape.com/catalogue/set-me-fr...  ce6396b0f23f6ecc   \n",
       "1   https://books.toscrape.com/catalogue/the-four-...  6258a1f6a6dcfe50   \n",
       "2   https://books.toscrape.com/catalogue/sophies-w...  6be3beb0793a53e7   \n",
       "3   https://books.toscrape.com/catalogue/untitled-...  657fe5ead67a7767   \n",
       "4   https://books.toscrape.com/catalogue/this-one-...  51653ef291ab7ddc   \n",
       "..                                                ...               ...   \n",
       "70  https://books.toscrape.com/catalogue/the-zombi...  9c96cd1329fbd82d   \n",
       "71  https://books.toscrape.com/catalogue/the-silen...  b78deb463531d078   \n",
       "72  https://books.toscrape.com/catalogue/the-girl-...  4280ac3eab57aa5d   \n",
       "73  https://books.toscrape.com/catalogue/the-edge-...  29fc016c459aeb14   \n",
       "74  https://books.toscrape.com/catalogue/a-spys-de...  19fec36a1dfb4c16   \n",
       "\n",
       "                      Stock               genre  \\\n",
       "0   In stock (19 available)         Young Adult   \n",
       "1   In stock (18 available)        Spirituality   \n",
       "2   In stock (18 available)          Philosophy   \n",
       "3   In stock (16 available)              Poetry   \n",
       "4   In stock (16 available)      Sequential Art   \n",
       "..                      ...                 ...   \n",
       "70   In stock (1 available)             Default   \n",
       "71   In stock (1 available)             Fiction   \n",
       "72   In stock (1 available)             Mystery   \n",
       "73   In stock (1 available)      Womens Fiction   \n",
       "74   In stock (1 available)  Historical Fiction   \n",
       "\n",
       "                                          description  \n",
       "0   Aaron Ledbetter’s future had been planned out ...  \n",
       "1   In The Four Agreements, don Miguel Ruiz reveal...  \n",
       "2   A page-turning novel that is also an explorati...  \n",
       "3   More than thirty-five years ago, when the weat...  \n",
       "4   Every summer, Rose goes with her mom and dad t...  \n",
       "..                                                ...  \n",
       "70  An unlikely bond is forged between three men f...  \n",
       "71  A chilling psychological thriller about a marr...  \n",
       "72  Eighteen years ago your baby daughter was snat...  \n",
       "73  Monday 27 January“7:15 a.m. Hurrah! The wilder...  \n",
       "74  In England’s Regency era, manners and elegance...  \n",
       "\n",
       "[75 rows x 8 columns]"
      ]
     },
     "execution_count": 108,
     "metadata": {},
     "output_type": "execute_result"
    }
   ],
   "source": [
    "my_df = get_all_books(num_pages = 50, min_rating = 4, max_price = 20)\n",
    "my_df\n"
   ]
  }
 ],
 "metadata": {
  "colab": {
   "provenance": []
  },
  "kernelspec": {
   "display_name": "Python 3 (ipykernel)",
   "language": "python",
   "name": "python3"
  },
  "language_info": {
   "codemirror_mode": {
    "name": "ipython",
    "version": 3
   },
   "file_extension": ".py",
   "mimetype": "text/x-python",
   "name": "python",
   "nbconvert_exporter": "python",
   "pygments_lexer": "ipython3",
   "version": "3.11.5"
  }
 },
 "nbformat": 4,
 "nbformat_minor": 5
}
