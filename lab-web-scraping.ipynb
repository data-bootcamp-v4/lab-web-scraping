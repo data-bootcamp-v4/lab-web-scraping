{
 "cells": [
  {
   "cell_type": "markdown",
   "id": "7e7a1ab8-2599-417d-9a65-25ef07f3a786",
   "metadata": {
    "id": "7e7a1ab8-2599-417d-9a65-25ef07f3a786"
   },
   "source": [
    "# Lab | Web Scraping"
   ]
  },
  {
   "cell_type": "markdown",
   "id": "ce8882fc-4815-4567-92fa-b4816358ba7d",
   "metadata": {
    "id": "ce8882fc-4815-4567-92fa-b4816358ba7d"
   },
   "source": [
    "Welcome to the IMDb Web Scraping Adventure Lab!\n",
    "\n",
    "**Objective**\n",
    "\n",
    "In this lab, we will embark on a mission to unearth valuable insights from the vast sea of data available on IMDb, one of the largest online databases of movie, TV, and celebrity information. As budding data scientists and business analysts, you have been tasked to scrape a specific subset of data from IMDb to assist film production companies in understanding the landscape of highly-rated movies in a defined time period. Your insights will potentially influence the making of the next netflix movie!\n",
    "\n",
    "**Background**\n",
    "\n",
    "In a world where data has become the new currency, businesses are leveraging big data to make informed decisions that drive success and profitability. The entertainment industry, being no exception, utilizes data analytics to comprehend market trends, audience preferences, and the performance of films based on various parameters such as director, genre, stars involved, etc. IMDb stands as a goldmine of such data, offering intricate details of almost every movie ever made.\n",
    "\n",
    "**Task**\n",
    "\n",
    "Your task is to create a Python script using `BeautifulSoup` and `pandas` to scrape IMDb movie data based on user ratings and release dates. This script should be able to filter movies with ratings above a certain threshold and within a specified date range.\n",
    "\n",
    "**Expected Outcome**\n",
    "\n",
    "- A function named `scrape_imdb` that takes four parameters: `title_type`,`user_rating`, `start_date`, and `end_date`.\n",
    "- The function should return a DataFrame with the following columns:\n",
    "  - **Movie Nr**: The number representing the movie’s position in the list.\n",
    "  - **Title**: The title of the movie.\n",
    "  - **Year**: The year the movie was released.\n",
    "  - **Rating**: The IMDb rating of the movie.\n",
    "  - **Runtime (min)**: The duration of the movie in minutes.\n",
    "  - **Genre**: The genre of the movie.\n",
    "  - **Description**: A brief description of the movie.\n",
    "  - **Director**: The director of the movie.\n",
    "  - **Stars**: The main stars of the movie.\n",
    "  - **Votes**: The number of votes the movie received.\n",
    "  - **Gross ($M)**: The gross earnings of the movie in millions of USD.\n",
    "\n",
    "You will execute this script to scrape data for movies with the Title Type `Feature Film` that have a user rating of `7.5 and above` and were released between `January 1, 1990, and December 31, 1992`.\n",
    "\n",
    "Remember to experiment with different title types, dates and ratings to ensure your code is versatile and can handle various searches effectively!\n",
    "\n",
    "**Resources**\n",
    "\n",
    "- [Beautiful Soup Documentation](https://www.crummy.com/software/BeautifulSoup/bs4/doc/)\n",
    "- [Pandas Documentation](https://pandas.pydata.org/pandas-docs/stable/index.html)\n",
    "- [IMDb Advanced Search](https://www.imdb.com/search/title/)\n"
   ]
  },
  {
   "cell_type": "code",
   "execution_count": null,
   "id": "313267a3-432d-43d1-b5b4-c4d6966ba92f",
   "metadata": {},
   "outputs": [],
   "source": [
    "import pandas as pd"
   ]
  },
  {
   "cell_type": "code",
   "execution_count": null,
   "id": "83790e74-be77-4e95-8871-f4ba079dbedb",
   "metadata": {},
   "outputs": [],
   "source": [
    "import requests\n",
    "response = requests.get(\"https://www.imdb.com/search/title/?title_type=feature&release_date=1990-01-01,1992-12-31\",headers = {'User-Agent':'Mozilla/5.0 (Windows NT 6.3; Win 64 ; x64) Apple WeKit /537.36(KHTML , like Gecko) Chrome/80.0.3987.162 Safari/537.36'})\n",
    "response"
   ]
  },
  {
   "cell_type": "code",
   "execution_count": null,
   "id": "21df02eb-fccd-4fce-9c7c-a8c71892ddea",
   "metadata": {},
   "outputs": [],
   "source": [
    "from bs4 import BeautifulSoup\n",
    "soup = BeautifulSoup(response.content, \"html.parser\")"
   ]
  },
  {
   "cell_type": "code",
   "execution_count": null,
   "id": "f4dbd060-bda0-4619-81da-810e0b8d50d7",
   "metadata": {},
   "outputs": [],
   "source": [
    "soup.find_all('p')"
   ]
  },
  {
   "cell_type": "code",
   "execution_count": null,
   "id": "a6d97080-fd14-47b5-9187-32ce405502ee",
   "metadata": {},
   "outputs": [],
   "source": [
    "print(soup.prettify())"
   ]
  },
  {
   "cell_type": "code",
   "execution_count": null,
   "id": "0ba6fb99-cbbf-4c1c-b282-95f7c614b882",
   "metadata": {},
   "outputs": [],
   "source": [
    "movie_number_list = soup.find_all(\"h3\", class_= \"ipc-title__text\")\n",
    "movie_number_list"
   ]
  },
  {
   "cell_type": "code",
   "execution_count": null,
   "id": "99dd22a6-6258-4725-86ca-aa59bfa5c11a",
   "metadata": {},
   "outputs": [],
   "source": [
    "# Initialize lists to store movie names and positions\n",
    "movie_names = []\n",
    "positions = []\n",
    "\n",
    "# Find all movie components\n",
    "components = soup.find_all(\"h3\", class_=\"ipc-title__text\")\n",
    "\n",
    "for component in components:\n",
    "    # Extract movie name\n",
    "    movie_name = component.text.strip()\n",
    "    movie_names.append(movie_name)\n",
    "    \n",
    "    # Extract position\n",
    "    position = movie_name.split(\".\")[0]  # Extract the position from the movie name\n",
    "    positions.append(position)\n",
    "\n",
    "# Create DataFrame\n",
    "df = pd.DataFrame({'movie_name': movie_names, 'position': positions})\n",
    "df['movie_name'] = df['movie_name'].str.split(r'^\\d+\\.\\s', expand=True)[1]\n",
    "df"
   ]
  },
  {
   "cell_type": "code",
   "execution_count": null,
   "id": "f5758fb4-e80d-4034-b721-25be18ceb9e3",
   "metadata": {},
   "outputs": [],
   "source": [
    "title_list = soup.find_all(\"h3\", class_= \"ipc-title__text\")\n",
    "title_list"
   ]
  },
  {
   "cell_type": "code",
   "execution_count": null,
   "id": "cf3f9913-218b-4206-ae39-fa664ae52534",
   "metadata": {},
   "outputs": [],
   "source": [
    "# Initialize lists to store movie names and positions\n",
    "titles = []\n",
    "\n",
    "# Find all movie components\n",
    "components = soup.find_all(\"h3\", class_=\"ipc-title__text\")\n",
    "\n",
    "for component in components:\n",
    "    # Extract movie name\n",
    "    title = component.text.strip()\n",
    "    titles.append(title)\n",
    "# Create DataFrame\n",
    "df = pd.DataFrame({'title': titles})\n",
    "df['title'] = df['title'].str.split(r'^\\d+\\.\\s', expand=True)[1]\n",
    "df"
   ]
  },
  {
   "cell_type": "code",
   "execution_count": null,
   "id": "5b8b9249-d041-400b-9365-aea0a9e73185",
   "metadata": {},
   "outputs": [],
   "source": [
    "year = soup.find_all(\"span\", class_= \"sc-b0691f29-8 ilsLEX dli-title-metadata-item\")\n",
    "year"
   ]
  },
  {
   "cell_type": "code",
   "execution_count": null,
   "id": "535086ac-8e0d-4b9c-ba76-e453c5706cf3",
   "metadata": {},
   "outputs": [],
   "source": [
    "import re\n",
    "# Initialize lists to store movie names and positions\n",
    "years = []\n",
    "\n",
    "# Find all movie components\n",
    "components = soup.find_all(\"span\", class_= \"sc-b0691f29-8 ilsLEX dli-title-metadata-item\")\n",
    "\n",
    "for component in components:\n",
    "    # Extract movie name\n",
    "    year = component.text.strip()\n",
    "    years.append(year)\n",
    "\n",
    "# Create DataFrame\n",
    "df = pd.DataFrame({'year': years})\n",
    "df = df[df['year'].between(1990, 1992)]\n",
    "df['year'] = df['year'].astype(int)\n",
    "df\n",
    "\n",
    "# Convert 'year' column to integer type\n",
    "\n",
    "\n",
    "# Filter DataFrame for years between 1990 and 1992\n",
    "#df = df[df['year'].filter(1990, 1991, 1992)]\n"
   ]
  },
  {
   "cell_type": "code",
   "execution_count": null,
   "id": "11ccda63-c20f-4fff-86cf-65dd919eae8f",
   "metadata": {},
   "outputs": [],
   "source": [
    "import re\n",
    "\n",
    "# Extract movie years and convert to integer type, then filter for years between 1990 and 1992\n",
    "df = pd.DataFrame({\n",
    "    'year': [int(re.search(r'\\d+', component.text.strip()).group()) for component in soup.find_all(\"span\", class_=\"sc-b0691f29-8 ilsLEX dli-title-metadata-item\") if re.search(r'\\d+', component.text.strip())]\n",
    "}).query('1990 <= year <= 1992')\n",
    "df"
   ]
  },
  {
   "cell_type": "code",
   "execution_count": null,
   "id": "8b7e6c08-2c69-4ca4-bc7c-b66495d97f69",
   "metadata": {},
   "outputs": [],
   "source": [
    "rating = soup.find_all(\"span\", class_= \"ipc-rating-star ipc-rating-star--base ipc-rating-star--imdb ratingGroup--imdb-rating\")\n",
    "rating"
   ]
  },
  {
   "cell_type": "code",
   "execution_count": null,
   "id": "ff189009-4fea-47ad-9f71-580b2bc5cff4",
   "metadata": {},
   "outputs": [],
   "source": [
    "# Initialize lists to store movie names and positions\n",
    "ratings = []\n",
    "\n",
    "# Find all movie components\n",
    "components = soup.find_all(\"span\", class_= \"ipc-rating-star ipc-rating-star--base ipc-rating-star--imdb ratingGroup--imdb-rating\")\n",
    "\n",
    "for component in components:\n",
    "    # Extract movie name\n",
    "    rating = component.text.strip()\n",
    "    rating_float=float(rating.split()[0])\n",
    "    ratings.append(rating_float)\n",
    "# Create DataFrame\n",
    "df = pd.DataFrame({'rating': ratings})\n",
    "df"
   ]
  },
  {
   "cell_type": "code",
   "execution_count": null,
   "id": "5a685b46-cfcd-444e-94c1-c6c61d9e2e24",
   "metadata": {},
   "outputs": [],
   "source": [
    "# Initialize lists to store movie ratings and votes\n",
    "ratings = []\n",
    "votes = []\n",
    "\n",
    "# Find all movie components\n",
    "components = soup.find_all(\"span\", class_= \"ipc-rating-star ipc-rating-star--base ipc-rating-star--imdb ratingGroup--imdb-rating\")\n",
    "\n",
    "for component in components:\n",
    "    # Extract movie rating and votes\n",
    "    rating = component.text.strip().split()[0]  # Extract the rating\n",
    "    try:\n",
    "        rating_float = float(rating)  # Convert the rating to float\n",
    "    except ValueError:\n",
    "        rating_float = None  # Set to None if conversion fails\n",
    "    ratings.append(rating_float)\n",
    "    \n",
    "    vote = component.text.strip().split('(')[-1].split(')')[0]  # Extract the votes\n",
    "    votes.append(vote)\n",
    "\n",
    "# Create DataFrame\n",
    "df = pd.DataFrame({'rating': ratings, 'votes': votes})\n",
    "\n",
    "# Display the DataFrame\n",
    "df\n"
   ]
  },
  {
   "cell_type": "code",
   "execution_count": null,
   "id": "e7bfc801-74d9-4fea-beac-f4b20e825534",
   "metadata": {},
   "outputs": [],
   "source": [
    "duration = soup.find_all(\"span\", class_= \"sc-b0691f29-8 ilsLEX dli-title-metadata-item\")\n",
    "duration"
   ]
  },
  {
   "cell_type": "code",
   "execution_count": null,
   "id": "16182474-0ba5-47c9-8778-7e858d32c735",
   "metadata": {},
   "outputs": [],
   "source": [
    "import re\n",
    "\n",
    "# Initialize a list to store movie durations\n",
    "durations = []\n",
    "\n",
    "# Find all movie components\n",
    "components = soup.find_all(\"span\", class_= \"sc-b0691f29-8 ilsLEX dli-title-metadata-item\")\n",
    "\n",
    "# Define a regular expression pattern to match the time format (e.g., \"1h 58m\")\n",
    "time_pattern = r\"\\d+h\\s*\\d+m\"\n",
    "\n",
    "# Extract movie durations\n",
    "for component in components:\n",
    "    # Extract text from the component\n",
    "    text = component.get_text(strip=True)\n",
    "    # Check if the text matches the time pattern\n",
    "    if re.match(time_pattern, text):\n",
    "        durations.append(text)\n",
    "\n",
    "# Create DataFrame\n",
    "df = pd.DataFrame({'duration': durations})\n",
    "\n",
    "# Display the DataFrame\n",
    "df\n"
   ]
  },
  {
   "cell_type": "code",
   "execution_count": null,
   "id": "1c568246-93e3-497f-b27e-4d68e82c0e02",
   "metadata": {},
   "outputs": [],
   "source": [
    "soup.find_all('a', class_ = 'ipc-title-link-wrapper')"
   ]
  },
  {
   "cell_type": "code",
   "execution_count": null,
   "id": "23a314a9-9454-4c52-862d-59ff82493690",
   "metadata": {},
   "outputs": [],
   "source": [
    "import requests\n",
    "href_list = []\n",
    "for i in soup.find_all('a', class_ = 'ipc-title-link-wrapper'):\n",
    "    href_list.append(i.get(\"href\"))\n",
    "\n",
    "all_actors = []\n",
    "\n",
    "for i in href_list:\n",
    "    response = requests.get('https://www.imdb.com'+i, headers = headers)\n",
    "    soup = BeatifulSoup(response.content)\n",
    "    actors = [actor.get.text() for actor in soup.find_all('a', attrs = {'data-testid': 'title-cast-item__actor'})]\n",
    "    all_actors.append(actors)"
   ]
  },
  {
   "cell_type": "code",
   "execution_count": null,
   "id": "a7c2f307-97f5-44c0-98c3-6c6321f78819",
   "metadata": {},
   "outputs": [],
   "source": [
    "headers = {'User-Agent': 'Mozilla/5.0 (Windows NT 10.0; Win64; x64) AppleWebKit/537.36 (KHTML, like Gecko) Chrome/91.0.4472.124 Safari/537.36'}\n",
    "\n",
    "response = requests.get('https://www.imdb.com/', headers=headers)\n"
   ]
  },
  {
   "cell_type": "code",
   "execution_count": null,
   "id": "31521a1a-a7fc-4e9b-82d7-023a95975425",
   "metadata": {},
   "outputs": [],
   "source": [
    "import requests\n",
    "from bs4 import BeautifulSoup\n",
    "headers = requesr.get('https://www.imdb.com/title/tt0102926/?ref_=sr_t_1', headers = {'User-Agent': 'Mozilla/5.0 (Windows NT 10.0; Win64; x64) AppleWebKit/537.36 (KHTML, like Gecko) Chrome/91.0.4472.124 Safari/537.36'}\n",
    "\n",
    "response = requests.get('https://www.imdb.com/', headers=headers)\n",
    "soup = BeautifulSoup(response.content, 'html.parser')\n",
    "\n",
    "href_list = []\n",
    "for i in soup.find_all('a', class_='ipc-title-link-wrapper'):\n",
    "    href_list.append(i.get(\"href\"))\n",
    "\n",
    "all_actors = []\n",
    "\n",
    "for i in href_list:\n",
    "    response = requests.get('https://www.imdb.com'+i, headers=headers)\n",
    "    soup = BeautifulSoup(response.content, 'html.parser')\n",
    "    actors = [actor.get_text() for actor in soup.find_all('a', attrs={'data-testid': 'title-cast-item__actor'})]\n",
    "    all_actors.append(actors)\n"
   ]
  },
  {
   "cell_type": "code",
   "execution_count": null,
   "id": "6b314e3f-0666-492d-824d-4c7ae1ea3ea8",
   "metadata": {},
   "outputs": [],
   "source": [
    "import requests\n",
    "from bs4 import BeautifulSoup\n",
    "\n",
    "# Define the headers\n",
    "headers = {'User-Agent': 'Mozilla/5.0 (Windows NT 10.0; Win64; x64) AppleWebKit/537.36 (KHTML, like Gecko) Chrome/91.0.4472.124 Safari/537.36'}\n",
    "\n",
    "# Make a request to the IMDb homepage\n",
    "response = requests.get('https://www.imdb.com/', headers=headers)\n",
    "soup = BeautifulSoup(response.content, 'html.parser')\n",
    "\n",
    "# Extract href links\n",
    "href_list = [i.get(\"href\") for i in soup.find_all('a', class_='ipc-title-link-wrapper')]\n",
    "\n",
    "# Initialize list to store actors\n",
    "all_actors = []\n",
    "\n",
    "# Iterate over each href link\n",
    "for href in href_list:\n",
    "    # Make a request to the movie page\n",
    "    response = requests.get('https://www.imdb.com' + href, headers=headers)\n",
    "    soup = BeautifulSoup(response.content, 'html.parser')\n",
    "    \n",
    "    # Extract actors from the cast section\n",
    "    actors = [actor.get_text() for actor in soup.find_all('a', attrs={'data-testid': 'title-cast-item__actor'})]\n",
    "    \n",
    "    # Append the list of actors to the all_actors list\n",
    "    all_actors.append(actors)\n"
   ]
  },
  {
   "cell_type": "code",
   "execution_count": null,
   "id": "214f60e4-cf19-484d-9e65-70fbb2d65444",
   "metadata": {},
   "outputs": [],
   "source": [
    "title-cast-item_actor"
   ]
  },
  {
   "cell_type": "code",
   "execution_count": null,
   "id": "f6e00e19-43db-49db-99f9-0faeacd62d74",
   "metadata": {},
   "outputs": [],
   "source": [
    "all_actors"
   ]
  },
  {
   "cell_type": "code",
   "execution_count": null,
   "id": "a336ca28-241b-4682-8214-fb9c8d28b2d1",
   "metadata": {},
   "outputs": [],
   "source": [
    "import requests\n",
    "from bs4 import BeautifulSoup\n",
    "import pandas as pd\n",
    "\n",
    "def scrape_imdb_info(url, class_name):\n",
    "    response = requests.get(url)\n",
    "    soup = BeautifulSoup(response.content, 'html.parser')\n",
    "    components = soup.find_all(class_=class_name)\n",
    "    info_list = [component.text.strip() for component in components]\n",
    "    return info_list\n",
    "\n",
    "def scrape_imdb(title_type, user_rating, start_date, end_date):\n",
    "    url = f\"https://www.imdb.com/search/title/?title_type={title_type}&user_rating={user_rating}-&release_date={start_date},{end_date}\"\n",
    "    \n",
    "    movie_names = scrape_imdb_info(url, \"ipc-title__text\")\n",
    "    titles = scrape_imdb_info(url, \"ipc-title__text\")\n",
    "    years = scrape_imdb_info(url, \"sc-b0691f29-8 ilsLEX dli-title-metadata-item\")\n",
    "    ratings = scrape_imdb_info(url, \"ipc-rating-star ipc-rating-star--base ipc-rating-star--imdb ratingGroup--imdb-rating\")\n",
    "    durations = scrape_imdb_info(url, \"sc-b0691f29-8 ilsLEX dli-title-metadata-item\")\n",
    "    \n",
    "    df = pd.DataFrame({\n",
    "        'movie_name': movie_names,\n",
    "        'title': titles,\n",
    "        'year': years,\n",
    "        'rating': ratings,\n",
    "        'duration': durations\n",
    "    })\n",
    "    \n",
    "    return df\n",
    "\n",
    "# Example usage:\n",
    "title_type = \"feature\"\n",
    "user_rating = 7.5\n",
    "start_date = \"1990-01-01\"\n",
    "end_date = \"1992-12-31\"\n",
    "\n",
    "df = scrape_imdb(title_type, user_rating, start_date, end_date)\n",
    "print(df)\n",
    "df"
   ]
  },
  {
   "cell_type": "markdown",
   "id": "3519921d-5890-445b-9a33-934ed8ee378c",
   "metadata": {
    "id": "3519921d-5890-445b-9a33-934ed8ee378c"
   },
   "source": [
    "**Hint**\n",
    "\n",
    "Your first mission is to familiarize yourself with the IMDb advanced search page. Head over to [IMDb advanced search](https://www.imdb.com/search/title/) and input the following parameters, keeping all other fields to their default values or blank:\n",
    "\n",
    "- **Title Type**: Feature film\n",
    "- **Release date**: From 1990 to 1992 (Note: You don't need to specify the day and month)\n",
    "- **User Rating**: 7.5 to -\n",
    "\n",
    "Upon searching, you'll land on a page showcasing a list of movies, each displaying vital details such as the title, release year, and crew information. Your task is to scrape this treasure trove of data.\n",
    "\n",
    "Carefully examine the resulting URL and construct your own URL to include all the necessary parameters for filtering the movies."
   ]
  },
  {
   "cell_type": "markdown",
   "id": "25a83a0d-a742-49f6-985e-e27887cbf922",
   "metadata": {
    "id": "25a83a0d-a742-49f6-985e-e27887cbf922"
   },
   "source": [
    "\n",
    "---\n",
    "\n",
    "**Best of luck! Immerse yourself in the world of movies and may the data be with you!**"
   ]
  },
  {
   "cell_type": "markdown",
   "id": "7b75cf0d-9afa-4eec-a9e2-befeac68b2a0",
   "metadata": {
    "id": "7b75cf0d-9afa-4eec-a9e2-befeac68b2a0"
   },
   "source": [
    "**Important note**:\n",
    "\n",
    "In the fast-changing online world, websites often get updates and make changes. When you try this lab, the IMDb website might be different from what we expect.\n",
    "\n",
    "If you run into problems because of these changes, like new rules or things that stop you from getting data, don't worry! Instead, get creative.\n",
    "\n",
    "You can choose another website that interests you and is good for scraping data. Websites like Wikipedia or The New York Times are good options. The main goal is still the same: get useful data and learn how to scrape it from a website that you find interesting. It's a chance to practice your web scraping skills and explore a source of information you like."
   ]
  },
  {
   "cell_type": "code",
   "execution_count": null,
   "id": "40359eee-9cd7-4884-bfa4-83344c222305",
   "metadata": {
    "id": "40359eee-9cd7-4884-bfa4-83344c222305"
   },
   "outputs": [],
   "source": [
    "# Your solution goes here"
   ]
  },
  {
   "cell_type": "markdown",
   "id": "9ab1217a-df9d-4a2b-a32c-2c5f1eecd52a",
   "metadata": {
    "id": "9ab1217a-df9d-4a2b-a32c-2c5f1eecd52a"
   },
   "source": [
    "## BONUS\n",
    "\n",
    "The search results span multiple pages, housing a total of 631 movies in our example with each page displaying 50 movies at most. To scrape data seamlessly from all pages, you'll need to dive deep into the structure of the URLs generated with each \"Next\" click.\n",
    "\n",
    "Take a close look at the following URLs:\n",
    "- First page:\n",
    "  ```\n",
    "  https://www.imdb.com/search/title/?title_type=feature&release_date=1990-01-01,1992-12-31&user_rating=7.5,\n",
    "  ```\n",
    "- Second page:\n",
    "  ```\n",
    "  https://www.imdb.com/search/title/?title_type=feature&release_date=1990-01-01,1992-12-31&user_rating=7.5,&start=51&ref_=adv_nxt\n",
    "  ```\n",
    "- Third page:\n",
    "  ```\n",
    "  https://www.imdb.com/search/title/?title_type=feature&release_date=1990-01-01,1992-12-31&user_rating=7.5,&start=101&ref_=adv_nxt\n",
    "  ```\n",
    "\n",
    "You should notice a pattern. There is a `start` parameter incrementing by 50 with each page, paired with a constant `ref_` parameter holding the value \"adv_nxt\".\n",
    "\n",
    "Modify your script so it's capable of iterating over all available pages to fetch data on all the 631 movies (631 is the total number of movies in the proposed example)."
   ]
  },
  {
   "cell_type": "code",
   "execution_count": null,
   "id": "21ac4fc0-a12b-4a00-9266-2020166f0dea",
   "metadata": {
    "id": "21ac4fc0-a12b-4a00-9266-2020166f0dea"
   },
   "outputs": [],
   "source": [
    "# Your solution goes here"
   ]
  }
 ],
 "metadata": {
  "colab": {
   "provenance": []
  },
  "kernelspec": {
   "display_name": "Python 3 (ipykernel)",
   "language": "python",
   "name": "python3"
  },
  "language_info": {
   "codemirror_mode": {
    "name": "ipython",
    "version": 3
   },
   "file_extension": ".py",
   "mimetype": "text/x-python",
   "name": "python",
   "nbconvert_exporter": "python",
   "pygments_lexer": "ipython3",
   "version": "3.11.7"
  }
 },
 "nbformat": 4,
 "nbformat_minor": 5
}
