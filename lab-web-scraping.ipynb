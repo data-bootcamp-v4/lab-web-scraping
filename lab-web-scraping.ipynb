{
  "cells": [
    {
      "cell_type": "markdown",
      "id": "7e7a1ab8-2599-417d-9a65-25ef07f3a786",
      "metadata": {
        "id": "7e7a1ab8-2599-417d-9a65-25ef07f3a786"
      },
      "source": [
        "# Lab | Web Scraping"
      ]
    },
    {
      "cell_type": "markdown",
      "id": "ce8882fc-4815-4567-92fa-b4816358ba7d",
      "metadata": {
        "id": "ce8882fc-4815-4567-92fa-b4816358ba7d"
      },
      "source": [
        "Welcome to the IMDb Web Scraping Adventure Lab!\n",
        "\n",
        "**Objective**\n",
        "\n",
        "In this lab, we will embark on a mission to unearth valuable insights from the vast sea of data available on IMDb, one of the largest online databases of movie, TV, and celebrity information. As budding data scientists and business analysts, you have been tasked to scrape a specific subset of data from IMDb to assist film production companies in understanding the landscape of highly-rated movies in a defined time period. Your insights will potentially influence the making of the next netflix movie!\n",
        "\n",
        "**Background**\n",
        "\n",
        "In a world where data has become the new currency, businesses are leveraging big data to make informed decisions that drive success and profitability. The entertainment industry, being no exception, utilizes data analytics to comprehend market trends, audience preferences, and the performance of films based on various parameters such as director, genre, stars involved, etc. IMDb stands as a goldmine of such data, offering intricate details of almost every movie ever made.\n",
        "\n",
        "**Task**\n",
        "\n",
        "Your task is to create a Python script using `BeautifulSoup` and `pandas` to scrape IMDb movie data based on user ratings and release dates. This script should be able to filter movies with ratings above a certain threshold and within a specified date range.\n",
        "\n",
        "**Expected Outcome**\n",
        "\n",
        "- A function named `scrape_imdb` that takes four parameters: `title_type`,`user_rating`, `start_date`, and `end_date`.\n",
        "- The function should return a DataFrame with the following columns:\n",
        "  - **Movie Nr**: The number representing the movie’s position in the list.\n",
        "  - **Title**: The title of the movie.\n",
        "  - **Year**: The year the movie was released.\n",
        "  - **Rating**: The IMDb rating of the movie.\n",
        "  - **Runtime (min)**: The duration of the movie in minutes.\n",
        "  - **Genre**: The genre of the movie.\n",
        "  - **Description**: A brief description of the movie.\n",
        "  - **Director**: The director of the movie.\n",
        "  - **Stars**: The main stars of the movie.\n",
        "  - **Votes**: The number of votes the movie received.\n",
        "  - **Gross ($M)**: The gross earnings of the movie in millions of USD.\n",
        "\n",
        "You will execute this script to scrape data for movies with the Title Type `Feature Film` that have a user rating of `7.5 and above` and were released between `January 1, 1990, and December 31, 1992`.\n",
        "\n",
        "Remember to experiment with different title types, dates and ratings to ensure your code is versatile and can handle various searches effectively!\n",
        "\n",
        "**Resources**\n",
        "\n",
        "- [Beautiful Soup Documentation](https://www.crummy.com/software/BeautifulSoup/bs4/doc/)\n",
        "- [Pandas Documentation](https://pandas.pydata.org/pandas-docs/stable/index.html)\n",
        "- [IMDb Advanced Search](https://www.imdb.com/search/title/)\n"
      ]
    },
    {
      "cell_type": "markdown",
      "id": "3519921d-5890-445b-9a33-934ed8ee378c",
      "metadata": {
        "id": "3519921d-5890-445b-9a33-934ed8ee378c"
      },
      "source": [
        "**Hint**\n",
        "\n",
        "Your first mission is to familiarize yourself with the IMDb advanced search page. Head over to [IMDb advanced search](https://www.imdb.com/search/title/) and input the following parameters, keeping all other fields to their default values or blank:\n",
        "\n",
        "- **Title Type**: Feature film\n",
        "- **Release date**: From 1990 to 1992 (Note: You don't need to specify the day and month)\n",
        "- **User Rating**: 7.5 to -\n",
        "\n",
        "Upon searching, you'll land on a page showcasing a list of movies, each displaying vital details such as the title, release year, and crew information. Your task is to scrape this treasure trove of data.\n",
        "\n",
        "Carefully examine the resulting URL and construct your own URL to include all the necessary parameters for filtering the movies."
      ]
    },
    {
      "cell_type": "markdown",
      "id": "25a83a0d-a742-49f6-985e-e27887cbf922",
      "metadata": {
        "id": "25a83a0d-a742-49f6-985e-e27887cbf922"
      },
      "source": [
        "\n",
        "---\n",
        "\n",
        "**Best of luck! Immerse yourself in the world of movies and may the data be with you!**"
      ]
    },
    {
      "cell_type": "markdown",
      "id": "7b75cf0d-9afa-4eec-a9e2-befeac68b2a0",
      "metadata": {
        "id": "7b75cf0d-9afa-4eec-a9e2-befeac68b2a0"
      },
      "source": [
        "**Important note**:\n",
        "\n",
        "In the fast-changing online world, websites often get updates and make changes. When you try this lab, the IMDb website might be different from what we expect.\n",
        "\n",
        "If you run into problems because of these changes, like new rules or things that stop you from getting data, don't worry! Instead, get creative.\n",
        "\n",
        "You can choose another website that interests you and is good for scraping data. Websites like Wikipedia or The New York Times are good options. The main goal is still the same: get useful data and learn how to scrape it from a website that you find interesting. It's a chance to practice your web scraping skills and explore a source of information you like."
      ]
    },
    {
      "cell_type": "code",
      "execution_count": 17,
      "id": "b40b79ec",
      "metadata": {},
      "outputs": [
        {
          "name": "stdout",
          "output_type": "stream",
          "text": [
            "  Movie Nr                       Title  Year Rating Runtime (min)  \\\n",
            "0        1    The Silence of the Lambs  1991      R        1h 58m   \n",
            "1        2  Terminator 2: Judgment Day  1991      R        2h 17m   \n",
            "2        3                  Goodfellas  1990      R        2h 25m   \n",
            "3        4         Edward Scissorhands  1990  PG-13        1h 45m   \n",
            "4        5              Reservoir Dogs  1992      R        1h 39m   \n",
            "\n",
            "                                         Description   Votes  \n",
            "0  A young F.B.I. cadet must receive the help of ...  (1.6M)  \n",
            "1  A cyborg, identical to the one who failed to k...  (1.2M)  \n",
            "2  The story of Henry Hill and his life in the ma...  (1.3M)  \n",
            "3  The solitary life of an artificial man - who w...  (531K)  \n",
            "4  When a simple jewelry heist goes horribly wron...  (1.1M)  \n"
          ]
        }
      ],
      "source": [
        "import requests\n",
        "from bs4 import BeautifulSoup\n",
        "import pandas as pd\n",
        "def scrape_imdb(title_type, user_rating, start_date, end_date):\n",
        "    # Definir los headers\n",
        "    headers = {\n",
        "        'User-Agent': 'Mozilla/5.0 (Windows NT 10.0; Win64; x64) AppleWebKit/537.36 (KHTML, like Gecko) Chrome/58.0.3029.110 Safari/537.3',\n",
        "        'Accept-Language': 'en-US,en;q=0.9',\n",
        "        'Accept-Encoding': 'gzip, deflate, br',\n",
        "        'Accept': 'text/html,application/xhtml+xml,application/xml;q=0.9,image/webp,image/apng,*/*;q=0.8',\n",
        "        'Connection': 'keep-alive',\n",
        "        'Upgrade-Insecure-Requests': '1',\n",
        "        'Referer': 'https://www.google.com'\n",
        "    }\n",
        "    # 1. Configurar la URL con base en los parámetros proporcionados\n",
        "    url = f\"https://www.imdb.com/search/title/?title_type={title_type}&release_date={start_date},{end_date}&user_rating={user_rating}\"\n",
        "    # 2. Hacer la solicitud HTTP a IMDb con los headers\n",
        "    response = requests.get(url, headers=headers)\n",
        "    if response.status_code != 200:\n",
        "        print(\"Error fetching the IMDb page\")\n",
        "        return None\n",
        "    # 3. Parsear el contenido HTML con BeautifulSoup\n",
        "    soup = BeautifulSoup(response.content, 'html.parser')\n",
        "    # 4. Extraer los números y títulos de las películas\n",
        "    titles = soup.find_all('h3', class_='ipc-title__text')\n",
        "    movie_numbers = [title.text.split('. ', 1)[0] for title in titles if '. ' in title.text]\n",
        "    movie_titles = [title.text.split('. ', 1)[1] for title in titles if '. ' in title.text]\n",
        "    # 5. Extraer años, duraciones y ratings\n",
        "    metadata_elements = soup.find_all(class_='sc-b189961a-8 hCbzGp dli-title-metadata-item')\n",
        "    years = []\n",
        "    runtimes = []\n",
        "    ratings = []\n",
        "    for element in metadata_elements:\n",
        "        text = element.text.strip()\n",
        "        if text.isdigit() and len(text) == 4:\n",
        "            years.append(text)\n",
        "        elif 'h' in text and 'm' in text:\n",
        "            runtimes.append(text)\n",
        "        elif text in ['G', 'PG', 'PG-13', 'R', 'NC-17']:\n",
        "            ratings.append(text)\n",
        "    # 6. Extraer descripción\n",
        "    description_elements = soup.find_all(class_='ipc-html-content-inner-div')\n",
        "    descriptions = [desc.text.strip() for desc in description_elements]\n",
        "    # 7. Extraer votos sin modificar el formato\n",
        "    votes_elements = soup.find_all(class_='ipc-rating-star--voteCount')\n",
        "    votes = [vote.text.strip() for vote in votes_elements]\n",
        "    # 8. Crear el DataFrame con los datos extraídos en el orden especificado\n",
        "    movie_data = list(zip(movie_numbers, movie_titles, years, ratings, runtimes, descriptions, votes))\n",
        "    # 9. Convertir la lista de datos en un DataFrame de pandas con el orden solicitado\n",
        "    df = pd.DataFrame(movie_data, columns=[\"Movie Nr\", \"Title\", \"Year\", \"Rating\", \"Runtime (min)\", \"Description\", \"Votes\"])\n",
        "    return df\n",
        "\n",
        "# Código para probar la función\n",
        "if __name__ == \"__main__\":\n",
        "    # Parámetros de prueba\n",
        "    title_type = 'feature'\n",
        "    user_rating = '7.5,'\n",
        "    start_date = '1990-01-01'\n",
        "    end_date = '1992-12-31'\n",
        "    # Llamar a la función y obtener el DataFrame\n",
        "    df = scrape_imdb(title_type, user_rating, start_date, end_date)\n",
        "    # Mostrar los primeros registros del DataFrame\n",
        "    print(df.head())"
      ]
    },
    {
      "cell_type": "markdown",
      "id": "9ab1217a-df9d-4a2b-a32c-2c5f1eecd52a",
      "metadata": {
        "id": "9ab1217a-df9d-4a2b-a32c-2c5f1eecd52a"
      },
      "source": [
        "## BONUS\n",
        "\n",
        "The search results span multiple pages, housing a total of 631 movies in our example with each page displaying 50 movies at most. To scrape data seamlessly from all pages, you'll need to dive deep into the structure of the URLs generated with each \"Next\" click.\n",
        "\n",
        "Take a close look at the following URLs:\n",
        "- First page:\n",
        "  ```\n",
        "  https://www.imdb.com/search/title/?title_type=feature&release_date=1990-01-01,1992-12-31&user_rating=7.5,\n",
        "  ```\n",
        "- Second page:\n",
        "  ```\n",
        "  https://www.imdb.com/search/title/?title_type=feature&release_date=1990-01-01,1992-12-31&user_rating=7.5,&start=51&ref_=adv_nxt\n",
        "  ```\n",
        "- Third page:\n",
        "  ```\n",
        "  https://www.imdb.com/search/title/?title_type=feature&release_date=1990-01-01,1992-12-31&user_rating=7.5,&start=101&ref_=adv_nxt\n",
        "  ```\n",
        "\n",
        "You should notice a pattern. There is a `start` parameter incrementing by 50 with each page, paired with a constant `ref_` parameter holding the value \"adv_nxt\".\n",
        "\n",
        "Modify your script so it's capable of iterating over all available pages to fetch data on all the 631 movies (631 is the total number of movies in the proposed example)."
      ]
    },
    {
      "cell_type": "markdown",
      "id": "61b812db",
      "metadata": {},
      "source": []
    }
  ],
  "metadata": {
    "colab": {
      "provenance": []
    },
    "kernelspec": {
      "display_name": "Python 3 (ipykernel)",
      "language": "python",
      "name": "python3"
    },
    "language_info": {
      "codemirror_mode": {
        "name": "ipython",
        "version": 3
      },
      "file_extension": ".py",
      "mimetype": "text/x-python",
      "name": "python",
      "nbconvert_exporter": "python",
      "pygments_lexer": "ipython3",
      "version": "3.11.9"
    }
  },
  "nbformat": 4,
  "nbformat_minor": 5
}
