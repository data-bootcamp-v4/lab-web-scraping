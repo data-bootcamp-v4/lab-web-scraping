{
  "cells": [
    {
      "cell_type": "markdown",
      "id": "7e7a1ab8-2599-417d-9a65-25ef07f3a786",
      "metadata": {
        "id": "7e7a1ab8-2599-417d-9a65-25ef07f3a786"
      },
      "source": [
        "# Lab | Web Scraping"
      ]
    },
    {
      "cell_type": "markdown",
      "id": "ce8882fc-4815-4567-92fa-b4816358ba7d",
      "metadata": {
        "id": "ce8882fc-4815-4567-92fa-b4816358ba7d"
      },
      "source": [
        "Welcome to the IMDb Web Scraping Adventure Lab!\n",
        "\n",
        "**Objective**\n",
        "\n",
        "In this lab, we will embark on a mission to unearth valuable insights from the vast sea of data available on IMDb, one of the largest online databases of movie, TV, and celebrity information. As budding data scientists and business analysts, you have been tasked to scrape a specific subset of data from IMDb to assist film production companies in understanding the landscape of highly-rated movies in a defined time period. Your insights will potentially influence the making of the next netflix movie!\n",
        "\n",
        "**Background**\n",
        "\n",
        "In a world where data has become the new currency, businesses are leveraging big data to make informed decisions that drive success and profitability. The entertainment industry, being no exception, utilizes data analytics to comprehend market trends, audience preferences, and the performance of films based on various parameters such as director, genre, stars involved, etc. IMDb stands as a goldmine of such data, offering intricate details of almost every movie ever made.\n",
        "\n",
        "**Task**\n",
        "\n",
        "Your task is to create a Python script using `BeautifulSoup` and `pandas` to scrape IMDb movie data based on user ratings and release dates. This script should be able to filter movies with ratings above a certain threshold and within a specified date range.\n",
        "\n",
        "**Expected Outcome**\n",
        "\n",
        "- A function named `scrape_imdb` that takes four parameters: `title_type`,`user_rating`, `start_date`, and `end_date`.\n",
        "- The function should return a DataFrame with the following columns:\n",
        "  - **Movie Nr**: The number representing the movie’s position in the list.\n",
        "  - **Title**: The title of the movie.\n",
        "  - **Year**: The year the movie was released.\n",
        "  - **Rating**: The IMDb rating of the movie.\n",
        "  - **Runtime (min)**: The duration of the movie in minutes.\n",
        "  - **Genre**: The genre of the movie.\n",
        "  - **Description**: A brief description of the movie.\n",
        "  - **Director**: The director of the movie.\n",
        "  - **Stars**: The main stars of the movie.\n",
        "  - **Votes**: The number of votes the movie received.\n",
        "  - **Gross ($M)**: The gross earnings of the movie in millions of USD.\n",
        "\n",
        "You will execute this script to scrape data for movies with the Title Type `Feature Film` that have a user rating of `7.5 and above` and were released between `January 1, 1990, and December 31, 1992`.\n",
        "\n",
        "Remember to experiment with different title types, dates and ratings to ensure your code is versatile and can handle various searches effectively!\n",
        "\n",
        "**Resources**\n",
        "\n",
        "- [Beautiful Soup Documentation](https://www.crummy.com/software/BeautifulSoup/bs4/doc/)\n",
        "- [Pandas Documentation](https://pandas.pydata.org/pandas-docs/stable/index.html)\n",
        "- [IMDb Advanced Search](https://www.imdb.com/search/title/)\n"
      ]
    },
    {
      "cell_type": "markdown",
      "id": "3519921d-5890-445b-9a33-934ed8ee378c",
      "metadata": {
        "id": "3519921d-5890-445b-9a33-934ed8ee378c"
      },
      "source": [
        "**Hint**\n",
        "\n",
        "Your first mission is to familiarize yourself with the IMDb advanced search page. Head over to [IMDb advanced search](https://www.imdb.com/search/title/) and input the following parameters, keeping all other fields to their default values or blank:\n",
        "\n",
        "- **Title Type**: Feature film\n",
        "- **Release date**: From 1990 to 1992 (Note: You don't need to specify the day and month)\n",
        "- **User Rating**: 7.5 to -\n",
        "\n",
        "Upon searching, you'll land on a page showcasing a list of movies, each displaying vital details such as the title, release year, and crew information. Your task is to scrape this treasure trove of data.\n",
        "\n",
        "Carefully examine the resulting URL and construct your own URL to include all the necessary parameters for filtering the movies."
      ]
    },
    {
      "cell_type": "markdown",
      "id": "25a83a0d-a742-49f6-985e-e27887cbf922",
      "metadata": {
        "id": "25a83a0d-a742-49f6-985e-e27887cbf922"
      },
      "source": [
        "\n",
        "---\n",
        "\n",
        "**Best of luck! Immerse yourself in the world of movies and may the data be with you!**"
      ]
    },
    {
      "cell_type": "markdown",
      "id": "7b75cf0d-9afa-4eec-a9e2-befeac68b2a0",
      "metadata": {
        "id": "7b75cf0d-9afa-4eec-a9e2-befeac68b2a0"
      },
      "source": [
        "**Important note**:\n",
        "\n",
        "In the fast-changing online world, websites often get updates and make changes. When you try this lab, the IMDb website might be different from what we expect.\n",
        "\n",
        "If you run into problems because of these changes, like new rules or things that stop you from getting data, don't worry! Instead, get creative.\n",
        "\n",
        "You can choose another website that interests you and is good for scraping data. Websites like Wikipedia or The New York Times are good options. The main goal is still the same: get useful data and learn how to scrape it from a website that you find interesting. It's a chance to practice your web scraping skills and explore a source of information you like."
      ]
    },
    {
      "cell_type": "code",
      "execution_count": 2,
      "id": "40359eee-9cd7-4884-bfa4-83344c222305",
      "metadata": {
        "id": "40359eee-9cd7-4884-bfa4-83344c222305"
      },
      "outputs": [],
      "source": [
        "# Your solution goes here\n",
        "\n",
        "import pandas as pd\n",
        "import requests\n",
        "from bs4 import BeautifulSoup\n",
        "\n",
        "url = 'https://www.imdb.com/search/title/?title_type=feature&release_date=1990-01-01,1992-12-31&user_rating=7.5,'\n",
        "headers = {\n",
        "        'User-Agent': 'Mozilla/5.0 (Windows NT 10.0; Win64; x64) AppleWebKit/537.36 (KHTML, like Gecko) Chrome/58.0.3029.110 Safari/537.3'\n",
        "    }\n",
        "response = requests.get(url, headers=headers)"
      ]
    },
    {
      "cell_type": "code",
      "execution_count": 3,
      "id": "bb382880",
      "metadata": {},
      "outputs": [],
      "source": [
        "soup = BeautifulSoup(response.content, \"html.parser\")"
      ]
    },
    {
      "cell_type": "code",
      "execution_count": 4,
      "id": "145e3015",
      "metadata": {},
      "outputs": [
        {
          "data": {
            "text/plain": [
              "[<h1 class=\"ipc-title__text\">Advanced search</h1>,\n",
              " <h3 class=\"ipc-title__text\">1. El silencio de los corderos</h3>,\n",
              " <h3 class=\"ipc-title__text\">2. Uno de los nuestros</h3>,\n",
              " <h3 class=\"ipc-title__text\">3. Terminator 2: El juicio final</h3>,\n",
              " <h3 class=\"ipc-title__text\">4. Mi primo Vinny</h3>,\n",
              " <h3 class=\"ipc-title__text\">5. Esencia de mujer</h3>,\n",
              " <h3 class=\"ipc-title__text\">6. Reservoir Dogs</h3>,\n",
              " <h3 class=\"ipc-title__text\">7. Tomates verdes fritos</h3>,\n",
              " <h3 class=\"ipc-title__text\">8. El último mohicano</h3>,\n",
              " <h3 class=\"ipc-title__text\">9. Bailando con lobos</h3>,\n",
              " <h3 class=\"ipc-title__text\">10. Desafío total</h3>,\n",
              " <h3 class=\"ipc-title__text\">11. Algunos hombres buenos</h3>,\n",
              " <h3 class=\"ipc-title__text\">12. Solo en casa</h3>,\n",
              " <h3 class=\"ipc-title__text\">13. Sin perdón</h3>,\n",
              " <h3 class=\"ipc-title__text\">14. Thelma &amp; Louise</h3>,\n",
              " <h3 class=\"ipc-title__text\">15. Eduardo Manostijeras</h3>,\n",
              " <h3 class=\"ipc-title__text\">16. La bella y la bestia</h3>,\n",
              " <h3 class=\"ipc-title__text\">17. Misery</h3>,\n",
              " <h3 class=\"ipc-title__text\">18. Los chicos del barrio</h3>,\n",
              " <h3 class=\"ipc-title__text\">19. El padrino parte III</h3>,\n",
              " <h3 class=\"ipc-title__text\">20. Aladdín</h3>,\n",
              " <h3 class=\"ipc-title__text\">21. La caza del Octubre Rojo</h3>,\n",
              " <h3 class=\"ipc-title__text\">22. JFK: Caso abierto</h3>,\n",
              " <h3 class=\"ipc-title__text\">23. Glengarry Glen Ross: Éxito a cualquier precio</h3>,\n",
              " <h3 class=\"ipc-title__text\">24. Braindead: tu madre se ha comido a mi perro</h3>,\n",
              " <h3 class=\"ipc-title__text\">25. Despertares</h3>,\n",
              " <h3 class=\"ipc-title__text\">Recently viewed</h3>]"
            ]
          },
          "execution_count": 4,
          "metadata": {},
          "output_type": "execute_result"
        }
      ],
      "source": [
        "#ipc-title__text\n",
        "movie_title = soup.find_all(class_ = \"ipc-title__text\")\n",
        "movie_title"
      ]
    },
    {
      "cell_type": "code",
      "execution_count": 5,
      "id": "0db5cdab",
      "metadata": {},
      "outputs": [
        {
          "data": {
            "text/plain": [
              "27"
            ]
          },
          "execution_count": 5,
          "metadata": {},
          "output_type": "execute_result"
        }
      ],
      "source": [
        "len(movie_title)"
      ]
    },
    {
      "cell_type": "code",
      "execution_count": 6,
      "id": "960534d5",
      "metadata": {},
      "outputs": [
        {
          "data": {
            "text/plain": [
              "<h3 class=\"ipc-title__text\">1. El silencio de los corderos</h3>"
            ]
          },
          "execution_count": 6,
          "metadata": {},
          "output_type": "execute_result"
        }
      ],
      "source": [
        "movie_title[1]"
      ]
    },
    {
      "cell_type": "code",
      "execution_count": 7,
      "id": "e3a28d04",
      "metadata": {},
      "outputs": [
        {
          "name": "stdout",
          "output_type": "stream",
          "text": [
            "1. El silencio de los corderos\n"
          ]
        }
      ],
      "source": [
        "print(movie_title[1].text)"
      ]
    },
    {
      "cell_type": "code",
      "execution_count": 8,
      "id": "94822c75",
      "metadata": {},
      "outputs": [
        {
          "data": {
            "text/plain": [
              "'1. El silencio de los corderos'"
            ]
          },
          "execution_count": 8,
          "metadata": {},
          "output_type": "execute_result"
        }
      ],
      "source": [
        "movie_title[1].getText().strip()"
      ]
    },
    {
      "cell_type": "code",
      "execution_count": 9,
      "id": "3cc4f745",
      "metadata": {},
      "outputs": [
        {
          "data": {
            "text/plain": [
              "['Advanced search',\n",
              " '1. El silencio de los corderos',\n",
              " '2. Uno de los nuestros',\n",
              " '3. Terminator 2: El juicio final',\n",
              " '4. Mi primo Vinny',\n",
              " '5. Esencia de mujer',\n",
              " '6. Reservoir Dogs',\n",
              " '7. Tomates verdes fritos',\n",
              " '8. El último mohicano',\n",
              " '9. Bailando con lobos',\n",
              " '10. Desafío total',\n",
              " '11. Algunos hombres buenos',\n",
              " '12. Solo en casa',\n",
              " '13. Sin perdón',\n",
              " '14. Thelma & Louise',\n",
              " '15. Eduardo Manostijeras',\n",
              " '16. La bella y la bestia',\n",
              " '17. Misery',\n",
              " '18. Los chicos del barrio',\n",
              " '19. El padrino parte III',\n",
              " '20. Aladdín',\n",
              " '21. La caza del Octubre Rojo',\n",
              " '22. JFK: Caso abierto',\n",
              " '23. Glengarry Glen Ross: Éxito a cualquier precio',\n",
              " '24. Braindead: tu madre se ha comido a mi perro',\n",
              " '25. Despertares',\n",
              " 'Recently viewed']"
            ]
          },
          "execution_count": 9,
          "metadata": {},
          "output_type": "execute_result"
        }
      ],
      "source": [
        "movies_names = [movie.text.strip() for movie in movie_title]\n",
        "movies_names"
      ]
    },
    {
      "cell_type": "code",
      "execution_count": 10,
      "id": "3bc56499",
      "metadata": {},
      "outputs": [
        {
          "data": {
            "text/plain": [
              "['1. El silencio de los corderos',\n",
              " '2. Uno de los nuestros',\n",
              " '3. Terminator 2: El juicio final',\n",
              " '4. Mi primo Vinny',\n",
              " '5. Esencia de mujer',\n",
              " '6. Reservoir Dogs',\n",
              " '7. Tomates verdes fritos',\n",
              " '8. El último mohicano',\n",
              " '9. Bailando con lobos',\n",
              " '10. Desafío total',\n",
              " '11. Algunos hombres buenos',\n",
              " '12. Solo en casa',\n",
              " '13. Sin perdón',\n",
              " '14. Thelma & Louise',\n",
              " '15. Eduardo Manostijeras',\n",
              " '16. La bella y la bestia',\n",
              " '17. Misery',\n",
              " '18. Los chicos del barrio',\n",
              " '19. El padrino parte III',\n",
              " '20. Aladdín',\n",
              " '21. La caza del Octubre Rojo',\n",
              " '22. JFK: Caso abierto',\n",
              " '23. Glengarry Glen Ross: Éxito a cualquier precio',\n",
              " '24. Braindead: tu madre se ha comido a mi perro',\n",
              " '25. Despertares']"
            ]
          },
          "execution_count": 10,
          "metadata": {},
          "output_type": "execute_result"
        }
      ],
      "source": [
        "movies_names_filtered = movies_names[1:-1]\n",
        "movies_names_filtered"
      ]
    },
    {
      "cell_type": "code",
      "execution_count": 11,
      "id": "719697e5",
      "metadata": {},
      "outputs": [],
      "source": [
        "# Lists to store numbers and names\n",
        "movie_nr = []\n",
        "title = []\n",
        "\n",
        "# Iterate over each line and extract the number and name\n",
        "for x in movies_names_filtered:\n",
        "    n= x.split(\". \")[0]\n",
        "    t= x.split(\". \")[-1]\n",
        "    movie_nr.append(n)\n",
        "    title.append(t)"
      ]
    },
    {
      "cell_type": "code",
      "execution_count": 12,
      "id": "8aea7c60",
      "metadata": {},
      "outputs": [
        {
          "data": {
            "text/plain": [
              "['1',\n",
              " '2',\n",
              " '3',\n",
              " '4',\n",
              " '5',\n",
              " '6',\n",
              " '7',\n",
              " '8',\n",
              " '9',\n",
              " '10',\n",
              " '11',\n",
              " '12',\n",
              " '13',\n",
              " '14',\n",
              " '15',\n",
              " '16',\n",
              " '17',\n",
              " '18',\n",
              " '19',\n",
              " '20',\n",
              " '21',\n",
              " '22',\n",
              " '23',\n",
              " '24',\n",
              " '25']"
            ]
          },
          "execution_count": 12,
          "metadata": {},
          "output_type": "execute_result"
        }
      ],
      "source": [
        "movie_nr"
      ]
    },
    {
      "cell_type": "code",
      "execution_count": 13,
      "id": "95691052",
      "metadata": {},
      "outputs": [
        {
          "data": {
            "text/plain": [
              "['El silencio de los corderos',\n",
              " 'Uno de los nuestros',\n",
              " 'Terminator 2: El juicio final',\n",
              " 'Mi primo Vinny',\n",
              " 'Esencia de mujer',\n",
              " 'Reservoir Dogs',\n",
              " 'Tomates verdes fritos',\n",
              " 'El último mohicano',\n",
              " 'Bailando con lobos',\n",
              " 'Desafío total',\n",
              " 'Algunos hombres buenos',\n",
              " 'Solo en casa',\n",
              " 'Sin perdón',\n",
              " 'Thelma & Louise',\n",
              " 'Eduardo Manostijeras',\n",
              " 'La bella y la bestia',\n",
              " 'Misery',\n",
              " 'Los chicos del barrio',\n",
              " 'El padrino parte III',\n",
              " 'Aladdín',\n",
              " 'La caza del Octubre Rojo',\n",
              " 'JFK: Caso abierto',\n",
              " 'Glengarry Glen Ross: Éxito a cualquier precio',\n",
              " 'Braindead: tu madre se ha comido a mi perro',\n",
              " 'Despertares']"
            ]
          },
          "execution_count": 13,
          "metadata": {},
          "output_type": "execute_result"
        }
      ],
      "source": [
        "title"
      ]
    },
    {
      "cell_type": "code",
      "execution_count": 14,
      "id": "b710d280",
      "metadata": {},
      "outputs": [
        {
          "data": {
            "text/plain": [
              "[<span class=\"sc-b189961a-8 kLaxqf dli-title-metadata-item\">1991</span>,\n",
              " <span class=\"sc-b189961a-8 kLaxqf dli-title-metadata-item\">1h 58m</span>,\n",
              " <span class=\"sc-b189961a-8 kLaxqf dli-title-metadata-item\">18</span>,\n",
              " <span class=\"sc-b189961a-8 kLaxqf dli-title-metadata-item\">1990</span>,\n",
              " <span class=\"sc-b189961a-8 kLaxqf dli-title-metadata-item\">2h 25m</span>,\n",
              " <span class=\"sc-b189961a-8 kLaxqf dli-title-metadata-item\">18</span>,\n",
              " <span class=\"sc-b189961a-8 kLaxqf dli-title-metadata-item\">1991</span>,\n",
              " <span class=\"sc-b189961a-8 kLaxqf dli-title-metadata-item\">2h 17m</span>,\n",
              " <span class=\"sc-b189961a-8 kLaxqf dli-title-metadata-item\">18</span>,\n",
              " <span class=\"sc-b189961a-8 kLaxqf dli-title-metadata-item\">1992</span>,\n",
              " <span class=\"sc-b189961a-8 kLaxqf dli-title-metadata-item\">2h</span>,\n",
              " <span class=\"sc-b189961a-8 kLaxqf dli-title-metadata-item\">T</span>,\n",
              " <span class=\"sc-b189961a-8 kLaxqf dli-title-metadata-item\">1992</span>,\n",
              " <span class=\"sc-b189961a-8 kLaxqf dli-title-metadata-item\">2h 36m</span>,\n",
              " <span class=\"sc-b189961a-8 kLaxqf dli-title-metadata-item\">A</span>,\n",
              " <span class=\"sc-b189961a-8 kLaxqf dli-title-metadata-item\">1992</span>,\n",
              " <span class=\"sc-b189961a-8 kLaxqf dli-title-metadata-item\">1h 39m</span>,\n",
              " <span class=\"sc-b189961a-8 kLaxqf dli-title-metadata-item\">18</span>,\n",
              " <span class=\"sc-b189961a-8 kLaxqf dli-title-metadata-item\">1991</span>,\n",
              " <span class=\"sc-b189961a-8 kLaxqf dli-title-metadata-item\">2h 10m</span>,\n",
              " <span class=\"sc-b189961a-8 kLaxqf dli-title-metadata-item\">13</span>,\n",
              " <span class=\"sc-b189961a-8 kLaxqf dli-title-metadata-item\">1992</span>,\n",
              " <span class=\"sc-b189961a-8 kLaxqf dli-title-metadata-item\">1h 52m</span>,\n",
              " <span class=\"sc-b189961a-8 kLaxqf dli-title-metadata-item\">13</span>,\n",
              " <span class=\"sc-b189961a-8 kLaxqf dli-title-metadata-item\">1990</span>,\n",
              " <span class=\"sc-b189961a-8 kLaxqf dli-title-metadata-item\">3h 1m</span>,\n",
              " <span class=\"sc-b189961a-8 kLaxqf dli-title-metadata-item\">A</span>,\n",
              " <span class=\"sc-b189961a-8 kLaxqf dli-title-metadata-item\">1990</span>,\n",
              " <span class=\"sc-b189961a-8 kLaxqf dli-title-metadata-item\">1h 53m</span>,\n",
              " <span class=\"sc-b189961a-8 kLaxqf dli-title-metadata-item\">18</span>,\n",
              " <span class=\"sc-b189961a-8 kLaxqf dli-title-metadata-item\">1992</span>,\n",
              " <span class=\"sc-b189961a-8 kLaxqf dli-title-metadata-item\">2h 18m</span>,\n",
              " <span class=\"sc-b189961a-8 kLaxqf dli-title-metadata-item\">13</span>,\n",
              " <span class=\"sc-b189961a-8 kLaxqf dli-title-metadata-item\">1990</span>,\n",
              " <span class=\"sc-b189961a-8 kLaxqf dli-title-metadata-item\">1h 43m</span>,\n",
              " <span class=\"sc-b189961a-8 kLaxqf dli-title-metadata-item\">A</span>,\n",
              " <span class=\"sc-b189961a-8 kLaxqf dli-title-metadata-item\">1992</span>,\n",
              " <span class=\"sc-b189961a-8 kLaxqf dli-title-metadata-item\">2h 10m</span>,\n",
              " <span class=\"sc-b189961a-8 kLaxqf dli-title-metadata-item\">18</span>,\n",
              " <span class=\"sc-b189961a-8 kLaxqf dli-title-metadata-item\">1991</span>,\n",
              " <span class=\"sc-b189961a-8 kLaxqf dli-title-metadata-item\">2h 10m</span>,\n",
              " <span class=\"sc-b189961a-8 kLaxqf dli-title-metadata-item\">13</span>,\n",
              " <span class=\"sc-b189961a-8 kLaxqf dli-title-metadata-item\">1990</span>,\n",
              " <span class=\"sc-b189961a-8 kLaxqf dli-title-metadata-item\">1h 45m</span>,\n",
              " <span class=\"sc-b189961a-8 kLaxqf dli-title-metadata-item\">A</span>,\n",
              " <span class=\"sc-b189961a-8 kLaxqf dli-title-metadata-item\">1991</span>,\n",
              " <span class=\"sc-b189961a-8 kLaxqf dli-title-metadata-item\">1h 24m</span>,\n",
              " <span class=\"sc-b189961a-8 kLaxqf dli-title-metadata-item\">T</span>,\n",
              " <span class=\"sc-b189961a-8 kLaxqf dli-title-metadata-item\">1990</span>,\n",
              " <span class=\"sc-b189961a-8 kLaxqf dli-title-metadata-item\">1h 47m</span>,\n",
              " <span class=\"sc-b189961a-8 kLaxqf dli-title-metadata-item\">18</span>,\n",
              " <span class=\"sc-b189961a-8 kLaxqf dli-title-metadata-item\">1991</span>,\n",
              " <span class=\"sc-b189961a-8 kLaxqf dli-title-metadata-item\">1h 52m</span>,\n",
              " <span class=\"sc-b189961a-8 kLaxqf dli-title-metadata-item\">13</span>,\n",
              " <span class=\"sc-b189961a-8 kLaxqf dli-title-metadata-item\">1990</span>,\n",
              " <span class=\"sc-b189961a-8 kLaxqf dli-title-metadata-item\">2h 42m</span>,\n",
              " <span class=\"sc-b189961a-8 kLaxqf dli-title-metadata-item\">18</span>,\n",
              " <span class=\"sc-b189961a-8 kLaxqf dli-title-metadata-item\">1992</span>,\n",
              " <span class=\"sc-b189961a-8 kLaxqf dli-title-metadata-item\">1h 30m</span>,\n",
              " <span class=\"sc-b189961a-8 kLaxqf dli-title-metadata-item\">A</span>,\n",
              " <span class=\"sc-b189961a-8 kLaxqf dli-title-metadata-item\">1990</span>,\n",
              " <span class=\"sc-b189961a-8 kLaxqf dli-title-metadata-item\">2h 15m</span>,\n",
              " <span class=\"sc-b189961a-8 kLaxqf dli-title-metadata-item\">A</span>,\n",
              " <span class=\"sc-b189961a-8 kLaxqf dli-title-metadata-item\">1991</span>,\n",
              " <span class=\"sc-b189961a-8 kLaxqf dli-title-metadata-item\">3h 9m</span>,\n",
              " <span class=\"sc-b189961a-8 kLaxqf dli-title-metadata-item\">13</span>,\n",
              " <span class=\"sc-b189961a-8 kLaxqf dli-title-metadata-item\">1992</span>,\n",
              " <span class=\"sc-b189961a-8 kLaxqf dli-title-metadata-item\">1h 40m</span>,\n",
              " <span class=\"sc-b189961a-8 kLaxqf dli-title-metadata-item\">13</span>,\n",
              " <span class=\"sc-b189961a-8 kLaxqf dli-title-metadata-item\">1992</span>,\n",
              " <span class=\"sc-b189961a-8 kLaxqf dli-title-metadata-item\">1h 44m</span>,\n",
              " <span class=\"sc-b189961a-8 kLaxqf dli-title-metadata-item\">18</span>,\n",
              " <span class=\"sc-b189961a-8 kLaxqf dli-title-metadata-item\">1990</span>,\n",
              " <span class=\"sc-b189961a-8 kLaxqf dli-title-metadata-item\">2h 1m</span>,\n",
              " <span class=\"sc-b189961a-8 kLaxqf dli-title-metadata-item\">A</span>]"
            ]
          },
          "execution_count": 14,
          "metadata": {},
          "output_type": "execute_result"
        }
      ],
      "source": [
        "year_released = soup.find_all('span', class_=\"sc-b189961a-8 kLaxqf dli-title-metadata-item\")\n",
        "year_released"
      ]
    },
    {
      "cell_type": "code",
      "execution_count": 15,
      "id": "ba48831e",
      "metadata": {},
      "outputs": [],
      "source": [
        "year = []\n",
        "age_rating = []\n",
        "runtime = []\n",
        "\n",
        "def extract_text_from_span(span_element):\n",
        "    return span_element.get_text()\n",
        "\n",
        "for i in range(0, len(year_released), 3):\n",
        "    year_extract = year_released[i]\n",
        "    runtime_extract = year_released[i+1]\n",
        "    age_rating_extract = year_released[i+2]\n",
        "    year.append(extract_text_from_span(year_extract))\n",
        "    age_rating.append(extract_text_from_span(age_rating_extract))\n",
        "    runtime.append(extract_text_from_span(runtime_extract))"
      ]
    },
    {
      "cell_type": "code",
      "execution_count": 16,
      "id": "9841983a",
      "metadata": {},
      "outputs": [
        {
          "data": {
            "text/plain": [
              "['1991',\n",
              " '1990',\n",
              " '1991',\n",
              " '1992',\n",
              " '1992',\n",
              " '1992',\n",
              " '1991',\n",
              " '1992',\n",
              " '1990',\n",
              " '1990',\n",
              " '1992',\n",
              " '1990',\n",
              " '1992',\n",
              " '1991',\n",
              " '1990',\n",
              " '1991',\n",
              " '1990',\n",
              " '1991',\n",
              " '1990',\n",
              " '1992',\n",
              " '1990',\n",
              " '1991',\n",
              " '1992',\n",
              " '1992',\n",
              " '1990']"
            ]
          },
          "execution_count": 16,
          "metadata": {},
          "output_type": "execute_result"
        }
      ],
      "source": [
        "year"
      ]
    },
    {
      "cell_type": "code",
      "execution_count": 17,
      "id": "488aa10d",
      "metadata": {},
      "outputs": [
        {
          "data": {
            "text/plain": [
              "['18',\n",
              " '18',\n",
              " '18',\n",
              " 'T',\n",
              " 'A',\n",
              " '18',\n",
              " '13',\n",
              " '13',\n",
              " 'A',\n",
              " '18',\n",
              " '13',\n",
              " 'A',\n",
              " '18',\n",
              " '13',\n",
              " 'A',\n",
              " 'T',\n",
              " '18',\n",
              " '13',\n",
              " '18',\n",
              " 'A',\n",
              " 'A',\n",
              " '13',\n",
              " '13',\n",
              " '18',\n",
              " 'A']"
            ]
          },
          "execution_count": 17,
          "metadata": {},
          "output_type": "execute_result"
        }
      ],
      "source": [
        "age_rating"
      ]
    },
    {
      "cell_type": "code",
      "execution_count": 18,
      "id": "cc912dd0",
      "metadata": {},
      "outputs": [
        {
          "data": {
            "text/plain": [
              "['1h 58m',\n",
              " '2h 25m',\n",
              " '2h 17m',\n",
              " '2h',\n",
              " '2h 36m',\n",
              " '1h 39m',\n",
              " '2h 10m',\n",
              " '1h 52m',\n",
              " '3h 1m',\n",
              " '1h 53m',\n",
              " '2h 18m',\n",
              " '1h 43m',\n",
              " '2h 10m',\n",
              " '2h 10m',\n",
              " '1h 45m',\n",
              " '1h 24m',\n",
              " '1h 47m',\n",
              " '1h 52m',\n",
              " '2h 42m',\n",
              " '1h 30m',\n",
              " '2h 15m',\n",
              " '3h 9m',\n",
              " '1h 40m',\n",
              " '1h 44m',\n",
              " '2h 1m']"
            ]
          },
          "execution_count": 18,
          "metadata": {},
          "output_type": "execute_result"
        }
      ],
      "source": [
        "runtime"
      ]
    },
    {
      "cell_type": "code",
      "execution_count": 19,
      "id": "831c5468",
      "metadata": {},
      "outputs": [
        {
          "data": {
            "text/plain": [
              "[<span class=\"ipc-rating-star--voteCount\"> (<!-- -->1.6M<!-- -->)</span>,\n",
              " <span class=\"ipc-rating-star--voteCount\"> (<!-- -->1.3M<!-- -->)</span>,\n",
              " <span class=\"ipc-rating-star--voteCount\"> (<!-- -->1.2M<!-- -->)</span>,\n",
              " <span class=\"ipc-rating-star--voteCount\"> (<!-- -->143K<!-- -->)</span>,\n",
              " <span class=\"ipc-rating-star--voteCount\"> (<!-- -->333K<!-- -->)</span>,\n",
              " <span class=\"ipc-rating-star--voteCount\"> (<!-- -->1.1M<!-- -->)</span>,\n",
              " <span class=\"ipc-rating-star--voteCount\"> (<!-- -->85K<!-- -->)</span>,\n",
              " <span class=\"ipc-rating-star--voteCount\"> (<!-- -->190K<!-- -->)</span>,\n",
              " <span class=\"ipc-rating-star--voteCount\"> (<!-- -->294K<!-- -->)</span>,\n",
              " <span class=\"ipc-rating-star--voteCount\"> (<!-- -->357K<!-- -->)</span>,\n",
              " <span class=\"ipc-rating-star--voteCount\"> (<!-- -->290K<!-- -->)</span>,\n",
              " <span class=\"ipc-rating-star--voteCount\"> (<!-- -->658K<!-- -->)</span>,\n",
              " <span class=\"ipc-rating-star--voteCount\"> (<!-- -->439K<!-- -->)</span>,\n",
              " <span class=\"ipc-rating-star--voteCount\"> (<!-- -->175K<!-- -->)</span>,\n",
              " <span class=\"ipc-rating-star--voteCount\"> (<!-- -->528K<!-- -->)</span>,\n",
              " <span class=\"ipc-rating-star--voteCount\"> (<!-- -->482K<!-- -->)</span>,\n",
              " <span class=\"ipc-rating-star--voteCount\"> (<!-- -->238K<!-- -->)</span>,\n",
              " <span class=\"ipc-rating-star--voteCount\"> (<!-- -->156K<!-- -->)</span>,\n",
              " <span class=\"ipc-rating-star--voteCount\"> (<!-- -->427K<!-- -->)</span>,\n",
              " <span class=\"ipc-rating-star--voteCount\"> (<!-- -->472K<!-- -->)</span>,\n",
              " <span class=\"ipc-rating-star--voteCount\"> (<!-- -->216K<!-- -->)</span>,\n",
              " <span class=\"ipc-rating-star--voteCount\"> (<!-- -->171K<!-- -->)</span>,\n",
              " <span class=\"ipc-rating-star--voteCount\"> (<!-- -->117K<!-- -->)</span>,\n",
              " <span class=\"ipc-rating-star--voteCount\"> (<!-- -->104K<!-- -->)</span>,\n",
              " <span class=\"ipc-rating-star--voteCount\"> (<!-- -->160K<!-- -->)</span>]"
            ]
          },
          "execution_count": 19,
          "metadata": {},
          "output_type": "execute_result"
        }
      ],
      "source": [
        "movies_Votes = soup.find_all('span', class_=\"ipc-rating-star--voteCount\")\n",
        "movies_Votes"
      ]
    },
    {
      "cell_type": "code",
      "execution_count": 20,
      "id": "e01bbe9a",
      "metadata": {},
      "outputs": [
        {
          "data": {
            "text/plain": [
              "['1.6M',\n",
              " '1.3M',\n",
              " '1.2M',\n",
              " '143K',\n",
              " '333K',\n",
              " '1.1M',\n",
              " '85K',\n",
              " '190K',\n",
              " '294K',\n",
              " '357K',\n",
              " '290K',\n",
              " '658K',\n",
              " '439K',\n",
              " '175K',\n",
              " '528K',\n",
              " '482K',\n",
              " '238K',\n",
              " '156K',\n",
              " '427K',\n",
              " '472K',\n",
              " '216K',\n",
              " '171K',\n",
              " '117K',\n",
              " '104K',\n",
              " '160K']"
            ]
          },
          "execution_count": 20,
          "metadata": {},
          "output_type": "execute_result"
        }
      ],
      "source": [
        "votes = [m_counts.text.strip().strip('()') for m_counts in movies_Votes]\n",
        "votes"
      ]
    },
    {
      "cell_type": "code",
      "execution_count": 21,
      "id": "57cb5747",
      "metadata": {},
      "outputs": [
        {
          "data": {
            "text/plain": [
              "[<span aria-label=\"IMDb rating: 8.6\" class=\"ipc-rating-star ipc-rating-star--base ipc-rating-star--imdb ratingGroup--imdb-rating\" data-testid=\"ratingGroup--imdb-rating\"><svg class=\"ipc-icon ipc-icon--star-inline\" fill=\"currentColor\" height=\"24\" role=\"presentation\" viewbox=\"0 0 24 24\" width=\"24\" xmlns=\"http://www.w3.org/2000/svg\"><path d=\"M12 20.1l5.82 3.682c1.066.675 2.37-.322 2.09-1.584l-1.543-6.926 5.146-4.667c.94-.85.435-2.465-.799-2.567l-6.773-.602L13.29.89a1.38 1.38 0 0 0-2.581 0l-2.65 6.53-6.774.602C.052 8.126-.453 9.74.486 10.59l5.147 4.666-1.542 6.926c-.28 1.262 1.023 2.26 2.09 1.585L12 20.099z\"></path></svg>8.6<span class=\"ipc-rating-star--voteCount\"> (<!-- -->1.6M<!-- -->)</span></span>,\n",
              " <span aria-label=\"IMDb rating: 8.7\" class=\"ipc-rating-star ipc-rating-star--base ipc-rating-star--imdb ratingGroup--imdb-rating\" data-testid=\"ratingGroup--imdb-rating\"><svg class=\"ipc-icon ipc-icon--star-inline\" fill=\"currentColor\" height=\"24\" role=\"presentation\" viewbox=\"0 0 24 24\" width=\"24\" xmlns=\"http://www.w3.org/2000/svg\"><path d=\"M12 20.1l5.82 3.682c1.066.675 2.37-.322 2.09-1.584l-1.543-6.926 5.146-4.667c.94-.85.435-2.465-.799-2.567l-6.773-.602L13.29.89a1.38 1.38 0 0 0-2.581 0l-2.65 6.53-6.774.602C.052 8.126-.453 9.74.486 10.59l5.147 4.666-1.542 6.926c-.28 1.262 1.023 2.26 2.09 1.585L12 20.099z\"></path></svg>8.7<span class=\"ipc-rating-star--voteCount\"> (<!-- -->1.3M<!-- -->)</span></span>,\n",
              " <span aria-label=\"IMDb rating: 8.6\" class=\"ipc-rating-star ipc-rating-star--base ipc-rating-star--imdb ratingGroup--imdb-rating\" data-testid=\"ratingGroup--imdb-rating\"><svg class=\"ipc-icon ipc-icon--star-inline\" fill=\"currentColor\" height=\"24\" role=\"presentation\" viewbox=\"0 0 24 24\" width=\"24\" xmlns=\"http://www.w3.org/2000/svg\"><path d=\"M12 20.1l5.82 3.682c1.066.675 2.37-.322 2.09-1.584l-1.543-6.926 5.146-4.667c.94-.85.435-2.465-.799-2.567l-6.773-.602L13.29.89a1.38 1.38 0 0 0-2.581 0l-2.65 6.53-6.774.602C.052 8.126-.453 9.74.486 10.59l5.147 4.666-1.542 6.926c-.28 1.262 1.023 2.26 2.09 1.585L12 20.099z\"></path></svg>8.6<span class=\"ipc-rating-star--voteCount\"> (<!-- -->1.2M<!-- -->)</span></span>,\n",
              " <span aria-label=\"IMDb rating: 7.6\" class=\"ipc-rating-star ipc-rating-star--base ipc-rating-star--imdb ratingGroup--imdb-rating\" data-testid=\"ratingGroup--imdb-rating\"><svg class=\"ipc-icon ipc-icon--star-inline\" fill=\"currentColor\" height=\"24\" role=\"presentation\" viewbox=\"0 0 24 24\" width=\"24\" xmlns=\"http://www.w3.org/2000/svg\"><path d=\"M12 20.1l5.82 3.682c1.066.675 2.37-.322 2.09-1.584l-1.543-6.926 5.146-4.667c.94-.85.435-2.465-.799-2.567l-6.773-.602L13.29.89a1.38 1.38 0 0 0-2.581 0l-2.65 6.53-6.774.602C.052 8.126-.453 9.74.486 10.59l5.147 4.666-1.542 6.926c-.28 1.262 1.023 2.26 2.09 1.585L12 20.099z\"></path></svg>7.6<span class=\"ipc-rating-star--voteCount\"> (<!-- -->143K<!-- -->)</span></span>,\n",
              " <span aria-label=\"IMDb rating: 8.0\" class=\"ipc-rating-star ipc-rating-star--base ipc-rating-star--imdb ratingGroup--imdb-rating\" data-testid=\"ratingGroup--imdb-rating\"><svg class=\"ipc-icon ipc-icon--star-inline\" fill=\"currentColor\" height=\"24\" role=\"presentation\" viewbox=\"0 0 24 24\" width=\"24\" xmlns=\"http://www.w3.org/2000/svg\"><path d=\"M12 20.1l5.82 3.682c1.066.675 2.37-.322 2.09-1.584l-1.543-6.926 5.146-4.667c.94-.85.435-2.465-.799-2.567l-6.773-.602L13.29.89a1.38 1.38 0 0 0-2.581 0l-2.65 6.53-6.774.602C.052 8.126-.453 9.74.486 10.59l5.147 4.666-1.542 6.926c-.28 1.262 1.023 2.26 2.09 1.585L12 20.099z\"></path></svg>8.0<span class=\"ipc-rating-star--voteCount\"> (<!-- -->333K<!-- -->)</span></span>,\n",
              " <span aria-label=\"IMDb rating: 8.3\" class=\"ipc-rating-star ipc-rating-star--base ipc-rating-star--imdb ratingGroup--imdb-rating\" data-testid=\"ratingGroup--imdb-rating\"><svg class=\"ipc-icon ipc-icon--star-inline\" fill=\"currentColor\" height=\"24\" role=\"presentation\" viewbox=\"0 0 24 24\" width=\"24\" xmlns=\"http://www.w3.org/2000/svg\"><path d=\"M12 20.1l5.82 3.682c1.066.675 2.37-.322 2.09-1.584l-1.543-6.926 5.146-4.667c.94-.85.435-2.465-.799-2.567l-6.773-.602L13.29.89a1.38 1.38 0 0 0-2.581 0l-2.65 6.53-6.774.602C.052 8.126-.453 9.74.486 10.59l5.147 4.666-1.542 6.926c-.28 1.262 1.023 2.26 2.09 1.585L12 20.099z\"></path></svg>8.3<span class=\"ipc-rating-star--voteCount\"> (<!-- -->1.1M<!-- -->)</span></span>,\n",
              " <span aria-label=\"IMDb rating: 7.7\" class=\"ipc-rating-star ipc-rating-star--base ipc-rating-star--imdb ratingGroup--imdb-rating\" data-testid=\"ratingGroup--imdb-rating\"><svg class=\"ipc-icon ipc-icon--star-inline\" fill=\"currentColor\" height=\"24\" role=\"presentation\" viewbox=\"0 0 24 24\" width=\"24\" xmlns=\"http://www.w3.org/2000/svg\"><path d=\"M12 20.1l5.82 3.682c1.066.675 2.37-.322 2.09-1.584l-1.543-6.926 5.146-4.667c.94-.85.435-2.465-.799-2.567l-6.773-.602L13.29.89a1.38 1.38 0 0 0-2.581 0l-2.65 6.53-6.774.602C.052 8.126-.453 9.74.486 10.59l5.147 4.666-1.542 6.926c-.28 1.262 1.023 2.26 2.09 1.585L12 20.099z\"></path></svg>7.7<span class=\"ipc-rating-star--voteCount\"> (<!-- -->85K<!-- -->)</span></span>,\n",
              " <span aria-label=\"IMDb rating: 7.6\" class=\"ipc-rating-star ipc-rating-star--base ipc-rating-star--imdb ratingGroup--imdb-rating\" data-testid=\"ratingGroup--imdb-rating\"><svg class=\"ipc-icon ipc-icon--star-inline\" fill=\"currentColor\" height=\"24\" role=\"presentation\" viewbox=\"0 0 24 24\" width=\"24\" xmlns=\"http://www.w3.org/2000/svg\"><path d=\"M12 20.1l5.82 3.682c1.066.675 2.37-.322 2.09-1.584l-1.543-6.926 5.146-4.667c.94-.85.435-2.465-.799-2.567l-6.773-.602L13.29.89a1.38 1.38 0 0 0-2.581 0l-2.65 6.53-6.774.602C.052 8.126-.453 9.74.486 10.59l5.147 4.666-1.542 6.926c-.28 1.262 1.023 2.26 2.09 1.585L12 20.099z\"></path></svg>7.6<span class=\"ipc-rating-star--voteCount\"> (<!-- -->190K<!-- -->)</span></span>,\n",
              " <span aria-label=\"IMDb rating: 8.0\" class=\"ipc-rating-star ipc-rating-star--base ipc-rating-star--imdb ratingGroup--imdb-rating\" data-testid=\"ratingGroup--imdb-rating\"><svg class=\"ipc-icon ipc-icon--star-inline\" fill=\"currentColor\" height=\"24\" role=\"presentation\" viewbox=\"0 0 24 24\" width=\"24\" xmlns=\"http://www.w3.org/2000/svg\"><path d=\"M12 20.1l5.82 3.682c1.066.675 2.37-.322 2.09-1.584l-1.543-6.926 5.146-4.667c.94-.85.435-2.465-.799-2.567l-6.773-.602L13.29.89a1.38 1.38 0 0 0-2.581 0l-2.65 6.53-6.774.602C.052 8.126-.453 9.74.486 10.59l5.147 4.666-1.542 6.926c-.28 1.262 1.023 2.26 2.09 1.585L12 20.099z\"></path></svg>8.0<span class=\"ipc-rating-star--voteCount\"> (<!-- -->294K<!-- -->)</span></span>,\n",
              " <span aria-label=\"IMDb rating: 7.5\" class=\"ipc-rating-star ipc-rating-star--base ipc-rating-star--imdb ratingGroup--imdb-rating\" data-testid=\"ratingGroup--imdb-rating\"><svg class=\"ipc-icon ipc-icon--star-inline\" fill=\"currentColor\" height=\"24\" role=\"presentation\" viewbox=\"0 0 24 24\" width=\"24\" xmlns=\"http://www.w3.org/2000/svg\"><path d=\"M12 20.1l5.82 3.682c1.066.675 2.37-.322 2.09-1.584l-1.543-6.926 5.146-4.667c.94-.85.435-2.465-.799-2.567l-6.773-.602L13.29.89a1.38 1.38 0 0 0-2.581 0l-2.65 6.53-6.774.602C.052 8.126-.453 9.74.486 10.59l5.147 4.666-1.542 6.926c-.28 1.262 1.023 2.26 2.09 1.585L12 20.099z\"></path></svg>7.5<span class=\"ipc-rating-star--voteCount\"> (<!-- -->357K<!-- -->)</span></span>,\n",
              " <span aria-label=\"IMDb rating: 7.7\" class=\"ipc-rating-star ipc-rating-star--base ipc-rating-star--imdb ratingGroup--imdb-rating\" data-testid=\"ratingGroup--imdb-rating\"><svg class=\"ipc-icon ipc-icon--star-inline\" fill=\"currentColor\" height=\"24\" role=\"presentation\" viewbox=\"0 0 24 24\" width=\"24\" xmlns=\"http://www.w3.org/2000/svg\"><path d=\"M12 20.1l5.82 3.682c1.066.675 2.37-.322 2.09-1.584l-1.543-6.926 5.146-4.667c.94-.85.435-2.465-.799-2.567l-6.773-.602L13.29.89a1.38 1.38 0 0 0-2.581 0l-2.65 6.53-6.774.602C.052 8.126-.453 9.74.486 10.59l5.147 4.666-1.542 6.926c-.28 1.262 1.023 2.26 2.09 1.585L12 20.099z\"></path></svg>7.7<span class=\"ipc-rating-star--voteCount\"> (<!-- -->290K<!-- -->)</span></span>,\n",
              " <span aria-label=\"IMDb rating: 7.7\" class=\"ipc-rating-star ipc-rating-star--base ipc-rating-star--imdb ratingGroup--imdb-rating\" data-testid=\"ratingGroup--imdb-rating\"><svg class=\"ipc-icon ipc-icon--star-inline\" fill=\"currentColor\" height=\"24\" role=\"presentation\" viewbox=\"0 0 24 24\" width=\"24\" xmlns=\"http://www.w3.org/2000/svg\"><path d=\"M12 20.1l5.82 3.682c1.066.675 2.37-.322 2.09-1.584l-1.543-6.926 5.146-4.667c.94-.85.435-2.465-.799-2.567l-6.773-.602L13.29.89a1.38 1.38 0 0 0-2.581 0l-2.65 6.53-6.774.602C.052 8.126-.453 9.74.486 10.59l5.147 4.666-1.542 6.926c-.28 1.262 1.023 2.26 2.09 1.585L12 20.099z\"></path></svg>7.7<span class=\"ipc-rating-star--voteCount\"> (<!-- -->658K<!-- -->)</span></span>,\n",
              " <span aria-label=\"IMDb rating: 8.2\" class=\"ipc-rating-star ipc-rating-star--base ipc-rating-star--imdb ratingGroup--imdb-rating\" data-testid=\"ratingGroup--imdb-rating\"><svg class=\"ipc-icon ipc-icon--star-inline\" fill=\"currentColor\" height=\"24\" role=\"presentation\" viewbox=\"0 0 24 24\" width=\"24\" xmlns=\"http://www.w3.org/2000/svg\"><path d=\"M12 20.1l5.82 3.682c1.066.675 2.37-.322 2.09-1.584l-1.543-6.926 5.146-4.667c.94-.85.435-2.465-.799-2.567l-6.773-.602L13.29.89a1.38 1.38 0 0 0-2.581 0l-2.65 6.53-6.774.602C.052 8.126-.453 9.74.486 10.59l5.147 4.666-1.542 6.926c-.28 1.262 1.023 2.26 2.09 1.585L12 20.099z\"></path></svg>8.2<span class=\"ipc-rating-star--voteCount\"> (<!-- -->439K<!-- -->)</span></span>,\n",
              " <span aria-label=\"IMDb rating: 7.6\" class=\"ipc-rating-star ipc-rating-star--base ipc-rating-star--imdb ratingGroup--imdb-rating\" data-testid=\"ratingGroup--imdb-rating\"><svg class=\"ipc-icon ipc-icon--star-inline\" fill=\"currentColor\" height=\"24\" role=\"presentation\" viewbox=\"0 0 24 24\" width=\"24\" xmlns=\"http://www.w3.org/2000/svg\"><path d=\"M12 20.1l5.82 3.682c1.066.675 2.37-.322 2.09-1.584l-1.543-6.926 5.146-4.667c.94-.85.435-2.465-.799-2.567l-6.773-.602L13.29.89a1.38 1.38 0 0 0-2.581 0l-2.65 6.53-6.774.602C.052 8.126-.453 9.74.486 10.59l5.147 4.666-1.542 6.926c-.28 1.262 1.023 2.26 2.09 1.585L12 20.099z\"></path></svg>7.6<span class=\"ipc-rating-star--voteCount\"> (<!-- -->175K<!-- -->)</span></span>,\n",
              " <span aria-label=\"IMDb rating: 7.9\" class=\"ipc-rating-star ipc-rating-star--base ipc-rating-star--imdb ratingGroup--imdb-rating\" data-testid=\"ratingGroup--imdb-rating\"><svg class=\"ipc-icon ipc-icon--star-inline\" fill=\"currentColor\" height=\"24\" role=\"presentation\" viewbox=\"0 0 24 24\" width=\"24\" xmlns=\"http://www.w3.org/2000/svg\"><path d=\"M12 20.1l5.82 3.682c1.066.675 2.37-.322 2.09-1.584l-1.543-6.926 5.146-4.667c.94-.85.435-2.465-.799-2.567l-6.773-.602L13.29.89a1.38 1.38 0 0 0-2.581 0l-2.65 6.53-6.774.602C.052 8.126-.453 9.74.486 10.59l5.147 4.666-1.542 6.926c-.28 1.262 1.023 2.26 2.09 1.585L12 20.099z\"></path></svg>7.9<span class=\"ipc-rating-star--voteCount\"> (<!-- -->528K<!-- -->)</span></span>,\n",
              " <span aria-label=\"IMDb rating: 8.0\" class=\"ipc-rating-star ipc-rating-star--base ipc-rating-star--imdb ratingGroup--imdb-rating\" data-testid=\"ratingGroup--imdb-rating\"><svg class=\"ipc-icon ipc-icon--star-inline\" fill=\"currentColor\" height=\"24\" role=\"presentation\" viewbox=\"0 0 24 24\" width=\"24\" xmlns=\"http://www.w3.org/2000/svg\"><path d=\"M12 20.1l5.82 3.682c1.066.675 2.37-.322 2.09-1.584l-1.543-6.926 5.146-4.667c.94-.85.435-2.465-.799-2.567l-6.773-.602L13.29.89a1.38 1.38 0 0 0-2.581 0l-2.65 6.53-6.774.602C.052 8.126-.453 9.74.486 10.59l5.147 4.666-1.542 6.926c-.28 1.262 1.023 2.26 2.09 1.585L12 20.099z\"></path></svg>8.0<span class=\"ipc-rating-star--voteCount\"> (<!-- -->482K<!-- -->)</span></span>,\n",
              " <span aria-label=\"IMDb rating: 7.8\" class=\"ipc-rating-star ipc-rating-star--base ipc-rating-star--imdb ratingGroup--imdb-rating\" data-testid=\"ratingGroup--imdb-rating\"><svg class=\"ipc-icon ipc-icon--star-inline\" fill=\"currentColor\" height=\"24\" role=\"presentation\" viewbox=\"0 0 24 24\" width=\"24\" xmlns=\"http://www.w3.org/2000/svg\"><path d=\"M12 20.1l5.82 3.682c1.066.675 2.37-.322 2.09-1.584l-1.543-6.926 5.146-4.667c.94-.85.435-2.465-.799-2.567l-6.773-.602L13.29.89a1.38 1.38 0 0 0-2.581 0l-2.65 6.53-6.774.602C.052 8.126-.453 9.74.486 10.59l5.147 4.666-1.542 6.926c-.28 1.262 1.023 2.26 2.09 1.585L12 20.099z\"></path></svg>7.8<span class=\"ipc-rating-star--voteCount\"> (<!-- -->238K<!-- -->)</span></span>,\n",
              " <span aria-label=\"IMDb rating: 7.8\" class=\"ipc-rating-star ipc-rating-star--base ipc-rating-star--imdb ratingGroup--imdb-rating\" data-testid=\"ratingGroup--imdb-rating\"><svg class=\"ipc-icon ipc-icon--star-inline\" fill=\"currentColor\" height=\"24\" role=\"presentation\" viewbox=\"0 0 24 24\" width=\"24\" xmlns=\"http://www.w3.org/2000/svg\"><path d=\"M12 20.1l5.82 3.682c1.066.675 2.37-.322 2.09-1.584l-1.543-6.926 5.146-4.667c.94-.85.435-2.465-.799-2.567l-6.773-.602L13.29.89a1.38 1.38 0 0 0-2.581 0l-2.65 6.53-6.774.602C.052 8.126-.453 9.74.486 10.59l5.147 4.666-1.542 6.926c-.28 1.262 1.023 2.26 2.09 1.585L12 20.099z\"></path></svg>7.8<span class=\"ipc-rating-star--voteCount\"> (<!-- -->156K<!-- -->)</span></span>,\n",
              " <span aria-label=\"IMDb rating: 7.6\" class=\"ipc-rating-star ipc-rating-star--base ipc-rating-star--imdb ratingGroup--imdb-rating\" data-testid=\"ratingGroup--imdb-rating\"><svg class=\"ipc-icon ipc-icon--star-inline\" fill=\"currentColor\" height=\"24\" role=\"presentation\" viewbox=\"0 0 24 24\" width=\"24\" xmlns=\"http://www.w3.org/2000/svg\"><path d=\"M12 20.1l5.82 3.682c1.066.675 2.37-.322 2.09-1.584l-1.543-6.926 5.146-4.667c.94-.85.435-2.465-.799-2.567l-6.773-.602L13.29.89a1.38 1.38 0 0 0-2.581 0l-2.65 6.53-6.774.602C.052 8.126-.453 9.74.486 10.59l5.147 4.666-1.542 6.926c-.28 1.262 1.023 2.26 2.09 1.585L12 20.099z\"></path></svg>7.6<span class=\"ipc-rating-star--voteCount\"> (<!-- -->427K<!-- -->)</span></span>,\n",
              " <span aria-label=\"IMDb rating: 8.0\" class=\"ipc-rating-star ipc-rating-star--base ipc-rating-star--imdb ratingGroup--imdb-rating\" data-testid=\"ratingGroup--imdb-rating\"><svg class=\"ipc-icon ipc-icon--star-inline\" fill=\"currentColor\" height=\"24\" role=\"presentation\" viewbox=\"0 0 24 24\" width=\"24\" xmlns=\"http://www.w3.org/2000/svg\"><path d=\"M12 20.1l5.82 3.682c1.066.675 2.37-.322 2.09-1.584l-1.543-6.926 5.146-4.667c.94-.85.435-2.465-.799-2.567l-6.773-.602L13.29.89a1.38 1.38 0 0 0-2.581 0l-2.65 6.53-6.774.602C.052 8.126-.453 9.74.486 10.59l5.147 4.666-1.542 6.926c-.28 1.262 1.023 2.26 2.09 1.585L12 20.099z\"></path></svg>8.0<span class=\"ipc-rating-star--voteCount\"> (<!-- -->472K<!-- -->)</span></span>,\n",
              " <span aria-label=\"IMDb rating: 7.5\" class=\"ipc-rating-star ipc-rating-star--base ipc-rating-star--imdb ratingGroup--imdb-rating\" data-testid=\"ratingGroup--imdb-rating\"><svg class=\"ipc-icon ipc-icon--star-inline\" fill=\"currentColor\" height=\"24\" role=\"presentation\" viewbox=\"0 0 24 24\" width=\"24\" xmlns=\"http://www.w3.org/2000/svg\"><path d=\"M12 20.1l5.82 3.682c1.066.675 2.37-.322 2.09-1.584l-1.543-6.926 5.146-4.667c.94-.85.435-2.465-.799-2.567l-6.773-.602L13.29.89a1.38 1.38 0 0 0-2.581 0l-2.65 6.53-6.774.602C.052 8.126-.453 9.74.486 10.59l5.147 4.666-1.542 6.926c-.28 1.262 1.023 2.26 2.09 1.585L12 20.099z\"></path></svg>7.5<span class=\"ipc-rating-star--voteCount\"> (<!-- -->216K<!-- -->)</span></span>,\n",
              " <span aria-label=\"IMDb rating: 8.0\" class=\"ipc-rating-star ipc-rating-star--base ipc-rating-star--imdb ratingGroup--imdb-rating\" data-testid=\"ratingGroup--imdb-rating\"><svg class=\"ipc-icon ipc-icon--star-inline\" fill=\"currentColor\" height=\"24\" role=\"presentation\" viewbox=\"0 0 24 24\" width=\"24\" xmlns=\"http://www.w3.org/2000/svg\"><path d=\"M12 20.1l5.82 3.682c1.066.675 2.37-.322 2.09-1.584l-1.543-6.926 5.146-4.667c.94-.85.435-2.465-.799-2.567l-6.773-.602L13.29.89a1.38 1.38 0 0 0-2.581 0l-2.65 6.53-6.774.602C.052 8.126-.453 9.74.486 10.59l5.147 4.666-1.542 6.926c-.28 1.262 1.023 2.26 2.09 1.585L12 20.099z\"></path></svg>8.0<span class=\"ipc-rating-star--voteCount\"> (<!-- -->171K<!-- -->)</span></span>,\n",
              " <span aria-label=\"IMDb rating: 7.7\" class=\"ipc-rating-star ipc-rating-star--base ipc-rating-star--imdb ratingGroup--imdb-rating\" data-testid=\"ratingGroup--imdb-rating\"><svg class=\"ipc-icon ipc-icon--star-inline\" fill=\"currentColor\" height=\"24\" role=\"presentation\" viewbox=\"0 0 24 24\" width=\"24\" xmlns=\"http://www.w3.org/2000/svg\"><path d=\"M12 20.1l5.82 3.682c1.066.675 2.37-.322 2.09-1.584l-1.543-6.926 5.146-4.667c.94-.85.435-2.465-.799-2.567l-6.773-.602L13.29.89a1.38 1.38 0 0 0-2.581 0l-2.65 6.53-6.774.602C.052 8.126-.453 9.74.486 10.59l5.147 4.666-1.542 6.926c-.28 1.262 1.023 2.26 2.09 1.585L12 20.099z\"></path></svg>7.7<span class=\"ipc-rating-star--voteCount\"> (<!-- -->117K<!-- -->)</span></span>,\n",
              " <span aria-label=\"IMDb rating: 7.5\" class=\"ipc-rating-star ipc-rating-star--base ipc-rating-star--imdb ratingGroup--imdb-rating\" data-testid=\"ratingGroup--imdb-rating\"><svg class=\"ipc-icon ipc-icon--star-inline\" fill=\"currentColor\" height=\"24\" role=\"presentation\" viewbox=\"0 0 24 24\" width=\"24\" xmlns=\"http://www.w3.org/2000/svg\"><path d=\"M12 20.1l5.82 3.682c1.066.675 2.37-.322 2.09-1.584l-1.543-6.926 5.146-4.667c.94-.85.435-2.465-.799-2.567l-6.773-.602L13.29.89a1.38 1.38 0 0 0-2.581 0l-2.65 6.53-6.774.602C.052 8.126-.453 9.74.486 10.59l5.147 4.666-1.542 6.926c-.28 1.262 1.023 2.26 2.09 1.585L12 20.099z\"></path></svg>7.5<span class=\"ipc-rating-star--voteCount\"> (<!-- -->104K<!-- -->)</span></span>,\n",
              " <span aria-label=\"IMDb rating: 7.8\" class=\"ipc-rating-star ipc-rating-star--base ipc-rating-star--imdb ratingGroup--imdb-rating\" data-testid=\"ratingGroup--imdb-rating\"><svg class=\"ipc-icon ipc-icon--star-inline\" fill=\"currentColor\" height=\"24\" role=\"presentation\" viewbox=\"0 0 24 24\" width=\"24\" xmlns=\"http://www.w3.org/2000/svg\"><path d=\"M12 20.1l5.82 3.682c1.066.675 2.37-.322 2.09-1.584l-1.543-6.926 5.146-4.667c.94-.85.435-2.465-.799-2.567l-6.773-.602L13.29.89a1.38 1.38 0 0 0-2.581 0l-2.65 6.53-6.774.602C.052 8.126-.453 9.74.486 10.59l5.147 4.666-1.542 6.926c-.28 1.262 1.023 2.26 2.09 1.585L12 20.099z\"></path></svg>7.8<span class=\"ipc-rating-star--voteCount\"> (<!-- -->160K<!-- -->)</span></span>]"
            ]
          },
          "execution_count": 21,
          "metadata": {},
          "output_type": "execute_result"
        }
      ],
      "source": [
        "movies_rating = soup.find_all('span', class_='ipc-rating-star ipc-rating-star--base ipc-rating-star--imdb ratingGroup--imdb-rating')\n",
        "movies_rating"
      ]
    },
    {
      "cell_type": "code",
      "execution_count": 22,
      "id": "cd9046d1",
      "metadata": {},
      "outputs": [
        {
          "data": {
            "text/plain": [
              "['8.6',\n",
              " '8.7',\n",
              " '8.6',\n",
              " '7.6',\n",
              " '8.0',\n",
              " '8.3',\n",
              " '7.7',\n",
              " '7.6',\n",
              " '8.0',\n",
              " '7.5',\n",
              " '7.7',\n",
              " '7.7',\n",
              " '8.2',\n",
              " '7.6',\n",
              " '7.9',\n",
              " '8.0',\n",
              " '7.8',\n",
              " '7.8',\n",
              " '7.6',\n",
              " '8.0',\n",
              " '7.5',\n",
              " '8.0',\n",
              " '7.7',\n",
              " '7.5',\n",
              " '7.8']"
            ]
          },
          "execution_count": 22,
          "metadata": {},
          "output_type": "execute_result"
        }
      ],
      "source": [
        "rating = [span.text.strip() [:3] for span in movies_rating]\n",
        "rating"
      ]
    },
    {
      "cell_type": "code",
      "execution_count": 23,
      "id": "50314f89",
      "metadata": {},
      "outputs": [
        {
          "data": {
            "text/plain": [
              "[<div class=\"ipc-html-content-inner-div\" role=\"presentation\">A young F.B.I. cadet must receive the help of an incarcerated and manipulative cannibal killer to help catch another serial killer, a madman who skins his victims.</div>,\n",
              " <div class=\"ipc-html-content-inner-div\" role=\"presentation\">The story of Henry Hill and his life in the mafia, covering his relationship with his wife Karen and his mob partners Jimmy Conway and Tommy DeVito.</div>,\n",
              " <div class=\"ipc-html-content-inner-div\" role=\"presentation\">A cyborg, identical to the one who failed to kill Sarah Connor, must now protect her ten year old son John from an even more advanced and powerful cyborg.</div>,\n",
              " <div class=\"ipc-html-content-inner-div\" role=\"presentation\">Two New Yorkers accused of murder in rural Alabama while on their way back to college call in the help of one of their cousins, a loudmouth lawyer with no trial experience.</div>,\n",
              " <div class=\"ipc-html-content-inner-div\" role=\"presentation\">A prep school student needing money agrees to \"babysit\" a blind man, but the job is not at all what he anticipated.</div>,\n",
              " <div class=\"ipc-html-content-inner-div\" role=\"presentation\">When a simple jewelry heist goes horribly wrong, the surviving criminals begin to suspect that one of them is a police informant.</div>,\n",
              " <div class=\"ipc-html-content-inner-div\" role=\"presentation\">Evelyn, an ordinary housewife, visits a nursing home and befriends the old lady Ninny. Together, they bond over stories from the past about two intrepid women of Whistle Stop Cafe.</div>,\n",
              " <div class=\"ipc-html-content-inner-div\" role=\"presentation\">Three trappers protect the daughters of a British Colonel in the midst of the French and Indian War.</div>,\n",
              " <div class=\"ipc-html-content-inner-div\" role=\"presentation\">Lieutenant John Dunbar, assigned to a remote western Civil War outpost, finds himself engaging with a neighbouring Sioux settlement, causing him to question his own purpose.</div>,\n",
              " <div class=\"ipc-html-content-inner-div\" role=\"presentation\">When a man goes in to have virtual vacation memories of the planet Mars implanted in his mind, an unexpected and harrowing series of events forces him to go to the planet for real - or is he?</div>,\n",
              " <div class=\"ipc-html-content-inner-div\" role=\"presentation\">Lt. Daniel Kaffee, a US military lawyer, defends two US marines charged with murdering a fellow marine at the Guantanamo Bay Naval Base in Cuba. The needle of suspicion, however, points to a colonel.</div>,\n",
              " <div class=\"ipc-html-content-inner-div\" role=\"presentation\">An eight-year-old troublemaker, mistakenly left home alone, must defend his home against a pair of burglars on Christmas Eve.</div>,\n",
              " <div class=\"ipc-html-content-inner-div\" role=\"presentation\">Retired Old West gunslinger William Munny reluctantly takes on one last job, with the help of his old partner Ned Logan and a young man, The \"Schofield Kid.\"</div>,\n",
              " <div class=\"ipc-html-content-inner-div\" role=\"presentation\">Two best friends set out on an adventure, but it soon turns around to a terrifying escape from being hunted by the police, as these two women escape for the crimes they committed.</div>,\n",
              " <div class=\"ipc-html-content-inner-div\" role=\"presentation\">The solitary life of an artificial man - who was incompletely constructed and has scissors for hands - is upended when he is taken in by a suburban family.</div>,\n",
              " <div class=\"ipc-html-content-inner-div\" role=\"presentation\">A prince cursed to spend his days as a hideous monster sets out to regain his humanity by earning a young woman's love.</div>,\n",
              " <div class=\"ipc-html-content-inner-div\" role=\"presentation\">After a famous author is rescued from a car crash by a fan of his novels, he comes to realize that the care he is receiving is only the beginning of a nightmare of captivity and abuse.</div>,\n",
              " <div class=\"ipc-html-content-inner-div\" role=\"presentation\">Follows the lives of three young males living in the Crenshaw ghetto of Los Angeles, dissecting questions of race, relationships, violence, and future prospects.</div>,\n",
              " <div class=\"ipc-html-content-inner-div\" role=\"presentation\">Follows Michael Corleone, now in his 60s, as he seeks to free his family from crime and find a suitable successor to his empire.</div>,\n",
              " <div class=\"ipc-html-content-inner-div\" role=\"presentation\">A kind-hearted street urchin and a power-hungry Grand Vizier vie for a magic lamp that has the power to make their deepest wishes come true.</div>,\n",
              " <div class=\"ipc-html-content-inner-div\" role=\"presentation\">In November 1984, the Soviet Union's best submarine captain violates orders and heads for the U.S. in a new undetectable sub. The American CIA and military must quickly determine: Is he trying to defect or to start a war?</div>,\n",
              " <div class=\"ipc-html-content-inner-div\" role=\"presentation\">New Orleans District Attorney Jim Garrison discovers there's more to the Kennedy assassination than the official story.</div>,\n",
              " <div class=\"ipc-html-content-inner-div\" role=\"presentation\">An examination of the machinations behind the scenes at a real estate office.</div>,\n",
              " <div class=\"ipc-html-content-inner-div\" role=\"presentation\">A young man's mother is bitten by a Sumatran rat-monkey. She gets sick and dies, at which time she comes back to life, killing and eating dogs, nurses, friends, and neighbors.</div>,\n",
              " <div class=\"ipc-html-content-inner-div\" role=\"presentation\">The victims of an encephalitis epidemic many years ago have been catatonic ever since, but now a new drug offers the prospect of reviving them.</div>]"
            ]
          },
          "execution_count": 23,
          "metadata": {},
          "output_type": "execute_result"
        }
      ],
      "source": [
        "# <div class=\"ipc-html-content-inner-div\">\n",
        "\n",
        "movies_description = soup.find_all('div', class_='ipc-html-content-inner-div')\n",
        "movies_description"
      ]
    },
    {
      "cell_type": "code",
      "execution_count": 24,
      "id": "70863826",
      "metadata": {},
      "outputs": [
        {
          "data": {
            "text/plain": [
              "['A young F.B.I. cadet must receive the help of an incarcerated and manipulative cannibal killer to help catch another serial killer, a madman who skins his victims.',\n",
              " 'The story of Henry Hill and his life in the mafia, covering his relationship with his wife Karen and his mob partners Jimmy Conway and Tommy DeVito.',\n",
              " 'A cyborg, identical to the one who failed to kill Sarah Connor, must now protect her ten year old son John from an even more advanced and powerful cyborg.',\n",
              " 'Two New Yorkers accused of murder in rural Alabama while on their way back to college call in the help of one of their cousins, a loudmouth lawyer with no trial experience.',\n",
              " 'A prep school student needing money agrees to \"babysit\" a blind man, but the job is not at all what he anticipated.',\n",
              " 'When a simple jewelry heist goes horribly wrong, the surviving criminals begin to suspect that one of them is a police informant.',\n",
              " 'Evelyn, an ordinary housewife, visits a nursing home and befriends the old lady Ninny. Together, they bond over stories from the past about two intrepid women of Whistle Stop Cafe.',\n",
              " 'Three trappers protect the daughters of a British Colonel in the midst of the French and Indian War.',\n",
              " 'Lieutenant John Dunbar, assigned to a remote western Civil War outpost, finds himself engaging with a neighbouring Sioux settlement, causing him to question his own purpose.',\n",
              " 'When a man goes in to have virtual vacation memories of the planet Mars implanted in his mind, an unexpected and harrowing series of events forces him to go to the planet for real - or is he?',\n",
              " 'Lt. Daniel Kaffee, a US military lawyer, defends two US marines charged with murdering a fellow marine at the Guantanamo Bay Naval Base in Cuba. The needle of suspicion, however, points to a colonel.',\n",
              " 'An eight-year-old troublemaker, mistakenly left home alone, must defend his home against a pair of burglars on Christmas Eve.',\n",
              " 'Retired Old West gunslinger William Munny reluctantly takes on one last job, with the help of his old partner Ned Logan and a young man, The \"Schofield Kid.\"',\n",
              " 'Two best friends set out on an adventure, but it soon turns around to a terrifying escape from being hunted by the police, as these two women escape for the crimes they committed.',\n",
              " 'The solitary life of an artificial man - who was incompletely constructed and has scissors for hands - is upended when he is taken in by a suburban family.',\n",
              " \"A prince cursed to spend his days as a hideous monster sets out to regain his humanity by earning a young woman's love.\",\n",
              " 'After a famous author is rescued from a car crash by a fan of his novels, he comes to realize that the care he is receiving is only the beginning of a nightmare of captivity and abuse.',\n",
              " 'Follows the lives of three young males living in the Crenshaw ghetto of Los Angeles, dissecting questions of race, relationships, violence, and future prospects.',\n",
              " 'Follows Michael Corleone, now in his 60s, as he seeks to free his family from crime and find a suitable successor to his empire.',\n",
              " 'A kind-hearted street urchin and a power-hungry Grand Vizier vie for a magic lamp that has the power to make their deepest wishes come true.',\n",
              " \"In November 1984, the Soviet Union's best submarine captain violates orders and heads for the U.S. in a new undetectable sub. The American CIA and military must quickly determine: Is he trying to defect or to start a war?\",\n",
              " \"New Orleans District Attorney Jim Garrison discovers there's more to the Kennedy assassination than the official story.\",\n",
              " 'An examination of the machinations behind the scenes at a real estate office.',\n",
              " \"A young man's mother is bitten by a Sumatran rat-monkey. She gets sick and dies, at which time she comes back to life, killing and eating dogs, nurses, friends, and neighbors.\",\n",
              " 'The victims of an encephalitis epidemic many years ago have been catatonic ever since, but now a new drug offers the prospect of reviving them.']"
            ]
          },
          "execution_count": 24,
          "metadata": {},
          "output_type": "execute_result"
        }
      ],
      "source": [
        "description = [span.text.strip() for span in movies_description]\n",
        "description"
      ]
    },
    {
      "cell_type": "code",
      "execution_count": 25,
      "id": "6e07134a",
      "metadata": {},
      "outputs": [
        {
          "data": {
            "text/plain": [
              "25"
            ]
          },
          "execution_count": 25,
          "metadata": {},
          "output_type": "execute_result"
        }
      ],
      "source": [
        "len(description)"
      ]
    },
    {
      "cell_type": "code",
      "execution_count": 26,
      "id": "bf51b6ae",
      "metadata": {},
      "outputs": [
        {
          "data": {
            "text/html": [
              "<div>\n",
              "<style scoped>\n",
              "    .dataframe tbody tr th:only-of-type {\n",
              "        vertical-align: middle;\n",
              "    }\n",
              "\n",
              "    .dataframe tbody tr th {\n",
              "        vertical-align: top;\n",
              "    }\n",
              "\n",
              "    .dataframe thead th {\n",
              "        text-align: right;\n",
              "    }\n",
              "</style>\n",
              "<table border=\"1\" class=\"dataframe\">\n",
              "  <thead>\n",
              "    <tr style=\"text-align: right;\">\n",
              "      <th></th>\n",
              "      <th>Movie Nr</th>\n",
              "      <th>Title</th>\n",
              "      <th>Year</th>\n",
              "      <th>Rating</th>\n",
              "      <th>Runtime</th>\n",
              "      <th>Description</th>\n",
              "      <th>Votes</th>\n",
              "    </tr>\n",
              "  </thead>\n",
              "  <tbody>\n",
              "    <tr>\n",
              "      <th>0</th>\n",
              "      <td>1</td>\n",
              "      <td>El silencio de los corderos</td>\n",
              "      <td>1991</td>\n",
              "      <td>8.6</td>\n",
              "      <td>1h 58m</td>\n",
              "      <td>A young F.B.I. cadet must receive the help of ...</td>\n",
              "      <td>1.6M</td>\n",
              "    </tr>\n",
              "    <tr>\n",
              "      <th>1</th>\n",
              "      <td>2</td>\n",
              "      <td>Uno de los nuestros</td>\n",
              "      <td>1990</td>\n",
              "      <td>8.7</td>\n",
              "      <td>2h 25m</td>\n",
              "      <td>The story of Henry Hill and his life in the ma...</td>\n",
              "      <td>1.3M</td>\n",
              "    </tr>\n",
              "    <tr>\n",
              "      <th>2</th>\n",
              "      <td>3</td>\n",
              "      <td>Terminator 2: El juicio final</td>\n",
              "      <td>1991</td>\n",
              "      <td>8.6</td>\n",
              "      <td>2h 17m</td>\n",
              "      <td>A cyborg, identical to the one who failed to k...</td>\n",
              "      <td>1.2M</td>\n",
              "    </tr>\n",
              "    <tr>\n",
              "      <th>3</th>\n",
              "      <td>4</td>\n",
              "      <td>Mi primo Vinny</td>\n",
              "      <td>1992</td>\n",
              "      <td>7.6</td>\n",
              "      <td>2h</td>\n",
              "      <td>Two New Yorkers accused of murder in rural Ala...</td>\n",
              "      <td>143K</td>\n",
              "    </tr>\n",
              "    <tr>\n",
              "      <th>4</th>\n",
              "      <td>5</td>\n",
              "      <td>Esencia de mujer</td>\n",
              "      <td>1992</td>\n",
              "      <td>8.0</td>\n",
              "      <td>2h 36m</td>\n",
              "      <td>A prep school student needing money agrees to ...</td>\n",
              "      <td>333K</td>\n",
              "    </tr>\n",
              "    <tr>\n",
              "      <th>5</th>\n",
              "      <td>6</td>\n",
              "      <td>Reservoir Dogs</td>\n",
              "      <td>1992</td>\n",
              "      <td>8.3</td>\n",
              "      <td>1h 39m</td>\n",
              "      <td>When a simple jewelry heist goes horribly wron...</td>\n",
              "      <td>1.1M</td>\n",
              "    </tr>\n",
              "    <tr>\n",
              "      <th>6</th>\n",
              "      <td>7</td>\n",
              "      <td>Tomates verdes fritos</td>\n",
              "      <td>1991</td>\n",
              "      <td>7.7</td>\n",
              "      <td>2h 10m</td>\n",
              "      <td>Evelyn, an ordinary housewife, visits a nursin...</td>\n",
              "      <td>85K</td>\n",
              "    </tr>\n",
              "    <tr>\n",
              "      <th>7</th>\n",
              "      <td>8</td>\n",
              "      <td>El último mohicano</td>\n",
              "      <td>1992</td>\n",
              "      <td>7.6</td>\n",
              "      <td>1h 52m</td>\n",
              "      <td>Three trappers protect the daughters of a Brit...</td>\n",
              "      <td>190K</td>\n",
              "    </tr>\n",
              "    <tr>\n",
              "      <th>8</th>\n",
              "      <td>9</td>\n",
              "      <td>Bailando con lobos</td>\n",
              "      <td>1990</td>\n",
              "      <td>8.0</td>\n",
              "      <td>3h 1m</td>\n",
              "      <td>Lieutenant John Dunbar, assigned to a remote w...</td>\n",
              "      <td>294K</td>\n",
              "    </tr>\n",
              "    <tr>\n",
              "      <th>9</th>\n",
              "      <td>10</td>\n",
              "      <td>Desafío total</td>\n",
              "      <td>1990</td>\n",
              "      <td>7.5</td>\n",
              "      <td>1h 53m</td>\n",
              "      <td>When a man goes in to have virtual vacation me...</td>\n",
              "      <td>357K</td>\n",
              "    </tr>\n",
              "    <tr>\n",
              "      <th>10</th>\n",
              "      <td>11</td>\n",
              "      <td>Algunos hombres buenos</td>\n",
              "      <td>1992</td>\n",
              "      <td>7.7</td>\n",
              "      <td>2h 18m</td>\n",
              "      <td>Lt. Daniel Kaffee, a US military lawyer, defen...</td>\n",
              "      <td>290K</td>\n",
              "    </tr>\n",
              "    <tr>\n",
              "      <th>11</th>\n",
              "      <td>12</td>\n",
              "      <td>Solo en casa</td>\n",
              "      <td>1990</td>\n",
              "      <td>7.7</td>\n",
              "      <td>1h 43m</td>\n",
              "      <td>An eight-year-old troublemaker, mistakenly lef...</td>\n",
              "      <td>658K</td>\n",
              "    </tr>\n",
              "    <tr>\n",
              "      <th>12</th>\n",
              "      <td>13</td>\n",
              "      <td>Sin perdón</td>\n",
              "      <td>1992</td>\n",
              "      <td>8.2</td>\n",
              "      <td>2h 10m</td>\n",
              "      <td>Retired Old West gunslinger William Munny relu...</td>\n",
              "      <td>439K</td>\n",
              "    </tr>\n",
              "    <tr>\n",
              "      <th>13</th>\n",
              "      <td>14</td>\n",
              "      <td>Thelma &amp; Louise</td>\n",
              "      <td>1991</td>\n",
              "      <td>7.6</td>\n",
              "      <td>2h 10m</td>\n",
              "      <td>Two best friends set out on an adventure, but ...</td>\n",
              "      <td>175K</td>\n",
              "    </tr>\n",
              "    <tr>\n",
              "      <th>14</th>\n",
              "      <td>15</td>\n",
              "      <td>Eduardo Manostijeras</td>\n",
              "      <td>1990</td>\n",
              "      <td>7.9</td>\n",
              "      <td>1h 45m</td>\n",
              "      <td>The solitary life of an artificial man - who w...</td>\n",
              "      <td>528K</td>\n",
              "    </tr>\n",
              "    <tr>\n",
              "      <th>15</th>\n",
              "      <td>16</td>\n",
              "      <td>La bella y la bestia</td>\n",
              "      <td>1991</td>\n",
              "      <td>8.0</td>\n",
              "      <td>1h 24m</td>\n",
              "      <td>A prince cursed to spend his days as a hideous...</td>\n",
              "      <td>482K</td>\n",
              "    </tr>\n",
              "    <tr>\n",
              "      <th>16</th>\n",
              "      <td>17</td>\n",
              "      <td>Misery</td>\n",
              "      <td>1990</td>\n",
              "      <td>7.8</td>\n",
              "      <td>1h 47m</td>\n",
              "      <td>After a famous author is rescued from a car cr...</td>\n",
              "      <td>238K</td>\n",
              "    </tr>\n",
              "    <tr>\n",
              "      <th>17</th>\n",
              "      <td>18</td>\n",
              "      <td>Los chicos del barrio</td>\n",
              "      <td>1991</td>\n",
              "      <td>7.8</td>\n",
              "      <td>1h 52m</td>\n",
              "      <td>Follows the lives of three young males living ...</td>\n",
              "      <td>156K</td>\n",
              "    </tr>\n",
              "    <tr>\n",
              "      <th>18</th>\n",
              "      <td>19</td>\n",
              "      <td>El padrino parte III</td>\n",
              "      <td>1990</td>\n",
              "      <td>7.6</td>\n",
              "      <td>2h 42m</td>\n",
              "      <td>Follows Michael Corleone, now in his 60s, as h...</td>\n",
              "      <td>427K</td>\n",
              "    </tr>\n",
              "    <tr>\n",
              "      <th>19</th>\n",
              "      <td>20</td>\n",
              "      <td>Aladdín</td>\n",
              "      <td>1992</td>\n",
              "      <td>8.0</td>\n",
              "      <td>1h 30m</td>\n",
              "      <td>A kind-hearted street urchin and a power-hungr...</td>\n",
              "      <td>472K</td>\n",
              "    </tr>\n",
              "    <tr>\n",
              "      <th>20</th>\n",
              "      <td>21</td>\n",
              "      <td>La caza del Octubre Rojo</td>\n",
              "      <td>1990</td>\n",
              "      <td>7.5</td>\n",
              "      <td>2h 15m</td>\n",
              "      <td>In November 1984, the Soviet Union's best subm...</td>\n",
              "      <td>216K</td>\n",
              "    </tr>\n",
              "    <tr>\n",
              "      <th>21</th>\n",
              "      <td>22</td>\n",
              "      <td>JFK: Caso abierto</td>\n",
              "      <td>1991</td>\n",
              "      <td>8.0</td>\n",
              "      <td>3h 9m</td>\n",
              "      <td>New Orleans District Attorney Jim Garrison dis...</td>\n",
              "      <td>171K</td>\n",
              "    </tr>\n",
              "    <tr>\n",
              "      <th>22</th>\n",
              "      <td>23</td>\n",
              "      <td>Glengarry Glen Ross: Éxito a cualquier precio</td>\n",
              "      <td>1992</td>\n",
              "      <td>7.7</td>\n",
              "      <td>1h 40m</td>\n",
              "      <td>An examination of the machinations behind the ...</td>\n",
              "      <td>117K</td>\n",
              "    </tr>\n",
              "    <tr>\n",
              "      <th>23</th>\n",
              "      <td>24</td>\n",
              "      <td>Braindead: tu madre se ha comido a mi perro</td>\n",
              "      <td>1992</td>\n",
              "      <td>7.5</td>\n",
              "      <td>1h 44m</td>\n",
              "      <td>A young man's mother is bitten by a Sumatran r...</td>\n",
              "      <td>104K</td>\n",
              "    </tr>\n",
              "    <tr>\n",
              "      <th>24</th>\n",
              "      <td>25</td>\n",
              "      <td>Despertares</td>\n",
              "      <td>1990</td>\n",
              "      <td>7.8</td>\n",
              "      <td>2h 1m</td>\n",
              "      <td>The victims of an encephalitis epidemic many y...</td>\n",
              "      <td>160K</td>\n",
              "    </tr>\n",
              "  </tbody>\n",
              "</table>\n",
              "</div>"
            ],
            "text/plain": [
              "   Movie Nr                                          Title  Year Rating  \\\n",
              "0         1                    El silencio de los corderos  1991    8.6   \n",
              "1         2                            Uno de los nuestros  1990    8.7   \n",
              "2         3                  Terminator 2: El juicio final  1991    8.6   \n",
              "3         4                                 Mi primo Vinny  1992    7.6   \n",
              "4         5                               Esencia de mujer  1992    8.0   \n",
              "5         6                                 Reservoir Dogs  1992    8.3   \n",
              "6         7                          Tomates verdes fritos  1991    7.7   \n",
              "7         8                             El último mohicano  1992    7.6   \n",
              "8         9                             Bailando con lobos  1990    8.0   \n",
              "9        10                                  Desafío total  1990    7.5   \n",
              "10       11                         Algunos hombres buenos  1992    7.7   \n",
              "11       12                                   Solo en casa  1990    7.7   \n",
              "12       13                                     Sin perdón  1992    8.2   \n",
              "13       14                                Thelma & Louise  1991    7.6   \n",
              "14       15                           Eduardo Manostijeras  1990    7.9   \n",
              "15       16                           La bella y la bestia  1991    8.0   \n",
              "16       17                                         Misery  1990    7.8   \n",
              "17       18                          Los chicos del barrio  1991    7.8   \n",
              "18       19                           El padrino parte III  1990    7.6   \n",
              "19       20                                        Aladdín  1992    8.0   \n",
              "20       21                       La caza del Octubre Rojo  1990    7.5   \n",
              "21       22                              JFK: Caso abierto  1991    8.0   \n",
              "22       23  Glengarry Glen Ross: Éxito a cualquier precio  1992    7.7   \n",
              "23       24    Braindead: tu madre se ha comido a mi perro  1992    7.5   \n",
              "24       25                                    Despertares  1990    7.8   \n",
              "\n",
              "   Runtime                                        Description Votes  \n",
              "0   1h 58m  A young F.B.I. cadet must receive the help of ...  1.6M  \n",
              "1   2h 25m  The story of Henry Hill and his life in the ma...  1.3M  \n",
              "2   2h 17m  A cyborg, identical to the one who failed to k...  1.2M  \n",
              "3       2h  Two New Yorkers accused of murder in rural Ala...  143K  \n",
              "4   2h 36m  A prep school student needing money agrees to ...  333K  \n",
              "5   1h 39m  When a simple jewelry heist goes horribly wron...  1.1M  \n",
              "6   2h 10m  Evelyn, an ordinary housewife, visits a nursin...   85K  \n",
              "7   1h 52m  Three trappers protect the daughters of a Brit...  190K  \n",
              "8    3h 1m  Lieutenant John Dunbar, assigned to a remote w...  294K  \n",
              "9   1h 53m  When a man goes in to have virtual vacation me...  357K  \n",
              "10  2h 18m  Lt. Daniel Kaffee, a US military lawyer, defen...  290K  \n",
              "11  1h 43m  An eight-year-old troublemaker, mistakenly lef...  658K  \n",
              "12  2h 10m  Retired Old West gunslinger William Munny relu...  439K  \n",
              "13  2h 10m  Two best friends set out on an adventure, but ...  175K  \n",
              "14  1h 45m  The solitary life of an artificial man - who w...  528K  \n",
              "15  1h 24m  A prince cursed to spend his days as a hideous...  482K  \n",
              "16  1h 47m  After a famous author is rescued from a car cr...  238K  \n",
              "17  1h 52m  Follows the lives of three young males living ...  156K  \n",
              "18  2h 42m  Follows Michael Corleone, now in his 60s, as h...  427K  \n",
              "19  1h 30m  A kind-hearted street urchin and a power-hungr...  472K  \n",
              "20  2h 15m  In November 1984, the Soviet Union's best subm...  216K  \n",
              "21   3h 9m  New Orleans District Attorney Jim Garrison dis...  171K  \n",
              "22  1h 40m  An examination of the machinations behind the ...  117K  \n",
              "23  1h 44m  A young man's mother is bitten by a Sumatran r...  104K  \n",
              "24   2h 1m  The victims of an encephalitis epidemic many y...  160K  "
            ]
          },
          "execution_count": 26,
          "metadata": {},
          "output_type": "execute_result"
        }
      ],
      "source": [
        "data = {\n",
        "    'Movie Nr': movie_nr,\n",
        "    'Title': title,\n",
        "    'Year': year,\n",
        "    'Rating': rating,\n",
        "    'Runtime': runtime,\n",
        "    'Description': description,\n",
        "    'Rating': rating,\n",
        "    'Votes': votes\n",
        "}\n",
        "def movie_data(data):\n",
        "    df = pd.DataFrame(data)\n",
        "    return df\n",
        "\n",
        "movie_data(data)"
      ]
    },
    {
      "cell_type": "markdown",
      "id": "73f83c93",
      "metadata": {},
      "source": [
        "# Comment\n",
        "The following columns weren't scraped due to accessibility issues (i button):\n",
        "Genre, Director, Stars, Gross."
      ]
    }
  ],
  "metadata": {
    "colab": {
      "provenance": []
    },
    "kernelspec": {
      "display_name": "Python 3 (ipykernel)",
      "language": "python",
      "name": "python3"
    },
    "language_info": {
      "codemirror_mode": {
        "name": "ipython",
        "version": 3
      },
      "file_extension": ".py",
      "mimetype": "text/x-python",
      "name": "python",
      "nbconvert_exporter": "python",
      "pygments_lexer": "ipython3",
      "version": "3.11.7"
    }
  },
  "nbformat": 4,
  "nbformat_minor": 5
}
