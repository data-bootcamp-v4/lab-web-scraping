{
  "cells": [
    {
      "cell_type": "markdown",
      "id": "7e7a1ab8-2599-417d-9a65-25ef07f3a786",
      "metadata": {
        "id": "7e7a1ab8-2599-417d-9a65-25ef07f3a786"
      },
      "source": [
        "# Lab | Web Scraping"
      ]
    },
    {
      "cell_type": "markdown",
      "id": "ce8882fc-4815-4567-92fa-b4816358ba7d",
      "metadata": {
        "id": "ce8882fc-4815-4567-92fa-b4816358ba7d"
      },
      "source": [
        "Welcome to the IMDb Web Scraping Adventure Lab!\n",
        "\n",
        "**Objective**\n",
        "\n",
        "In this lab, we will embark on a mission to unearth valuable insights from the vast sea of data available on IMDb, one of the largest online databases of movie, TV, and celebrity information. As budding data scientists and business analysts, you have been tasked to scrape a specific subset of data from IMDb to assist film production companies in understanding the landscape of highly-rated movies in a defined time period. Your insights will potentially influence the making of the next netflix movie!\n",
        "\n",
        "**Background**\n",
        "\n",
        "In a world where data has become the new currency, businesses are leveraging big data to make informed decisions that drive success and profitability. The entertainment industry, being no exception, utilizes data analytics to comprehend market trends, audience preferences, and the performance of films based on various parameters such as director, genre, stars involved, etc. IMDb stands as a goldmine of such data, offering intricate details of almost every movie ever made.\n",
        "\n",
        "**Task**\n",
        "\n",
        "Your task is to create a Python script using `BeautifulSoup` and `pandas` to scrape IMDb movie data based on user ratings and release dates. This script should be able to filter movies with ratings above a certain threshold and within a specified date range.\n",
        "\n",
        "**Expected Outcome**\n",
        "\n",
        "- A function named `scrape_imdb` that takes four parameters: `title_type`,`user_rating`, `start_date`, and `end_date`.\n",
        "- The function should return a DataFrame with the following columns:\n",
        "  - **Movie Nr**: The number representing the movie’s position in the list.\n",
        "  - **Title**: The title of the movie.\n",
        "  - **Year**: The year the movie was released.\n",
        "  - **Rating**: The IMDb rating of the movie.\n",
        "  - **Runtime (min)**: The duration of the movie in minutes.\n",
        "  - **Genre**: The genre of the movie.\n",
        "  - **Description**: A brief description of the movie.\n",
        "  - **Director**: The director of the movie.\n",
        "  - **Stars**: The main stars of the movie.\n",
        "  - **Votes**: The number of votes the movie received.\n",
        "  - **Gross ($M)**: The gross earnings of the movie in millions of USD.\n",
        "\n",
        "You will execute this script to scrape data for movies with the Title Type `Feature Film` that have a user rating of `7.5 and above` and were released between `January 1, 1990, and December 31, 1992`.\n",
        "\n",
        "Remember to experiment with different title types, dates and ratings to ensure your code is versatile and can handle various searches effectively!\n",
        "\n",
        "**Resources**\n",
        "\n",
        "- [Beautiful Soup Documentation](https://www.crummy.com/software/BeautifulSoup/bs4/doc/)\n",
        "- [Pandas Documentation](https://pandas.pydata.org/pandas-docs/stable/index.html)\n",
        "- [IMDb Advanced Search](https://www.imdb.com/search/title/)\n"
      ]
    },
    {
      "cell_type": "markdown",
      "id": "3519921d-5890-445b-9a33-934ed8ee378c",
      "metadata": {
        "id": "3519921d-5890-445b-9a33-934ed8ee378c"
      },
      "source": [
        "**Hint**\n",
        "\n",
        "Your first mission is to familiarize yourself with the IMDb advanced search page. Head over to [IMDb advanced search](https://www.imdb.com/search/title/) and input the following parameters, keeping all other fields to their default values or blank:\n",
        "\n",
        "- **Title Type**: Feature film\n",
        "- **Release date**: From 1990 to 1992 (Note: You don't need to specify the day and month)\n",
        "- **User Rating**: 7.5 to -\n",
        "\n",
        "Upon searching, you'll land on a page showcasing a list of movies, each displaying vital details such as the title, release year, and crew information. Your task is to scrape this treasure trove of data.\n",
        "\n",
        "Carefully examine the resulting URL and construct your own URL to include all the necessary parameters for filtering the movies."
      ]
    },
    {
      "cell_type": "markdown",
      "id": "25a83a0d-a742-49f6-985e-e27887cbf922",
      "metadata": {
        "id": "25a83a0d-a742-49f6-985e-e27887cbf922"
      },
      "source": [
        "\n",
        "---\n",
        "\n",
        "**Best of luck! Immerse yourself in the world of movies and may the data be with you!**"
      ]
    },
    {
      "cell_type": "markdown",
      "id": "7b75cf0d-9afa-4eec-a9e2-befeac68b2a0",
      "metadata": {
        "id": "7b75cf0d-9afa-4eec-a9e2-befeac68b2a0"
      },
      "source": [
        "**Important note**:\n",
        "\n",
        "In the fast-changing online world, websites often get updates and make changes. When you try this lab, the IMDb website might be different from what we expect.\n",
        "\n",
        "If you run into problems because of these changes, like new rules or things that stop you from getting data, don't worry! Instead, get creative.\n",
        "\n",
        "You can choose another website that interests you and is good for scraping data. Websites like Wikipedia or The New York Times are good options. The main goal is still the same: get useful data and learn how to scrape it from a website that you find interesting. It's a chance to practice your web scraping skills and explore a source of information you like."
      ]
    },
    {
      "cell_type": "code",
      "execution_count": 1,
      "id": "40359eee-9cd7-4884-bfa4-83344c222305",
      "metadata": {
        "id": "40359eee-9cd7-4884-bfa4-83344c222305"
      },
      "outputs": [],
      "source": [
        "\n",
        "import pandas as pd\n",
        "import requests\n",
        "from bs4 import BeautifulSoup\n",
        "import re\n",
        "\n",
        "# Set headers to mimic a real browser request\n",
        "headers = {\n",
        "    'User-Agent': 'Mozilla/5.0 (Windows NT 10.0; Win64; x64) AppleWebKit/537.36 (KHTML, like Gecko) Chrome/58.0.3029.110 Safari/537.3',\n",
        "    'Accept-Language': 'en-US,en;q=0.9',\n",
        "    'Accept-Encoding': 'gzip, deflate, br',\n",
        "    'Accept': 'text/html,application/xhtml+xml,application/xml;q=0.9,image/webp,image/apng,*/*;q=0.8',\n",
        "    'Connection': 'keep-alive',\n",
        "    'Upgrade-Insecure-Requests': '1',\n",
        "    'Referer': 'https://www.google.com'\n",
        "}\n",
        "\n"
      ]
    },
    {
      "cell_type": "code",
      "execution_count": 4,
      "id": "1f9685b9",
      "metadata": {},
      "outputs": [],
      "source": [
        "def convert_duration_to_minutes(duration_text):\n",
        "\n",
        "    # if the duration_text doesn't contain hours or minutes, those values will default to 0.\n",
        "    hours = 0\n",
        "    minutes = 0\n",
        "\n",
        "    # extract the hours and minutes from duration_text\n",
        "    hours_match = re.search(r'(\\d+)h', duration_text)\n",
        "    minutes_match = re.search(r'(\\d+)m', duration_text)\n",
        "\n",
        "    if hours_match:\n",
        "        hours = int(hours_match.group(1)) # the group method is to retrieve the matched digit. Output: 1\n",
        "    if minutes_match:\n",
        "        minutes = int(minutes_match.group(1)) \n",
        "\n",
        "    duration = hours * 60 + minutes\n",
        "\n",
        "    return duration"
      ]
    },
    {
      "cell_type": "code",
      "execution_count": 7,
      "id": "8eecfcb0",
      "metadata": {},
      "outputs": [],
      "source": [
        "def scrape_imdb(title_type, user_rating, start_date, end_date):\n",
        "\n",
        "    url = f'https://www.imdb.com/search/title/?title_type={title_type}&release_date={start_date},{end_date}&user_rating={user_rating},10'\n",
        "    #print(f\"URL: {url}\")  # Print URL for debugging\n",
        "    \n",
        "    response = requests.get(url, headers=headers)\n",
        "    soup = BeautifulSoup(response.content, 'html.parser')\n",
        "    \n",
        "    # Extract movie data\n",
        "    movies = soup.find_all('li', class_=\"ipc-metadata-list-summary-item\")\n",
        "    #print(f\"Number of movies found: {len(movies)}\")\n",
        "    \n",
        "    if not movies:\n",
        "        print(\"No movies found. Please check the URL or selectors.\")\n",
        "        return pd.DataFrame(columns=[\"Movie Nr\", \"Title\", \"Year\", \"Rating\", \"Runtime (min)\", \"Genre\", \"Description\", \"Director\", \"Stars\", \"Votes\"])\n",
        "\n",
        "    # Prepare lists to store the data\n",
        "    movie_data = {\n",
        "        \"Movie Nr\": [],\n",
        "        \"Title\": [],\n",
        "        \"Year\": [],\n",
        "        \"Rating\": [],\n",
        "        \"Duration (min)\": [],\n",
        "        # \"Genre\": [],\n",
        "        \"Description\": [],\n",
        "        # \"Director\": [],\n",
        "        # \"Stars\": [],\n",
        "        \"Votes\": []\n",
        "    }\n",
        "    \n",
        "    for idx, movie in enumerate(movies):\n",
        "              # Movie Number\n",
        "        movie_data[\"Movie Nr\"].append(idx + 1)\n",
        "        \n",
        "        # Title\n",
        "        title = movie.h3.text \n",
        "        movie_data[\"Title\"].append(title)\n",
        "        \n",
        "        # Year\n",
        "        year = movie.find('span', class_=\"sc-b189961a-8 kLaxqf dli-title-metadata-item\").text\n",
        "        year = int(re.search(r'\\d{4}', year).group())\n",
        "        movie_data[\"Year\"].append(year)\n",
        "        \n",
        "        # Rating\n",
        "        rating = movie.find('span', class_='ipc-rating-star ipc-rating-star--base ipc-rating-star--imdb ratingGroup--imdb-rating').text.split('\\xa0')[0]\n",
        "        movie_data[\"Rating\"].append(float(rating))\n",
        "        \n",
        "        # Duration\n",
        "        runtime = movie.find_all('span', class_=\"sc-b189961a-8 kLaxqf dli-title-metadata-item\")[1].text\n",
        "        duration = convert_duration_to_minutes(runtime)\n",
        "        movie_data[\"Duration (min)\"].append(duration)\n",
        "        \n",
        "        # Genre\n",
        "        # genre = movie.find('span', class_='genre').text.strip()\n",
        "        # movie_data[\"Genre\"].append(genre)\n",
        "        \n",
        "        # Description\n",
        "        description = movie.find('div', class_=\"ipc-html-content-inner-div\").text.strip()\n",
        "        movie_data[\"Description\"].append(description)\n",
        "\n",
        "        # # Director and Stars\n",
        "        # people = movie.find('p', class_='').text.strip().split('|')\n",
        "        # director = people[0].replace('Director:', '').replace('Directors:', '').strip()\n",
        "        # stars = people[1].replace('Stars:', '').strip() if len(people) > 1 else ''\n",
        "        # movie_data[\"Director\"].append(director)\n",
        "        # movie_data[\"Stars\"].append(stars)\n",
        "        \n",
        "        # Votes\n",
        "        votes = movie.find('span', class_=\"sc-b0901df4-0 bcQdDJ metacritic-score-box\").text\n",
        "        movie_data[\"Votes\"].append(int(votes))\n",
        "    \n",
        "    # Create a DataFrame from the movie data\n",
        "    df = pd.DataFrame(movie_data)\n",
        "    \n",
        "    return df\n"
      ]
    },
    {
      "cell_type": "code",
      "execution_count": 8,
      "id": "61e370c4",
      "metadata": {},
      "outputs": [
        {
          "name": "stdout",
          "output_type": "stream",
          "text": [
            "    Movie Nr                          Title  Year  Rating  Duration (min)  \\\n",
            "0          1    1. The Silence of the Lambs  1991     8.6             118   \n",
            "1          2                  2. Goodfellas  1990     8.7             145   \n",
            "2          3          3. Dances with Wolves  1990     8.0             181   \n",
            "3          4  4. Terminator 2: Judgment Day  1991     8.6             137   \n",
            "4          5              5. A Few Good Men  1992     7.7             138   \n",
            "5          6            6. Scent of a Woman  1992     8.0             156   \n",
            "6          7                7. Total Recall  1990     7.5             113   \n",
            "7          8              8. Reservoir Dogs  1992     8.3              99   \n",
            "8          9                  9. Home Alone  1990     7.7             103   \n",
            "9         10            10. My Cousin Vinny  1992     7.6             120   \n",
            "10        11                     11. Misery  1990     7.8             107   \n",
            "11        12                 12. Unforgiven  1992     8.2             130   \n",
            "12        13       13. Beauty and the Beast  1991     8.0              84   \n",
            "13        14   14. The Last of the Mohicans  1992     7.6             112   \n",
            "14        15        15. Edward Scissorhands  1990     7.9             105   \n",
            "15        16       16. Fried Green Tomatoes  1991     7.7             130   \n",
            "16        17     17. The Godfather Part III  1990     7.6             162   \n",
            "17        18            18. Thelma & Louise  1991     7.6             130   \n",
            "18        19                    19. Aladdin  1992     8.0              90   \n",
            "19        20   20. The Hunt for Red October  1990     7.5             135   \n",
            "20        21            21. Boyz n the Hood  1991     7.8             112   \n",
            "21        22                        22. JFK  1991     8.0             189   \n",
            "22        23                 23. Awakenings  1990     7.8             121   \n",
            "23        24        24. Glengarry Glen Ross  1992     7.7             100   \n",
            "24        25                 25. Dead Alive  1992     7.5             104   \n",
            "\n",
            "                                          Description  Votes  \n",
            "0   A young F.B.I. cadet must receive the help of ...     86  \n",
            "1   The story of Henry Hill and his life in the ma...     92  \n",
            "2   Lieutenant John Dunbar, assigned to a remote w...     72  \n",
            "3   A cyborg, identical to the one who failed to k...     75  \n",
            "4   Lt. Daniel Kaffee, a US military lawyer, defen...     62  \n",
            "5   A prep school student needing money agrees to ...     57  \n",
            "6   When a man goes in to have virtual vacation me...     60  \n",
            "7   When a simple jewelry heist goes horribly wron...     81  \n",
            "8   An eight-year-old troublemaker, mistakenly lef...     63  \n",
            "9   Two New Yorkers accused of murder in rural Ala...     68  \n",
            "10  After a famous author is rescued from a car cr...     75  \n",
            "11  Retired Old West gunslinger William Munny relu...     85  \n",
            "12  A prince cursed to spend his days as a hideous...     95  \n",
            "13  Three trappers protect the daughters of a Brit...     76  \n",
            "14  The solitary life of an artificial man - who w...     74  \n",
            "15  Evelyn, an ordinary housewife, visits a nursin...     64  \n",
            "16  Follows Michael Corleone, now in his 60s, as h...     60  \n",
            "17  Two best friends set out on an adventure, but ...     89  \n",
            "18  A kind-hearted street urchin and a power-hungr...     86  \n",
            "19  In November 1984, the Soviet Union's best subm...     58  \n",
            "20  Follows the lives of three young males living ...     76  \n",
            "21  New Orleans District Attorney Jim Garrison dis...     72  \n",
            "22  The victims of an encephalitis epidemic many y...     74  \n",
            "23  An examination of the machinations behind the ...     84  \n",
            "24  A young man's mother is bitten by a Sumatran r...     54  \n"
          ]
        }
      ],
      "source": [
        "title_type = 'feature'\n",
        "start_date = '1990-01-01'\n",
        "end_date = '1992-12-31'\n",
        "user_rating = '7.5'\n",
        "\n",
        "df = scrape_imdb(title_type, user_rating, start_date, end_date)\n",
        "print(df)"
      ]
    },
    {
      "cell_type": "markdown",
      "id": "9ab1217a-df9d-4a2b-a32c-2c5f1eecd52a",
      "metadata": {
        "id": "9ab1217a-df9d-4a2b-a32c-2c5f1eecd52a"
      },
      "source": [
        "## BONUS\n",
        "\n",
        "The search results span multiple pages, housing a total of 631 movies in our example with each page displaying 50 movies at most. To scrape data seamlessly from all pages, you'll need to dive deep into the structure of the URLs generated with each \"Next\" click.\n",
        "\n",
        "Take a close look at the following URLs:\n",
        "- First page:\n",
        "  ```\n",
        "  https://www.imdb.com/search/title/?title_type=feature&release_date=1990-01-01,1992-12-31&user_rating=7.5,\n",
        "  ```\n",
        "- Second page:\n",
        "  ```\n",
        "  https://www.imdb.com/search/title/?title_type=feature&release_date=1990-01-01,1992-12-31&user_rating=7.5,&start=51&ref_=adv_nxt\n",
        "  ```\n",
        "- Third page:\n",
        "  ```\n",
        "  https://www.imdb.com/search/title/?title_type=feature&release_date=1990-01-01,1992-12-31&user_rating=7.5,&start=101&ref_=adv_nxt\n",
        "  ```\n",
        "\n",
        "You should notice a pattern. There is a `start` parameter incrementing by 50 with each page, paired with a constant `ref_` parameter holding the value \"adv_nxt\".\n",
        "\n",
        "Modify your script so it's capable of iterating over all available pages to fetch data on all the 631 movies (631 is the total number of movies in the proposed example)."
      ]
    },
    {
      "cell_type": "code",
      "execution_count": null,
      "id": "21ac4fc0-a12b-4a00-9266-2020166f0dea",
      "metadata": {
        "id": "21ac4fc0-a12b-4a00-9266-2020166f0dea"
      },
      "outputs": [],
      "source": [
        "# Your solution goes here"
      ]
    }
  ],
  "metadata": {
    "colab": {
      "provenance": []
    },
    "kernelspec": {
      "display_name": "Python 3 (ipykernel)",
      "language": "python",
      "name": "python3"
    },
    "language_info": {
      "codemirror_mode": {
        "name": "ipython",
        "version": 3
      },
      "file_extension": ".py",
      "mimetype": "text/x-python",
      "name": "python",
      "nbconvert_exporter": "python",
      "pygments_lexer": "ipython3",
      "version": "3.12.4"
    }
  },
  "nbformat": 4,
  "nbformat_minor": 5
}
