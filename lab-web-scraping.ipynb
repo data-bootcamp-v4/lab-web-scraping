{
  "cells": [
    {
      "cell_type": "markdown",
      "id": "7e7a1ab8-2599-417d-9a65-25ef07f3a786",
      "metadata": {
        "id": "7e7a1ab8-2599-417d-9a65-25ef07f3a786"
      },
      "source": [
        "# Lab | Web Scraping"
      ]
    },
    {
      "cell_type": "markdown",
      "id": "ce8882fc-4815-4567-92fa-b4816358ba7d",
      "metadata": {
        "id": "ce8882fc-4815-4567-92fa-b4816358ba7d"
      },
      "source": [
        "Welcome to the IMDb Web Scraping Adventure Lab!\n",
        "\n",
        "**Objective**\n",
        "\n",
        "In this lab, we will embark on a mission to unearth valuable insights from the vast sea of data available on IMDb, one of the largest online databases of movie, TV, and celebrity information. As budding data scientists and business analysts, you have been tasked to scrape a specific subset of data from IMDb to assist film production companies in understanding the landscape of highly-rated movies in a defined time period. Your insights will potentially influence the making of the next netflix movie!\n",
        "\n",
        "**Background**\n",
        "\n",
        "In a world where data has become the new currency, businesses are leveraging big data to make informed decisions that drive success and profitability. The entertainment industry, being no exception, utilizes data analytics to comprehend market trends, audience preferences, and the performance of films based on various parameters such as director, genre, stars involved, etc. IMDb stands as a goldmine of such data, offering intricate details of almost every movie ever made.\n",
        "\n",
        "**Task**\n",
        "\n",
        "Your task is to create a Python script using `BeautifulSoup` and `pandas` to scrape IMDb movie data based on user ratings and release dates. This script should be able to filter movies with ratings above a certain threshold and within a specified date range.\n",
        "\n",
        "**Expected Outcome**\n",
        "\n",
        "- A function named `scrape_imdb` that takes four parameters: `title_type`,`user_rating`, `start_date`, and `end_date`.\n",
        "- The function should return a DataFrame with the following columns:\n",
        "  - **Movie Nr**: The number representing the movie’s position in the list.\n",
        "  - **Title**: The title of the movie.\n",
        "  - **Year**: The year the movie was released.\n",
        "  - **Rating**: The IMDb rating of the movie.\n",
        "  - **Runtime (min)**: The duration of the movie in minutes.\n",
        "  - **Genre**: The genre of the movie.\n",
        "  - **Description**: A brief description of the movie.\n",
        "  - **Director**: The director of the movie.\n",
        "  - **Stars**: The main stars of the movie.\n",
        "  - **Votes**: The number of votes the movie received.\n",
        "  - **Gross ($M)**: The gross earnings of the movie in millions of USD.\n",
        "\n",
        "You will execute this script to scrape data for movies with the Title Type `Feature Film` that have a user rating of `7.5 and above` and were released between `January 1, 1990, and December 31, 1992`.\n",
        "\n",
        "Remember to experiment with different title types, dates and ratings to ensure your code is versatile and can handle various searches effectively!\n",
        "\n",
        "**Resources**\n",
        "\n",
        "- [Beautiful Soup Documentation](https://www.crummy.com/software/BeautifulSoup/bs4/doc/)\n",
        "- [Pandas Documentation](https://pandas.pydata.org/pandas-docs/stable/index.html)\n",
        "- [IMDb Advanced Search](https://www.imdb.com/search/title/)\n"
      ]
    },
    {
      "cell_type": "markdown",
      "id": "3519921d-5890-445b-9a33-934ed8ee378c",
      "metadata": {
        "id": "3519921d-5890-445b-9a33-934ed8ee378c"
      },
      "source": [
        "**Hint**\n",
        "\n",
        "Your first mission is to familiarize yourself with the IMDb advanced search page. Head over to [IMDb advanced search](https://www.imdb.com/search/title/) and input the following parameters, keeping all other fields to their default values or blank:\n",
        "\n",
        "- **Title Type**: Feature film\n",
        "- **Release date**: From 1990 to 1992 (Note: You don't need to specify the day and month)\n",
        "- **User Rating**: 7.5 to -\n",
        "\n",
        "Upon searching, you'll land on a page showcasing a list of movies, each displaying vital details such as the title, release year, and crew information. Your task is to scrape this treasure trove of data.\n",
        "\n",
        "Carefully examine the resulting URL and construct your own URL to include all the necessary parameters for filtering the movies."
      ]
    },
    {
      "cell_type": "markdown",
      "id": "25a83a0d-a742-49f6-985e-e27887cbf922",
      "metadata": {
        "id": "25a83a0d-a742-49f6-985e-e27887cbf922"
      },
      "source": [
        "\n",
        "---\n",
        "\n",
        "**Best of luck! Immerse yourself in the world of movies and may the data be with you!**"
      ]
    },
    {
      "cell_type": "markdown",
      "id": "7b75cf0d-9afa-4eec-a9e2-befeac68b2a0",
      "metadata": {
        "id": "7b75cf0d-9afa-4eec-a9e2-befeac68b2a0"
      },
      "source": [
        "**Important note**:\n",
        "\n",
        "In the fast-changing online world, websites often get updates and make changes. When you try this lab, the IMDb website might be different from what we expect.\n",
        "\n",
        "If you run into problems because of these changes, like new rules or things that stop you from getting data, don't worry! Instead, get creative.\n",
        "\n",
        "You can choose another website that interests you and is good for scraping data. Websites like Wikipedia or The New York Times are good options. The main goal is still the same: get useful data and learn how to scrape it from a website that you find interesting. It's a chance to practice your web scraping skills and explore a source of information you like."
      ]
    },
    {
      "cell_type": "code",
      "execution_count": 48,
      "id": "40359eee-9cd7-4884-bfa4-83344c222305",
      "metadata": {
        "id": "40359eee-9cd7-4884-bfa4-83344c222305"
      },
      "outputs": [
        {
          "name": "stdout",
          "output_type": "stream",
          "text": [
            "     Title  Year      Rating Run_time  Genre\n",
            "0     1991  1991  8.6 (1.6M)   1h 58m      R\n",
            "1   1h 58m  1990  8.7 (1.3M)   2h 25m      R\n",
            "2        R  1991  8.6 (1.2M)   2h 17m      R\n",
            "3     1990  1990  8.0 (293K)    3h 1m  PG-13\n",
            "4   2h 25m  1990  7.9 (527K)   1h 45m  PG-13\n",
            "5        R  1992  8.3 (1.1M)   1h 39m      R\n",
            "6     1991  1992  8.2 (439K)   2h 10m      R\n",
            "7   2h 17m  1990  7.5 (357K)   1h 53m      R\n",
            "8        R  1990  7.7 (657K)   1h 43m     PG\n",
            "9     1990  1992  7.6 (142K)       2h      R\n",
            "10   3h 1m  1992  8.0 (332K)   2h 36m      R\n",
            "11   PG-13  1992  7.7 (290K)   2h 18m      R\n",
            "12    1990  1990  7.8 (238K)   1h 47m      R\n",
            "13  1h 45m  1990  7.6 (427K)   2h 42m      R\n",
            "14   PG-13  1992  7.6 (189K)   1h 52m      R\n",
            "15    1992  1992  8.0 (471K)   1h 30m      G\n",
            "16  1h 39m  1991  8.0 (171K)    3h 9m      R\n",
            "17       R  1991  8.0 (482K)   1h 24m      G\n",
            "18    1992  1991   7.7 (84K)   2h 10m  PG-13\n",
            "19  2h 10m  1991  7.8 (156K)   1h 52m      R\n",
            "20       R  1990  7.5 (216K)   2h 15m     PG\n",
            "21    1990  1991  7.6 (175K)   2h 10m      R\n",
            "22  1h 53m  1992  7.7 (117K)   1h 40m      R\n",
            "23       R  1992  7.5 (104K)   1h 44m      R\n",
            "24    1990  1992   7.5 (66K)    2h 4m      R\n"
          ]
        }
      ],
      "source": [
        "import requests\n",
        "import pandas as pd\n",
        "from bs4 import BeautifulSoup\n",
        "\n",
        "def scrape_imdb(url):\n",
        "    # Set headers to mimic a real browser request\n",
        "    headers = {\n",
        "        'User-Agent': 'Mozilla/5.0 (Windows NT 10.0; Win64; x64) AppleWebKit/537.36 (KHTML, like Gecko) Chrome/58.0.3029.110 Safari/537.3',\n",
        "        'Accept-Language': 'en-US,en;q=0.9',\n",
        "        'Accept-Encoding': 'gzip, deflate, br',\n",
        "        'Accept': 'text/html,application/xhtml+xml,application/xml;q=0.9,image/webp,image/apng,*/*;q=0.8',\n",
        "        'Connection': 'keep-alive',\n",
        "        'Upgrade-Insecure-Requests': '1',\n",
        "        'Referer': 'https://www.google.com'\n",
        "    }\n",
        "\n",
        "\n",
        "    response = requests.get(url, headers=headers)\n",
        "\n",
        "    if response.status_code == 200:\n",
        "        soup = BeautifulSoup(response.content, 'html.parser')\n",
        "        # print(soup)\n",
        "        # Continue with your scraping logic here\n",
        "    else:\n",
        "        print(f'Failed to retrieve the page. Status code: {response.status_code}')\n",
        "\n",
        "    # Create a pandas DataFrame to store the scraped data\n",
        "    df = pd.DataFrame(columns=[\"Movie_Nr\", \"Title\", \"Year\", \"Rating\", \"Run_time\", \"Genre\", \"Votes\", \"Gross\", \"Star\", \"Director\", \"Description\"])\n",
        "\n",
        "    ############### Title ################\n",
        "    movies = soup.find_all(class_='sc-b189961a-8 kLaxqf dli-title-metadata-item')\n",
        "    # movies[1].text\n",
        "    Title = [movie.text for movie in movies]\n",
        "\n",
        "    ############### Year ################\n",
        "    years = soup.find_all(class_='sc-b189961a-8 kLaxqf dli-title-metadata-item')\n",
        "    Year = [year.text for year in years]\n",
        "    Year = [Year[i] for i in range(len(Year)) if i % 3 == 0]\n",
        "\n",
        "    ############### Rating ################\n",
        "    rates = soup.find_all(class_='ipc-rating-star ipc-rating-star--base ipc-rating-star--imdb ratingGroup--imdb-rating')\n",
        "    Rate = [rate.text for rate in rates]\n",
        "\n",
        "    ############### Run_time ################\n",
        "    runs_time = soup.find_all(class_='sc-b189961a-8 kLaxqf dli-title-metadata-item')\n",
        "    Run_time = [run_time.text for run_time in runs_time]\n",
        "    Run_time = [Run_time[i] for i in range(len(Run_time)) if i % 3 == 1]\n",
        "\n",
        "    ############### Genre ################\n",
        "    genres = soup.find_all(class_='sc-b189961a-8 kLaxqf dli-title-metadata-item')\n",
        "    Genre = [genre.text for genre in genres]\n",
        "    Genre = [Genre[i] for i in range(len(Genre)) if i % 3 == 2]\n",
        "\n",
        "    df = pd.DataFrame(list(zip(Title, Year, Rate, Run_time, Genre)), columns =['Title', 'Year', 'Rating', 'Run_time', 'Genre'])\n",
        "\n",
        "    return df\n",
        "\n",
        "\n",
        "\n",
        "url = 'https://www.imdb.com/search/title/?title_type=feature&release_date=1990-01-01,1992-12-31&user_rating=7.5,'\n",
        "df = scrape_imdb(url)\n",
        "print(df)"
      ]
    },
    {
      "cell_type": "markdown",
      "id": "9ab1217a-df9d-4a2b-a32c-2c5f1eecd52a",
      "metadata": {
        "id": "9ab1217a-df9d-4a2b-a32c-2c5f1eecd52a"
      },
      "source": [
        "## BONUS\n",
        "\n",
        "The search results span multiple pages, housing a total of 631 movies in our example with each page displaying 50 movies at most. To scrape data seamlessly from all pages, you'll need to dive deep into the structure of the URLs generated with each \"Next\" click.\n",
        "\n",
        "Take a close look at the following URLs:\n",
        "- First page:\n",
        "  ```\n",
        "  https://www.imdb.com/search/title/?title_type=feature&release_date=1990-01-01,1992-12-31&user_rating=7.5,\n",
        "  ```\n",
        "- Second page:\n",
        "  ```\n",
        "  https://www.imdb.com/search/title/?title_type=feature&release_date=1990-01-01,1992-12-31&user_rating=7.5,&start=51&ref_=adv_nxt\n",
        "  ```\n",
        "- Third page:\n",
        "  ```\n",
        "  https://www.imdb.com/search/title/?title_type=feature&release_date=1990-01-01,1992-12-31&user_rating=7.5,&start=101&ref_=adv_nxt\n",
        "  ```\n",
        "\n",
        "You should notice a pattern. There is a `start` parameter incrementing by 50 with each page, paired with a constant `ref_` parameter holding the value \"adv_nxt\".\n",
        "\n",
        "Modify your script so it's capable of iterating over all available pages to fetch data on all the 631 movies (631 is the total number of movies in the proposed example)."
      ]
    },
    {
      "cell_type": "code",
      "execution_count": null,
      "id": "21ac4fc0-a12b-4a00-9266-2020166f0dea",
      "metadata": {
        "id": "21ac4fc0-a12b-4a00-9266-2020166f0dea"
      },
      "outputs": [],
      "source": [
        "# Your solution goes here"
      ]
    }
  ],
  "metadata": {
    "colab": {
      "provenance": []
    },
    "kernelspec": {
      "display_name": "Python 3 (ipykernel)",
      "language": "python",
      "name": "python3"
    },
    "language_info": {
      "codemirror_mode": {
        "name": "ipython",
        "version": 3
      },
      "file_extension": ".py",
      "mimetype": "text/x-python",
      "name": "python",
      "nbconvert_exporter": "python",
      "pygments_lexer": "ipython3",
      "version": "3.9.6"
    }
  },
  "nbformat": 4,
  "nbformat_minor": 5
}
