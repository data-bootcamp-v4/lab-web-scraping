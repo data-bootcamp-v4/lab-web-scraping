{
  "cells": [
    {
      "cell_type": "markdown",
      "id": "7e7a1ab8-2599-417d-9a65-25ef07f3a786",
      "metadata": {
        "id": "7e7a1ab8-2599-417d-9a65-25ef07f3a786"
      },
      "source": [
        "# Lab | Web Scraping"
      ]
    },
    {
      "cell_type": "markdown",
      "id": "ce8882fc-4815-4567-92fa-b4816358ba7d",
      "metadata": {
        "id": "ce8882fc-4815-4567-92fa-b4816358ba7d"
      },
      "source": [
        "Welcome to the \"Books to Scrape\" Web Scraping Adventure Lab!\n",
        "\n",
        "**Objective**\n",
        "\n",
        "In this lab, we will embark on a mission to unearth valuable insights from the data available on Books to Scrape, an online platform showcasing a wide variety of books. As data analyst, you have been tasked with scraping a specific subset of book data from Books to Scrape to assist publishing companies in understanding the landscape of highly-rated books across different genres. Your insights will help shape future book marketing strategies and publishing decisions.\n",
        "\n",
        "**Background**\n",
        "\n",
        "In a world where data has become the new currency, businesses are leveraging big data to make informed decisions that drive success and profitability. The publishing industry, much like others, utilizes data analytics to understand market trends, reader preferences, and the performance of books based on factors such as genre, author, and ratings. Books to Scrape serves as a rich source of such data, offering detailed information about a diverse range of books, making it an ideal platform for extracting insights to aid in informed decision-making within the literary world.\n",
        "\n",
        "**Task**\n",
        "\n",
        "Your task is to create a Python script using BeautifulSoup and pandas to scrape Books to Scrape book data, focusing on book ratings and genres. The script should be able to filter books with ratings above a certain threshold and in specific genres. Additionally, the script should structure the scraped data in a tabular format using pandas for further analysis.\n",
        "\n",
        "**Expected Outcome**\n",
        "\n",
        "A function named `scrape_books` that takes two parameters: `min_rating` and `max_price`. The function should scrape book data from the \"Books to Scrape\" website and return a `pandas` DataFrame with the following columns:\n",
        "\n",
        "**Expected Outcome**\n",
        "\n",
        "- A function named `scrape_books` that takes two parameters: `min_rating` and `max_price`.\n",
        "- The function should return a DataFrame with the following columns:\n",
        "  - **UPC**: The Universal Product Code (UPC) of the book.\n",
        "  - **Title**: The title of the book.\n",
        "  - **Price (£)**: The price of the book in pounds.\n",
        "  - **Rating**: The rating of the book (1-5 stars).\n",
        "  - **Genre**: The genre of the book.\n",
        "  - **Availability**: Whether the book is in stock or not.\n",
        "  - **Description**: A brief description or product description of the book (if available).\n",
        "  \n",
        "You will execute this script to scrape data for books with a minimum rating of `4.0 and above` and a maximum price of `£20`. \n",
        "\n",
        "Remember to experiment with different ratings and prices to ensure your code is versatile and can handle various searches effectively!\n",
        "\n",
        "**Resources**\n",
        "\n",
        "- [Beautiful Soup Documentation](https://www.crummy.com/software/BeautifulSoup/bs4/doc/)\n",
        "- [Pandas Documentation](https://pandas.pydata.org/pandas-docs/stable/index.html)\n",
        "- [Books to Scrape](https://books.toscrape.com/)\n"
      ]
    },
    {
      "cell_type": "markdown",
      "id": "3519921d-5890-445b-9a33-934ed8ee378c",
      "metadata": {
        "id": "3519921d-5890-445b-9a33-934ed8ee378c"
      },
      "source": [
        "**Hint**\n",
        "\n",
        "Your first mission is to familiarize yourself with the **Books to Scrape** website. Navigate to [Books to Scrape](http://books.toscrape.com/) and explore the available books to understand their layout and structure. \n",
        "\n",
        "Next, think about how you can set parameters for your data extraction:\n",
        "\n",
        "- **Minimum Rating**: Focus on books with a rating of 4.0 and above.\n",
        "- **Maximum Price**: Filter for books priced up to £20.\n",
        "\n",
        "After reviewing the site, you can construct a plan for scraping relevant data. Pay attention to the details displayed for each book, including the title, price, rating, and availability. This will help you identify the correct HTML elements to target with your scraping script.\n",
        "\n",
        "Make sure to build your scraping URL and logic based on the patterns you observe in the HTML structure of the book listings!"
      ]
    },
    {
      "cell_type": "markdown",
      "id": "25a83a0d-a742-49f6-985e-e27887cbf922",
      "metadata": {
        "id": "25a83a0d-a742-49f6-985e-e27887cbf922"
      },
      "source": [
        "\n",
        "---\n",
        "\n",
        "**Best of luck! Immerse yourself in the world of books, and may the data be with you!**"
      ]
    },
    {
      "cell_type": "markdown",
      "id": "7b75cf0d-9afa-4eec-a9e2-befeac68b2a0",
      "metadata": {
        "id": "7b75cf0d-9afa-4eec-a9e2-befeac68b2a0"
      },
      "source": [
        "**Important Note**:\n",
        "\n",
        "In the fast-changing online world, websites often update and change their structures. When you try this lab, the **Books to Scrape** website might differ from what you expect.\n",
        "\n",
        "If you encounter issues due to these changes, like new rules or obstacles preventing data extraction, don’t worry! Get creative.\n",
        "\n",
        "You can choose another website that interests you and is suitable for scraping data. Options like Wikipedia, The New York Times, or even library databases are great alternatives. The main goal remains the same: extract useful data and enhance your web scraping skills while exploring a source of information you enjoy. This is your opportunity to practice and adapt to different web environments!"
      ]
    },
    {
      "cell_type": "code",
      "execution_count": 27,
      "id": "40359eee-9cd7-4884-bfa4-83344c222305",
      "metadata": {
        "id": "40359eee-9cd7-4884-bfa4-83344c222305"
      },
      "outputs": [
        {
          "name": "stdout",
          "output_type": "stream",
          "text": [
            "Scraping https://books.toscrape.com/catalogue/page-1.html\n",
            "https://books.toscrape.com/catalogue/a-light-in-the-attic_1000/index.html\n",
            "{'UPC': 'a897fe39b1053632', 'Product Type': 'Books', 'Price (excl. tax)': '£51.77', 'Price (incl. tax)': '£51.77', 'Tax': '£0.00', 'Availability': 'In stock (22 available)', 'Number of reviews': '0'}\n",
            "It's hard to imagine a world without A Light in the Attic. This now-classic collection of poetry and drawings from Shel Silverstein celebrates its 20th anniversary with this special edition. Silverstein's humorous and creative verse can amuse the dowdiest of readers. Lemon-faced adults and fidgety kids sit still and read these rhythmic words and laugh and smile and love th It's hard to imagine a world without A Light in the Attic. This now-classic collection of poetry and drawings from Shel Silverstein celebrates its 20th anniversary with this special edition. Silverstein's humorous and creative verse can amuse the dowdiest of readers. Lemon-faced adults and fidgety kids sit still and read these rhythmic words and laugh and smile and love that Silverstein. Need proof of his genius? RockabyeRockabye baby, in the treetopDon't you know a treetopIs no safe place to rock?And who put you up there,And your cradle, too?Baby, I think someone down here'sGot it in for you. Shel, you never sounded so good. ...more\n",
            "Poetry\n",
            "{'UPC': 'a897fe39b1053632', 'Product Type': 'Books', 'Price (excl. tax)': '£51.77', 'Price (incl. tax)': '£51.77', 'Tax': '£0.00', 'Availability': 'In stock (22 available)', 'Number of reviews': '0', 'description': \"It's hard to imagine a world without A Light in the Attic. This now-classic collection of poetry and drawings from Shel Silverstein celebrates its 20th anniversary with this special edition. Silverstein's humorous and creative verse can amuse the dowdiest of readers. Lemon-faced adults and fidgety kids sit still and read these rhythmic words and laugh and smile and love th It's hard to imagine a world without A Light in the Attic. This now-classic collection of poetry and drawings from Shel Silverstein celebrates its 20th anniversary with this special edition. Silverstein's humorous and creative verse can amuse the dowdiest of readers. Lemon-faced adults and fidgety kids sit still and read these rhythmic words and laugh and smile and love that Silverstein. Need proof of his genius? RockabyeRockabye baby, in the treetopDon't you know a treetopIs no safe place to rock?And who put you up there,And your cradle, too?Baby, I think someone down here'sGot it in for you. Shel, you never sounded so good. ...more\", 'genre': 'Poetry', 'title': 'A Light in the Attic'}\n"
          ]
        },
        {
          "data": {
            "text/plain": [
              "[]"
            ]
          },
          "execution_count": 27,
          "metadata": {},
          "output_type": "execute_result"
        }
      ],
      "source": [
        "import requests\n",
        "from bs4 import BeautifulSoup as bs\n",
        "import pandas as pd\n",
        "\n",
        "base_url = 'https://books.toscrape.com/catalogue/'\n",
        "url = 'https://books.toscrape.com/catalogue/a-light-in-the-attic_1000/index.html'\n",
        "\n",
        "\n",
        "def get_soup(url):\n",
        "    data = requests.get(url)\n",
        "    soup = bs(data.content, 'html.parser')\n",
        "    return soup\n",
        "\n",
        "\n",
        "def scrape_books(min_rating=4, max_price=20):\n",
        "    all_books = []\n",
        "\n",
        "    for i in range(1, 51):\n",
        "        url = f'https://books.toscrape.com/catalogue/page-{i}.html'\n",
        "        print(f'Scraping {url}')\n",
        "        try:\n",
        "            all_books.append(scrape_page(\n",
        "                url, rating=min_rating, price=max_price))\n",
        "        except:\n",
        "            break\n",
        "        i += 1\n",
        "    return all_books\n",
        "\n",
        "\n",
        "def filter_book(book_data: dict, rating, price):\n",
        "    if book_data['rating'] >= rating and book_data['price'] <= price:\n",
        "        return True\n",
        "    return False\n",
        "\n",
        "\n",
        "def scrape_page(url, **kwargs):\n",
        "    soup = get_soup(url)\n",
        "    books = soup.find_all('article', class_='product_pod')\n",
        "\n",
        "    all_books = []\n",
        "\n",
        "    for book in books:\n",
        "        book_title = book.h3.a['title']\n",
        "        book_url = base_url + book.h3.a['href']\n",
        "        print(book_url)\n",
        "        book_data = get_book_data(book_url)\n",
        "        book_data['title'] = book_title\n",
        "        print(book_data)\n",
        "        if filter_book(book_data, **kwargs):\n",
        "            all_books.append(book_data)\n",
        "        else:\n",
        "            print(f'Book {book_title} was filtered out')\n",
        "\n",
        "    return all_books\n",
        "\n",
        "\n",
        "def get_book_data(url):\n",
        "    soup = get_soup(url)\n",
        "\n",
        "    product_info = get_product_info(soup)\n",
        "    book_description = get_book_description(soup)\n",
        "    book_genre = get_book_genre(soup)\n",
        "    book_data = {**product_info, **book_description, **book_genre}\n",
        "    return book_data\n",
        "\n",
        "\n",
        "def parse_table(table):\n",
        "    rows = table.find_all('tr')\n",
        "    book_data = {}\n",
        "    for row in rows:\n",
        "        key = row.th.text\n",
        "        value = row.td.text\n",
        "        book_data[key] = value\n",
        "    return book_data\n",
        "\n",
        "\n",
        "def get_product_info(soup):\n",
        "    book_infos = soup.find('table', class_='table-striped')\n",
        "    infos = parse_table(book_infos)\n",
        "    print(infos)\n",
        "    return (infos)\n",
        "\n",
        "\n",
        "def get_book_description(soup):\n",
        "    book_description = soup.find(\n",
        "        'div', id='product_description').find_next('p').text\n",
        "    print(book_description)\n",
        "    return {\"description\": book_description}\n",
        "\n",
        "\n",
        "def get_rating(soup):\n",
        "    rating_text = soup.find('p', class_='star-rating')['class'][1]\n",
        "    rating_dict = {'One': 1, 'Two': 2, 'Three': 3, 'Four': 4, 'Five': 5}\n",
        "    rating_score = rating_dict[rating_text]\n",
        "    \n",
        "    print(rating_score)\n",
        "    return {\"rating\": rating_score}\n",
        "\n",
        "def get_price(soup):\n",
        "    price = float(soup.find('p', class_='price_color').text[1:])\n",
        "    print(price)\n",
        "    return {\"price\": price}\n",
        "\n",
        "def get_book_genre(soup):\n",
        "    genre = soup.find('ul', class_='breadcrumb').find_all('a')[2].text\n",
        "    print(genre)\n",
        "    return {\"genre\": genre}\n",
        "\n",
        "\n",
        "scrape_books(4, 20)"
      ]
    }
  ],
  "metadata": {
    "colab": {
      "provenance": []
    },
    "kernelspec": {
      "display_name": "Python 3 (ipykernel)",
      "language": "python",
      "name": "python3"
    },
    "language_info": {
      "codemirror_mode": {
        "name": "ipython",
        "version": 3
      },
      "file_extension": ".py",
      "mimetype": "text/x-python",
      "name": "python",
      "nbconvert_exporter": "python",
      "pygments_lexer": "ipython3",
      "version": "3.9.13"
    }
  },
  "nbformat": 4,
  "nbformat_minor": 5
}
