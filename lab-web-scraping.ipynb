{
  "cells": [
    {
      "cell_type": "markdown",
      "id": "7e7a1ab8-2599-417d-9a65-25ef07f3a786",
      "metadata": {
        "id": "7e7a1ab8-2599-417d-9a65-25ef07f3a786"
      },
      "source": [
        "# Lab | Web Scraping"
      ]
    },
    {
      "cell_type": "markdown",
      "id": "ce8882fc-4815-4567-92fa-b4816358ba7d",
      "metadata": {
        "id": "ce8882fc-4815-4567-92fa-b4816358ba7d"
      },
      "source": [
        "Welcome to the IMDb Web Scraping Adventure Lab!\n",
        "\n",
        "**Objective**\n",
        "\n",
        "In this lab, we will embark on a mission to unearth valuable insights from the vast sea of data available on IMDb, one of the largest online databases of movie, TV, and celebrity information. As budding data scientists and business analysts, you have been tasked to scrape a specific subset of data from IMDb to assist film production companies in understanding the landscape of highly-rated movies in a defined time period. Your insights will potentially influence the making of the next netflix movie!\n",
        "\n",
        "**Background**\n",
        "\n",
        "In a world where data has become the new currency, businesses are leveraging big data to make informed decisions that drive success and profitability. The entertainment industry, being no exception, utilizes data analytics to comprehend market trends, audience preferences, and the performance of films based on various parameters such as director, genre, stars involved, etc. IMDb stands as a goldmine of such data, offering intricate details of almost every movie ever made.\n",
        "\n",
        "**Task**\n",
        "\n",
        "Your task is to create a Python script using `BeautifulSoup` and `pandas` to scrape IMDb movie data based on user ratings and release dates. This script should be able to filter movies with ratings above a certain threshold and within a specified date range.\n",
        "\n",
        "**Expected Outcome**\n",
        "\n",
        "- A function named `scrape_imdb` that takes four parameters: `title_type`,`user_rating`, `start_date`, and `end_date`.\n",
        "- The function should return a DataFrame with the following columns:\n",
        "  - **Movie Nr**: The number representing the movie’s position in the list.\n",
        "  - **Title**: The title of the movie.\n",
        "  - **Year**: The year the movie was released.\n",
        "  - **Rating**: The IMDb rating of the movie.\n",
        "  - **Runtime (min)**: The duration of the movie in minutes.\n",
        "  - **Genre**: The genre of the movie.\n",
        "  - **Description**: A brief description of the movie.\n",
        "  - **Director**: The director of the movie.\n",
        "  - **Stars**: The main stars of the movie.\n",
        "  - **Votes**: The number of votes the movie received.\n",
        "  - **Gross ($M)**: The gross earnings of the movie in millions of USD.\n",
        "\n",
        "You will execute this script to scrape data for movies with the Title Type `Feature Film` that have a user rating of `7.5 and above` and were released between `January 1, 1990, and December 31, 1992`.\n",
        "\n",
        "Remember to experiment with different title types, dates and ratings to ensure your code is versatile and can handle various searches effectively!\n",
        "\n",
        "**Resources**\n",
        "\n",
        "- [Beautiful Soup Documentation](https://www.crummy.com/software/BeautifulSoup/bs4/doc/)\n",
        "- [Pandas Documentation](https://pandas.pydata.org/pandas-docs/stable/index.html)\n",
        "- [IMDb Advanced Search](https://www.imdb.com/search/title/)\n"
      ]
    },
    {
      "cell_type": "markdown",
      "id": "3519921d-5890-445b-9a33-934ed8ee378c",
      "metadata": {
        "id": "3519921d-5890-445b-9a33-934ed8ee378c"
      },
      "source": [
        "**Hint**\n",
        "\n",
        "Your first mission is to familiarize yourself with the IMDb advanced search page. Head over to [IMDb advanced search](https://www.imdb.com/search/title/) and input the following parameters, keeping all other fields to their default values or blank:\n",
        "\n",
        "- **Title Type**: Feature film\n",
        "- **Release date**: From 1990 to 1992 (Note: You don't need to specify the day and month)\n",
        "- **User Rating**: 7.5 to -\n",
        "\n",
        "Upon searching, you'll land on a page showcasing a list of movies, each displaying vital details such as the title, release year, and crew information. Your task is to scrape this treasure trove of data.\n",
        "\n",
        "Carefully examine the resulting URL and construct your own URL to include all the necessary parameters for filtering the movies."
      ]
    },
    {
      "cell_type": "markdown",
      "id": "25a83a0d-a742-49f6-985e-e27887cbf922",
      "metadata": {
        "id": "25a83a0d-a742-49f6-985e-e27887cbf922"
      },
      "source": [
        "\n",
        "---\n",
        "\n",
        "**Best of luck! Immerse yourself in the world of movies and may the data be with you!**"
      ]
    },
    {
      "cell_type": "markdown",
      "id": "7b75cf0d-9afa-4eec-a9e2-befeac68b2a0",
      "metadata": {
        "id": "7b75cf0d-9afa-4eec-a9e2-befeac68b2a0"
      },
      "source": [
        "**Important note**:\n",
        "\n",
        "In the fast-changing online world, websites often get updates and make changes. When you try this lab, the IMDb website might be different from what we expect.\n",
        "\n",
        "If you run into problems because of these changes, like new rules or things that stop you from getting data, don't worry! Instead, get creative.\n",
        "\n",
        "You can choose another website that interests you and is good for scraping data. Websites like Wikipedia or The New York Times are good options. The main goal is still the same: get useful data and learn how to scrape it from a website that you find interesting. It's a chance to practice your web scraping skills and explore a source of information you like."
      ]
    },
    {
      "cell_type": "code",
      "execution_count": 4,
      "id": "96843c6e",
      "metadata": {},
      "outputs": [
        {
          "name": "stdout",
          "output_type": "stream",
          "text": [
            "Requirement already satisfied: beautifulsoup4 in c:\\users\\gianf\\anaconda3\\lib\\site-packages (4.12.2)\n",
            "Requirement already satisfied: pandas in c:\\users\\gianf\\anaconda3\\lib\\site-packages (2.1.4)\n",
            "Requirement already satisfied: requests in c:\\users\\gianf\\anaconda3\\lib\\site-packages (2.31.0)\n",
            "Requirement already satisfied: soupsieve>1.2 in c:\\users\\gianf\\anaconda3\\lib\\site-packages (from beautifulsoup4) (2.5)\n",
            "Requirement already satisfied: numpy<2,>=1.23.2 in c:\\users\\gianf\\anaconda3\\lib\\site-packages (from pandas) (1.26.4)\n",
            "Requirement already satisfied: python-dateutil>=2.8.2 in c:\\users\\gianf\\anaconda3\\lib\\site-packages (from pandas) (2.8.2)\n",
            "Requirement already satisfied: pytz>=2020.1 in c:\\users\\gianf\\anaconda3\\lib\\site-packages (from pandas) (2023.3.post1)\n",
            "Requirement already satisfied: tzdata>=2022.1 in c:\\users\\gianf\\anaconda3\\lib\\site-packages (from pandas) (2023.3)\n",
            "Requirement already satisfied: charset-normalizer<4,>=2 in c:\\users\\gianf\\anaconda3\\lib\\site-packages (from requests) (2.0.4)\n",
            "Requirement already satisfied: idna<4,>=2.5 in c:\\users\\gianf\\anaconda3\\lib\\site-packages (from requests) (3.4)\n",
            "Requirement already satisfied: urllib3<3,>=1.21.1 in c:\\users\\gianf\\anaconda3\\lib\\site-packages (from requests) (2.0.7)\n",
            "Requirement already satisfied: certifi>=2017.4.17 in c:\\users\\gianf\\anaconda3\\lib\\site-packages (from requests) (2024.2.2)\n",
            "Requirement already satisfied: six>=1.5 in c:\\users\\gianf\\anaconda3\\lib\\site-packages (from python-dateutil>=2.8.2->pandas) (1.16.0)\n",
            "Note: you may need to restart the kernel to use updated packages.\n"
          ]
        }
      ],
      "source": [
        "pip install beautifulsoup4 pandas requests"
      ]
    },
    {
      "cell_type": "code",
      "execution_count": 17,
      "id": "ccce1e68",
      "metadata": {},
      "outputs": [],
      "source": [
        "import requests\n",
        "from bs4 import BeautifulSoup\n",
        "import pandas as pd"
      ]
    },
    {
      "cell_type": "code",
      "execution_count": 19,
      "id": "6c7da71d",
      "metadata": {},
      "outputs": [
        {
          "data": {
            "text/plain": [
              "<Response [200]>"
            ]
          },
          "execution_count": 19,
          "metadata": {},
          "output_type": "execute_result"
        }
      ],
      "source": [
        "import requests \n",
        "\n",
        "url = \"https://www.rottentomatoes.com/browse/movies_at_home/audience:upright~critics:certified_fresh~ratings:pg_13\"\n",
        "response = requests.get(url)\n",
        "response"
      ]
    },
    {
      "cell_type": "code",
      "execution_count": 20,
      "id": "af9bbff8",
      "metadata": {},
      "outputs": [
        {
          "data": {
            "text/plain": [
              "{'Content-Encoding': 'gzip', 'Content-Type': 'text/html; charset=utf-8', 'ETag': 'W/\"3e26c-tE3HPUjy+HGTGlKILGzgpK1AqaA\"', 'X-Content-Type-Options': 'nosniff', 'X-Response-Time': '1038.930ms', 'Content-Length': '41061', 'Date': 'Mon, 13 May 2024 02:25:01 GMT', 'Connection': 'keep-alive', 'Vary': 'Accept-Encoding', 'Set-Cookie': 'akamai_generated_location={\"zip\":\"00901-00902+00906-00931+00933+00935-00937+00939-00940+00955+00975\",\"city\":\"SANJUAN\",\"state\":\"\"\"\",\"county\":\"SANJUAN\",\"areacode\":\"787\",\"lat\":\"18.4697\",\"long\":\"-66.1179\",\"countrycode\":\"PR\"}; expires=Wed, 12-Jun-2024 02:25:01 GMT; path=/; domain=.rottentomatoes.com; secure, akacd_RTReplatform=2147483647~rv=92~id=e95a9ddd321d81b5a5b668a350dc7845; path=/; Expires=Tue, 19 Jan 2038 03:14:07 GMT; Secure; SameSite=None', 'X-Frame-Options': 'SAMEORIGIN', 'Strict-Transport-Security': 'max-age=31536000 ; includeSubDomains'}"
            ]
          },
          "execution_count": 20,
          "metadata": {},
          "output_type": "execute_result"
        }
      ],
      "source": [
        "response.headers "
      ]
    },
    {
      "cell_type": "code",
      "execution_count": 21,
      "id": "7a5e8286",
      "metadata": {},
      "outputs": [
        {
          "name": "stdout",
          "output_type": "stream",
          "text": [
            "text/html; charset=utf-8\n"
          ]
        }
      ],
      "source": [
        "print(response.headers['Content-Type'])"
      ]
    },
    {
      "cell_type": "code",
      "execution_count": 22,
      "id": "41724a37",
      "metadata": {},
      "outputs": [],
      "source": [
        "from bs4 import BeautifulSoup\n",
        "\n",
        "soup = BeautifulSoup(response.content, \"html.parser\")"
      ]
    },
    {
      "cell_type": "code",
      "execution_count": 23,
      "id": "63c4ab16",
      "metadata": {},
      "outputs": [
        {
          "data": {
            "text/plain": [
              "<title>New Movies to Stream at Home (2024) | Rotten Tomatoes</title>"
            ]
          },
          "execution_count": 23,
          "metadata": {},
          "output_type": "execute_result"
        }
      ],
      "source": [
        "soup.find(\"title\")"
      ]
    },
    {
      "cell_type": "code",
      "execution_count": 24,
      "id": "a1d065c0",
      "metadata": {},
      "outputs": [
        {
          "data": {
            "text/plain": [
              "<span class=\"p--small\">Kingdom of the Planet of the Apes</span>"
            ]
          },
          "execution_count": 24,
          "metadata": {},
          "output_type": "execute_result"
        }
      ],
      "source": [
        "movie = soup.find_all('span', class_='p--small')\n",
        "movie[0]"
      ]
    },
    {
      "cell_type": "code",
      "execution_count": 25,
      "id": "ad074dcd",
      "metadata": {},
      "outputs": [
        {
          "data": {
            "text/plain": [
              "bs4.element.ResultSet"
            ]
          },
          "execution_count": 25,
          "metadata": {},
          "output_type": "execute_result"
        }
      ],
      "source": [
        "type(movie)"
      ]
    },
    {
      "cell_type": "code",
      "execution_count": 26,
      "id": "163ce972",
      "metadata": {},
      "outputs": [
        {
          "name": "stdout",
          "output_type": "stream",
          "text": [
            "Kingdom of the Planet of the Apes\n"
          ]
        }
      ],
      "source": [
        "print(movie[0].text)"
      ]
    },
    {
      "cell_type": "code",
      "execution_count": 27,
      "id": "6627be58",
      "metadata": {},
      "outputs": [],
      "source": [
        "movies = [item.text.strip() for item in movie]\n",
        "#movies"
      ]
    },
    {
      "cell_type": "code",
      "execution_count": 28,
      "id": "6a8955dd",
      "metadata": {},
      "outputs": [],
      "source": [
        "release_date = soup.find_all('span', class_='smaller')\n",
        "#release_date"
      ]
    },
    {
      "cell_type": "code",
      "execution_count": 29,
      "id": "32f4ef0a",
      "metadata": {},
      "outputs": [
        {
          "name": "stdout",
          "output_type": "stream",
          "text": [
            "Dark Waters\n",
            "Streaming Aug 22, 2023\n"
          ]
        }
      ],
      "source": [
        "release = [item.text.strip() for item in release_date]\n",
        "\n",
        "rating = soup.find_all('span', class_='percentage')\n",
        "rating\n",
        "\n",
        "print(movies[7])\n",
        "print(release[7])"
      ]
    },
    {
      "cell_type": "code",
      "execution_count": 30,
      "id": "43ed6463",
      "metadata": {},
      "outputs": [
        {
          "data": {
            "text/plain": [
              "'/m/war_for_the_planet_of_the_apes'"
            ]
          },
          "execution_count": 30,
          "metadata": {},
          "output_type": "execute_result"
        }
      ],
      "source": [
        "link_element=soup.find('a',slot=\"caption\")\n",
        "link_url=link_element.get('href')\n",
        "link_url"
      ]
    },
    {
      "cell_type": "code",
      "execution_count": 31,
      "id": "9aa914f6",
      "metadata": {},
      "outputs": [],
      "source": [
        "componentes=soup.find_all('span', class_=['p--small','smaller'])"
      ]
    },
    {
      "cell_type": "code",
      "execution_count": 37,
      "id": "7b6dbef8",
      "metadata": {},
      "outputs": [],
      "source": [
        "movies_names = []\n",
        "releases = []\n",
        "for component in componentes:\n",
        "    # Extract bicycle name\n",
        "    movie_name = component.text\n",
        "    movies_names.append(movie_name)\n",
        "\n",
        "    # Extract price\n",
        "    release = component.span\n",
        "    releases.append(release)\n",
        "\n",
        "    "
      ]
    },
    {
      "cell_type": "code",
      "execution_count": 38,
      "id": "c6e69dda",
      "metadata": {},
      "outputs": [
        {
          "data": {
            "text/html": [
              "<div>\n",
              "<style scoped>\n",
              "    .dataframe tbody tr th:only-of-type {\n",
              "        vertical-align: middle;\n",
              "    }\n",
              "\n",
              "    .dataframe tbody tr th {\n",
              "        vertical-align: top;\n",
              "    }\n",
              "\n",
              "    .dataframe thead th {\n",
              "        text-align: right;\n",
              "    }\n",
              "</style>\n",
              "<table border=\"1\" class=\"dataframe\">\n",
              "  <thead>\n",
              "    <tr style=\"text-align: right;\">\n",
              "      <th></th>\n",
              "      <th>Movies_Name</th>\n",
              "      <th>Released</th>\n",
              "    </tr>\n",
              "  </thead>\n",
              "  <tbody>\n",
              "    <tr>\n",
              "      <th>0</th>\n",
              "      <td>\\n          War for the Planet of the Apes\\n  ...</td>\n",
              "      <td>\\n            Streaming Apr 1, 2019\\n</td>\n",
              "    </tr>\n",
              "    <tr>\n",
              "      <th>1</th>\n",
              "      <td>\\n          Rise of the Planet of the Apes\\n  ...</td>\n",
              "      <td>\\n            Streaming Nov 10, 2013\\n</td>\n",
              "    </tr>\n",
              "    <tr>\n",
              "      <th>2</th>\n",
              "      <td>\\n          Dawn of the Planet of the Apes\\n  ...</td>\n",
              "      <td>\\n            Streaming Dec 1, 2015\\n</td>\n",
              "    </tr>\n",
              "    <tr>\n",
              "      <th>3</th>\n",
              "      <td>\\n          Dark Waters\\n</td>\n",
              "      <td>\\n            Streaming Nov 22, 2019\\n</td>\n",
              "    </tr>\n",
              "  </tbody>\n",
              "</table>\n",
              "</div>"
            ],
            "text/plain": [
              "                                         Movies_Name  \\\n",
              "0  \\n          War for the Planet of the Apes\\n  ...   \n",
              "1  \\n          Rise of the Planet of the Apes\\n  ...   \n",
              "2  \\n          Dawn of the Planet of the Apes\\n  ...   \n",
              "3                  \\n          Dark Waters\\n           \n",
              "\n",
              "                                           Released  \n",
              "0   \\n            Streaming Apr 1, 2019\\n            \n",
              "1  \\n            Streaming Nov 10, 2013\\n            \n",
              "2   \\n            Streaming Dec 1, 2015\\n            \n",
              "3  \\n            Streaming Nov 22, 2019\\n            "
            ]
          },
          "execution_count": 38,
          "metadata": {},
          "output_type": "execute_result"
        }
      ],
      "source": [
        "df = pd.DataFrame({\n",
        "    'Movies_Name': (movies_names[4],movies_names[6],movies_names[8],movies_names[10]),\n",
        "    'Released': (movies_names[5],movies_names[7],movies_names[9],movies_names[11])\n",
        "})\n",
        "\n",
        "df"
      ]
    },
    {
      "cell_type": "code",
      "execution_count": 41,
      "id": "ca96d136",
      "metadata": {},
      "outputs": [
        {
          "name": "stdout",
          "output_type": "stream",
          "text": [
            "Kingdom of the Planet of the Apes\n",
            "The Fall Guy\n",
            "The Last Stop in Yuma County\n",
            "Doctor Who: Season 1\n",
            "The Idea of You\n",
            "Abigail\n",
            "Late Night with the Devil\n",
            "War for the Planet of the Apes\n",
            "LaRoy, Texas\n",
            "Monkey Man\n",
            "Rise of the Planet of the Apes\n",
            "Love Lies Bleeding\n",
            "Dawn of the Planet of the Apes\n",
            "The Iron Claw\n",
            "Dark Waters\n",
            "Dune: Part Two\n",
            "Wicked Little Letters\n",
            "Infested\n",
            "The Peanut Butter Falcon\n",
            "Planet of the Apes\n",
            "L.A. Confidential\n",
            "The Holdovers\n",
            "Poor Things\n",
            "The Gentlemen\n",
            "The Zone of Interest\n",
            "One Life\n",
            "Dream Scenario\n",
            "All of Us Strangers\n",
            "Barbarian\n",
            "Anatomy of a Fall\n",
            "Past Lives\n",
            "Mad Max: Fury Road\n",
            "Talk to Me\n",
            "Rust Creek\n",
            "Oppenheimer\n",
            "X\n",
            "The Amazing Spider-Man\n",
            "Wonka\n",
            "Killers of the Flower Moon\n",
            "Perfect Days\n",
            "Barbie\n",
            "When Evil Lurks\n",
            "Dune\n",
            "You'll Never Find Me\n",
            "American Fiction\n",
            "The Stranger\n",
            "Bottoms\n",
            "Interstellar\n",
            "Housekeeping for Beginners\n",
            "Everything Everywhere All at Once\n",
            "Parasite\n",
            "Promising Young Woman\n",
            "Ordinary Angels\n",
            "Hereditary\n",
            "His House\n",
            "May December\n",
            "Hundreds of Beavers\n",
            "The Equalizer 3\n",
            "Blackout\n",
            "The Killer\n",
            "Biosphere\n",
            "Top Gun: Maverick\n",
            "Emily the Criminal\n",
            "Alien\n",
            "Scoop\n",
            "Guy Ritchie's The Covenant\n",
            "Godzilla vs. Kong\n",
            "Femme\n",
            "The Killing of a Sacred Deer\n",
            "It Follows\n",
            "Let the Right One In\n",
            "Marvel's the Avengers\n",
            "Avengers: Endgame\n",
            "Seven Samurai\n",
            "Spider-Man: Across the Spider-Verse\n",
            "Red, White & Royal Blue\n",
            "Get Out\n",
            "Nope\n",
            "Minari\n",
            "The Batman\n",
            "Spider-Man: No Way Home\n",
            "Let It Be\n",
            "BlackBerry\n",
            "The Lighthouse\n",
            "Mission: Impossible - Dead Reckoning Part One\n",
            "Baby Driver\n",
            "Spirited Away\n",
            "The Gift\n",
            "None\n"
          ]
        }
      ],
      "source": [
        "import requests\n",
        "from bs4 import BeautifulSoup\n",
        "soup = BeautifulSoup(response.content, \"html.parser\")\n",
        "\n",
        "def scrape_rot_tom(title_type, user_rating, start_date, end_date):\n",
        "    url = f\"https://www.rottentomatoes.com/browse/movies_at_home/audience:upright~critics:certified_fresh,fresh?page=3\"\n",
        "    response = requests.get(url)\n",
        "\n",
        "    if response.status_code == 200:\n",
        "        soup = BeautifulSoup(response.content, 'html.parser')\n",
        "\n",
        "        movie_titles = soup.find_all('span', class_=\"p--small\")\n",
        "        for title in movie_titles:\n",
        "            print(title.text.strip())  \n",
        "\n",
        "    else:\n",
        "        print(\"Failed to retrieve data from Rotten Tomatoes.\")\n",
        "\n",
        "\n",
        "print(scrape_rot_tom(\"movie\", \"90%\", \"2023-01-01\", \"2024-01-10\"))"
      ]
    },
    {
      "cell_type": "markdown",
      "id": "9ab1217a-df9d-4a2b-a32c-2c5f1eecd52a",
      "metadata": {
        "id": "9ab1217a-df9d-4a2b-a32c-2c5f1eecd52a"
      },
      "source": [
        "## BONUS\n",
        "\n",
        "The search results span multiple pages, housing a total of 631 movies in our example with each page displaying 50 movies at most. To scrape data seamlessly from all pages, you'll need to dive deep into the structure of the URLs generated with each \"Next\" click.\n",
        "\n",
        "Take a close look at the following URLs:\n",
        "- First page:\n",
        "  ```\n",
        "  https://www.imdb.com/search/title/?title_type=feature&release_date=1990-01-01,1992-12-31&user_rating=7.5,\n",
        "  ```\n",
        "- Second page:\n",
        "  ```\n",
        "  https://www.imdb.com/search/title/?title_type=feature&release_date=1990-01-01,1992-12-31&user_rating=7.5,&start=51&ref_=adv_nxt\n",
        "  ```\n",
        "- Third page:\n",
        "  ```\n",
        "  https://www.imdb.com/search/title/?title_type=feature&release_date=1990-01-01,1992-12-31&user_rating=7.5,&start=101&ref_=adv_nxt\n",
        "  ```\n",
        "\n",
        "You should notice a pattern. There is a `start` parameter incrementing by 50 with each page, paired with a constant `ref_` parameter holding the value \"adv_nxt\".\n",
        "\n",
        "Modify your script so it's capable of iterating over all available pages to fetch data on all the 631 movies (631 is the total number of movies in the proposed example)."
      ]
    },
    {
      "cell_type": "code",
      "execution_count": null,
      "id": "21ac4fc0-a12b-4a00-9266-2020166f0dea",
      "metadata": {
        "id": "21ac4fc0-a12b-4a00-9266-2020166f0dea"
      },
      "outputs": [],
      "source": [
        "# Your solution goes here"
      ]
    }
  ],
  "metadata": {
    "colab": {
      "provenance": []
    },
    "kernelspec": {
      "display_name": "Python 3 (ipykernel)",
      "language": "python",
      "name": "python3"
    },
    "language_info": {
      "codemirror_mode": {
        "name": "ipython",
        "version": 3
      },
      "file_extension": ".py",
      "mimetype": "text/x-python",
      "name": "python",
      "nbconvert_exporter": "python",
      "pygments_lexer": "ipython3",
      "version": "3.11.7"
    }
  },
  "nbformat": 4,
  "nbformat_minor": 5
}
