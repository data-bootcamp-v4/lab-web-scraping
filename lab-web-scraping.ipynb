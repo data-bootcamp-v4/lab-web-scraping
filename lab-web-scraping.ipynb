{
 "cells": [
  {
   "cell_type": "markdown",
   "id": "7e7a1ab8-2599-417d-9a65-25ef07f3a786",
   "metadata": {
    "id": "7e7a1ab8-2599-417d-9a65-25ef07f3a786"
   },
   "source": [
    "# Lab | Web Scraping"
   ]
  },
  {
   "cell_type": "markdown",
   "id": "ce8882fc-4815-4567-92fa-b4816358ba7d",
   "metadata": {
    "id": "ce8882fc-4815-4567-92fa-b4816358ba7d"
   },
   "source": [
    "Welcome to the IMDb Web Scraping Adventure Lab!\n",
    "\n",
    "**Objective**\n",
    "\n",
    "In this lab, we will embark on a mission to unearth valuable insights from the vast sea of data available on IMDb, one of the largest online databases of movie, TV, and celebrity information. As budding data scientists and business analysts, you have been tasked to scrape a specific subset of data from IMDb to assist film production companies in understanding the landscape of highly-rated movies in a defined time period. Your insights will potentially influence the making of the next netflix movie!\n",
    "\n",
    "**Background**\n",
    "\n",
    "In a world where data has become the new currency, businesses are leveraging big data to make informed decisions that drive success and profitability. The entertainment industry, being no exception, utilizes data analytics to comprehend market trends, audience preferences, and the performance of films based on various parameters such as director, genre, stars involved, etc. IMDb stands as a goldmine of such data, offering intricate details of almost every movie ever made.\n",
    "\n",
    "**Task**\n",
    "\n",
    "Your task is to create a Python script using `BeautifulSoup` and `pandas` to scrape IMDb movie data based on user ratings and release dates. This script should be able to filter movies with ratings above a certain threshold and within a specified date range.\n",
    "\n",
    "**Expected Outcome**\n",
    "\n",
    "- A function named `scrape_imdb` that takes four parameters: `title_type`,`user_rating`, `start_date`, and `end_date`.\n",
    "- The function should return a DataFrame with the following columns:\n",
    "  - **Movie Nr**: The number representing the movie’s position in the list.\n",
    "  - **Title**: The title of the movie.\n",
    "  - **Year**: The year the movie was released.\n",
    "  - **Rating**: The IMDb rating of the movie.\n",
    "  - **Runtime (min)**: The duration of the movie in minutes.\n",
    "  - **Genre**: The genre of the movie.\n",
    "  - **Description**: A brief description of the movie.\n",
    "  - **Director**: The director of the movie.\n",
    "  - **Stars**: The main stars of the movie.\n",
    "  - **Votes**: The number of votes the movie received.\n",
    "  - **Gross ($M)**: The gross earnings of the movie in millions of USD.\n",
    "\n",
    "You will execute this script to scrape data for movies with the Title Type `Feature Film` that have a user rating of `7.5 and above` and were released between `January 1, 1990, and December 31, 1992`.\n",
    "\n",
    "Remember to experiment with different title types, dates and ratings to ensure your code is versatile and can handle various searches effectively!\n",
    "\n",
    "**Resources**\n",
    "\n",
    "- [Beautiful Soup Documentation](https://www.crummy.com/software/BeautifulSoup/bs4/doc/)\n",
    "- [Pandas Documentation](https://pandas.pydata.org/pandas-docs/stable/index.html)\n",
    "- [IMDb Advanced Search](https://www.imdb.com/search/title/)\n"
   ]
  },
  {
   "cell_type": "markdown",
   "id": "3519921d-5890-445b-9a33-934ed8ee378c",
   "metadata": {
    "id": "3519921d-5890-445b-9a33-934ed8ee378c"
   },
   "source": [
    "**Hint**\n",
    "\n",
    "Your first mission is to familiarize yourself with the IMDb advanced search page. Head over to [IMDb advanced search](https://www.imdb.com/search/title/) and input the following parameters, keeping all other fields to their default values or blank:\n",
    "\n",
    "- **Title Type**: Feature film\n",
    "- **Release date**: From 1990 to 1992 (Note: You don't need to specify the day and month)\n",
    "- **User Rating**: 7.5 to -\n",
    "\n",
    "Upon searching, you'll land on a page showcasing a list of movies, each displaying vital details such as the title, release year, and crew information. Your task is to scrape this treasure trove of data.\n",
    "\n",
    "Carefully examine the resulting URL and construct your own URL to include all the necessary parameters for filtering the movies."
   ]
  },
  {
   "cell_type": "markdown",
   "id": "25a83a0d-a742-49f6-985e-e27887cbf922",
   "metadata": {
    "id": "25a83a0d-a742-49f6-985e-e27887cbf922"
   },
   "source": [
    "\n",
    "---\n",
    "\n",
    "**Best of luck! Immerse yourself in the world of movies and may the data be with you!**"
   ]
  },
  {
   "cell_type": "markdown",
   "id": "7b75cf0d-9afa-4eec-a9e2-befeac68b2a0",
   "metadata": {
    "id": "7b75cf0d-9afa-4eec-a9e2-befeac68b2a0"
   },
   "source": [
    "**Important note**:\n",
    "\n",
    "In the fast-changing online world, websites often get updates and make changes. When you try this lab, the IMDb website might be different from what we expect.\n",
    "\n",
    "If you run into problems because of these changes, like new rules or things that stop you from getting data, don't worry! Instead, get creative.\n",
    "\n",
    "You can choose another website that interests you and is good for scraping data. Websites like Wikipedia or The New York Times are good options. The main goal is still the same: get useful data and learn how to scrape it from a website that you find interesting. It's a chance to practice your web scraping skills and explore a source of information you like."
   ]
  },
  {
   "cell_type": "code",
   "execution_count": null,
   "id": "40359eee-9cd7-4884-bfa4-83344c222305",
   "metadata": {
    "id": "40359eee-9cd7-4884-bfa4-83344c222305"
   },
   "outputs": [],
   "source": [
    "import pandas as pd\n",
    "from bs4 import BeautifulSoup\n",
    "import requests\n",
    "response = requests.get(\"https://www.imdb.com/search/title/?title_type=feature&release_date=1990-01-01,1992-12-31\", headers = {'User-Agent':'Mozilla/5.0 (Windows NT 6.3; Win 64 ; x64) Apple WeKit /537.36(KHTML , like Gecko) Chrome/80.0.3987.162 Safari/537.36'})\n",
    "soup = BeautifulSoup(response.content,\"html.parser\")"
   ]
  },
  {
   "cell_type": "code",
   "execution_count": null,
   "id": "86fad92a-8fb7-4a52-acf2-906a9648dd09",
   "metadata": {},
   "outputs": [],
   "source": [
    "response"
   ]
  },
  {
   "cell_type": "code",
   "execution_count": null,
   "id": "5c146f5e-0261-44d1-8eee-5aeb5a89b2ca",
   "metadata": {},
   "outputs": [],
   "source": [
    "title_movie = soup.find_all(\"h3\", class_=\"ipc-title__text\")\n",
    "titles = [i.getText() for i in title_movie][:50]\n",
    "titles\n",
    "\n",
    "\n"
   ]
  },
  {
   "cell_type": "code",
   "execution_count": null,
   "id": "df289394-0cb7-44ac-b1a8-b01cf278af90",
   "metadata": {},
   "outputs": [],
   "source": [
    "vote_spans = soup.find_all(\"span\", class_= \"ipc-rating-star--imdb\")\n",
    "votes = [i.getText().split()[1].replace(\"(\", \"\").replace(\")\", \"\") for i in vote_spans]\n",
    "votes"
   ]
  },
  {
   "cell_type": "code",
   "execution_count": null,
   "id": "3fd05a15-da83-4ff6-9dfb-6adcbdf373ac",
   "metadata": {},
   "outputs": [],
   "source": [
    "ratings = [i.getText().split()[0] for i in vote_spans]\n",
    "ratings"
   ]
  },
  {
   "cell_type": "code",
   "execution_count": null,
   "id": "38964b62-26f4-4846-a6a2-d1b177c61ade",
   "metadata": {},
   "outputs": [],
   "source": [
    "movies_links = [\n",
    "    \"tt0102926/?ref_=sr_t_1\",\n",
    "    \"tt0099685/?ref_=sr_t_2\",\n",
    "    \"tt0103064/?ref_=sr_t_3\",\n",
    "    \"tt0100405/?ref_=sr_t_4\",\n",
    "    \"tt0102798/?ref_=sr_t_5\",\n",
    "    \"tt0102685/?ref_=sr_t_6\",\n",
    "    \"tt0104952/?ref_=sr_t_7\",\n",
    "    \"tt0104694/?ref_=sr_i_8\",\n",
    "    \"tt0102057/?ref_=sr_t_9\",\n",
    "    \"tt0103874/?ref_=sr_t_10\",\n",
    "    \"tt0103772/?ref_=sr_t_11\",\n",
    "    \"tt0105236/?ref_=sr_t_12\",\n",
    "    \"tt0104014/?ref_=sr_t_13\",\n",
    "    \"tt0101921/?ref_=sr_t_14\",\n",
    "    \"tt0099674/?ref_=sr_t_15\",\n",
    "    \"tt0101414/?ref_=sr_i_16\",\n",
    "    \"tt0100802/?ref_=sr_t_17\",\n",
    "    \"tt0102926/?ref_=sr_t_1\",\n",
    "    \"tt0099685/?ref_=sr_t_2\",\n",
    "    \"tt0103064/?ref_=sr_t_3\",\n",
    "    \"tt0100405/?ref_=sr_t_4\",\n",
    "    \"tt0102798/?ref_=sr_t_5\",\n",
    "    \"tt0102685/?ref_=sr_t_6\",\n",
    "    \"tt0104952/?ref_=sr_t_7\",\n",
    "    \"tt0104694/?ref_=sr_i_8\",\n",
    "    \"tt0102057/?ref_=sr_t_9\",\n",
    "    \"tt0103874/?ref_=sr_t_10\",\n",
    "    \"tt0103772/?ref_=sr_t_11\",\n",
    "    \"tt0105236/?ref_=sr_t_12\",\n",
    "    \"tt0104014/?ref_=sr_t_13\",\n",
    "    \"tt0101921/?ref_=sr_t_14\",\n",
    "    \"tt0099674/?ref_=sr_t_15\",\n",
    "    \"tt0101414/?ref_=sr_i_16\",\n",
    "    \"tt0100802/?ref_=sr_t_17\",\n",
    "    \"tt0102926/?ref_=sr_t_1\",\n",
    "    \"tt0099685/?ref_=sr_t_2\",\n",
    "    \"tt0103064/?ref_=sr_t_3\",\n",
    "    \"tt0100405/?ref_=sr_t_4\",\n",
    "    \"tt0102798/?ref_=sr_t_5\",\n",
    "    \"tt0102685/?ref_=sr_t_6\",\n",
    "    \"tt0104952/?ref_=sr_t_7\",\n",
    "    \"tt0104694/?ref_=sr_i_8\",\n",
    "    \"tt0102057/?ref_=sr_t_9\",\n",
    "    \"tt0103874/?ref_=sr_t_10\",\n",
    "    \"tt0103772/?ref_=sr_t_11\",\n",
    "    \"tt0105236/?ref_=sr_t_12\",\n",
    "    \"tt0104014/?ref_=sr_t_13\",\n",
    "    \"tt0101921/?ref_=sr_t_14\",\n",
    "    \"tt0099674/?ref_=sr_t_15\",\n",
    "    \"tt0101414/?ref_=sr_i_16\",\n",
    "]"
   ]
  },
  {
   "cell_type": "code",
   "execution_count": null,
   "id": "94998a0c-9946-4de7-bddb-22038b88dcdb",
   "metadata": {},
   "outputs": [],
   "source": [
    "href_list= []\n",
    "for i in  soup.find_all"
   ]
  },
  {
   "cell_type": "code",
   "execution_count": null,
   "id": "92637a87-0a5b-404a-8b72-73af9e37f182",
   "metadata": {},
   "outputs": [],
   "source": [
    "gross_worldwide = []\n",
    "genre = []\n",
    "directors = []\n",
    "for movie in movies_links:\n",
    "    response_movie = requests.get(f\"https://www.imdb.com/title/{movie}\", headers = {'User-Agent':'Mozilla/5.0 (Windows NT 6.3; Win 64 ; x64) Apple WeKit /537.36(KHTML , like Gecko) Chrome/80.0.3987.162 Safari/537.36'})\n",
    "    soup_movie = BeautifulSoup(response_movie.content,\"html.parser\")\n",
    "    gross_tags = soup_movie.find_all(\"span\", class_ ='ipc-metadata-list-item__list-content-item')\n",
    "    try:\n",
    "        gross_worldwide.append(gross_tags[6].get_text())\n",
    "    except IndexError:\n",
    "        gross_worldwide.append(\"0\")\n",
    "    genre_tags = soup_movie.find_all(\"span\", class_ ='ipc-chip__text')\n",
    "    movie_genre_tags = []\n",
    "    for tag in genre_tags[0:len(genre_tags)-1]:\n",
    "        movie_genre_tags.append(tag.get_text())\n",
    "    genre.append(movie_genre_tags)\n",
    "    director_tags = soup_movie.find_all(\"a\", class_ ='ipc-metadata-list-item__list-content-item')\n",
    "    directors.append(director_tags[0].get_text())\n",
    "genre"
   ]
  },
  {
   "cell_type": "code",
   "execution_count": null,
   "id": "1087c3ef-fda3-4102-9305-243b4e9fdf2f",
   "metadata": {},
   "outputs": [],
   "source": [
    "gross_tags"
   ]
  },
  {
   "cell_type": "code",
   "execution_count": null,
   "id": "b827b17e-44f4-423d-9a80-cf3e765a03bc",
   "metadata": {
    "scrolled": true
   },
   "outputs": [],
   "source": [
    "## mins = soup.find_all(\"span\", class_=\"sc-b0691f29-8 ilsLEX dli-title-metadata-item\")\n",
    "runtime = [i.get_text() for i in mins][1::3]\n",
    "runtime"
   ]
  },
  {
   "cell_type": "code",
   "execution_count": null,
   "id": "d63e59f5-6198-4026-b131-89fd4dd8b855",
   "metadata": {},
   "outputs": [],
   "source": [
    "year = soup.find_all(\"span\",class_=\"sc-b0691f29-8 ilsLEX dli-title-metadata-item\")\n",
    "years = [i.get_text() for i in year][::3]\n",
    "years"
   ]
  },
  {
   "cell_type": "code",
   "execution_count": null,
   "id": "ea0b81b6-c41e-49cf-98a8-25564ae24834",
   "metadata": {},
   "outputs": [],
   "source": [
    "description_tags = soup.find_all(\"div\", class_=\"ipc-html-content-inner-div\")\n",
    "description =[i.get_text() for i in description_tags]\n",
    "description"
   ]
  },
  {
   "cell_type": "code",
   "execution_count": null,
   "id": "2df87ae0-e548-404a-8958-190e9e2598c5",
   "metadata": {},
   "outputs": [],
   "source": [
    "def scrape_imdb(title_type, user_rating, start_date, end_date):\n",
    "    movie_nr = [i.split(\".\")[0] for i in titles]\n",
    "    title = [i.split(\".\")[1].strip() for i in titles]\n",
    "    imdb_dict = {\n",
    "        \"Movie Nr.\": movie_nr,\n",
    "        \"Title\": title,\n",
    "        \"Year\": years,\n",
    "        \"Rating\": ratings,\n",
    "        \"Runtime\": runtime,\n",
    "        \"Genre\": genre,\n",
    "        \"Directors\": directors,\n",
    "        \"Votes\": votes,\n",
    "        \"Gross ($M)\": gross_worldwide\n",
    "    }\n",
    "    imdb_df = pd.DataFrame(imdb_dict)\n",
    "    return imdb_df\n",
    "scrape_imdb(\"movie\", \"7.5 and above\", \"January 1, 1990\", \"December 31, 1992\")"
   ]
  },
  {
   "cell_type": "markdown",
   "id": "9ab1217a-df9d-4a2b-a32c-2c5f1eecd52a",
   "metadata": {
    "id": "9ab1217a-df9d-4a2b-a32c-2c5f1eecd52a"
   },
   "source": [
    "## BONUS\n",
    "\n",
    "The search results span multiple pages, housing a total of 631 movies in our example with each page displaying 50 movies at most. To scrape data seamlessly from all pages, you'll need to dive deep into the structure of the URLs generated with each \"Next\" click.\n",
    "\n",
    "Take a close look at the following URLs:\n",
    "- First page:\n",
    "  ```\n",
    "  https://www.imdb.com/search/title/?title_type=feature&release_date=1990-01-01,1992-12-31&user_rating=7.5,\n",
    "  ```\n",
    "- Second page:\n",
    "  ```\n",
    "  https://www.imdb.com/search/title/?title_type=feature&release_date=1990-01-01,1992-12-31&user_rating=7.5,&start=51&ref_=adv_nxt\n",
    "  ```\n",
    "- Third page:\n",
    "  ```\n",
    "  https://www.imdb.com/search/title/?title_type=feature&release_date=1990-01-01,1992-12-31&user_rating=7.5,&start=101&ref_=adv_nxt\n",
    "  ```\n",
    "\n",
    "You should notice a pattern. There is a `start` parameter incrementing by 50 with each page, paired with a constant `ref_` parameter holding the value \"adv_nxt\".\n",
    "\n",
    "Modify your script so it's capable of iterating over all available pages to fetch data on all the 631 movies (631 is the total number of movies in the proposed example)."
   ]
  },
  {
   "cell_type": "code",
   "execution_count": null,
   "id": "21ac4fc0-a12b-4a00-9266-2020166f0dea",
   "metadata": {
    "id": "21ac4fc0-a12b-4a00-9266-2020166f0dea"
   },
   "outputs": [],
   "source": [
    "# Your solution goes here"
   ]
  }
 ],
 "metadata": {
  "colab": {
   "provenance": []
  },
  "kernelspec": {
   "display_name": "Python 3 (ipykernel)",
   "language": "python",
   "name": "python3"
  },
  "language_info": {
   "codemirror_mode": {
    "name": "ipython",
    "version": 3
   },
   "file_extension": ".py",
   "mimetype": "text/x-python",
   "name": "python",
   "nbconvert_exporter": "python",
   "pygments_lexer": "ipython3",
   "version": "3.11.7"
  }
 },
 "nbformat": 4,
 "nbformat_minor": 5
}
