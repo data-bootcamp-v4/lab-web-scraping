{
  "cells": [
    {
      "cell_type": "markdown",
      "id": "7e7a1ab8-2599-417d-9a65-25ef07f3a786",
      "metadata": {
        "id": "7e7a1ab8-2599-417d-9a65-25ef07f3a786"
      },
      "source": [
        "# Lab | Web Scraping"
      ]
    },
    {
      "cell_type": "markdown",
      "id": "ce8882fc-4815-4567-92fa-b4816358ba7d",
      "metadata": {
        "id": "ce8882fc-4815-4567-92fa-b4816358ba7d"
      },
      "source": [
        "Welcome to the IMDb Web Scraping Adventure Lab!\n",
        "\n",
        "**Objective**\n",
        "\n",
        "In this lab, we will embark on a mission to unearth valuable insights from the vast sea of data available on IMDb, one of the largest online databases of movie, TV, and celebrity information. As budding data scientists and business analysts, you have been tasked to scrape a specific subset of data from IMDb to assist film production companies in understanding the landscape of highly-rated movies in a defined time period. Your insights will potentially influence the making of the next netflix movie!\n",
        "\n",
        "**Background**\n",
        "\n",
        "In a world where data has become the new currency, businesses are leveraging big data to make informed decisions that drive success and profitability. The entertainment industry, being no exception, utilizes data analytics to comprehend market trends, audience preferences, and the performance of films based on various parameters such as director, genre, stars involved, etc. IMDb stands as a goldmine of such data, offering intricate details of almost every movie ever made.\n",
        "\n",
        "**Task**\n",
        "\n",
        "Your task is to create a Python script using `BeautifulSoup` and `pandas` to scrape IMDb movie data based on user ratings and release dates. This script should be able to filter movies with ratings above a certain threshold and within a specified date range.\n",
        "\n",
        "**Expected Outcome**\n",
        "\n",
        "- A function named `scrape_imdb` that takes four parameters: `title_type`,`user_rating`, `start_date`, and `end_date`.\n",
        "- The function should return a DataFrame with the following columns:\n",
        "  - **Movie Nr**: The number representing the movie’s position in the list.\n",
        "  - **Title**: The title of the movie.\n",
        "  - **Year**: The year the movie was released.\n",
        "  - **Rating**: The IMDb rating of the movie.\n",
        "  - **Runtime (min)**: The duration of the movie in minutes.\n",
        "  - **Genre**: The genre of the movie.\n",
        "  - **Description**: A brief description of the movie.\n",
        "  - **Director**: The director of the movie.\n",
        "  - **Stars**: The main stars of the movie.\n",
        "  - **Votes**: The number of votes the movie received.\n",
        "  - **Gross ($M)**: The gross earnings of the movie in millions of USD.\n",
        "\n",
        "You will execute this script to scrape data for movies with the Title Type `Feature Film` that have a user rating of `7.5 and above` and were released between `January 1, 1990, and December 31, 1992`.\n",
        "\n",
        "Remember to experiment with different title types, dates and ratings to ensure your code is versatile and can handle various searches effectively!\n",
        "\n",
        "**Resources**\n",
        "\n",
        "- [Beautiful Soup Documentation](https://www.crummy.com/software/BeautifulSoup/bs4/doc/)\n",
        "- [Pandas Documentation](https://pandas.pydata.org/pandas-docs/stable/index.html)\n",
        "- [IMDb Advanced Search](https://www.imdb.com/search/title/)\n"
      ]
    },
    {
      "cell_type": "markdown",
      "id": "3519921d-5890-445b-9a33-934ed8ee378c",
      "metadata": {
        "id": "3519921d-5890-445b-9a33-934ed8ee378c"
      },
      "source": [
        "**Hint**\n",
        "\n",
        "Your first mission is to familiarize yourself with the IMDb advanced search page. Head over to [IMDb advanced search](https://www.imdb.com/search/title/) and input the following parameters, keeping all other fields to their default values or blank:\n",
        "\n",
        "- **Title Type**: Feature film\n",
        "- **Release date**: From 1990 to 1992 (Note: You don't need to specify the day and month)\n",
        "- **User Rating**: 7.5 to -\n",
        "\n",
        "Upon searching, you'll land on a page showcasing a list of movies, each displaying vital details such as the title, release year, and crew information. Your task is to scrape this treasure trove of data.\n",
        "\n",
        "Carefully examine the resulting URL and construct your own URL to include all the necessary parameters for filtering the movies."
      ]
    },
    {
      "cell_type": "markdown",
      "id": "25a83a0d-a742-49f6-985e-e27887cbf922",
      "metadata": {
        "id": "25a83a0d-a742-49f6-985e-e27887cbf922"
      },
      "source": [
        "\n",
        "---\n",
        "\n",
        "**Best of luck! Immerse yourself in the world of movies and may the data be with you!**"
      ]
    },
    {
      "cell_type": "markdown",
      "id": "7b75cf0d-9afa-4eec-a9e2-befeac68b2a0",
      "metadata": {
        "id": "7b75cf0d-9afa-4eec-a9e2-befeac68b2a0"
      },
      "source": [
        "**Important note**:\n",
        "\n",
        "In the fast-changing online world, websites often get updates and make changes. When you try this lab, the IMDb website might be different from what we expect.\n",
        "\n",
        "If you run into problems because of these changes, like new rules or things that stop you from getting data, don't worry! Instead, get creative.\n",
        "\n",
        "You can choose another website that interests you and is good for scraping data. Websites like Wikipedia or The New York Times are good options. The main goal is still the same: get useful data and learn how to scrape it from a website that you find interesting. It's a chance to practice your web scraping skills and explore a source of information you like."
      ]
    },
    {
      "cell_type": "code",
      "execution_count": 22,
      "id": "c6c18856",
      "metadata": {},
      "outputs": [],
      "source": [
        "import requests\n",
        "from bs4 import BeautifulSoup\n",
        "import pandas as pd\n",
        "import re"
      ]
    },
    {
      "cell_type": "code",
      "execution_count": 23,
      "id": "877ef46b",
      "metadata": {},
      "outputs": [],
      "source": [
        "import requests\n",
        "\n",
        "url = \"https://www.imdb.com/search/title\"\n",
        "\n",
        "headers = {\n",
        "    'User-Agent': 'Mozilla/5.0 (Windows NT 10.0; Win64; x64) AppleWebKit/537.36 (KHTML, like Gecko) Chrome/58.0.3029.110 Safari/537.36'\n",
        "}\n",
        "BeautifulSoup = requests.get(url, headers=headers)"
      ]
    },
    {
      "cell_type": "code",
      "execution_count": 24,
      "id": "6e71b030",
      "metadata": {},
      "outputs": [
        {
          "data": {
            "text/plain": [
              "<Response [200]>"
            ]
          },
          "execution_count": 24,
          "metadata": {},
          "output_type": "execute_result"
        }
      ],
      "source": [
        "BeautifulSoup"
      ]
    },
    {
      "cell_type": "code",
      "execution_count": 25,
      "id": "ebe3492b",
      "metadata": {},
      "outputs": [
        {
          "ename": "TypeError",
          "evalue": "'Response' object is not callable",
          "output_type": "error",
          "traceback": [
            "\u001b[1;31m---------------------------------------------------------------------------\u001b[0m",
            "\u001b[1;31mTypeError\u001b[0m                                 Traceback (most recent call last)",
            "Cell \u001b[1;32mIn[25], line 93\u001b[0m\n\u001b[0;32m     90\u001b[0m     \u001b[38;5;28;01mreturn\u001b[39;00m movie_df\n\u001b[0;32m     92\u001b[0m \u001b[38;5;66;03m# Uso del script con los parámetros solicitados\u001b[39;00m\n\u001b[1;32m---> 93\u001b[0m df \u001b[38;5;241m=\u001b[39m scrape_imdb(title_type\u001b[38;5;241m=\u001b[39m\u001b[38;5;124m'\u001b[39m\u001b[38;5;124mfeature\u001b[39m\u001b[38;5;124m'\u001b[39m, user_rating\u001b[38;5;241m=\u001b[39m\u001b[38;5;124m'\u001b[39m\u001b[38;5;124m7.5\u001b[39m\u001b[38;5;124m'\u001b[39m, start_date\u001b[38;5;241m=\u001b[39m\u001b[38;5;124m'\u001b[39m\u001b[38;5;124m1990\u001b[39m\u001b[38;5;124m'\u001b[39m, end_date\u001b[38;5;241m=\u001b[39m\u001b[38;5;124m'\u001b[39m\u001b[38;5;124m1992\u001b[39m\u001b[38;5;124m'\u001b[39m)\n\u001b[0;32m     95\u001b[0m \u001b[38;5;66;03m# Mostrar las primeras filas del DataFrame resultante\u001b[39;00m\n\u001b[0;32m     96\u001b[0m \u001b[38;5;28mprint\u001b[39m(df\u001b[38;5;241m.\u001b[39mhead())\n",
            "Cell \u001b[1;32mIn[25], line 27\u001b[0m, in \u001b[0;36mscrape_imdb\u001b[1;34m(title_type, user_rating, start_date, end_date)\u001b[0m\n\u001b[0;32m     25\u001b[0m \u001b[38;5;66;03m# Realiza la solicitud a IMDb\u001b[39;00m\n\u001b[0;32m     26\u001b[0m response \u001b[38;5;241m=\u001b[39m requests\u001b[38;5;241m.\u001b[39mget(base_url, params\u001b[38;5;241m=\u001b[39mparams)\n\u001b[1;32m---> 27\u001b[0m soup \u001b[38;5;241m=\u001b[39m BeautifulSoup(response\u001b[38;5;241m.\u001b[39mcontent, \u001b[38;5;124m'\u001b[39m\u001b[38;5;124mhtml.parser\u001b[39m\u001b[38;5;124m'\u001b[39m)\n\u001b[0;32m     29\u001b[0m \u001b[38;5;66;03m# Contenedores de películas\u001b[39;00m\n\u001b[0;32m     30\u001b[0m movies_list \u001b[38;5;241m=\u001b[39m soup\u001b[38;5;241m.\u001b[39mfind_all(\u001b[38;5;124m'\u001b[39m\u001b[38;5;124mdiv\u001b[39m\u001b[38;5;124m'\u001b[39m, class_\u001b[38;5;241m=\u001b[39m\u001b[38;5;124m'\u001b[39m\u001b[38;5;124mlister-item mode-advanced\u001b[39m\u001b[38;5;124m'\u001b[39m)\n",
            "\u001b[1;31mTypeError\u001b[0m: 'Response' object is not callable"
          ]
        }
      ],
      "source": [
        "# Función para convertir el ingreso bruto a millones de dólares\n",
        "def convert_gross_to_millions(gross):\n",
        "    if gross:\n",
        "        gross = gross.replace('$', '').replace('M', '').replace(',', '').strip()\n",
        "        try:\n",
        "            return float(gross)\n",
        "        except:\n",
        "            return None\n",
        "    return None\n",
        "\n",
        "# Función principal para realizar el scraping\n",
        "def scrape_imdb(title_type, user_rating, start_date, end_date):\n",
        "    base_url = \"https://www.imdb.com/search/title/\"\n",
        "    \n",
        "    # Parámetros de la URL\n",
        "    params = {\n",
        "        'title_type': title_type,\n",
        "        'release_date': f'{start_date},{end_date}',\n",
        "        'user_rating': f'{user_rating},',\n",
        "        'countries': 'us',  # Filtra solo por películas de EE. UU.\n",
        "        'languages': 'en',\n",
        "        'count': 250  # Máximo de títulos a mostrar por página\n",
        "    }\n",
        "    \n",
        "    # Realiza la solicitud a IMDb\n",
        "    response = requests.get(base_url, params=params)\n",
        "    soup = BeautifulSoup(response.content, 'html.parser')\n",
        "    \n",
        "    # Contenedores de películas\n",
        "    movies_list = soup.find_all('div', class_='lister-item mode-advanced')\n",
        "    \n",
        "    # Listas para almacenar los datos\n",
        "    movie_data = []\n",
        "    \n",
        "    # Iterar a través de cada película\n",
        "    for idx, movie in enumerate(movies_list, start=1):\n",
        "        # Extraer título\n",
        "        header = movie.find('h3', class_='lister-item-header')\n",
        "        title = header.find('a').text\n",
        "        year = header.find('span', class_='lister-item-year').text\n",
        "        year = re.sub(r'[^\\d]', '', year)  # Extraer solo el año\n",
        "        \n",
        "        # Extraer calificación\n",
        "        rating_tag = movie.find('div', class_='inline-block ratings-imdb-rating')\n",
        "        rating = float(rating_tag['data-value']) if rating_tag else None\n",
        "        \n",
        "        # Extraer duración\n",
        "        runtime_tag = movie.find('span', class_='runtime')\n",
        "        runtime = int(runtime_tag.text.replace('min', '').strip()) if runtime_tag else None\n",
        "        \n",
        "        # Extraer género\n",
        "        genre_tag = movie.find('span', class_='genre')\n",
        "        genre = genre_tag.text.strip() if genre_tag else None\n",
        "        \n",
        "        # Extraer descripción\n",
        "        description_tag = movie.find_all('p', class_='text-muted')\n",
        "        description = description_tag[1].text.strip() if len(description_tag) > 1 else None\n",
        "        \n",
        "        # Extraer director y estrellas\n",
        "        people = movie.find('p', class_='').text.strip().split('|')\n",
        "        director = people[0].replace('Director:', '').replace('Directors:', '').strip() if people else None\n",
        "        stars = people[1].replace('Stars:', '').strip() if len(people) > 1 else None\n",
        "        \n",
        "        # Extraer votos\n",
        "        votes_tag = movie.find('span', {'name': 'nv'})\n",
        "        votes = int(votes_tag['data-value']) if votes_tag else None\n",
        "        \n",
        "        # Extraer ingresos brutos\n",
        "        gross_tag = movie.find_all('span', {'name': 'nv'})\n",
        "        gross = convert_gross_to_millions(gross_tag[1]['data-value']) if len(gross_tag) > 1 else None\n",
        "        \n",
        "        # Guardar la información en una lista\n",
        "        movie_data.append({\n",
        "            'Movie Nr': idx,\n",
        "            'Title': title,\n",
        "            'Year': year,\n",
        "            'Rating': rating,\n",
        "            'Runtime (min)': runtime,\n",
        "            'Genre': genre,\n",
        "            'Description': description,\n",
        "            'Director': director,\n",
        "            'Stars': stars,\n",
        "            'Votes': votes,\n",
        "            'Gross ($M)': gross\n",
        "        })\n",
        "    \n",
        "    # Convertir los datos a un DataFrame de pandas\n",
        "    movie_df = pd.DataFrame(movie_data)\n",
        "    \n",
        "    return movie_df\n",
        "\n",
        "# Uso del script con los parámetros solicitados\n",
        "df = scrape_imdb(title_type='feature', user_rating='7.5', start_date='1990', end_date='1992')\n",
        "\n",
        "# Mostrar las primeras filas del DataFrame resultante\n",
        "print(df.head())"
      ]
    },
    {
      "cell_type": "markdown",
      "id": "9ab1217a-df9d-4a2b-a32c-2c5f1eecd52a",
      "metadata": {
        "id": "9ab1217a-df9d-4a2b-a32c-2c5f1eecd52a"
      },
      "source": [
        "## BONUS\n",
        "\n",
        "The search results span multiple pages, housing a total of 631 movies in our example with each page displaying 50 movies at most. To scrape data seamlessly from all pages, you'll need to dive deep into the structure of the URLs generated with each \"Next\" click.\n",
        "\n",
        "Take a close look at the following URLs:\n",
        "- First page:\n",
        "  ```\n",
        "  https://www.imdb.com/search/title/?title_type=feature&release_date=1990-01-01,1992-12-31&user_rating=7.5,\n",
        "  ```\n",
        "- Second page:\n",
        "  ```\n",
        "  https://www.imdb.com/search/title/?title_type=feature&release_date=1990-01-01,1992-12-31&user_rating=7.5,&start=51&ref_=adv_nxt\n",
        "  ```\n",
        "- Third page:\n",
        "  ```\n",
        "  https://www.imdb.com/search/title/?title_type=feature&release_date=1990-01-01,1992-12-31&user_rating=7.5,&start=101&ref_=adv_nxt\n",
        "  ```\n",
        "\n",
        "You should notice a pattern. There is a `start` parameter incrementing by 50 with each page, paired with a constant `ref_` parameter holding the value \"adv_nxt\".\n",
        "\n",
        "Modify your script so it's capable of iterating over all available pages to fetch data on all the 631 movies (631 is the total number of movies in the proposed example)."
      ]
    },
    {
      "cell_type": "code",
      "execution_count": null,
      "id": "21ac4fc0-a12b-4a00-9266-2020166f0dea",
      "metadata": {
        "id": "21ac4fc0-a12b-4a00-9266-2020166f0dea"
      },
      "outputs": [],
      "source": [
        "# Your solution goes here"
      ]
    }
  ],
  "metadata": {
    "colab": {
      "provenance": []
    },
    "kernelspec": {
      "display_name": "Python 3 (ipykernel)",
      "language": "python",
      "name": "python3"
    },
    "language_info": {
      "codemirror_mode": {
        "name": "ipython",
        "version": 3
      },
      "file_extension": ".py",
      "mimetype": "text/x-python",
      "name": "python",
      "nbconvert_exporter": "python",
      "pygments_lexer": "ipython3",
      "version": "3.12.4"
    }
  },
  "nbformat": 4,
  "nbformat_minor": 5
}
