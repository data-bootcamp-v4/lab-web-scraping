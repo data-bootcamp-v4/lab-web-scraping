{
  "cells": [
    {
      "cell_type": "markdown",
      "id": "7e7a1ab8-2599-417d-9a65-25ef07f3a786",
      "metadata": {
        "id": "7e7a1ab8-2599-417d-9a65-25ef07f3a786"
      },
      "source": [
        "# Lab | Web Scraping"
      ]
    },
    {
      "cell_type": "markdown",
      "id": "ce8882fc-4815-4567-92fa-b4816358ba7d",
      "metadata": {
        "id": "ce8882fc-4815-4567-92fa-b4816358ba7d"
      },
      "source": [
        "Welcome to the IMDb Web Scraping Adventure Lab!\n",
        "\n",
        "**Objective**\n",
        "\n",
        "In this lab, we will embark on a mission to unearth valuable insights from the vast sea of data available on IMDb, one of the largest online databases of movie, TV, and celebrity information. As budding data scientists and business analysts, you have been tasked to scrape a specific subset of data from IMDb to assist film production companies in understanding the landscape of highly-rated movies in a defined time period. Your insights will potentially influence the making of the next netflix movie!\n",
        "\n",
        "**Background**\n",
        "\n",
        "In a world where data has become the new currency, businesses are leveraging big data to make informed decisions that drive success and profitability. The entertainment industry, being no exception, utilizes data analytics to comprehend market trends, audience preferences, and the performance of films based on various parameters such as director, genre, stars involved, etc. IMDb stands as a goldmine of such data, offering intricate details of almost every movie ever made.\n",
        "\n",
        "**Task**\n",
        "\n",
        "Your task is to create a Python script using `BeautifulSoup` and `pandas` to scrape IMDb movie data based on user ratings and release dates. This script should be able to filter movies with ratings above a certain threshold and within a specified date range.\n",
        "\n",
        "**Expected Outcome**\n",
        "\n",
        "- A function named `scrape_imdb` that takes four parameters: `title_type`,`user_rating`, `start_date`, and `end_date`.\n",
        "- The function should return a DataFrame with the following columns:\n",
        "  - **Movie Nr**: The number representing the movie’s position in the list.\n",
        "  - **Title**: The title of the movie.\n",
        "  - **Year**: The year the movie was released.\n",
        "  - **Rating**: The IMDb rating of the movie.\n",
        "  - **Runtime (min)**: The duration of the movie in minutes.\n",
        "  - **Genre**: The genre of the movie.\n",
        "  - **Description**: A brief description of the movie.\n",
        "  - **Director**: The director of the movie.\n",
        "  - **Stars**: The main stars of the movie.\n",
        "  - **Votes**: The number of votes the movie received.\n",
        "  - **Gross ($M)**: The gross earnings of the movie in millions of USD.\n",
        "\n",
        "You will execute this script to scrape data for movies with the Title Type `Feature Film` that have a user rating of `7.5 and above` and were released between `January 1, 1990, and December 31, 1992`.\n",
        "\n",
        "Remember to experiment with different title types, dates and ratings to ensure your code is versatile and can handle various searches effectively!\n",
        "\n",
        "**Resources**\n",
        "\n",
        "- [Beautiful Soup Documentation](https://www.crummy.com/software/BeautifulSoup/bs4/doc/)\n",
        "- [Pandas Documentation](https://pandas.pydata.org/pandas-docs/stable/index.html)\n",
        "- [IMDb Advanced Search](https://www.imdb.com/search/title/)\n"
      ]
    },
    {
      "cell_type": "markdown",
      "id": "3519921d-5890-445b-9a33-934ed8ee378c",
      "metadata": {
        "id": "3519921d-5890-445b-9a33-934ed8ee378c"
      },
      "source": [
        "**Hint**\n",
        "\n",
        "Your first mission is to familiarize yourself with the IMDb advanced search page. Head over to [IMDb advanced search](https://www.imdb.com/search/title/) and input the following parameters, keeping all other fields to their default values or blank:\n",
        "\n",
        "- **Title Type**: Feature film\n",
        "- **Release date**: From 1990 to 1992 (Note: You don't need to specify the day and month)\n",
        "- **User Rating**: 7.5 to -\n",
        "\n",
        "Upon searching, you'll land on a page showcasing a list of movies, each displaying vital details such as the title, release year, and crew information. Your task is to scrape this treasure trove of data.\n",
        "\n",
        "Carefully examine the resulting URL and construct your own URL to include all the necessary parameters for filtering the movies."
      ]
    },
    {
      "cell_type": "markdown",
      "id": "25a83a0d-a742-49f6-985e-e27887cbf922",
      "metadata": {
        "id": "25a83a0d-a742-49f6-985e-e27887cbf922"
      },
      "source": [
        "\n",
        "---\n",
        "\n",
        "**Best of luck! Immerse yourself in the world of movies and may the data be with you!**"
      ]
    },
    {
      "cell_type": "markdown",
      "id": "7b75cf0d-9afa-4eec-a9e2-befeac68b2a0",
      "metadata": {
        "id": "7b75cf0d-9afa-4eec-a9e2-befeac68b2a0"
      },
      "source": [
        "**Important note**:\n",
        "\n",
        "In the fast-changing online world, websites often get updates and make changes. When you try this lab, the IMDb website might be different from what we expect.\n",
        "\n",
        "If you run into problems because of these changes, like new rules or things that stop you from getting data, don't worry! Instead, get creative.\n",
        "\n",
        "You can choose another website that interests you and is good for scraping data. Websites like Wikipedia or The New York Times are good options. The main goal is still the same: get useful data and learn how to scrape it from a website that you find interesting. It's a chance to practice your web scraping skills and explore a source of information you like."
      ]
    },
    {
      "cell_type": "code",
      "execution_count": 6,
      "id": "40359eee-9cd7-4884-bfa4-83344c222305",
      "metadata": {
        "id": "40359eee-9cd7-4884-bfa4-83344c222305"
      },
      "outputs": [
        {
          "data": {
            "text/plain": [
              "<Response [200]>"
            ]
          },
          "execution_count": 6,
          "metadata": {},
          "output_type": "execute_result"
        }
      ],
      "source": [
        "# Your solution goes here\n",
        "\n",
        "import requests\n",
        "from bs4 import BeautifulSoup\n",
        "url = \"https://www.imdb.com/search/title/?title_type=feature&release_date=1990-01-01,1992-12-31&user_rating=7.5,\"\n",
        "\n",
        "headers = { \"User-Agent\": \"Chrome/91.0.4472.114\" }\n",
        "response = requests.get(url, headers=headers)\n",
        "\n",
        "response #successfully load the webpage"
      ]
    },
    {
      "cell_type": "code",
      "execution_count": 100,
      "id": "7bbee46b",
      "metadata": {},
      "outputs": [
        {
          "data": {
            "text/plain": [
              "25"
            ]
          },
          "execution_count": 100,
          "metadata": {},
          "output_type": "execute_result"
        }
      ],
      "source": [
        "movies = soup.find_all(\"div\",attrs={\"class\":\"ipc-metadata-list-summary-item__c\"})\n",
        "len(movies)"
      ]
    },
    {
      "cell_type": "code",
      "execution_count": 92,
      "id": "46d8b5dd",
      "metadata": {},
      "outputs": [
        {
          "data": {
            "text/plain": [
              "'1. O Silêncio dos Inocentes'"
            ]
          },
          "execution_count": 92,
          "metadata": {},
          "output_type": "execute_result"
        }
      ],
      "source": [
        "from bs4 import BeautifulSoup\n",
        "soup =BeautifulSoup(response.content)\n",
        "movies[0].find_all(\"h3\",attrs={\"ipc-title__text\"})[0].get_text()\n",
        "\n",
        "#extracting the movie title and position in the page as well"
      ]
    },
    {
      "cell_type": "code",
      "execution_count": 93,
      "id": "8f0b9cae",
      "metadata": {},
      "outputs": [
        {
          "data": {
            "text/plain": [
              "'1991'"
            ]
          },
          "execution_count": 93,
          "metadata": {},
          "output_type": "execute_result"
        }
      ],
      "source": [
        "movies[0].find_all(\"span\",attrs={\"sc-b189961a-8 kLaxqf dli-title-metadata-item\"})[0].get_text()\n",
        "#extracting the release year"
      ]
    },
    {
      "cell_type": "code",
      "execution_count": 95,
      "id": "29ded99a",
      "metadata": {},
      "outputs": [
        {
          "data": {
            "text/plain": [
              "'8.6'"
            ]
          },
          "execution_count": 95,
          "metadata": {},
          "output_type": "execute_result"
        }
      ],
      "source": [
        "movies[0].find_all(\"span\",attrs={\"ipc-rating-star--rating\"})[0].get_text()\n",
        "#extracting the movie rating"
      ]
    },
    {
      "cell_type": "code",
      "execution_count": 96,
      "id": "dbb0d249",
      "metadata": {},
      "outputs": [
        {
          "data": {
            "text/plain": [
              "'1h 58m'"
            ]
          },
          "execution_count": 96,
          "metadata": {},
          "output_type": "execute_result"
        }
      ],
      "source": [
        "movies[0].find_all(\"span\",attrs={\"sc-b189961a-8 kLaxqf dli-title-metadata-item\"})[1].get_text()\n",
        "#extracting the movie runtime"
      ]
    },
    {
      "cell_type": "code",
      "execution_count": 97,
      "id": "faf2697d",
      "metadata": {},
      "outputs": [
        {
          "data": {
            "text/plain": [
              "'A young F.B.I. cadet must receive the help of an incarcerated and manipulative cannibal killer to help catch another serial killer, a madman who skins his victims.'"
            ]
          },
          "execution_count": 97,
          "metadata": {},
          "output_type": "execute_result"
        }
      ],
      "source": [
        "movies[0].find_all(\"div\",attrs={\"ipc-html-content-inner-div\"})[0].get_text()\n",
        "#extracting the description"
      ]
    },
    {
      "cell_type": "code",
      "execution_count": 98,
      "metadata": {},
      "outputs": [
        {
          "data": {
            "text/plain": [
              "'1.6M'"
            ]
          },
          "execution_count": 98,
          "metadata": {},
          "output_type": "execute_result"
        }
      ],
      "source": [
        "movies[0].find_all(\"span\",attrs={\"ipc-rating-star--voteCount\"})[0].get_text().strip('\\xa0()')\n",
        "#extracting the votes"
      ]
    },
    {
      "cell_type": "code",
      "execution_count": 102,
      "id": "4e067cd1",
      "metadata": {},
      "outputs": [
        {
          "data": {
            "text/plain": [
              "{0: {'title': '1. O Silêncio dos Inocentes',\n",
              "  'year': '1991',\n",
              "  'rating': '8.6',\n",
              "  'runtime': '1h 58m',\n",
              "  'description': 'A young F.B.I. cadet must receive the help of an incarcerated and manipulative cannibal killer to help catch another serial killer, a madman who skins his victims.',\n",
              "  'votes': '1.6M'},\n",
              " 1: {'title': '2. Tudo Bons Rapazes',\n",
              "  'year': '1990',\n",
              "  'rating': '8.7',\n",
              "  'runtime': '2h 25m',\n",
              "  'description': 'The story of Henry Hill and his life in the mafia, covering his relationship with his wife Karen and his mob partners Jimmy Conway and Tommy DeVito.',\n",
              "  'votes': '1.3M'},\n",
              " 2: {'title': '3. O Meu Primo Vinny',\n",
              "  'year': '1992',\n",
              "  'rating': '7.6',\n",
              "  'runtime': '2h',\n",
              "  'description': 'Two New Yorkers accused of murder in rural Alabama while on their way back to college call in the help of one of their cousins, a loudmouth lawyer with no trial experience.',\n",
              "  'votes': '143K'},\n",
              " 3: {'title': '4. Exterminador Implacável 2 - O Dia do Julgamento',\n",
              "  'year': '1991',\n",
              "  'rating': '8.6',\n",
              "  'runtime': '2h 17m',\n",
              "  'description': 'A cyborg, identical to the one who failed to kill Sarah Connor, must now protect her ten year old son John from an even more advanced and powerful cyborg.',\n",
              "  'votes': '1.2M'},\n",
              " 4: {'title': '5. Mulheres do Sul',\n",
              "  'year': '1991',\n",
              "  'rating': '7.7',\n",
              "  'runtime': '2h 10m',\n",
              "  'description': 'Evelyn, an ordinary housewife, visits a nursing home and befriends the old lady Ninny. Together, they bond over stories from the past about two intrepid women of Whistle Stop Cafe.',\n",
              "  'votes': '85K'},\n",
              " 5: {'title': '6. Imperdoável',\n",
              "  'year': '1992',\n",
              "  'rating': '8.2',\n",
              "  'runtime': '2h 10m',\n",
              "  'description': 'Retired Old West gunslinger William Munny reluctantly takes on one last job, with the help of his old partner Ned Logan and a young man, The \"Schofield Kid.\"',\n",
              "  'votes': '439K'},\n",
              " 6: {'title': '7. Cães Danados',\n",
              "  'year': '1992',\n",
              "  'rating': '8.3',\n",
              "  'runtime': '1h 39m',\n",
              "  'description': 'When a simple jewelry heist goes horribly wrong, the surviving criminals begin to suspect that one of them is a police informant.',\n",
              "  'votes': '1.1M'},\n",
              " 7: {'title': '8. Danças com Lobos',\n",
              "  'year': '1990',\n",
              "  'rating': '8.0',\n",
              "  'runtime': '3h 1m',\n",
              "  'description': 'Lieutenant John Dunbar, assigned to a remote western Civil War outpost, finds himself engaging with a neighbouring Sioux settlement, causing him to question his own purpose.',\n",
              "  'votes': '294K'},\n",
              " 8: {'title': '9. Sozinho em Casa',\n",
              "  'year': '1990',\n",
              "  'rating': '7.7',\n",
              "  'runtime': '1h 43m',\n",
              "  'description': 'An eight-year-old troublemaker, mistakenly left home alone, must defend his home against a pair of burglars on Christmas Eve.',\n",
              "  'votes': '658K'},\n",
              " 9: {'title': '10. JFK',\n",
              "  'year': '1991',\n",
              "  'rating': '8.0',\n",
              "  'runtime': '3h 9m',\n",
              "  'description': \"New Orleans District Attorney Jim Garrison discovers there's more to the Kennedy assassination than the official story.\",\n",
              "  'votes': '171K'},\n",
              " 10: {'title': '11. Desafio Total',\n",
              "  'year': '1990',\n",
              "  'rating': '7.5',\n",
              "  'runtime': '1h 53m',\n",
              "  'description': 'When a man goes in to have virtual vacation memories of the planet Mars implanted in his mind, an unexpected and harrowing series of events forces him to go to the planet for real - or is he?',\n",
              "  'votes': '357K'},\n",
              " 11: {'title': '12. Uma Questão de Honra',\n",
              "  'year': '1992',\n",
              "  'rating': '7.7',\n",
              "  'runtime': '2h 18m',\n",
              "  'description': 'Lt. Daniel Kaffee, a US military lawyer, defends two US marines charged with murdering a fellow marine at the Guantanamo Bay Naval Base in Cuba. The needle of suspicion, however, points to a colonel.',\n",
              "  'votes': '291K'},\n",
              " 12: {'title': '13. Perfume de Mulher',\n",
              "  'year': '1992',\n",
              "  'rating': '8.0',\n",
              "  'runtime': '2h 36m',\n",
              "  'description': 'A prep school student needing money agrees to \"babysit\" a blind man, but the job is not at all what he anticipated.',\n",
              "  'votes': '333K'},\n",
              " 13: {'title': '14. Eduardo Mãos de Tesoura',\n",
              "  'year': '1990',\n",
              "  'rating': '7.9',\n",
              "  'runtime': '1h 45m',\n",
              "  'description': 'The solitary life of an artificial man - who was incompletely constructed and has scissors for hands - is upended when he is taken in by a suburban family.',\n",
              "  'votes': '528K'},\n",
              " 14: {'title': '15. O Último dos Moicanos',\n",
              "  'year': '1992',\n",
              "  'rating': '7.6',\n",
              "  'runtime': '1h 52m',\n",
              "  'description': 'Three trappers protect the daughters of a British Colonel in the midst of the French and Indian War.',\n",
              "  'votes': '190K'},\n",
              " 15: {'title': '16. A Malta do Bairro',\n",
              "  'year': '1991',\n",
              "  'rating': '7.8',\n",
              "  'runtime': '1h 52m',\n",
              "  'description': 'Follows the lives of three young males living in the Crenshaw ghetto of Los Angeles, dissecting questions of race, relationships, violence, and future prospects.',\n",
              "  'votes': '156K'},\n",
              " 16: {'title': '17. Misery - O Capítulo Final',\n",
              "  'year': '1990',\n",
              "  'rating': '7.8',\n",
              "  'runtime': '1h 47m',\n",
              "  'description': 'After a famous author is rescued from a car crash by a fan of his novels, he comes to realize that the care he is receiving is only the beginning of a nightmare of captivity and abuse.',\n",
              "  'votes': '238K'},\n",
              " 17: {'title': '18. Caça ao Outubro Vermelho',\n",
              "  'year': '1990',\n",
              "  'rating': '7.5',\n",
              "  'runtime': '2h 15m',\n",
              "  'description': \"In November 1984, the Soviet Union's best submarine captain violates orders and heads for the U.S. in a new undetectable sub. The American CIA and military must quickly determine: Is he trying to defect or to start a war?\",\n",
              "  'votes': '217K'},\n",
              " 18: {'title': '19. Aladdin',\n",
              "  'year': '1992',\n",
              "  'rating': '8.0',\n",
              "  'runtime': '1h 30m',\n",
              "  'description': 'A kind-hearted street urchin and a power-hungry Grand Vizier vie for a magic lamp that has the power to make their deepest wishes come true.',\n",
              "  'votes': '472K'},\n",
              " 19: {'title': '20. O Padrinho: Parte III',\n",
              "  'year': '1990',\n",
              "  'rating': '7.6',\n",
              "  'runtime': '2h 42m',\n",
              "  'description': 'Follows Michael Corleone, now in his 60s, as he seeks to free his family from crime and find a suitable successor to his empire.',\n",
              "  'votes': '427K'},\n",
              " 20: {'title': '21. Thelma e Louise',\n",
              "  'year': '1991',\n",
              "  'rating': '7.6',\n",
              "  'runtime': '2h 10m',\n",
              "  'description': 'Two best friends set out on an adventure, but it soon turns around to a terrifying escape from being hunted by the police, as these two women escape for the crimes they committed.',\n",
              "  'votes': '175K'},\n",
              " 21: {'title': '22. A Bela e o Monstro',\n",
              "  'year': '1991',\n",
              "  'rating': '8.0',\n",
              "  'runtime': '1h 24m',\n",
              "  'description': \"A prince cursed to spend his days as a hideous monster sets out to regain his humanity by earning a young woman's love.\",\n",
              "  'votes': '482K'},\n",
              " 22: {'title': '23. Morte Cerebral',\n",
              "  'year': '1992',\n",
              "  'rating': '7.5',\n",
              "  'runtime': '1h 44m',\n",
              "  'description': \"A young man's mother is bitten by a Sumatran rat-monkey. She gets sick and dies, at which time she comes back to life, killing and eating dogs, nurses, friends, and neighbors.\",\n",
              "  'votes': '104K'},\n",
              " 23: {'title': '24. Sucesso a Qualquer Preço',\n",
              "  'year': '1992',\n",
              "  'rating': '7.7',\n",
              "  'runtime': '1h 40m',\n",
              "  'description': 'An examination of the machinations behind the scenes at a real estate office.',\n",
              "  'votes': '118K'},\n",
              " 24: {'title': '25. Chaplin',\n",
              "  'year': '1992',\n",
              "  'rating': '7.5',\n",
              "  'runtime': '2h 23m',\n",
              "  'description': 'An elderly Charlie Chaplin discusses his autobiography with his editor, recounting his amazing journey from his poverty-stricken childhood to world-wide success after the ingenious invention of the Little Tramp.',\n",
              "  'votes': '63K'}}"
            ]
          },
          "execution_count": 102,
          "metadata": {},
          "output_type": "execute_result"
        }
      ],
      "source": [
        "#get all item data\n",
        "movies_dict = {}\n",
        "index = 0\n",
        "\n",
        "for movie in movies:\n",
        "    title = movie.find_all(\"h3\",attrs={\"ipc-title__text\"})[0].get_text()\n",
        "    year = movie.find_all(\"span\",attrs={\"sc-b189961a-8 kLaxqf dli-title-metadata-item\"})[0].get_text()\n",
        "    rating = movie.find_all(\"span\",attrs={\"ipc-rating-star--rating\"})[0].get_text()\n",
        "    runtime = movie.find_all(\"span\",attrs={\"sc-b189961a-8 kLaxqf dli-title-metadata-item\"})[1].get_text()\n",
        "    description = movie.find_all(\"div\",attrs={\"ipc-html-content-inner-div\"})[0].get_text()\n",
        "    votes = movie.find_all(\"span\",attrs={\"ipc-rating-star--voteCount\"})[0].get_text().strip('\\xa0()')\n",
        "\n",
        "    movies_dict[index] = {\"title\":title,\n",
        "                          \"year\":year,\n",
        "                          \"rating\":rating,\n",
        "                          \"runtime\":runtime,\n",
        "                          \"description\":description,\n",
        "                          \"votes\":votes}\n",
        "\n",
        "    index+=1\n",
        "\n",
        "movies_dict"
      ]
    },
    {
      "cell_type": "code",
      "execution_count": 103,
      "id": "a101e47b",
      "metadata": {},
      "outputs": [
        {
          "data": {
            "text/html": [
              "<div>\n",
              "<style scoped>\n",
              "    .dataframe tbody tr th:only-of-type {\n",
              "        vertical-align: middle;\n",
              "    }\n",
              "\n",
              "    .dataframe tbody tr th {\n",
              "        vertical-align: top;\n",
              "    }\n",
              "\n",
              "    .dataframe thead th {\n",
              "        text-align: right;\n",
              "    }\n",
              "</style>\n",
              "<table border=\"1\" class=\"dataframe\">\n",
              "  <thead>\n",
              "    <tr style=\"text-align: right;\">\n",
              "      <th></th>\n",
              "      <th>title</th>\n",
              "      <th>year</th>\n",
              "      <th>rating</th>\n",
              "      <th>runtime</th>\n",
              "      <th>description</th>\n",
              "      <th>votes</th>\n",
              "    </tr>\n",
              "  </thead>\n",
              "  <tbody>\n",
              "    <tr>\n",
              "      <th>0</th>\n",
              "      <td>1. O Silêncio dos Inocentes</td>\n",
              "      <td>1991</td>\n",
              "      <td>8.6</td>\n",
              "      <td>1h 58m</td>\n",
              "      <td>A young F.B.I. cadet must receive the help of ...</td>\n",
              "      <td>1.6M</td>\n",
              "    </tr>\n",
              "    <tr>\n",
              "      <th>1</th>\n",
              "      <td>2. Tudo Bons Rapazes</td>\n",
              "      <td>1990</td>\n",
              "      <td>8.7</td>\n",
              "      <td>2h 25m</td>\n",
              "      <td>The story of Henry Hill and his life in the ma...</td>\n",
              "      <td>1.3M</td>\n",
              "    </tr>\n",
              "    <tr>\n",
              "      <th>2</th>\n",
              "      <td>3. O Meu Primo Vinny</td>\n",
              "      <td>1992</td>\n",
              "      <td>7.6</td>\n",
              "      <td>2h</td>\n",
              "      <td>Two New Yorkers accused of murder in rural Ala...</td>\n",
              "      <td>143K</td>\n",
              "    </tr>\n",
              "    <tr>\n",
              "      <th>3</th>\n",
              "      <td>4. Exterminador Implacável 2 - O Dia do Julgam...</td>\n",
              "      <td>1991</td>\n",
              "      <td>8.6</td>\n",
              "      <td>2h 17m</td>\n",
              "      <td>A cyborg, identical to the one who failed to k...</td>\n",
              "      <td>1.2M</td>\n",
              "    </tr>\n",
              "    <tr>\n",
              "      <th>4</th>\n",
              "      <td>5. Mulheres do Sul</td>\n",
              "      <td>1991</td>\n",
              "      <td>7.7</td>\n",
              "      <td>2h 10m</td>\n",
              "      <td>Evelyn, an ordinary housewife, visits a nursin...</td>\n",
              "      <td>85K</td>\n",
              "    </tr>\n",
              "    <tr>\n",
              "      <th>5</th>\n",
              "      <td>6. Imperdoável</td>\n",
              "      <td>1992</td>\n",
              "      <td>8.2</td>\n",
              "      <td>2h 10m</td>\n",
              "      <td>Retired Old West gunslinger William Munny relu...</td>\n",
              "      <td>439K</td>\n",
              "    </tr>\n",
              "    <tr>\n",
              "      <th>6</th>\n",
              "      <td>7. Cães Danados</td>\n",
              "      <td>1992</td>\n",
              "      <td>8.3</td>\n",
              "      <td>1h 39m</td>\n",
              "      <td>When a simple jewelry heist goes horribly wron...</td>\n",
              "      <td>1.1M</td>\n",
              "    </tr>\n",
              "    <tr>\n",
              "      <th>7</th>\n",
              "      <td>8. Danças com Lobos</td>\n",
              "      <td>1990</td>\n",
              "      <td>8.0</td>\n",
              "      <td>3h 1m</td>\n",
              "      <td>Lieutenant John Dunbar, assigned to a remote w...</td>\n",
              "      <td>294K</td>\n",
              "    </tr>\n",
              "    <tr>\n",
              "      <th>8</th>\n",
              "      <td>9. Sozinho em Casa</td>\n",
              "      <td>1990</td>\n",
              "      <td>7.7</td>\n",
              "      <td>1h 43m</td>\n",
              "      <td>An eight-year-old troublemaker, mistakenly lef...</td>\n",
              "      <td>658K</td>\n",
              "    </tr>\n",
              "    <tr>\n",
              "      <th>9</th>\n",
              "      <td>10. JFK</td>\n",
              "      <td>1991</td>\n",
              "      <td>8.0</td>\n",
              "      <td>3h 9m</td>\n",
              "      <td>New Orleans District Attorney Jim Garrison dis...</td>\n",
              "      <td>171K</td>\n",
              "    </tr>\n",
              "    <tr>\n",
              "      <th>10</th>\n",
              "      <td>11. Desafio Total</td>\n",
              "      <td>1990</td>\n",
              "      <td>7.5</td>\n",
              "      <td>1h 53m</td>\n",
              "      <td>When a man goes in to have virtual vacation me...</td>\n",
              "      <td>357K</td>\n",
              "    </tr>\n",
              "    <tr>\n",
              "      <th>11</th>\n",
              "      <td>12. Uma Questão de Honra</td>\n",
              "      <td>1992</td>\n",
              "      <td>7.7</td>\n",
              "      <td>2h 18m</td>\n",
              "      <td>Lt. Daniel Kaffee, a US military lawyer, defen...</td>\n",
              "      <td>291K</td>\n",
              "    </tr>\n",
              "    <tr>\n",
              "      <th>12</th>\n",
              "      <td>13. Perfume de Mulher</td>\n",
              "      <td>1992</td>\n",
              "      <td>8.0</td>\n",
              "      <td>2h 36m</td>\n",
              "      <td>A prep school student needing money agrees to ...</td>\n",
              "      <td>333K</td>\n",
              "    </tr>\n",
              "    <tr>\n",
              "      <th>13</th>\n",
              "      <td>14. Eduardo Mãos de Tesoura</td>\n",
              "      <td>1990</td>\n",
              "      <td>7.9</td>\n",
              "      <td>1h 45m</td>\n",
              "      <td>The solitary life of an artificial man - who w...</td>\n",
              "      <td>528K</td>\n",
              "    </tr>\n",
              "    <tr>\n",
              "      <th>14</th>\n",
              "      <td>15. O Último dos Moicanos</td>\n",
              "      <td>1992</td>\n",
              "      <td>7.6</td>\n",
              "      <td>1h 52m</td>\n",
              "      <td>Three trappers protect the daughters of a Brit...</td>\n",
              "      <td>190K</td>\n",
              "    </tr>\n",
              "    <tr>\n",
              "      <th>15</th>\n",
              "      <td>16. A Malta do Bairro</td>\n",
              "      <td>1991</td>\n",
              "      <td>7.8</td>\n",
              "      <td>1h 52m</td>\n",
              "      <td>Follows the lives of three young males living ...</td>\n",
              "      <td>156K</td>\n",
              "    </tr>\n",
              "    <tr>\n",
              "      <th>16</th>\n",
              "      <td>17. Misery - O Capítulo Final</td>\n",
              "      <td>1990</td>\n",
              "      <td>7.8</td>\n",
              "      <td>1h 47m</td>\n",
              "      <td>After a famous author is rescued from a car cr...</td>\n",
              "      <td>238K</td>\n",
              "    </tr>\n",
              "    <tr>\n",
              "      <th>17</th>\n",
              "      <td>18. Caça ao Outubro Vermelho</td>\n",
              "      <td>1990</td>\n",
              "      <td>7.5</td>\n",
              "      <td>2h 15m</td>\n",
              "      <td>In November 1984, the Soviet Union's best subm...</td>\n",
              "      <td>217K</td>\n",
              "    </tr>\n",
              "    <tr>\n",
              "      <th>18</th>\n",
              "      <td>19. Aladdin</td>\n",
              "      <td>1992</td>\n",
              "      <td>8.0</td>\n",
              "      <td>1h 30m</td>\n",
              "      <td>A kind-hearted street urchin and a power-hungr...</td>\n",
              "      <td>472K</td>\n",
              "    </tr>\n",
              "    <tr>\n",
              "      <th>19</th>\n",
              "      <td>20. O Padrinho: Parte III</td>\n",
              "      <td>1990</td>\n",
              "      <td>7.6</td>\n",
              "      <td>2h 42m</td>\n",
              "      <td>Follows Michael Corleone, now in his 60s, as h...</td>\n",
              "      <td>427K</td>\n",
              "    </tr>\n",
              "    <tr>\n",
              "      <th>20</th>\n",
              "      <td>21. Thelma e Louise</td>\n",
              "      <td>1991</td>\n",
              "      <td>7.6</td>\n",
              "      <td>2h 10m</td>\n",
              "      <td>Two best friends set out on an adventure, but ...</td>\n",
              "      <td>175K</td>\n",
              "    </tr>\n",
              "    <tr>\n",
              "      <th>21</th>\n",
              "      <td>22. A Bela e o Monstro</td>\n",
              "      <td>1991</td>\n",
              "      <td>8.0</td>\n",
              "      <td>1h 24m</td>\n",
              "      <td>A prince cursed to spend his days as a hideous...</td>\n",
              "      <td>482K</td>\n",
              "    </tr>\n",
              "    <tr>\n",
              "      <th>22</th>\n",
              "      <td>23. Morte Cerebral</td>\n",
              "      <td>1992</td>\n",
              "      <td>7.5</td>\n",
              "      <td>1h 44m</td>\n",
              "      <td>A young man's mother is bitten by a Sumatran r...</td>\n",
              "      <td>104K</td>\n",
              "    </tr>\n",
              "    <tr>\n",
              "      <th>23</th>\n",
              "      <td>24. Sucesso a Qualquer Preço</td>\n",
              "      <td>1992</td>\n",
              "      <td>7.7</td>\n",
              "      <td>1h 40m</td>\n",
              "      <td>An examination of the machinations behind the ...</td>\n",
              "      <td>118K</td>\n",
              "    </tr>\n",
              "    <tr>\n",
              "      <th>24</th>\n",
              "      <td>25. Chaplin</td>\n",
              "      <td>1992</td>\n",
              "      <td>7.5</td>\n",
              "      <td>2h 23m</td>\n",
              "      <td>An elderly Charlie Chaplin discusses his autob...</td>\n",
              "      <td>63K</td>\n",
              "    </tr>\n",
              "  </tbody>\n",
              "</table>\n",
              "</div>"
            ],
            "text/plain": [
              "                                                title  year rating runtime  \\\n",
              "0                         1. O Silêncio dos Inocentes  1991    8.6  1h 58m   \n",
              "1                                2. Tudo Bons Rapazes  1990    8.7  2h 25m   \n",
              "2                                3. O Meu Primo Vinny  1992    7.6      2h   \n",
              "3   4. Exterminador Implacável 2 - O Dia do Julgam...  1991    8.6  2h 17m   \n",
              "4                                  5. Mulheres do Sul  1991    7.7  2h 10m   \n",
              "5                                      6. Imperdoável  1992    8.2  2h 10m   \n",
              "6                                     7. Cães Danados  1992    8.3  1h 39m   \n",
              "7                                 8. Danças com Lobos  1990    8.0   3h 1m   \n",
              "8                                  9. Sozinho em Casa  1990    7.7  1h 43m   \n",
              "9                                             10. JFK  1991    8.0   3h 9m   \n",
              "10                                  11. Desafio Total  1990    7.5  1h 53m   \n",
              "11                           12. Uma Questão de Honra  1992    7.7  2h 18m   \n",
              "12                              13. Perfume de Mulher  1992    8.0  2h 36m   \n",
              "13                        14. Eduardo Mãos de Tesoura  1990    7.9  1h 45m   \n",
              "14                          15. O Último dos Moicanos  1992    7.6  1h 52m   \n",
              "15                              16. A Malta do Bairro  1991    7.8  1h 52m   \n",
              "16                      17. Misery - O Capítulo Final  1990    7.8  1h 47m   \n",
              "17                       18. Caça ao Outubro Vermelho  1990    7.5  2h 15m   \n",
              "18                                        19. Aladdin  1992    8.0  1h 30m   \n",
              "19                          20. O Padrinho: Parte III  1990    7.6  2h 42m   \n",
              "20                                21. Thelma e Louise  1991    7.6  2h 10m   \n",
              "21                             22. A Bela e o Monstro  1991    8.0  1h 24m   \n",
              "22                                 23. Morte Cerebral  1992    7.5  1h 44m   \n",
              "23                       24. Sucesso a Qualquer Preço  1992    7.7  1h 40m   \n",
              "24                                        25. Chaplin  1992    7.5  2h 23m   \n",
              "\n",
              "                                          description votes  \n",
              "0   A young F.B.I. cadet must receive the help of ...  1.6M  \n",
              "1   The story of Henry Hill and his life in the ma...  1.3M  \n",
              "2   Two New Yorkers accused of murder in rural Ala...  143K  \n",
              "3   A cyborg, identical to the one who failed to k...  1.2M  \n",
              "4   Evelyn, an ordinary housewife, visits a nursin...   85K  \n",
              "5   Retired Old West gunslinger William Munny relu...  439K  \n",
              "6   When a simple jewelry heist goes horribly wron...  1.1M  \n",
              "7   Lieutenant John Dunbar, assigned to a remote w...  294K  \n",
              "8   An eight-year-old troublemaker, mistakenly lef...  658K  \n",
              "9   New Orleans District Attorney Jim Garrison dis...  171K  \n",
              "10  When a man goes in to have virtual vacation me...  357K  \n",
              "11  Lt. Daniel Kaffee, a US military lawyer, defen...  291K  \n",
              "12  A prep school student needing money agrees to ...  333K  \n",
              "13  The solitary life of an artificial man - who w...  528K  \n",
              "14  Three trappers protect the daughters of a Brit...  190K  \n",
              "15  Follows the lives of three young males living ...  156K  \n",
              "16  After a famous author is rescued from a car cr...  238K  \n",
              "17  In November 1984, the Soviet Union's best subm...  217K  \n",
              "18  A kind-hearted street urchin and a power-hungr...  472K  \n",
              "19  Follows Michael Corleone, now in his 60s, as h...  427K  \n",
              "20  Two best friends set out on an adventure, but ...  175K  \n",
              "21  A prince cursed to spend his days as a hideous...  482K  \n",
              "22  A young man's mother is bitten by a Sumatran r...  104K  \n",
              "23  An examination of the machinations behind the ...  118K  \n",
              "24  An elderly Charlie Chaplin discusses his autob...   63K  "
            ]
          },
          "execution_count": 103,
          "metadata": {},
          "output_type": "execute_result"
        }
      ],
      "source": [
        "#creating a data set with the data from imdb:\n",
        "\n",
        "import pandas as pd\n",
        "movie_df = pd.DataFrame.from_dict(movies_dict,orient=\"index\")\n",
        "movie_df"
      ]
    },
    {
      "cell_type": "markdown",
      "id": "9ab1217a-df9d-4a2b-a32c-2c5f1eecd52a",
      "metadata": {
        "id": "9ab1217a-df9d-4a2b-a32c-2c5f1eecd52a"
      },
      "source": [
        "## BONUS\n",
        "\n",
        "The search results span multiple pages, housing a total of 631 movies in our example with each page displaying 50 movies at most. To scrape data seamlessly from all pages, you'll need to dive deep into the structure of the URLs generated with each \"Next\" click.\n",
        "\n",
        "Take a close look at the following URLs:\n",
        "- First page:\n",
        "  ```\n",
        "  https://www.imdb.com/search/title/?title_type=feature&release_date=1990-01-01,1992-12-31&user_rating=7.5,\n",
        "  ```\n",
        "- Second page:\n",
        "  ```\n",
        "  https://www.imdb.com/search/title/?title_type=feature&release_date=1990-01-01,1992-12-31&user_rating=7.5,&start=51&ref_=adv_nxt\n",
        "  ```\n",
        "- Third page:\n",
        "  ```\n",
        "  https://www.imdb.com/search/title/?title_type=feature&release_date=1990-01-01,1992-12-31&user_rating=7.5,&start=101&ref_=adv_nxt\n",
        "  ```\n",
        "\n",
        "You should notice a pattern. There is a `start` parameter incrementing by 50 with each page, paired with a constant `ref_` parameter holding the value \"adv_nxt\".\n",
        "\n",
        "Modify your script so it's capable of iterating over all available pages to fetch data on all the 631 movies (631 is the total number of movies in the proposed example)."
      ]
    },
    {
      "cell_type": "code",
      "execution_count": null,
      "id": "21ac4fc0-a12b-4a00-9266-2020166f0dea",
      "metadata": {
        "id": "21ac4fc0-a12b-4a00-9266-2020166f0dea"
      },
      "outputs": [],
      "source": [
        "# Your solution goes here"
      ]
    }
  ],
  "metadata": {
    "colab": {
      "provenance": []
    },
    "kernelspec": {
      "display_name": "Python 3 (ipykernel)",
      "language": "python",
      "name": "python3"
    },
    "language_info": {
      "codemirror_mode": {
        "name": "ipython",
        "version": 3
      },
      "file_extension": ".py",
      "mimetype": "text/x-python",
      "name": "python",
      "nbconvert_exporter": "python",
      "pygments_lexer": "ipython3",
      "version": "3.11.7"
    }
  },
  "nbformat": 4,
  "nbformat_minor": 5
}
