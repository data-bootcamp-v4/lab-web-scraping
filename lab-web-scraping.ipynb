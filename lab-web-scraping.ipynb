{
  "cells": [
    {
      "cell_type": "markdown",
      "id": "7e7a1ab8-2599-417d-9a65-25ef07f3a786",
      "metadata": {
        "id": "7e7a1ab8-2599-417d-9a65-25ef07f3a786"
      },
      "source": [
        "# Lab | Web Scraping"
      ]
    },
    {
      "cell_type": "markdown",
      "id": "ce8882fc-4815-4567-92fa-b4816358ba7d",
      "metadata": {
        "id": "ce8882fc-4815-4567-92fa-b4816358ba7d"
      },
      "source": [
        "Welcome to the IMDb Web Scraping Adventure Lab!\n",
        "\n",
        "**Objective**\n",
        "\n",
        "In this lab, we will embark on a mission to unearth valuable insights from the vast sea of data available on IMDb, one of the largest online databases of movie, TV, and celebrity information. As budding data scientists and business analysts, you have been tasked to scrape a specific subset of data from IMDb to assist film production companies in understanding the landscape of highly-rated movies in a defined time period. Your insights will potentially influence the making of the next netflix movie!\n",
        "\n",
        "**Background**\n",
        "\n",
        "In a world where data has become the new currency, businesses are leveraging big data to make informed decisions that drive success and profitability. The entertainment industry, being no exception, utilizes data analytics to comprehend market trends, audience preferences, and the performance of films based on various parameters such as director, genre, stars involved, etc. IMDb stands as a goldmine of such data, offering intricate details of almost every movie ever made.\n",
        "\n",
        "**Task**\n",
        "\n",
        "Your task is to create a Python script using `BeautifulSoup` and `pandas` to scrape IMDb movie data based on user ratings and release dates. This script should be able to filter movies with ratings above a certain threshold and within a specified date range.\n",
        "\n",
        "**Expected Outcome**\n",
        "\n",
        "- A function named `scrape_imdb` that takes four parameters: `title_type`,`user_rating`, `start_date`, and `end_date`.\n",
        "- The function should return a DataFrame with the following columns:\n",
        "  - **Movie Nr**: The number representing the movie’s position in the list.\n",
        "  - **Title**: The title of the movie.\n",
        "  - **Year**: The year the movie was released.\n",
        "  - **Rating**: The IMDb rating of the movie.\n",
        "  - **Runtime (min)**: The duration of the movie in minutes.\n",
        "  - **Genre**: The genre of the movie.\n",
        "  - **Description**: A brief description of the movie.\n",
        "  - **Director**: The director of the movie.\n",
        "  - **Stars**: The main stars of the movie.\n",
        "  - **Votes**: The number of votes the movie received.\n",
        "  - **Gross ($M)**: The gross earnings of the movie in millions of USD.\n",
        "\n",
        "You will execute this script to scrape data for movies with the Title Type `Feature Film` that have a user rating of `7.5 and above` and were released between `January 1, 1990, and December 31, 1992`.\n",
        "\n",
        "Remember to experiment with different title types, dates and ratings to ensure your code is versatile and can handle various searches effectively!\n",
        "\n",
        "**Resources**\n",
        "\n",
        "- [Beautiful Soup Documentation](https://www.crummy.com/software/BeautifulSoup/bs4/doc/)\n",
        "- [Pandas Documentation](https://pandas.pydata.org/pandas-docs/stable/index.html)\n",
        "- [IMDb Advanced Search](https://www.imdb.com/search/title/)\n"
      ]
    },
    {
      "cell_type": "code",
      "execution_count": null,
      "id": "97ef171c",
      "metadata": {},
      "outputs": [],
      "source": []
    },
    {
      "cell_type": "markdown",
      "id": "3519921d-5890-445b-9a33-934ed8ee378c",
      "metadata": {
        "id": "3519921d-5890-445b-9a33-934ed8ee378c"
      },
      "source": [
        "**Hint**\n",
        "\n",
        "Your first mission is to familiarize yourself with the IMDb advanced search page. Head over to [IMDb advanced search](https://www.imdb.com/search/title/) and input the following parameters, keeping all other fields to their default values or blank:\n",
        "\n",
        "- **Title Type**: Feature film\n",
        "- **Release date**: From 1990 to 1992 (Note: You don't need to specify the day and month)\n",
        "- **User Rating**: 7.5 to -\n",
        "\n",
        "Upon searching, you'll land on a page showcasing a list of movies, each displaying vital details such as the title, release year, and crew information. Your task is to scrape this treasure trove of data.\n",
        "\n",
        "Carefully examine the resulting URL and construct your own URL to include all the necessary parameters for filtering the movies."
      ]
    },
    {
      "cell_type": "markdown",
      "id": "25a83a0d-a742-49f6-985e-e27887cbf922",
      "metadata": {
        "id": "25a83a0d-a742-49f6-985e-e27887cbf922"
      },
      "source": [
        "\n",
        "---\n",
        "\n",
        "**Best of luck! Immerse yourself in the world of movies and may the data be with you!**"
      ]
    },
    {
      "cell_type": "markdown",
      "id": "7b75cf0d-9afa-4eec-a9e2-befeac68b2a0",
      "metadata": {
        "id": "7b75cf0d-9afa-4eec-a9e2-befeac68b2a0"
      },
      "source": [
        "**Important note**:\n",
        "\n",
        "In the fast-changing online world, websites often get updates and make changes. When you try this lab, the IMDb website might be different from what we expect.\n",
        "\n",
        "If you run into problems because of these changes, like new rules or things that stop you from getting data, don't worry! Instead, get creative.\n",
        "\n",
        "You can choose another website that interests you and is good for scraping data. Websites like Wikipedia or The New York Times are good options. The main goal is still the same: get useful data and learn how to scrape it from a website that you find interesting. It's a chance to practice your web scraping skills and explore a source of information you like."
      ]
    },
    {
      "cell_type": "code",
      "execution_count": 3,
      "id": "957d2152",
      "metadata": {},
      "outputs": [
        {
          "name": "stdout",
          "output_type": "stream",
          "text": [
            "Defaulting to user installation because normal site-packages is not writeable\n",
            "Requirement already satisfied: beautifulsoup4 in d:\\programdata\\anaconda3\\lib\\site-packages (4.12.3)\n",
            "Requirement already satisfied: pandas in d:\\programdata\\anaconda3\\lib\\site-packages (2.2.2)\n",
            "Requirement already satisfied: requests in d:\\programdata\\anaconda3\\lib\\site-packages (2.32.2)\n",
            "Requirement already satisfied: soupsieve>1.2 in d:\\programdata\\anaconda3\\lib\\site-packages (from beautifulsoup4) (2.5)\n",
            "Requirement already satisfied: numpy>=1.26.0 in d:\\programdata\\anaconda3\\lib\\site-packages (from pandas) (1.26.4)\n",
            "Requirement already satisfied: python-dateutil>=2.8.2 in d:\\programdata\\anaconda3\\lib\\site-packages (from pandas) (2.9.0.post0)\n",
            "Requirement already satisfied: pytz>=2020.1 in d:\\programdata\\anaconda3\\lib\\site-packages (from pandas) (2024.1)\n",
            "Requirement already satisfied: tzdata>=2022.7 in d:\\programdata\\anaconda3\\lib\\site-packages (from pandas) (2023.3)\n",
            "Requirement already satisfied: charset-normalizer<4,>=2 in d:\\programdata\\anaconda3\\lib\\site-packages (from requests) (2.0.4)\n",
            "Requirement already satisfied: idna<4,>=2.5 in d:\\programdata\\anaconda3\\lib\\site-packages (from requests) (3.7)\n",
            "Requirement already satisfied: urllib3<3,>=1.21.1 in d:\\programdata\\anaconda3\\lib\\site-packages (from requests) (2.2.2)\n",
            "Requirement already satisfied: certifi>=2017.4.17 in d:\\programdata\\anaconda3\\lib\\site-packages (from requests) (2024.7.4)\n",
            "Requirement already satisfied: six>=1.5 in d:\\programdata\\anaconda3\\lib\\site-packages (from python-dateutil>=2.8.2->pandas) (1.16.0)\n"
          ]
        }
      ],
      "source": [
        "!pip install beautifulsoup4 pandas requests\n"
      ]
    },
    {
      "cell_type": "code",
      "execution_count": 5,
      "id": "80a50bea",
      "metadata": {},
      "outputs": [],
      "source": [
        "url = \"https://www.imdb.com/search/title/?title_type=feature&user_rating=7.5,&release_date=1990-01-01,1992-12-31\"\n"
      ]
    },
    {
      "cell_type": "code",
      "execution_count": 6,
      "id": "12b7256c",
      "metadata": {},
      "outputs": [
        {
          "name": "stdout",
          "output_type": "stream",
          "text": [
            "Scraping page 1...\n",
            "Empty DataFrame\n",
            "Columns: []\n",
            "Index: []\n"
          ]
        }
      ],
      "source": [
        "import requests\n",
        "from bs4 import BeautifulSoup\n",
        "import pandas as pd\n",
        "\n",
        "def scrape_imdb(title_type, user_rating, start_date, end_date):\n",
        "    # Base URL for IMDb advanced search\n",
        "    base_url = \"https://www.imdb.com/search/title/\"\n",
        "    \n",
        "    # Parameters to filter movies\n",
        "    params = {\n",
        "        'title_type': title_type,\n",
        "        'user_rating': f\"{user_rating},\",  # The comma ensures the upper bound is open\n",
        "        'release_date': f\"{start_date},{end_date}\",\n",
        "        'count': '50',  # Results per page (IMDb default is 50)\n",
        "        'start': '1',  # Start position (to handle pagination)\n",
        "    }\n",
        "    \n",
        "    movie_list = []\n",
        "    page_number = 1\n",
        "\n",
        "    while True:\n",
        "        print(f\"Scraping page {page_number}...\")\n",
        "        response = requests.get(base_url, params=params)\n",
        "        soup = BeautifulSoup(response.content, 'html.parser')\n",
        "\n",
        "        # Find all movies listed on the page\n",
        "        movies = soup.find_all('div', class_='lister-item mode-advanced')\n",
        "        \n",
        "        if not movies:\n",
        "            break  # No more movies to scrape\n",
        "\n",
        "        for movie in movies:\n",
        "            # Extracting details from each movie\n",
        "            movie_nr = movie.find('span', class_='lister-item-index').text.strip('.')\n",
        "            title = movie.h3.a.text\n",
        "            year = movie.h3.find('span', class_='lister-item-year').text\n",
        "            rating = movie.find('div', class_='inline-block ratings-imdb-rating')['data-value']\n",
        "            runtime = movie.find('span', class_='runtime')\n",
        "            runtime = runtime.text if runtime else None\n",
        "            genre = movie.find('span', class_='genre').text.strip() if movie.find('span', class_='genre') else None\n",
        "            description = movie.find_all('p', class_='text-muted')[-1].text.strip()\n",
        "            director_stars = movie.find('p', class_='').text.strip().split('|')\n",
        "            director = director_stars[0].replace('Director:', '').strip() if len(director_stars) > 0 else None\n",
        "            stars = director_stars[1].replace('Stars:', '').strip() if len(director_stars) > 1 else None\n",
        "            votes = movie.find('span', attrs={'name': 'nv'}).text if movie.find('span', attrs={'name': 'nv'}) else None\n",
        "            gross = movie.find_all('span', attrs={'name': 'nv'})[1].text if len(movie.find_all('span', attrs={'name': 'nv'})) > 1 else None\n",
        "            \n",
        "            # Append the data to the list\n",
        "            movie_list.append({\n",
        "                \"Movie Nr\": movie_nr,\n",
        "                \"Title\": title,\n",
        "                \"Year\": year,\n",
        "                \"Rating\": rating,\n",
        "                \"Runtime (min)\": runtime,\n",
        "                \"Genre\": genre,\n",
        "                \"Description\": description,\n",
        "                \"Director\": director,\n",
        "                \"Stars\": stars,\n",
        "                \"Votes\": votes,\n",
        "                \"Gross ($M)\": gross\n",
        "            })\n",
        "        \n",
        "        # Prepare for the next page\n",
        "        page_number += 1\n",
        "        params['start'] = str((page_number - 1) * 50 + 1)\n",
        "    \n",
        "    # Convert list to DataFrame\n",
        "    df = pd.DataFrame(movie_list)\n",
        "    return df\n",
        "\n",
        "# Example usage:\n",
        "df = scrape_imdb('feature', 7.5, '1990-01-01', '1992-12-31')\n",
        "print(df.head())\n"
      ]
    },
    {
      "cell_type": "markdown",
      "id": "9ab1217a-df9d-4a2b-a32c-2c5f1eecd52a",
      "metadata": {
        "id": "9ab1217a-df9d-4a2b-a32c-2c5f1eecd52a"
      },
      "source": [
        "## BONUS\n",
        "\n",
        "The search results span multiple pages, housing a total of 631 movies in our example with each page displaying 50 movies at most. To scrape data seamlessly from all pages, you'll need to dive deep into the structure of the URLs generated with each \"Next\" click.\n",
        "\n",
        "Take a close look at the following URLs:\n",
        "- First page:\n",
        "  ```\n",
        "  https://www.imdb.com/search/title/?title_type=feature&release_date=1990-01-01,1992-12-31&user_rating=7.5,\n",
        "  ```\n",
        "- Second page:\n",
        "  ```\n",
        "  https://www.imdb.com/search/title/?title_type=feature&release_date=1990-01-01,1992-12-31&user_rating=7.5,&start=51&ref_=adv_nxt\n",
        "  ```\n",
        "- Third page:\n",
        "  ```\n",
        "  https://www.imdb.com/search/title/?title_type=feature&release_date=1990-01-01,1992-12-31&user_rating=7.5,&start=101&ref_=adv_nxt\n",
        "  ```\n",
        "\n",
        "You should notice a pattern. There is a `start` parameter incrementing by 50 with each page, paired with a constant `ref_` parameter holding the value \"adv_nxt\".\n",
        "\n",
        "Modify your script so it's capable of iterating over all available pages to fetch data on all the 631 movies (631 is the total number of movies in the proposed example)."
      ]
    },
    {
      "cell_type": "code",
      "execution_count": 10,
      "id": "4df3930d",
      "metadata": {},
      "outputs": [],
      "source": [
        "import requests\n",
        "from bs4 import BeautifulSoup\n",
        "import math\n",
        "\n",
        "# Base URL without the `start` parameter\n",
        "base_url = \"https://www.imdb.com/search/title/?title_type=feature&release_date=1990-01-01,1992-12-31&user_rating=7.5,\"\n",
        "\n",
        "# Total number of movies\n",
        "total_movies = 631\n",
        "# Movies per page (according to IMDb structure)\n",
        "movies_per_page = 50\n",
        "# Total number of pages needed\n",
        "total_pages = math.ceil(total_movies / movies_per_page)\n",
        "\n",
        "# Function to extract movie data from a single page\n",
        "def extract_movies_from_page(url):\n",
        "    response = requests.get(url)\n",
        "    soup = BeautifulSoup(response.text, 'html.parser')\n",
        "    \n",
        "    # Extract movie details\n",
        "    movies = soup.find_all('div', class_='lister-item mode-advanced')\n",
        "    movie_data = []\n",
        "    \n",
        "    for movie in movies:\n",
        "        title = movie.h3.a.text\n",
        "        year = movie.h3.find('span', class_='lister-item-year').text\n",
        "        rating = movie.find('div', class_='ratings-bar').strong.text if movie.find('div', class_='ratings-bar') else 'N/A'\n",
        "        movie_data.append({\n",
        "            'title': title,\n",
        "            'year': year,\n",
        "            'rating': rating\n",
        "        })\n",
        "    \n",
        "    return movie_data\n",
        "\n",
        "# Loop through all pages and collect movie data\n",
        "all_movie_data = []\n",
        "for page in range(total_pages):\n",
        "    start = page * movies_per_page + 1\n",
        "    url = f\"{base_url}&start={start}&ref_=adv_nxt\"\n",
        "    movies_on_page = extract_movies_from_page(url)\n",
        "    all_movie_data.extend(movies_on_page)\n",
        "\n",
        "# Output the collected data (you can also save it to a file)\n",
        "for movie in all_movie_data:\n",
        "    print(movie)\n"
      ]
    },
    {
      "cell_type": "code",
      "execution_count": 11,
      "id": "14f832e3",
      "metadata": {},
      "outputs": [
        {
          "data": {
            "text/plain": [
              "Ellipsis"
            ]
          },
          "execution_count": 11,
          "metadata": {},
          "output_type": "execute_result"
        }
      ],
      "source": [
        "{'title': 'The Silence of the Lambs', 'year': '(1991)', 'rating': '8.6'}\n",
        "{'title': 'Terminator 2: Judgment Day', 'year': '(1991)', 'rating': '8.5'}\n",
        "...\n"
      ]
    }
  ],
  "metadata": {
    "colab": {
      "provenance": []
    },
    "kernelspec": {
      "display_name": "Python 3 (ipykernel)",
      "language": "python",
      "name": "python3"
    },
    "language_info": {
      "codemirror_mode": {
        "name": "ipython",
        "version": 3
      },
      "file_extension": ".py",
      "mimetype": "text/x-python",
      "name": "python",
      "nbconvert_exporter": "python",
      "pygments_lexer": "ipython3",
      "version": "3.12.4"
    }
  },
  "nbformat": 4,
  "nbformat_minor": 5
}
