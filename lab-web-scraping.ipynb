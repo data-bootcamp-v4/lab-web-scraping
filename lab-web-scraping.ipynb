{
  "cells": [
    {
      "cell_type": "markdown",
      "id": "7e7a1ab8-2599-417d-9a65-25ef07f3a786",
      "metadata": {
        "id": "7e7a1ab8-2599-417d-9a65-25ef07f3a786"
      },
      "source": [
        "# Lab | Web Scraping"
      ]
    },
    {
      "cell_type": "markdown",
      "id": "ce8882fc-4815-4567-92fa-b4816358ba7d",
      "metadata": {
        "id": "ce8882fc-4815-4567-92fa-b4816358ba7d"
      },
      "source": [
        "Welcome to the IMDb Web Scraping Adventure Lab!\n",
        "\n",
        "**Objective**\n",
        "\n",
        "In this lab, we will embark on a mission to unearth valuable insights from the vast sea of data available on IMDb, one of the largest online databases of movie, TV, and celebrity information. As budding data scientists and business analysts, you have been tasked to scrape a specific subset of data from IMDb to assist film production companies in understanding the landscape of highly-rated movies in a defined time period. Your insights will potentially influence the making of the next netflix movie!\n",
        "\n",
        "**Background**\n",
        "\n",
        "In a world where data has become the new currency, businesses are leveraging big data to make informed decisions that drive success and profitability. The entertainment industry, being no exception, utilizes data analytics to comprehend market trends, audience preferences, and the performance of films based on various parameters such as director, genre, stars involved, etc. IMDb stands as a goldmine of such data, offering intricate details of almost every movie ever made.\n",
        "\n",
        "**Task**\n",
        "\n",
        "Your task is to create a Python script using `BeautifulSoup` and `pandas` to scrape IMDb movie data based on user ratings and release dates. This script should be able to filter movies with ratings above a certain threshold and within a specified date range.\n",
        "\n",
        "**Expected Outcome**\n",
        "\n",
        "- A function named `scrape_imdb` that takes four parameters: `title_type`,`user_rating`, `start_date`, and `end_date`.\n",
        "- The function should return a DataFrame with the following columns:\n",
        "  - **Movie Nr**: The number representing the movie’s position in the list.\n",
        "  - **Title**: The title of the movie.\n",
        "  - **Year**: The year the movie was released.\n",
        "  - **Rating**: The IMDb rating of the movie.\n",
        "  - **Runtime (min)**: The duration of the movie in minutes.\n",
        "  - **Genre**: The genre of the movie.\n",
        "  - **Description**: A brief description of the movie.\n",
        "  - **Director**: The director of the movie.\n",
        "  - **Stars**: The main stars of the movie.\n",
        "  - **Votes**: The number of votes the movie received.\n",
        "  - **Gross ($M)**: The gross earnings of the movie in millions of USD.\n",
        "\n",
        "You will execute this script to scrape data for movies with the Title Type `Feature Film` that have a user rating of `7.5 and above` and were released between `January 1, 1990, and December 31, 1992`.\n",
        "\n",
        "Remember to experiment with different title types, dates and ratings to ensure your code is versatile and can handle various searches effectively!\n",
        "\n",
        "**Resources**\n",
        "\n",
        "- [Beautiful Soup Documentation](https://www.crummy.com/software/BeautifulSoup/bs4/doc/)\n",
        "- [Pandas Documentation](https://pandas.pydata.org/pandas-docs/stable/index.html)\n",
        "- [IMDb Advanced Search](https://www.imdb.com/search/title/)\n"
      ]
    },
    {
      "cell_type": "markdown",
      "id": "3519921d-5890-445b-9a33-934ed8ee378c",
      "metadata": {
        "id": "3519921d-5890-445b-9a33-934ed8ee378c"
      },
      "source": [
        "**Hint**\n",
        "\n",
        "Your first mission is to familiarize yourself with the IMDb advanced search page. Head over to [IMDb advanced search](https://www.imdb.com/search/title/) and input the following parameters, keeping all other fields to their default values or blank:\n",
        "\n",
        "- **Title Type**: Feature film\n",
        "- **Release date**: From 1990 to 1992 (Note: You don't need to specify the day and month)\n",
        "- **User Rating**: 7.5 to -\n",
        "\n",
        "Upon searching, you'll land on a page showcasing a list of movies, each displaying vital details such as the title, release year, and crew information. Your task is to scrape this treasure trove of data.\n",
        "\n",
        "Carefully examine the resulting URL and construct your own URL to include all the necessary parameters for filtering the movies."
      ]
    },
    {
      "cell_type": "markdown",
      "id": "25a83a0d-a742-49f6-985e-e27887cbf922",
      "metadata": {
        "id": "25a83a0d-a742-49f6-985e-e27887cbf922"
      },
      "source": [
        "\n",
        "---\n",
        "\n",
        "**Best of luck! Immerse yourself in the world of movies and may the data be with you!**"
      ]
    },
    {
      "cell_type": "markdown",
      "id": "7b75cf0d-9afa-4eec-a9e2-befeac68b2a0",
      "metadata": {
        "id": "7b75cf0d-9afa-4eec-a9e2-befeac68b2a0"
      },
      "source": [
        "**Important note**:\n",
        "\n",
        "In the fast-changing online world, websites often get updates and make changes. When you try this lab, the IMDb website might be different from what we expect.\n",
        "\n",
        "If you run into problems because of these changes, like new rules or things that stop you from getting data, don't worry! Instead, get creative.\n",
        "\n",
        "You can choose another website that interests you and is good for scraping data. Websites like Wikipedia or The New York Times are good options. The main goal is still the same: get useful data and learn how to scrape it from a website that you find interesting. It's a chance to practice your web scraping skills and explore a source of information you like."
      ]
    },
    {
      "cell_type": "code",
      "execution_count": 50,
      "id": "bcc08d93",
      "metadata": {},
      "outputs": [
        {
          "data": {
            "text/html": [
              "<div>\n",
              "<style scoped>\n",
              "    .dataframe tbody tr th:only-of-type {\n",
              "        vertical-align: middle;\n",
              "    }\n",
              "\n",
              "    .dataframe tbody tr th {\n",
              "        vertical-align: top;\n",
              "    }\n",
              "\n",
              "    .dataframe thead th {\n",
              "        text-align: right;\n",
              "    }\n",
              "</style>\n",
              "<table border=\"1\" class=\"dataframe\">\n",
              "  <thead>\n",
              "    <tr style=\"text-align: right;\">\n",
              "      <th></th>\n",
              "    </tr>\n",
              "  </thead>\n",
              "  <tbody>\n",
              "  </tbody>\n",
              "</table>\n",
              "</div>"
            ],
            "text/plain": [
              "Empty DataFrame\n",
              "Columns: []\n",
              "Index: []"
            ]
          },
          "execution_count": 50,
          "metadata": {},
          "output_type": "execute_result"
        }
      ],
      "source": [
        "import pandas as pd\n",
        "from bs4 import BeautifulSoup\n",
        "import requests\n",
        "\n",
        "def scrape_imdb(title_type, user_rating, start_date, end_date):\n",
        "    url = url = f\"https://www.imdb.com/search/title/?title_type={title_type}&release_date={start_date},{end_date}&user_rating={user_rating},10\"\n",
        "    headers = {\n",
        "        'User-Agent': 'Mozilla/5.0 (Windows NT 10.0; Win64; x64) AppleWebKit/537.36 (KHTML, like Gecko) Chrome/58.0.3029.110 Safari/537.3'\n",
        "    }\n",
        "    response = requests.get(url, headers=headers)\n",
        "    soup = BeautifulSoup(response.content, 'html.parser')\n",
        "\n",
        "    movies = []\n",
        "\n",
        "    for div in soup.find_all('div', class_='lister-item mode-advanced'):\n",
        "        nr = div.find('span', class_='lister-item-index unbold text-primary').text.strip('.').strip()\n",
        "        title = div.find('h3').find('a').text.strip()\n",
        "        year = div.find('span', class_='lister-item-year').text.strip('()')\n",
        "        rating = div.find('strong').text\n",
        "        runtime = div.find('span', class_='runtime').text.strip(' min') if div.find('span', class_='runtime') else None\n",
        "        genre = div.find('span', class_='genre').text.strip() if div.find('span', class_='genre') else None\n",
        "        description = div.find_all('p', class_='text-muted')[1].text.strip()\n",
        "        director_and_stars = div.find('p', class_='').find_all('a')\n",
        "        director = director_and_stars[0].text if director_and_stars else 'N/A'\n",
        "        stars = ', '.join([a.text for a in director_and_stars[1:]]) if director_and_stars else 'N/A'\n",
        "        votes = div.find('span', attrs={'name': 'nv'})['data-value'] if div.find('span', attrs={'name': 'nv'}) else None\n",
        "        gross = div.find_all('span', attrs={'name': 'nv'})[1]['data-value'] if len(div.find_all('span', attrs={'name': 'nv'})) > 1 else None\n",
        "\n",
        "        movie_details = {'Movie Nr': nr, 'Title': title, 'Year': year, 'Rating': rating, 'Runtime (min)': runtime, 'Genre': genre, 'Description': description, 'Director': director, 'Stars': stars, 'Votes': votes, 'Gross ($M)': gross,}\n",
        "        movies.append(movie_details)\n",
        "\n",
        "    df = pd.DataFrame(movies)\n",
        "    return df\n",
        "\n",
        "df = scrape_imdb(title_type='feature', user_rating='7.5', start_date='1990-01-01', end_date='1992-12-31')\n",
        "df"
      ]
    },
    {
      "cell_type": "code",
      "execution_count": 54,
      "id": "fbadd3cc",
      "metadata": {},
      "outputs": [],
      "source": [
        "#Bonus \n",
        "import pandas as pd\n",
        "from bs4 import BeautifulSoup\n",
        "import requests\n",
        "\n",
        "def scrape_imdb(title_type, user_rating, start_date, end_date):\n",
        "    url = f\"https://www.imdb.com/search/title/?title_type={title_type}&release_date={start_date},{end_date}&user_rating={user_rating},10\"\n",
        "    response = requests.get(url)\n",
        "    soup = BeautifulSoup(response.content, 'html.parser')\n",
        "    total_movies = int(soup.find('div', class_='desc').find('span').text.split('of')[-1].split('titles')[0].strip())\n",
        "\n",
        "    pages = total_movies // 50 + (1 if total_movies % 50 != 0 else 0)\n",
        "    movies = []\n",
        "    for page in range(1, pages * 50, 50):\n",
        "        url_page = url + f'&start={page}&ref_=adv_nxt'\n",
        "        response_page = requests.get(url_page)\n",
        "        soup_page = BeautifulSoup(response_page.content, 'html.parser')\n",
        "   \n",
        "        for div in soup_page.find_all('div', class_='lister-item mode-advanced'):\n",
        "            nr = div.find('span', class_='lister-item-index unbold text-primary').text.strip('.').strip()\n",
        "            title = div.find('h3').find('a').text.strip()\n",
        "            year = div.find('span', class_='lister-item-year text-muted unbold').text.strip('()')\n",
        "            rating = div.find('strong').text\n",
        "            runtime = div.find('span', class_='runtime').text.strip(' min') if div.find('span', class_='runtime') else None\n",
        "            genre = div.find('span', class_='genre').text.strip() if div.find('span', class_='genre') else None\n",
        "            description = div.find_all('p', class_='text-muted')[1].text.strip()\n",
        "            director_and_stars = div.find('p', class_='').find_all('a')\n",
        "            director = director_and_stars[0].text if director_and_stars else 'N/A'\n",
        "            stars = ', '.join([a.text for a in director_and_stars[1:]]) if director_and_stars else 'N/A'\n",
        "            votes = div.find('span', attrs={'name': 'nv'})['data-value'] if div.find('span', attrs={'name': 'nv'}) else None\n",
        "            gross = div.find_all('span', attrs={'name': 'nv'})[1]['data-value'] if len(div.find_all('span', attrs={'name': 'nv'})) > 1 else None\n",
        "\n",
        "        movie_details = {'Movie Nr': nr, 'Title': title, 'Year': year, 'Rating': rating, 'Runtime (min)': runtime, \"Genre\": genre, 'Description': description, 'Director': director, 'Stars': stars, 'Votes': votes, 'Gross ($M)': gross}\n",
        "\n",
        "        df = pd.DataFrame(movies)\n",
        "        return df\n",
        "    \n",
        "\n",
        "    df = scrape_imdb(title_type='feature', user_rating='7.5', start_date='1990-01-01', end_date='1992-12-31')\n",
        "    df"
      ]
    },
    {
      "cell_type": "code",
      "execution_count": null,
      "id": "f4bfca72",
      "metadata": {},
      "outputs": [],
      "source": []
    }
  ],
  "metadata": {
    "colab": {
      "provenance": []
    },
    "kernelspec": {
      "display_name": "Python 3 (ipykernel)",
      "language": "python",
      "name": "python3"
    },
    "language_info": {
      "codemirror_mode": {
        "name": "ipython",
        "version": 3
      },
      "file_extension": ".py",
      "mimetype": "text/x-python",
      "name": "python",
      "nbconvert_exporter": "python",
      "pygments_lexer": "ipython3",
      "version": "3.12.4"
    }
  },
  "nbformat": 4,
  "nbformat_minor": 5
}
