{
 "cells": [
  {
   "cell_type": "code",
   "execution_count": 4,
   "id": "fee2d8d9-c778-4015-b6c3-e7a0372ef55c",
   "metadata": {
    "scrolled": true
   },
   "outputs": [],
   "source": [
    "###**Lab for today:\n",
    "#choose your favorite 3 book categories from this website: https://books.toscrape.com/\n",
    "#and create a dataframe for each of the 3 categories, storing:\n",
    "#the title of the book\n",
    "#the price of the book\n",
    "#the number of stars it has**"
   ]
  },
  {
   "cell_type": "code",
   "execution_count": 147,
   "id": "3d4de5f2-10f2-4917-bd8b-acd2ec986a0d",
   "metadata": {},
   "outputs": [],
   "source": [
    "import requests\n",
    "from bs4 import BeautifulSoup\n",
    "import pandas as pd"
   ]
  },
  {
   "cell_type": "code",
   "execution_count": 148,
   "id": "6726b2fd-e4ce-42ce-a20b-378867d90a3d",
   "metadata": {},
   "outputs": [
    {
     "data": {
      "text/plain": [
       "<Response [200]>"
      ]
     },
     "execution_count": 148,
     "metadata": {},
     "output_type": "execute_result"
    }
   ],
   "source": [
    "science= \"https://books.toscrape.com/catalogue/category/books/science_22/index.html\"\n",
    "response = requests.get(science)\n",
    "response"
   ]
  },
  {
   "cell_type": "code",
   "execution_count": 149,
   "id": "8e92f2d0-e0cc-47ac-933a-0b33849097d4",
   "metadata": {},
   "outputs": [],
   "source": [
    "soup = BeautifulSoup(response.content)"
   ]
  },
  {
   "cell_type": "code",
   "execution_count": 150,
   "id": "6f1fb1e4-d97b-4518-9861-12a82c8d1795",
   "metadata": {
    "scrolled": true
   },
   "outputs": [
    {
     "data": {
      "text/plain": [
       "[<a href=\"../../../the-most-perfect-thing-inside-and-outside-a-birds-egg_938/index.html\" title=\"The Most Perfect Thing: Inside (and Outside) a Bird's Egg\">The Most Perfect Thing: ...</a>,\n",
       " <a href=\"../../../immunity-how-elie-metchnikoff-changed-the-course-of-modern-medicine_900/index.html\" title=\"Immunity: How Elie Metchnikoff Changed the Course of Modern Medicine\">Immunity: How Elie Metchnikoff ...</a>,\n",
       " <a href=\"../../../sorting-the-beef-from-the-bull-the-science-of-food-fraud-forensics_736/index.html\" title=\"Sorting the Beef from the Bull: The Science of Food Fraud Forensics\">Sorting the Beef from ...</a>,\n",
       " <a href=\"../../../tipping-point-for-planet-earth-how-close-are-we-to-the-edge_643/index.html\" title=\"Tipping Point for Planet Earth: How Close Are We to the Edge?\">Tipping Point for Planet ...</a>,\n",
       " <a href=\"../../../the-fabric-of-the-cosmos-space-time-and-the-texture-of-reality_572/index.html\" title=\"The Fabric of the Cosmos: Space, Time, and the Texture of Reality\">The Fabric of the ...</a>,\n",
       " <a href=\"../../../diary-of-a-citizen-scientist-chasing-tiger-beetles-and-other-new-ways-of-engaging-the-world_517/index.html\" title=\"Diary of a Citizen Scientist: Chasing Tiger Beetles and Other New Ways of Engaging the World\">Diary of a Citizen ...</a>,\n",
       " <a href=\"../../../the-origin-of-species_499/index.html\" title=\"The Origin of Species\">The Origin of Species</a>,\n",
       " <a href=\"../../../the-grand-design_405/index.html\" title=\"The Grand Design\">The Grand Design</a>,\n",
       " <a href=\"../../../peak-secrets-from-the-new-science-of-expertise_389/index.html\" title=\"Peak: Secrets from the New Science of Expertise\">Peak: Secrets from the ...</a>,\n",
       " <a href=\"../../../the-elegant-universe-superstrings-hidden-dimensions-and-the-quest-for-the-ultimate-theory_245/index.html\" title=\"The Elegant Universe: Superstrings, Hidden Dimensions, and the Quest for the Ultimate Theory\">The Elegant Universe: Superstrings, ...</a>,\n",
       " <a href=\"../../../the-disappearing-spoon-and-other-true-tales-of-madness-love-and-the-history-of-the-world-from-the-periodic-table-of-the-elements_244/index.html\" title=\"The Disappearing Spoon: And Other True Tales of Madness, Love, and the History of the World from the Periodic Table of the Elements\">The Disappearing Spoon: And ...</a>,\n",
       " <a href=\"../../../surely-youre-joking-mr-feynman-adventures-of-a-curious-character_227/index.html\" title=\"Surely You're Joking, Mr. Feynman!: Adventures of a Curious Character\">Surely You're Joking, Mr. ...</a>,\n",
       " <a href=\"../../../seven-brief-lessons-on-physics_219/index.html\" title=\"Seven Brief Lessons on Physics\">Seven Brief Lessons on ...</a>,\n",
       " <a href=\"../../../the-selfish-gene_81/index.html\" title=\"The Selfish Gene\">The Selfish Gene</a>]"
      ]
     },
     "execution_count": 150,
     "metadata": {},
     "output_type": "execute_result"
    }
   ],
   "source": [
    "science_title = soup.find_all( \"a\", title=True)\n",
    "science_title"
   ]
  },
  {
   "cell_type": "code",
   "execution_count": 156,
   "id": "d7e52c81-2301-442e-b0cb-cf5fec6e5b21",
   "metadata": {},
   "outputs": [
    {
     "data": {
      "text/plain": [
       "['The Most Perfect Thing: ...',\n",
       " 'Immunity: How Elie Metchnikoff ...',\n",
       " 'Sorting the Beef from ...',\n",
       " 'Tipping Point for Planet ...',\n",
       " 'The Fabric of the ...',\n",
       " 'Diary of a Citizen ...',\n",
       " 'The Origin of Species',\n",
       " 'The Grand Design',\n",
       " 'Peak: Secrets from the ...',\n",
       " 'The Elegant Universe: Superstrings, ...',\n",
       " 'The Disappearing Spoon: And ...',\n",
       " \"Surely You're Joking, Mr. ...\",\n",
       " 'Seven Brief Lessons on ...',\n",
       " 'The Selfish Gene']"
      ]
     },
     "execution_count": 156,
     "metadata": {},
     "output_type": "execute_result"
    }
   ],
   "source": [
    "science_title =[]\n",
    "for title in soup.find_all( \"a\", title=True):\n",
    "  \n",
    "    science_title.append(title.get_text())\n",
    "    \n",
    "science_title"
   ]
  },
  {
   "cell_type": "code",
   "execution_count": 157,
   "id": "42d8ef51-21ac-4639-b5d3-2588100f2673",
   "metadata": {
    "scrolled": true
   },
   "outputs": [
    {
     "data": {
      "text/plain": [
       "[<p class=\"price_color\">£42.96</p>,\n",
       " <p class=\"price_color\">£57.36</p>,\n",
       " <p class=\"price_color\">£44.74</p>,\n",
       " <p class=\"price_color\">£37.55</p>,\n",
       " <p class=\"price_color\">£55.91</p>,\n",
       " <p class=\"price_color\">£28.41</p>,\n",
       " <p class=\"price_color\">£10.01</p>,\n",
       " <p class=\"price_color\">£13.76</p>,\n",
       " <p class=\"price_color\">£16.28</p>,\n",
       " <p class=\"price_color\">£13.03</p>,\n",
       " <p class=\"price_color\">£57.35</p>,\n",
       " <p class=\"price_color\">£25.83</p>,\n",
       " <p class=\"price_color\">£30.60</p>,\n",
       " <p class=\"price_color\">£29.45</p>]"
      ]
     },
     "execution_count": 157,
     "metadata": {},
     "output_type": "execute_result"
    }
   ],
   "source": [
    "science_price = soup.find_all( \"p\",  class_ = \"price_color\")\n",
    "science_price"
   ]
  },
  {
   "cell_type": "code",
   "execution_count": 158,
   "id": "20796ed0-073b-4a91-af34-50ba4d46f93d",
   "metadata": {},
   "outputs": [
    {
     "data": {
      "text/plain": [
       "['£42.96',\n",
       " '£57.36',\n",
       " '£44.74',\n",
       " '£37.55',\n",
       " '£55.91',\n",
       " '£28.41',\n",
       " '£10.01',\n",
       " '£13.76',\n",
       " '£16.28',\n",
       " '£13.03',\n",
       " '£57.35',\n",
       " '£25.83',\n",
       " '£30.60',\n",
       " '£29.45']"
      ]
     },
     "execution_count": 158,
     "metadata": {},
     "output_type": "execute_result"
    }
   ],
   "source": [
    "\n",
    "science_price =[]\n",
    "for price in soup.find_all( \"p\",  class_ = \"price_color\"):\n",
    "    science_price.append(price.get_text())\n",
    "\n",
    "science_price"
   ]
  },
  {
   "cell_type": "code",
   "execution_count": 159,
   "id": "4d5c6483-cf87-4b01-8b32-a77d98888ea2",
   "metadata": {
    "scrolled": true
   },
   "outputs": [
    {
     "data": {
      "text/plain": [
       "[<p class=\"star-rating Four\">\n",
       " <i class=\"icon-star\"></i>\n",
       " <i class=\"icon-star\"></i>\n",
       " <i class=\"icon-star\"></i>\n",
       " <i class=\"icon-star\"></i>\n",
       " <i class=\"icon-star\"></i>\n",
       " </p>,\n",
       " <p class=\"star-rating Five\">\n",
       " <i class=\"icon-star\"></i>\n",
       " <i class=\"icon-star\"></i>\n",
       " <i class=\"icon-star\"></i>\n",
       " <i class=\"icon-star\"></i>\n",
       " <i class=\"icon-star\"></i>\n",
       " </p>,\n",
       " <p class=\"star-rating Four\">\n",
       " <i class=\"icon-star\"></i>\n",
       " <i class=\"icon-star\"></i>\n",
       " <i class=\"icon-star\"></i>\n",
       " <i class=\"icon-star\"></i>\n",
       " <i class=\"icon-star\"></i>\n",
       " </p>,\n",
       " <p class=\"star-rating One\">\n",
       " <i class=\"icon-star\"></i>\n",
       " <i class=\"icon-star\"></i>\n",
       " <i class=\"icon-star\"></i>\n",
       " <i class=\"icon-star\"></i>\n",
       " <i class=\"icon-star\"></i>\n",
       " </p>,\n",
       " <p class=\"star-rating One\">\n",
       " <i class=\"icon-star\"></i>\n",
       " <i class=\"icon-star\"></i>\n",
       " <i class=\"icon-star\"></i>\n",
       " <i class=\"icon-star\"></i>\n",
       " <i class=\"icon-star\"></i>\n",
       " </p>,\n",
       " <p class=\"star-rating One\">\n",
       " <i class=\"icon-star\"></i>\n",
       " <i class=\"icon-star\"></i>\n",
       " <i class=\"icon-star\"></i>\n",
       " <i class=\"icon-star\"></i>\n",
       " <i class=\"icon-star\"></i>\n",
       " </p>,\n",
       " <p class=\"star-rating Four\">\n",
       " <i class=\"icon-star\"></i>\n",
       " <i class=\"icon-star\"></i>\n",
       " <i class=\"icon-star\"></i>\n",
       " <i class=\"icon-star\"></i>\n",
       " <i class=\"icon-star\"></i>\n",
       " </p>,\n",
       " <p class=\"star-rating Three\">\n",
       " <i class=\"icon-star\"></i>\n",
       " <i class=\"icon-star\"></i>\n",
       " <i class=\"icon-star\"></i>\n",
       " <i class=\"icon-star\"></i>\n",
       " <i class=\"icon-star\"></i>\n",
       " </p>,\n",
       " <p class=\"star-rating Two\">\n",
       " <i class=\"icon-star\"></i>\n",
       " <i class=\"icon-star\"></i>\n",
       " <i class=\"icon-star\"></i>\n",
       " <i class=\"icon-star\"></i>\n",
       " <i class=\"icon-star\"></i>\n",
       " </p>,\n",
       " <p class=\"star-rating Four\">\n",
       " <i class=\"icon-star\"></i>\n",
       " <i class=\"icon-star\"></i>\n",
       " <i class=\"icon-star\"></i>\n",
       " <i class=\"icon-star\"></i>\n",
       " <i class=\"icon-star\"></i>\n",
       " </p>,\n",
       " <p class=\"star-rating Five\">\n",
       " <i class=\"icon-star\"></i>\n",
       " <i class=\"icon-star\"></i>\n",
       " <i class=\"icon-star\"></i>\n",
       " <i class=\"icon-star\"></i>\n",
       " <i class=\"icon-star\"></i>\n",
       " </p>,\n",
       " <p class=\"star-rating Two\">\n",
       " <i class=\"icon-star\"></i>\n",
       " <i class=\"icon-star\"></i>\n",
       " <i class=\"icon-star\"></i>\n",
       " <i class=\"icon-star\"></i>\n",
       " <i class=\"icon-star\"></i>\n",
       " </p>,\n",
       " <p class=\"star-rating Four\">\n",
       " <i class=\"icon-star\"></i>\n",
       " <i class=\"icon-star\"></i>\n",
       " <i class=\"icon-star\"></i>\n",
       " <i class=\"icon-star\"></i>\n",
       " <i class=\"icon-star\"></i>\n",
       " </p>,\n",
       " <p class=\"star-rating One\">\n",
       " <i class=\"icon-star\"></i>\n",
       " <i class=\"icon-star\"></i>\n",
       " <i class=\"icon-star\"></i>\n",
       " <i class=\"icon-star\"></i>\n",
       " <i class=\"icon-star\"></i>\n",
       " </p>]"
      ]
     },
     "execution_count": 159,
     "metadata": {},
     "output_type": "execute_result"
    }
   ],
   "source": [
    "rating_science = soup.find_all(\"p\",  class_= \"star-rating\")\n",
    "rating_science"
   ]
  },
  {
   "cell_type": "code",
   "execution_count": 160,
   "id": "bedfe707-52f7-4ac0-a6e5-62787eb85097",
   "metadata": {
    "scrolled": true
   },
   "outputs": [
    {
     "data": {
      "text/plain": [
       "['Four',\n",
       " 'Five',\n",
       " 'Four',\n",
       " 'One',\n",
       " 'One',\n",
       " 'One',\n",
       " 'Four',\n",
       " 'Three',\n",
       " 'Two',\n",
       " 'Four',\n",
       " 'Five',\n",
       " 'Two',\n",
       " 'Four',\n",
       " 'One']"
      ]
     },
     "execution_count": 160,
     "metadata": {},
     "output_type": "execute_result"
    }
   ],
   "source": [
    "\n",
    "rating_science = []\n",
    "for rate in soup.find_all(\"p\", class_=\"star-rating\"):\n",
    "    for class_name in rate[\"class\"]:\n",
    "        if class_name != \"star-rating\":\n",
    "            rating_science.append(class_name)\n",
    "\n",
    "rating_science"
   ]
  },
  {
   "cell_type": "code",
   "execution_count": 176,
   "id": "2b74f650-6650-409e-8b39-fb06e5050894",
   "metadata": {},
   "outputs": [],
   "source": [
    "science_df = pd.DataFrame({\n",
    "    'Title': science_title,\n",
    "    'Price': science_price,\n",
    "    'Rating': rating_science\n",
    "})"
   ]
  },
  {
   "cell_type": "code",
   "execution_count": 177,
   "id": "ff8f7f9c-e5fb-4b00-b581-82c0d1573525",
   "metadata": {},
   "outputs": [
    {
     "data": {
      "text/html": [
       "<div>\n",
       "<style scoped>\n",
       "    .dataframe tbody tr th:only-of-type {\n",
       "        vertical-align: middle;\n",
       "    }\n",
       "\n",
       "    .dataframe tbody tr th {\n",
       "        vertical-align: top;\n",
       "    }\n",
       "\n",
       "    .dataframe thead th {\n",
       "        text-align: right;\n",
       "    }\n",
       "</style>\n",
       "<table border=\"1\" class=\"dataframe\">\n",
       "  <thead>\n",
       "    <tr style=\"text-align: right;\">\n",
       "      <th></th>\n",
       "      <th>Title</th>\n",
       "      <th>Price</th>\n",
       "      <th>Rating</th>\n",
       "    </tr>\n",
       "  </thead>\n",
       "  <tbody>\n",
       "    <tr>\n",
       "      <th>0</th>\n",
       "      <td>The Most Perfect Thing: ...</td>\n",
       "      <td>£42.96</td>\n",
       "      <td>Four</td>\n",
       "    </tr>\n",
       "    <tr>\n",
       "      <th>1</th>\n",
       "      <td>Immunity: How Elie Metchnikoff ...</td>\n",
       "      <td>£57.36</td>\n",
       "      <td>Five</td>\n",
       "    </tr>\n",
       "    <tr>\n",
       "      <th>2</th>\n",
       "      <td>Sorting the Beef from ...</td>\n",
       "      <td>£44.74</td>\n",
       "      <td>Four</td>\n",
       "    </tr>\n",
       "    <tr>\n",
       "      <th>3</th>\n",
       "      <td>Tipping Point for Planet ...</td>\n",
       "      <td>£37.55</td>\n",
       "      <td>One</td>\n",
       "    </tr>\n",
       "    <tr>\n",
       "      <th>4</th>\n",
       "      <td>The Fabric of the ...</td>\n",
       "      <td>£55.91</td>\n",
       "      <td>One</td>\n",
       "    </tr>\n",
       "    <tr>\n",
       "      <th>5</th>\n",
       "      <td>Diary of a Citizen ...</td>\n",
       "      <td>£28.41</td>\n",
       "      <td>One</td>\n",
       "    </tr>\n",
       "    <tr>\n",
       "      <th>6</th>\n",
       "      <td>The Origin of Species</td>\n",
       "      <td>£10.01</td>\n",
       "      <td>Four</td>\n",
       "    </tr>\n",
       "    <tr>\n",
       "      <th>7</th>\n",
       "      <td>The Grand Design</td>\n",
       "      <td>£13.76</td>\n",
       "      <td>Three</td>\n",
       "    </tr>\n",
       "    <tr>\n",
       "      <th>8</th>\n",
       "      <td>Peak: Secrets from the ...</td>\n",
       "      <td>£16.28</td>\n",
       "      <td>Two</td>\n",
       "    </tr>\n",
       "    <tr>\n",
       "      <th>9</th>\n",
       "      <td>The Elegant Universe: Superstrings, ...</td>\n",
       "      <td>£13.03</td>\n",
       "      <td>Four</td>\n",
       "    </tr>\n",
       "    <tr>\n",
       "      <th>10</th>\n",
       "      <td>The Disappearing Spoon: And ...</td>\n",
       "      <td>£57.35</td>\n",
       "      <td>Five</td>\n",
       "    </tr>\n",
       "    <tr>\n",
       "      <th>11</th>\n",
       "      <td>Surely You're Joking, Mr. ...</td>\n",
       "      <td>£25.83</td>\n",
       "      <td>Two</td>\n",
       "    </tr>\n",
       "    <tr>\n",
       "      <th>12</th>\n",
       "      <td>Seven Brief Lessons on ...</td>\n",
       "      <td>£30.60</td>\n",
       "      <td>Four</td>\n",
       "    </tr>\n",
       "    <tr>\n",
       "      <th>13</th>\n",
       "      <td>The Selfish Gene</td>\n",
       "      <td>£29.45</td>\n",
       "      <td>One</td>\n",
       "    </tr>\n",
       "  </tbody>\n",
       "</table>\n",
       "</div>"
      ],
      "text/plain": [
       "                                      Title   Price Rating\n",
       "0               The Most Perfect Thing: ...  £42.96   Four\n",
       "1        Immunity: How Elie Metchnikoff ...  £57.36   Five\n",
       "2                 Sorting the Beef from ...  £44.74   Four\n",
       "3              Tipping Point for Planet ...  £37.55    One\n",
       "4                     The Fabric of the ...  £55.91    One\n",
       "5                    Diary of a Citizen ...  £28.41    One\n",
       "6                     The Origin of Species  £10.01   Four\n",
       "7                          The Grand Design  £13.76  Three\n",
       "8                Peak: Secrets from the ...  £16.28    Two\n",
       "9   The Elegant Universe: Superstrings, ...  £13.03   Four\n",
       "10          The Disappearing Spoon: And ...  £57.35   Five\n",
       "11            Surely You're Joking, Mr. ...  £25.83    Two\n",
       "12               Seven Brief Lessons on ...  £30.60   Four\n",
       "13                         The Selfish Gene  £29.45    One"
      ]
     },
     "execution_count": 177,
     "metadata": {},
     "output_type": "execute_result"
    }
   ],
   "source": [
    "science_df"
   ]
  },
  {
   "cell_type": "code",
   "execution_count": null,
   "id": "b2f34373-0612-4cb0-b3ae-a36f7567a4e7",
   "metadata": {},
   "outputs": [],
   "source": []
  },
  {
   "cell_type": "code",
   "execution_count": 161,
   "id": "000f0a90-9d48-4cad-82ed-a52cce636336",
   "metadata": {},
   "outputs": [
    {
     "data": {
      "text/plain": [
       "<Response [200]>"
      ]
     },
     "execution_count": 161,
     "metadata": {},
     "output_type": "execute_result"
    }
   ],
   "source": [
    "travel= \"https://books.toscrape.com/catalogue/category/books/travel_2/index.html\"\n",
    "response = requests.get(travel)\n",
    "travel_title = soup.find_all( \"a\", title=True)\n",
    "travel_title\n",
    "response"
   ]
  },
  {
   "cell_type": "code",
   "execution_count": 162,
   "id": "ccd759ec-c8e3-4ccf-bc51-d4b6896f2cd9",
   "metadata": {},
   "outputs": [],
   "source": [
    "soup_travel = BeautifulSoup(response.content)"
   ]
  },
  {
   "cell_type": "code",
   "execution_count": 163,
   "id": "c8862623-1c34-485a-98ae-06c539127576",
   "metadata": {},
   "outputs": [
    {
     "data": {
      "text/plain": [
       "[<a href=\"../../../its-only-the-himalayas_981/index.html\" title=\"It's Only the Himalayas\">It's Only the Himalayas</a>,\n",
       " <a href=\"../../../full-moon-over-noahs-ark-an-odyssey-to-mount-ararat-and-beyond_811/index.html\" title=\"Full Moon over Noah’s Ark: An Odyssey to Mount Ararat and Beyond\">Full Moon over Noah’s ...</a>,\n",
       " <a href=\"../../../see-america-a-celebration-of-our-national-parks-treasured-sites_732/index.html\" title=\"See America: A Celebration of Our National Parks &amp; Treasured Sites\">See America: A Celebration ...</a>,\n",
       " <a href=\"../../../vagabonding-an-uncommon-guide-to-the-art-of-long-term-world-travel_552/index.html\" title=\"Vagabonding: An Uncommon Guide to the Art of Long-Term World Travel\">Vagabonding: An Uncommon Guide ...</a>,\n",
       " <a href=\"../../../under-the-tuscan-sun_504/index.html\" title=\"Under the Tuscan Sun\">Under the Tuscan Sun</a>,\n",
       " <a href=\"../../../a-summer-in-europe_458/index.html\" title=\"A Summer In Europe\">A Summer In Europe</a>,\n",
       " <a href=\"../../../the-great-railway-bazaar_446/index.html\" title=\"The Great Railway Bazaar\">The Great Railway Bazaar</a>,\n",
       " <a href=\"../../../a-year-in-provence-provence-1_421/index.html\" title=\"A Year in Provence (Provence #1)\">A Year in Provence ...</a>,\n",
       " <a href=\"../../../the-road-to-little-dribbling-adventures-of-an-american-in-britain-notes-from-a-small-island-2_277/index.html\" title=\"The Road to Little Dribbling: Adventures of an American in Britain (Notes From a Small Island #2)\">The Road to Little ...</a>,\n",
       " <a href=\"../../../neither-here-nor-there-travels-in-europe_198/index.html\" title=\"Neither Here nor There: Travels in Europe\">Neither Here nor There: ...</a>,\n",
       " <a href=\"../../../1000-places-to-see-before-you-die_1/index.html\" title=\"1,000 Places to See Before You Die\">1,000 Places to See ...</a>]"
      ]
     },
     "execution_count": 163,
     "metadata": {},
     "output_type": "execute_result"
    }
   ],
   "source": [
    "travel_title = soup_travel.find_all( \"a\", title=True)\n",
    "travel_title"
   ]
  },
  {
   "cell_type": "code",
   "execution_count": 164,
   "id": "e7db7354-432f-4062-849d-3b13fabecda8",
   "metadata": {},
   "outputs": [
    {
     "data": {
      "text/plain": [
       "[\"It's Only the Himalayas\",\n",
       " 'Full Moon over Noah’s ...',\n",
       " 'See America: A Celebration ...',\n",
       " 'Vagabonding: An Uncommon Guide ...',\n",
       " 'Under the Tuscan Sun',\n",
       " 'A Summer In Europe',\n",
       " 'The Great Railway Bazaar',\n",
       " 'A Year in Provence ...',\n",
       " 'The Road to Little ...',\n",
       " 'Neither Here nor There: ...',\n",
       " '1,000 Places to See ...']"
      ]
     },
     "execution_count": 164,
     "metadata": {},
     "output_type": "execute_result"
    }
   ],
   "source": [
    "travel_title =[]\n",
    "for title in soup_travel.find_all( \"a\", title=True):\n",
    "  \n",
    "    travel_title.append(title.get_text())\n",
    "    \n",
    "travel_title\n"
   ]
  },
  {
   "cell_type": "code",
   "execution_count": 165,
   "id": "25a787db-ca63-4a3b-aa05-a921e882aab4",
   "metadata": {},
   "outputs": [
    {
     "data": {
      "text/plain": [
       "[<p class=\"price_color\">£45.17</p>,\n",
       " <p class=\"price_color\">£49.43</p>,\n",
       " <p class=\"price_color\">£48.87</p>,\n",
       " <p class=\"price_color\">£36.94</p>,\n",
       " <p class=\"price_color\">£37.33</p>,\n",
       " <p class=\"price_color\">£44.34</p>,\n",
       " <p class=\"price_color\">£30.54</p>,\n",
       " <p class=\"price_color\">£56.88</p>,\n",
       " <p class=\"price_color\">£23.21</p>,\n",
       " <p class=\"price_color\">£38.95</p>,\n",
       " <p class=\"price_color\">£26.08</p>]"
      ]
     },
     "execution_count": 165,
     "metadata": {},
     "output_type": "execute_result"
    }
   ],
   "source": [
    "travel_price = soup_travel.find_all( \"p\",  class_ = \"price_color\")\n",
    "travel_price\n"
   ]
  },
  {
   "cell_type": "code",
   "execution_count": 166,
   "id": "94b99d6c-0d55-41b5-bebc-c0a6b700dbe1",
   "metadata": {},
   "outputs": [
    {
     "data": {
      "text/plain": [
       "['£45.17',\n",
       " '£49.43',\n",
       " '£48.87',\n",
       " '£36.94',\n",
       " '£37.33',\n",
       " '£44.34',\n",
       " '£30.54',\n",
       " '£56.88',\n",
       " '£23.21',\n",
       " '£38.95',\n",
       " '£26.08']"
      ]
     },
     "execution_count": 166,
     "metadata": {},
     "output_type": "execute_result"
    }
   ],
   "source": [
    "\n",
    "travel_price =[]\n",
    "for price in soup_travel.find_all( \"p\",  class_ = \"price_color\"):\n",
    "    travel_price.append(price.get_text())\n",
    "\n",
    "travel_price"
   ]
  },
  {
   "cell_type": "code",
   "execution_count": 167,
   "id": "cbd48a7c-dcde-4dbb-a4ba-dcaef87cf05e",
   "metadata": {
    "scrolled": true
   },
   "outputs": [
    {
     "data": {
      "text/plain": [
       "[<p class=\"star-rating Two\">\n",
       " <i class=\"icon-star\"></i>\n",
       " <i class=\"icon-star\"></i>\n",
       " <i class=\"icon-star\"></i>\n",
       " <i class=\"icon-star\"></i>\n",
       " <i class=\"icon-star\"></i>\n",
       " </p>,\n",
       " <p class=\"star-rating Four\">\n",
       " <i class=\"icon-star\"></i>\n",
       " <i class=\"icon-star\"></i>\n",
       " <i class=\"icon-star\"></i>\n",
       " <i class=\"icon-star\"></i>\n",
       " <i class=\"icon-star\"></i>\n",
       " </p>,\n",
       " <p class=\"star-rating Three\">\n",
       " <i class=\"icon-star\"></i>\n",
       " <i class=\"icon-star\"></i>\n",
       " <i class=\"icon-star\"></i>\n",
       " <i class=\"icon-star\"></i>\n",
       " <i class=\"icon-star\"></i>\n",
       " </p>,\n",
       " <p class=\"star-rating Two\">\n",
       " <i class=\"icon-star\"></i>\n",
       " <i class=\"icon-star\"></i>\n",
       " <i class=\"icon-star\"></i>\n",
       " <i class=\"icon-star\"></i>\n",
       " <i class=\"icon-star\"></i>\n",
       " </p>,\n",
       " <p class=\"star-rating Three\">\n",
       " <i class=\"icon-star\"></i>\n",
       " <i class=\"icon-star\"></i>\n",
       " <i class=\"icon-star\"></i>\n",
       " <i class=\"icon-star\"></i>\n",
       " <i class=\"icon-star\"></i>\n",
       " </p>,\n",
       " <p class=\"star-rating Two\">\n",
       " <i class=\"icon-star\"></i>\n",
       " <i class=\"icon-star\"></i>\n",
       " <i class=\"icon-star\"></i>\n",
       " <i class=\"icon-star\"></i>\n",
       " <i class=\"icon-star\"></i>\n",
       " </p>,\n",
       " <p class=\"star-rating One\">\n",
       " <i class=\"icon-star\"></i>\n",
       " <i class=\"icon-star\"></i>\n",
       " <i class=\"icon-star\"></i>\n",
       " <i class=\"icon-star\"></i>\n",
       " <i class=\"icon-star\"></i>\n",
       " </p>,\n",
       " <p class=\"star-rating Four\">\n",
       " <i class=\"icon-star\"></i>\n",
       " <i class=\"icon-star\"></i>\n",
       " <i class=\"icon-star\"></i>\n",
       " <i class=\"icon-star\"></i>\n",
       " <i class=\"icon-star\"></i>\n",
       " </p>,\n",
       " <p class=\"star-rating One\">\n",
       " <i class=\"icon-star\"></i>\n",
       " <i class=\"icon-star\"></i>\n",
       " <i class=\"icon-star\"></i>\n",
       " <i class=\"icon-star\"></i>\n",
       " <i class=\"icon-star\"></i>\n",
       " </p>,\n",
       " <p class=\"star-rating Three\">\n",
       " <i class=\"icon-star\"></i>\n",
       " <i class=\"icon-star\"></i>\n",
       " <i class=\"icon-star\"></i>\n",
       " <i class=\"icon-star\"></i>\n",
       " <i class=\"icon-star\"></i>\n",
       " </p>,\n",
       " <p class=\"star-rating Five\">\n",
       " <i class=\"icon-star\"></i>\n",
       " <i class=\"icon-star\"></i>\n",
       " <i class=\"icon-star\"></i>\n",
       " <i class=\"icon-star\"></i>\n",
       " <i class=\"icon-star\"></i>\n",
       " </p>]"
      ]
     },
     "execution_count": 167,
     "metadata": {},
     "output_type": "execute_result"
    }
   ],
   "source": [
    "rating_travel = soup_travel.find_all(\"p\",  class_= \"star-rating\")\n",
    "rating_travel"
   ]
  },
  {
   "cell_type": "code",
   "execution_count": 168,
   "id": "a53c57a1-017f-47c3-9c98-a04cc371bd66",
   "metadata": {
    "scrolled": true
   },
   "outputs": [
    {
     "data": {
      "text/plain": [
       "['Two',\n",
       " 'Four',\n",
       " 'Three',\n",
       " 'Two',\n",
       " 'Three',\n",
       " 'Two',\n",
       " 'One',\n",
       " 'Four',\n",
       " 'One',\n",
       " 'Three',\n",
       " 'Five']"
      ]
     },
     "execution_count": 168,
     "metadata": {},
     "output_type": "execute_result"
    }
   ],
   "source": [
    "\n",
    "rating_travel= []\n",
    "for rate in soup_travel.find_all(\"p\", class_=\"star-rating\"):\n",
    "    for class_name in rate[\"class\"]:\n",
    "        if class_name != \"star-rating\":\n",
    "            rating_travel.append(class_name)\n",
    "\n",
    "rating_travel"
   ]
  },
  {
   "cell_type": "code",
   "execution_count": 174,
   "id": "d9c4d59b-45ae-47fa-be8a-105b0e21aa1c",
   "metadata": {},
   "outputs": [],
   "source": [
    "travel_df = pd.DataFrame({\n",
    "    'Title': travel_title,\n",
    "    'Price': travel_price,\n",
    "    'Rating': rating_travel\n",
    "})"
   ]
  },
  {
   "cell_type": "code",
   "execution_count": 175,
   "id": "9c0627f4-3867-49f9-aed4-51aa63bcb32b",
   "metadata": {},
   "outputs": [
    {
     "data": {
      "text/html": [
       "<div>\n",
       "<style scoped>\n",
       "    .dataframe tbody tr th:only-of-type {\n",
       "        vertical-align: middle;\n",
       "    }\n",
       "\n",
       "    .dataframe tbody tr th {\n",
       "        vertical-align: top;\n",
       "    }\n",
       "\n",
       "    .dataframe thead th {\n",
       "        text-align: right;\n",
       "    }\n",
       "</style>\n",
       "<table border=\"1\" class=\"dataframe\">\n",
       "  <thead>\n",
       "    <tr style=\"text-align: right;\">\n",
       "      <th></th>\n",
       "      <th>Title</th>\n",
       "      <th>Price</th>\n",
       "      <th>Rating</th>\n",
       "    </tr>\n",
       "  </thead>\n",
       "  <tbody>\n",
       "    <tr>\n",
       "      <th>0</th>\n",
       "      <td>It's Only the Himalayas</td>\n",
       "      <td>£45.17</td>\n",
       "      <td>Two</td>\n",
       "    </tr>\n",
       "    <tr>\n",
       "      <th>1</th>\n",
       "      <td>Full Moon over Noah’s ...</td>\n",
       "      <td>£49.43</td>\n",
       "      <td>Four</td>\n",
       "    </tr>\n",
       "    <tr>\n",
       "      <th>2</th>\n",
       "      <td>See America: A Celebration ...</td>\n",
       "      <td>£48.87</td>\n",
       "      <td>Three</td>\n",
       "    </tr>\n",
       "    <tr>\n",
       "      <th>3</th>\n",
       "      <td>Vagabonding: An Uncommon Guide ...</td>\n",
       "      <td>£36.94</td>\n",
       "      <td>Two</td>\n",
       "    </tr>\n",
       "    <tr>\n",
       "      <th>4</th>\n",
       "      <td>Under the Tuscan Sun</td>\n",
       "      <td>£37.33</td>\n",
       "      <td>Three</td>\n",
       "    </tr>\n",
       "    <tr>\n",
       "      <th>5</th>\n",
       "      <td>A Summer In Europe</td>\n",
       "      <td>£44.34</td>\n",
       "      <td>Two</td>\n",
       "    </tr>\n",
       "    <tr>\n",
       "      <th>6</th>\n",
       "      <td>The Great Railway Bazaar</td>\n",
       "      <td>£30.54</td>\n",
       "      <td>One</td>\n",
       "    </tr>\n",
       "    <tr>\n",
       "      <th>7</th>\n",
       "      <td>A Year in Provence ...</td>\n",
       "      <td>£56.88</td>\n",
       "      <td>Four</td>\n",
       "    </tr>\n",
       "    <tr>\n",
       "      <th>8</th>\n",
       "      <td>The Road to Little ...</td>\n",
       "      <td>£23.21</td>\n",
       "      <td>One</td>\n",
       "    </tr>\n",
       "    <tr>\n",
       "      <th>9</th>\n",
       "      <td>Neither Here nor There: ...</td>\n",
       "      <td>£38.95</td>\n",
       "      <td>Three</td>\n",
       "    </tr>\n",
       "    <tr>\n",
       "      <th>10</th>\n",
       "      <td>1,000 Places to See ...</td>\n",
       "      <td>£26.08</td>\n",
       "      <td>Five</td>\n",
       "    </tr>\n",
       "  </tbody>\n",
       "</table>\n",
       "</div>"
      ],
      "text/plain": [
       "                                 Title   Price Rating\n",
       "0              It's Only the Himalayas  £45.17    Two\n",
       "1            Full Moon over Noah’s ...  £49.43   Four\n",
       "2       See America: A Celebration ...  £48.87  Three\n",
       "3   Vagabonding: An Uncommon Guide ...  £36.94    Two\n",
       "4                 Under the Tuscan Sun  £37.33  Three\n",
       "5                   A Summer In Europe  £44.34    Two\n",
       "6             The Great Railway Bazaar  £30.54    One\n",
       "7               A Year in Provence ...  £56.88   Four\n",
       "8               The Road to Little ...  £23.21    One\n",
       "9          Neither Here nor There: ...  £38.95  Three\n",
       "10             1,000 Places to See ...  £26.08   Five"
      ]
     },
     "execution_count": 175,
     "metadata": {},
     "output_type": "execute_result"
    }
   ],
   "source": [
    "travel_df"
   ]
  },
  {
   "cell_type": "code",
   "execution_count": null,
   "id": "4af0f4de-71ab-4f0d-ade0-1d873f3e2588",
   "metadata": {},
   "outputs": [],
   "source": []
  },
  {
   "cell_type": "code",
   "execution_count": 179,
   "id": "613efe18-6c8d-46a3-bc96-fc887f6a576d",
   "metadata": {},
   "outputs": [
    {
     "data": {
      "text/plain": [
       "<Response [200]>"
      ]
     },
     "execution_count": 179,
     "metadata": {},
     "output_type": "execute_result"
    }
   ],
   "source": [
    "psychology= \"https://books.toscrape.com/catalogue/category/books/psychology_26/index.html\"\n",
    "response = requests.get(psychology)\n",
    "response"
   ]
  },
  {
   "cell_type": "code",
   "execution_count": 180,
   "id": "88ca3848-f46a-490f-a9a2-a8d498402ebe",
   "metadata": {},
   "outputs": [],
   "source": [
    "soup_psy = BeautifulSoup(response.content)"
   ]
  },
  {
   "cell_type": "code",
   "execution_count": 181,
   "id": "1b8efd85-4efd-4969-b99a-810ab5efe527",
   "metadata": {},
   "outputs": [
    {
     "data": {
      "text/plain": [
       "[<a href=\"../../../the-lucifer-effect-understanding-how-good-people-turn-evil_758/index.html\" title=\"The Lucifer Effect: Understanding How Good People Turn Evil\">The Lucifer Effect: Understanding ...</a>,\n",
       " <a href=\"../../../the-golden-condom-and-other-essays-on-love-lost-and-found_637/index.html\" title=\"The Golden Condom: And Other Essays on Love Lost and Found\">The Golden Condom: And ...</a>,\n",
       " <a href=\"../../../it-didnt-start-with-you-how-inherited-family-trauma-shapes-who-we-are-and-how-to-end-the-cycle_593/index.html\" title=\"It Didn't Start with You: How Inherited Family Trauma Shapes Who We Are and How to End the Cycle\">It Didn't Start with ...</a>,\n",
       " <a href=\"../../../an-unquiet-mind-a-memoir-of-moods-and-madness_422/index.html\" title=\"An Unquiet Mind: A Memoir of Moods and Madness\">An Unquiet Mind: A ...</a>,\n",
       " <a href=\"../../../thinking-fast-and-slow_289/index.html\" title=\"Thinking, Fast and Slow\">Thinking, Fast and Slow</a>,\n",
       " <a href=\"../../../civilization-and-its-discontents_140/index.html\" title=\"Civilization and Its Discontents\">Civilization and Its Discontents</a>,\n",
       " <a href=\"../../../8-keys-to-mental-health-through-exercise_114/index.html\" title=\"8 Keys to Mental Health Through Exercise\">8 Keys to Mental ...</a>]"
      ]
     },
     "execution_count": 181,
     "metadata": {},
     "output_type": "execute_result"
    }
   ],
   "source": [
    "psy_title = soup_psy.find_all( \"a\", title=True)\n",
    "psy_title"
   ]
  },
  {
   "cell_type": "code",
   "execution_count": 182,
   "id": "a03c2ca1-592b-4fc0-997d-b85661cfc2a1",
   "metadata": {},
   "outputs": [
    {
     "data": {
      "text/plain": [
       "['The Lucifer Effect: Understanding ...',\n",
       " 'The Golden Condom: And ...',\n",
       " \"It Didn't Start with ...\",\n",
       " 'An Unquiet Mind: A ...',\n",
       " 'Thinking, Fast and Slow',\n",
       " 'Civilization and Its Discontents',\n",
       " '8 Keys to Mental ...']"
      ]
     },
     "execution_count": 182,
     "metadata": {},
     "output_type": "execute_result"
    }
   ],
   "source": [
    "psy_title =[]\n",
    "for title in soup_psy.find_all( \"a\", title=True):\n",
    "  \n",
    "    psy_title.append(title.get_text())\n",
    "    \n",
    "psy_title"
   ]
  },
  {
   "cell_type": "code",
   "execution_count": 183,
   "id": "3c3a6c57-c027-4afb-ac7e-6dd840030fc7",
   "metadata": {},
   "outputs": [
    {
     "data": {
      "text/plain": [
       "[<p class=\"price_color\">£10.40</p>,\n",
       " <p class=\"price_color\">£39.43</p>,\n",
       " <p class=\"price_color\">£56.27</p>,\n",
       " <p class=\"price_color\">£21.30</p>,\n",
       " <p class=\"price_color\">£21.14</p>,\n",
       " <p class=\"price_color\">£59.95</p>,\n",
       " <p class=\"price_color\">£31.04</p>]"
      ]
     },
     "execution_count": 183,
     "metadata": {},
     "output_type": "execute_result"
    }
   ],
   "source": [
    "psy_price = soup_psy.find_all( \"p\",  class_ = \"price_color\")\n",
    "psy_price"
   ]
  },
  {
   "cell_type": "code",
   "execution_count": 184,
   "id": "84b8725e-d738-41e6-abbd-ed13ef5410c0",
   "metadata": {},
   "outputs": [
    {
     "data": {
      "text/plain": [
       "['£10.40', '£39.43', '£56.27', '£21.30', '£21.14', '£59.95', '£31.04']"
      ]
     },
     "execution_count": 184,
     "metadata": {},
     "output_type": "execute_result"
    }
   ],
   "source": [
    "psy_price =[]\n",
    "for price in soup_psy.find_all( \"p\",  class_ = \"price_color\"):\n",
    "    psy_price.append(price.get_text())\n",
    "psy_price"
   ]
  },
  {
   "cell_type": "code",
   "execution_count": 185,
   "id": "5bf4a146-3f35-4a2e-b41f-5cb4aa6d5e11",
   "metadata": {
    "scrolled": true
   },
   "outputs": [
    {
     "data": {
      "text/plain": [
       "[<p class=\"star-rating One\">\n",
       " <i class=\"icon-star\"></i>\n",
       " <i class=\"icon-star\"></i>\n",
       " <i class=\"icon-star\"></i>\n",
       " <i class=\"icon-star\"></i>\n",
       " <i class=\"icon-star\"></i>\n",
       " </p>,\n",
       " <p class=\"star-rating One\">\n",
       " <i class=\"icon-star\"></i>\n",
       " <i class=\"icon-star\"></i>\n",
       " <i class=\"icon-star\"></i>\n",
       " <i class=\"icon-star\"></i>\n",
       " <i class=\"icon-star\"></i>\n",
       " </p>,\n",
       " <p class=\"star-rating Three\">\n",
       " <i class=\"icon-star\"></i>\n",
       " <i class=\"icon-star\"></i>\n",
       " <i class=\"icon-star\"></i>\n",
       " <i class=\"icon-star\"></i>\n",
       " <i class=\"icon-star\"></i>\n",
       " </p>,\n",
       " <p class=\"star-rating Three\">\n",
       " <i class=\"icon-star\"></i>\n",
       " <i class=\"icon-star\"></i>\n",
       " <i class=\"icon-star\"></i>\n",
       " <i class=\"icon-star\"></i>\n",
       " <i class=\"icon-star\"></i>\n",
       " </p>,\n",
       " <p class=\"star-rating One\">\n",
       " <i class=\"icon-star\"></i>\n",
       " <i class=\"icon-star\"></i>\n",
       " <i class=\"icon-star\"></i>\n",
       " <i class=\"icon-star\"></i>\n",
       " <i class=\"icon-star\"></i>\n",
       " </p>,\n",
       " <p class=\"star-rating Two\">\n",
       " <i class=\"icon-star\"></i>\n",
       " <i class=\"icon-star\"></i>\n",
       " <i class=\"icon-star\"></i>\n",
       " <i class=\"icon-star\"></i>\n",
       " <i class=\"icon-star\"></i>\n",
       " </p>,\n",
       " <p class=\"star-rating One\">\n",
       " <i class=\"icon-star\"></i>\n",
       " <i class=\"icon-star\"></i>\n",
       " <i class=\"icon-star\"></i>\n",
       " <i class=\"icon-star\"></i>\n",
       " <i class=\"icon-star\"></i>\n",
       " </p>]"
      ]
     },
     "execution_count": 185,
     "metadata": {},
     "output_type": "execute_result"
    }
   ],
   "source": [
    "rating_psy = soup_psy.find_all(\"p\",  class_= \"star-rating\")\n",
    "rating_psy"
   ]
  },
  {
   "cell_type": "code",
   "execution_count": 186,
   "id": "e53a060c-e451-468b-aacb-b18ed889e9ca",
   "metadata": {
    "scrolled": true
   },
   "outputs": [
    {
     "data": {
      "text/plain": [
       "['One', 'One', 'Three', 'Three', 'One', 'Two', 'One']"
      ]
     },
     "execution_count": 186,
     "metadata": {},
     "output_type": "execute_result"
    }
   ],
   "source": [
    "rating_psy = []\n",
    "for rate in soup_psy.find_all(\"p\", class_=\"star-rating\"):\n",
    "    for class_name in rate[\"class\"]:\n",
    "        if class_name != \"star-rating\":\n",
    "            rating_psy.append(class_name)\n",
    "\n",
    "rating_psy"
   ]
  },
  {
   "cell_type": "code",
   "execution_count": 187,
   "id": "0d1f71a1-584d-4fb7-a522-35e02056ba85",
   "metadata": {},
   "outputs": [],
   "source": [
    "psy_df = pd.DataFrame({\n",
    "    'Title': psy_title,\n",
    "    'Price': psy_price,\n",
    "    'Rating': rating_psy\n",
    "})"
   ]
  },
  {
   "cell_type": "code",
   "execution_count": 188,
   "id": "b1fea97f-1f71-42d9-bf49-74057d5de307",
   "metadata": {},
   "outputs": [
    {
     "data": {
      "text/html": [
       "<div>\n",
       "<style scoped>\n",
       "    .dataframe tbody tr th:only-of-type {\n",
       "        vertical-align: middle;\n",
       "    }\n",
       "\n",
       "    .dataframe tbody tr th {\n",
       "        vertical-align: top;\n",
       "    }\n",
       "\n",
       "    .dataframe thead th {\n",
       "        text-align: right;\n",
       "    }\n",
       "</style>\n",
       "<table border=\"1\" class=\"dataframe\">\n",
       "  <thead>\n",
       "    <tr style=\"text-align: right;\">\n",
       "      <th></th>\n",
       "      <th>Title</th>\n",
       "      <th>Price</th>\n",
       "      <th>Rating</th>\n",
       "    </tr>\n",
       "  </thead>\n",
       "  <tbody>\n",
       "    <tr>\n",
       "      <th>0</th>\n",
       "      <td>The Lucifer Effect: Understanding ...</td>\n",
       "      <td>£10.40</td>\n",
       "      <td>One</td>\n",
       "    </tr>\n",
       "    <tr>\n",
       "      <th>1</th>\n",
       "      <td>The Golden Condom: And ...</td>\n",
       "      <td>£39.43</td>\n",
       "      <td>One</td>\n",
       "    </tr>\n",
       "    <tr>\n",
       "      <th>2</th>\n",
       "      <td>It Didn't Start with ...</td>\n",
       "      <td>£56.27</td>\n",
       "      <td>Three</td>\n",
       "    </tr>\n",
       "    <tr>\n",
       "      <th>3</th>\n",
       "      <td>An Unquiet Mind: A ...</td>\n",
       "      <td>£21.30</td>\n",
       "      <td>Three</td>\n",
       "    </tr>\n",
       "    <tr>\n",
       "      <th>4</th>\n",
       "      <td>Thinking, Fast and Slow</td>\n",
       "      <td>£21.14</td>\n",
       "      <td>One</td>\n",
       "    </tr>\n",
       "    <tr>\n",
       "      <th>5</th>\n",
       "      <td>Civilization and Its Discontents</td>\n",
       "      <td>£59.95</td>\n",
       "      <td>Two</td>\n",
       "    </tr>\n",
       "    <tr>\n",
       "      <th>6</th>\n",
       "      <td>8 Keys to Mental ...</td>\n",
       "      <td>£31.04</td>\n",
       "      <td>One</td>\n",
       "    </tr>\n",
       "  </tbody>\n",
       "</table>\n",
       "</div>"
      ],
      "text/plain": [
       "                                   Title   Price Rating\n",
       "0  The Lucifer Effect: Understanding ...  £10.40    One\n",
       "1             The Golden Condom: And ...  £39.43    One\n",
       "2               It Didn't Start with ...  £56.27  Three\n",
       "3                 An Unquiet Mind: A ...  £21.30  Three\n",
       "4                Thinking, Fast and Slow  £21.14    One\n",
       "5       Civilization and Its Discontents  £59.95    Two\n",
       "6                   8 Keys to Mental ...  £31.04    One"
      ]
     },
     "execution_count": 188,
     "metadata": {},
     "output_type": "execute_result"
    }
   ],
   "source": [
    "psy_df"
   ]
  },
  {
   "cell_type": "code",
   "execution_count": null,
   "id": "fa209418-a3f6-493c-9740-fa60b7f10c7c",
   "metadata": {},
   "outputs": [],
   "source": []
  }
 ],
 "metadata": {
  "kernelspec": {
   "display_name": "Python 3 (ipykernel)",
   "language": "python",
   "name": "python3"
  },
  "language_info": {
   "codemirror_mode": {
    "name": "ipython",
    "version": 3
   },
   "file_extension": ".py",
   "mimetype": "text/x-python",
   "name": "python",
   "nbconvert_exporter": "python",
   "pygments_lexer": "ipython3",
   "version": "3.11.7"
  }
 },
 "nbformat": 4,
 "nbformat_minor": 5
}
