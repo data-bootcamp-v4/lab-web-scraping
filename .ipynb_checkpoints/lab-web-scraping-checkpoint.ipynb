{
 "cells": [
  {
   "cell_type": "markdown",
   "id": "7e7a1ab8-2599-417d-9a65-25ef07f3a786",
   "metadata": {
    "id": "7e7a1ab8-2599-417d-9a65-25ef07f3a786"
   },
   "source": [
    "# Lab | Web Scraping"
   ]
  },
  {
   "cell_type": "markdown",
   "id": "ce8882fc-4815-4567-92fa-b4816358ba7d",
   "metadata": {
    "id": "ce8882fc-4815-4567-92fa-b4816358ba7d"
   },
   "source": [
    "Welcome to the IMDb Web Scraping Adventure Lab!\n",
    "\n",
    "**Objective**\n",
    "\n",
    "In this lab, we will embark on a mission to unearth valuable insights from the vast sea of data available on IMDb, one of the largest online databases of movie, TV, and celebrity information. As budding data scientists and business analysts, you have been tasked to scrape a specific subset of data from IMDb to assist film production companies in understanding the landscape of highly-rated movies in a defined time period. Your insights will potentially influence the making of the next netflix movie!\n",
    "\n",
    "**Background**\n",
    "\n",
    "In a world where data has become the new currency, businesses are leveraging big data to make informed decisions that drive success and profitability. The entertainment industry, being no exception, utilizes data analytics to comprehend market trends, audience preferences, and the performance of films based on various parameters such as director, genre, stars involved, etc. IMDb stands as a goldmine of such data, offering intricate details of almost every movie ever made.\n",
    "\n",
    "**Task**\n",
    "\n",
    "Your task is to create a Python script using `BeautifulSoup` and `pandas` to scrape IMDb movie data based on user ratings and release dates. This script should be able to filter movies with ratings above a certain threshold and within a specified date range.\n",
    "\n",
    "**Expected Outcome**\n",
    "\n",
    "- A function named `scrape_imdb` that takes four parameters: `title_type`,`user_rating`, `start_date`, and `end_date`.\n",
    "- The function should return a DataFrame with the following columns:\n",
    "  - **Movie Nr**: The number representing the movie’s position in the list.\n",
    "  - **Title**: The title of the movie.\n",
    "  - **Year**: The year the movie was released.\n",
    "  - **Rating**: The IMDb rating of the movie.\n",
    "  - **Runtime (min)**: The duration of the movie in minutes.\n",
    "  - **Genre**: The genre of the movie.\n",
    "  - **Description**: A brief description of the movie.\n",
    "  - **Director**: The director of the movie.\n",
    "  - **Stars**: The main stars of the movie.\n",
    "  - **Votes**: The number of votes the movie received.\n",
    "  - **Gross ($M)**: The gross earnings of the movie in millions of USD.\n",
    "\n",
    "You will execute this script to scrape data for movies with the Title Type `Feature Film` that have a user rating of `7.5 and above` and were released between `January 1, 1990, and December 31, 1992`.\n",
    "\n",
    "Remember to experiment with different title types, dates and ratings to ensure your code is versatile and can handle various searches effectively!\n",
    "\n",
    "**Resources**\n",
    "\n",
    "- [Beautiful Soup Documentation](https://www.crummy.com/software/BeautifulSoup/bs4/doc/)\n",
    "- [Pandas Documentation](https://pandas.pydata.org/pandas-docs/stable/index.html)\n",
    "- [IMDb Advanced Search](https://www.imdb.com/search/title/)\n"
   ]
  },
  {
   "cell_type": "markdown",
   "id": "3519921d-5890-445b-9a33-934ed8ee378c",
   "metadata": {
    "id": "3519921d-5890-445b-9a33-934ed8ee378c"
   },
   "source": [
    "**Hint**\n",
    "\n",
    "Your first mission is to familiarize yourself with the IMDb advanced search page. Head over to [IMDb advanced search](https://www.imdb.com/search/title/) and input the following parameters, keeping all other fields to their default values or blank:\n",
    "\n",
    "- **Title Type**: Feature film\n",
    "- **Release date**: From 1990 to 1992 (Note: You don't need to specify the day and month)\n",
    "- **User Rating**: 7.5 to -\n",
    "\n",
    "Upon searching, you'll land on a page showcasing a list of movies, each displaying vital details such as the title, release year, and crew information. Your task is to scrape this treasure trove of data.\n",
    "\n",
    "Carefully examine the resulting URL and construct your own URL to include all the necessary parameters for filtering the movies."
   ]
  },
  {
   "cell_type": "markdown",
   "id": "25a83a0d-a742-49f6-985e-e27887cbf922",
   "metadata": {
    "id": "25a83a0d-a742-49f6-985e-e27887cbf922"
   },
   "source": [
    "\n",
    "---\n",
    "\n",
    "**Best of luck! Immerse yourself in the world of movies and may the data be with you!**"
   ]
  },
  {
   "cell_type": "markdown",
   "id": "7b75cf0d-9afa-4eec-a9e2-befeac68b2a0",
   "metadata": {
    "id": "7b75cf0d-9afa-4eec-a9e2-befeac68b2a0"
   },
   "source": [
    "**Important note**:\n",
    "\n",
    "In the fast-changing online world, websites often get updates and make changes. When you try this lab, the IMDb website might be different from what we expect.\n",
    "\n",
    "If you run into problems because of these changes, like new rules or things that stop you from getting data, don't worry! Instead, get creative.\n",
    "\n",
    "You can choose another website that interests you and is good for scraping data. Websites like Wikipedia or The New York Times are good options. The main goal is still the same: get useful data and learn how to scrape it from a website that you find interesting. It's a chance to practice your web scraping skills and explore a source of information you like."
   ]
  },
  {
   "cell_type": "code",
   "execution_count": 1,
   "id": "40359eee-9cd7-4884-bfa4-83344c222305",
   "metadata": {
    "id": "40359eee-9cd7-4884-bfa4-83344c222305"
   },
   "outputs": [],
   "source": [
    "import pandas as pd\n",
    "from bs4 import BeautifulSoup\n",
    "#!pip install requests beautifulsoup4\n",
    "import requests"
   ]
  },
  {
   "cell_type": "code",
   "execution_count": 2,
   "id": "f1dd39c3-b5d8-4203-99b0-70c2a55e2a13",
   "metadata": {},
   "outputs": [],
   "source": [
    "url = \"https://www.imdb.com/search/title/?title_type=feature&release_date=1990-01-01,1992-12-31\"\n",
    "\n",
    "headers = {\n",
    "    'User-Agent': 'Mozilla/5.0 (Windows NT 6.3; Win 64 ; x64) AppleWebKit/537.36 (KHTML, like Gecko) Chrome/80.0.3987.162 Safari/537.36',\n",
    "    'Accept-Language': 'en-US,en;q=0.9',  # English (United States) with fallback to generic English\n",
    "}\n",
    "\n",
    "response = requests.get(url, headers=headers)"
   ]
  },
  {
   "cell_type": "markdown",
   "id": "d4d18b35-3620-4307-956c-9ecced140ef1",
   "metadata": {},
   "source": [
    "**Title: The title of the movie**"
   ]
  },
  {
   "cell_type": "code",
   "execution_count": 3,
   "id": "cedd8c96-62d2-48d0-9919-fc9826cefb81",
   "metadata": {},
   "outputs": [],
   "source": [
    "soup = BeautifulSoup(response.content)"
   ]
  },
  {
   "cell_type": "code",
   "execution_count": 4,
   "id": "0b764eac-479b-4243-abed-949d32b97fad",
   "metadata": {},
   "outputs": [],
   "source": [
    "title_elements = soup.find_all(\"h3\", class_= \"ipc-title__text\")"
   ]
  },
  {
   "cell_type": "code",
   "execution_count": 5,
   "id": "51a4293c-a544-4139-b7b8-d5e561d9298e",
   "metadata": {},
   "outputs": [],
   "source": [
    "titles = [i.get_text().split(\".\")[1].strip() for i in title_elements if len(i.get_text().split(\".\")) > 1]"
   ]
  },
  {
   "cell_type": "markdown",
   "id": "ede0a94b-e2d9-4c3b-b3d5-5c10f36d8213",
   "metadata": {},
   "source": [
    "**Movie Nr: The number representing the movie’s position in the list**"
   ]
  },
  {
   "cell_type": "code",
   "execution_count": 6,
   "id": "81a898f5-5858-4987-a8d1-115a1a2f20f8",
   "metadata": {},
   "outputs": [],
   "source": [
    "movie_nrs = [i.get_text().split(\".\")[0].strip() for i in title_elements if len(i.get_text().split(\".\")) > 1]"
   ]
  },
  {
   "cell_type": "markdown",
   "id": "041b3400-dcb3-4880-a65b-138235fa50c1",
   "metadata": {},
   "source": [
    "**Year: The year the movie was released**"
   ]
  },
  {
   "cell_type": "code",
   "execution_count": 7,
   "id": "696568fe-1071-468b-8062-6b9a5491c7cf",
   "metadata": {},
   "outputs": [],
   "source": [
    "release_years_elements = soup.find_all(\"span\", class_= \"sc-b0691f29-8 ilsLEX dli-title-metadata-item\")"
   ]
  },
  {
   "cell_type": "code",
   "execution_count": 8,
   "id": "7f19ba2c-f247-40ec-8227-4225032a3898",
   "metadata": {},
   "outputs": [],
   "source": [
    "release_years = [i.get_text().strip() for i in release_years_elements[::3]]"
   ]
  },
  {
   "cell_type": "markdown",
   "id": "c76c8915-426d-43c3-adb4-cd052acf66be",
   "metadata": {},
   "source": [
    "**Rating: The IMDb rating of the movie**"
   ]
  },
  {
   "cell_type": "code",
   "execution_count": 9,
   "id": "a58e08df-7712-4f3a-af47-8575cb23cff4",
   "metadata": {},
   "outputs": [],
   "source": [
    "rating_elements = soup.find_all(\"span\", class_= \"ipc-rating-star ipc-rating-star--base ipc-rating-star--imdb ratingGroup--imdb-rating\")"
   ]
  },
  {
   "cell_type": "code",
   "execution_count": 10,
   "id": "bcbe680c-5a0a-4fc0-b273-02ba5d5860bb",
   "metadata": {},
   "outputs": [],
   "source": [
    "ratings_whole = [i.get_text() for i in rating_elements]"
   ]
  },
  {
   "cell_type": "code",
   "execution_count": 11,
   "id": "3d6fe9af-f274-442f-a799-d9ba91089e1e",
   "metadata": {},
   "outputs": [],
   "source": [
    "import re"
   ]
  },
  {
   "cell_type": "code",
   "execution_count": 12,
   "id": "40e37046-ee29-40fd-871f-b669b136cc8c",
   "metadata": {},
   "outputs": [],
   "source": [
    "pattern = r'\\b\\d\\.\\d\\b'\n",
    "ratings = [re.search(pattern, item).group() for item in ratings_whole]"
   ]
  },
  {
   "cell_type": "markdown",
   "id": "9d8a3c3a-bd5f-4c84-8d99-8f00864dc606",
   "metadata": {},
   "source": [
    "**Runtime (min): The duration of the movie in minutes**"
   ]
  },
  {
   "cell_type": "code",
   "execution_count": 13,
   "id": "119be397-5459-4494-adfc-b23c16ecfc04",
   "metadata": {},
   "outputs": [],
   "source": [
    "run_times = [release_years_elements[i].get_text().strip() for i in range(1, len(release_years_elements), 3)]\n",
    "\n",
    "times_in_minutes = []\n",
    "for time_str in run_times:\n",
    "    parts = time_str.split()\n",
    "    hours = int(parts[0][:-1]) if 'h' in parts[0] else 0\n",
    "    minutes = int(parts[1][:-1]) if len(parts) > 1 and 'm' in parts[1] else 0\n",
    "    total_minutes = hours * 60 + minutes\n",
    "    times_in_minutes.append(total_minutes)"
   ]
  },
  {
   "cell_type": "markdown",
   "id": "c489f4f5-e9ec-4dcd-b7dc-8fa3d195382b",
   "metadata": {},
   "source": [
    "**Genre: The genre of the movie - ERROR**"
   ]
  },
  {
   "cell_type": "code",
   "execution_count": 14,
   "id": "00ca2388-e615-4c48-85ad-22634d54b446",
   "metadata": {},
   "outputs": [],
   "source": [
    "genre_elements = soup.find_all(\"li\", role= \"presentation\", class_= \"ipc-inline-list__item\")"
   ]
  },
  {
   "cell_type": "code",
   "execution_count": 15,
   "id": "1a4b59e0-149e-4b26-8f7b-9297700771fc",
   "metadata": {},
   "outputs": [],
   "source": [
    "genres = [i.get_text().strip() for i in genre_elements]"
   ]
  },
  {
   "cell_type": "code",
   "execution_count": 16,
   "id": "c6972d9c-e37e-450a-aa77-1f178ed1a992",
   "metadata": {},
   "outputs": [
    {
     "data": {
      "text/plain": [
       "['',\n",
       " '',\n",
       " '',\n",
       " '',\n",
       " '',\n",
       " '',\n",
       " '',\n",
       " '',\n",
       " '',\n",
       " '',\n",
       " 'Help',\n",
       " 'Site Index',\n",
       " 'IMDbPro',\n",
       " 'Box Office Mojo',\n",
       " 'License IMDb Data',\n",
       " 'Press Room',\n",
       " 'Advertising',\n",
       " 'Jobs',\n",
       " 'Conditions of Use',\n",
       " 'Privacy Policy',\n",
       " 'Your Ads Privacy Choices']"
      ]
     },
     "execution_count": 16,
     "metadata": {},
     "output_type": "execute_result"
    }
   ],
   "source": [
    "genres"
   ]
  },
  {
   "cell_type": "markdown",
   "id": "a1b3d713-fa0f-4bba-a101-3645ea30dbe1",
   "metadata": {},
   "source": [
    "**Description: A brief description of the movie**"
   ]
  },
  {
   "cell_type": "code",
   "execution_count": 17,
   "id": "918d0626-7884-4b9e-a831-f6e80190ab18",
   "metadata": {},
   "outputs": [],
   "source": [
    "description_elements = soup.find_all(\"div\", class_ =\"ipc-html-content-inner-div\")"
   ]
  },
  {
   "cell_type": "code",
   "execution_count": 18,
   "id": "db047692-0a0c-4d66-9849-25cc2775e923",
   "metadata": {},
   "outputs": [],
   "source": [
    "descriptions = [i.get_text().strip() for i in description_elements]"
   ]
  },
  {
   "cell_type": "markdown",
   "id": "45071a51-c949-4805-b1c1-68c155bb94d7",
   "metadata": {},
   "source": [
    "**Director: The director of the movie - ERROR**"
   ]
  },
  {
   "cell_type": "markdown",
   "id": "72af6067-b81c-40e8-b938-977735bcde8d",
   "metadata": {},
   "source": [
    "**Stars: The main stars of the movie - ERROR**"
   ]
  },
  {
   "cell_type": "markdown",
   "id": "4a34fabd-8aa0-4956-b6c7-9575987e4f35",
   "metadata": {},
   "source": [
    "**Votes: The number of votes the movie received**"
   ]
  },
  {
   "cell_type": "code",
   "execution_count": 19,
   "id": "02b74044-2976-47ec-90e0-932ba22c1633",
   "metadata": {},
   "outputs": [],
   "source": [
    "pattern_1 = r'\\((.*?)\\)'\n",
    "votes = [re.search(pattern_1, item).group(1) for item in ratings_whole]"
   ]
  },
  {
   "cell_type": "markdown",
   "id": "becf6be4-3e06-4a41-b0ba-02c3949d13b7",
   "metadata": {},
   "source": [
    "**Gross ($M): The gross earnings of the movie in millions of USD - ERROR**"
   ]
  },
  {
   "cell_type": "markdown",
   "id": "686b0af4-6279-4003-9062-13671c811b34",
   "metadata": {},
   "source": [
    "**Write a function**"
   ]
  },
  {
   "cell_type": "code",
   "execution_count": 20,
   "id": "6feca9c1-8f07-4a7c-a2b0-116ab0009415",
   "metadata": {},
   "outputs": [],
   "source": [
    "def scrape_imdb(title_type, user_rating, start_date, end_date):\n",
    "    url = f\"https://www.imdb.com/search/title/?title_type={title_type}&release_date={start_date},{end_date}&user_rating={user_rating}\"\n",
    "    headers = {\n",
    "        'User-Agent': 'Mozilla/5.0 (Windows NT 6.3; Win 64 ; x64) AppleWebKit/537.36 (KHTML, like Gecko) Chrome/80.0.3987.162 Safari/537.36',\n",
    "        'Accept-Language': 'en-US,en;q=0.9'\n",
    "    }\n",
    "\n",
    "    response = requests.get(url, headers=headers)\n",
    "\n",
    "    if response.status_code == 200:\n",
    "        soup = BeautifulSoup(response.content, 'html.parser')\n",
    "        title_elements = soup.find_all(\"h3\", class_= \"ipc-title__text\")\n",
    "        titles = [i.get_text().split(\".\")[1].strip() for i in title_elements if len(i.get_text().split(\".\")) > 1]\n",
    "        movie_nrs = [i.get_text().split(\".\")[0].strip() for i in title_elements if len(i.get_text().split(\".\")) > 1]\n",
    "        release_years_elements = soup.find_all(\"span\", class_= \"sc-b0691f29-8 ilsLEX dli-title-metadata-item\")\n",
    "        release_years = [i.get_text().strip() for i in release_years_elements[::3]]\n",
    "        rating_elements = soup.find_all(\"span\", class_= \"ipc-rating-star ipc-rating-star--base ipc-rating-star--imdb ratingGroup--imdb-rating\")\n",
    "        ratings_whole = [i.get_text() for i in rating_elements]\n",
    "        pattern = r'\\b\\d\\.\\d\\b'\n",
    "        ratings = [re.search(pattern, item).group() for item in ratings_whole]\n",
    "        run_times = [release_years_elements[i].get_text().strip() for i in range(1, len(release_years_elements), 3)]\n",
    "        times_in_minutes = []\n",
    "        for time_str in run_times:\n",
    "            parts = time_str.split()\n",
    "            hours = int(parts[0][:-1]) if 'h' in parts[0] else 0\n",
    "            minutes = int(parts[1][:-1]) if len(parts) > 1 and 'm' in parts[1] else 0\n",
    "            total_minutes = hours * 60 + minutes\n",
    "            times_in_minutes.append(total_minutes)\n",
    "        description_elements = soup.find_all(\"div\", class_ =\"ipc-html-content-inner-div\")\n",
    "        descriptions = [i.get_text().strip() for i in description_elements]\n",
    "        pattern_1 = r'\\((.*?)\\)'\n",
    "        votes = [re.search(pattern_1, item).group(1) for item in ratings_whole]\n",
    "\n",
    "        #build df\n",
    "        imdb_dict = {\"Ranking\": movie_nrs, \"Title\": titles, \"Release Year\": release_years, \"Rating\": ratings, \"Number of Votes\": votes, \"Running Time(mins)\": times_in_minutes, \"Description\": descriptions}\n",
    "        df = pd.DataFrame(imdb_dict)\n",
    "    else:\n",
    "        print(\"Failed to fetch data from IMDb.\")\n",
    "\n",
    "    return df"
   ]
  },
  {
   "cell_type": "code",
   "execution_count": 21,
   "id": "96cb3d0a-56db-442a-84c6-86037b5a1cd8",
   "metadata": {},
   "outputs": [
    {
     "name": "stdout",
     "output_type": "stream",
     "text": [
      "   Ranking                          Title Release Year Rating Number of Votes  \\\n",
      "0        1       The Silence of the Lambs         1991    8.6            1.5M   \n",
      "1        2                     Goodfellas         1990    8.7            1.3M   \n",
      "2        3     Terminator 2: Judgment Day         1991    8.6            1.2M   \n",
      "3        4                   Pretty Woman         1990    7.1            361K   \n",
      "4        5                    Point Break         1991    7.3            202K   \n",
      "5        6                My Cousin Vinny         1992    7.6            140K   \n",
      "6        7          A League of Their Own         1992    7.3            121K   \n",
      "7        8          Bram Stoker's Dracula         1992    7.4            238K   \n",
      "8        9                 Basic Instinct         1992    7.1            219K   \n",
      "9       10                 Reservoir Dogs         1992    8.3            1.1M   \n",
      "10      11           Fried Green Tomatoes         1991    7.7             83K   \n",
      "11      12         The Godfather Part III         1990    7.6            423K   \n",
      "12      13           Beauty and the Beast         1991    8.0            479K   \n",
      "13      14                   Total Recall         1990    7.5            354K   \n",
      "14      15                     Unforgiven         1992    8.2            435K   \n",
      "15      16                     Home Alone         1990    7.7            652K   \n",
      "16      17                Thelma & Louise         1991    7.6            172K   \n",
      "17      18                      Cape Fear         1991    7.3            216K   \n",
      "18      19                        Tremors         1990    7.1            150K   \n",
      "19      20             Dances with Wolves         1990    8.0            290K   \n",
      "20      21       The Last of the Mohicans         1992    7.7            187K   \n",
      "21      22                        Aladdin         1992    8.0            465K   \n",
      "22      23                          Ghost         1990    7.1            235K   \n",
      "23      24                 Batman Returns         1992    7.1            327K   \n",
      "24      25              Miller's Crossing         1990    7.7            142K   \n",
      "25      26       The Hunt for Red October         1990    7.5            214K   \n",
      "26      27                Boyz n the Hood         1991    7.8            154K   \n",
      "27      28                 A Few Good Men         1992    7.7            287K   \n",
      "28      29            Edward Scissorhands         1990    7.9            523K   \n",
      "29      30               Scent of a Woman         1992    8.0            328K   \n",
      "30      31                         Misery         1990    7.8            235K   \n",
      "31      32                     Awakenings         1990    7.8            158K   \n",
      "32      33                  Wayne's World         1992    7.0            170K   \n",
      "33      34                 Jacob's Ladder         1990    7.4            118K   \n",
      "34      35            Glengarry Glen Ross         1992    7.7            116K   \n",
      "35      36                            JFK         1991    8.0            170K   \n",
      "36      37               Army of Darkness         1992    7.4            194K   \n",
      "37      38                  Wild at Heart         1990    7.2            101K   \n",
      "38      39                The Commitments         1991    7.6             39K   \n",
      "39      40                     Dead Alive         1992    7.5            103K   \n",
      "40      41    Back to the Future Part III         1990    7.4            480K   \n",
      "41      42  Twin Peaks: Fire Walk with Me         1992    7.3            105K   \n",
      "42      43        A River Runs Through It         1992    7.2             65K   \n",
      "43      44                       Sneakers         1992    7.1             62K   \n",
      "44      45                The Crying Game         1992    7.2             60K   \n",
      "45      46           My Own Private Idaho         1991    7.0             62K   \n",
      "46      47                      The Doors         1991    7.2             99K   \n",
      "47      48                    Bitter Moon         1992    7.2             43K   \n",
      "48      49                 Bad Lieutenant         1992    7.0             48K   \n",
      "49      50                        Chaplin         1992    7.5             62K   \n",
      "\n",
      "    Running Time(mins)                                        Description  \n",
      "0                  118  A young F.B.I. cadet must receive the help of ...  \n",
      "1                  145  The story of Henry Hill and his life in the ma...  \n",
      "2                  137  A cyborg, identical to the one who failed to k...  \n",
      "3                  119  A man in a legal but hurtful business needs an...  \n",
      "4                  122  An F.B.I. Agent goes undercover to catch a gan...  \n",
      "5                  120  Two New Yorkers accused of murder in rural Ala...  \n",
      "6                  128  Two sisters join the first female professional...  \n",
      "7                  128  The centuries old vampire Count Dracula comes ...  \n",
      "8                  127  A violent police detective investigates a brut...  \n",
      "9                   99  When a simple jewelry heist goes horribly wron...  \n",
      "10                 130  Evelyn, an ordinary housewife, visits a nursin...  \n",
      "11                 162  Follows Michael Corleone, now in his 60s, as h...  \n",
      "12                  84  A prince cursed to spend his days as a hideous...  \n",
      "13                 113  When a man goes in to have virtual vacation me...  \n",
      "14                 130  Retired Old West gunslinger William Munny relu...  \n",
      "15                 103  An eight-year-old troublemaker, mistakenly lef...  \n",
      "16                 130  Two best friends set out on an adventure, but ...  \n",
      "17                 128  A convicted rapist, released from prison after...  \n",
      "18                  96  Natives of a small isolated town defend themse...  \n",
      "19                 181  Lieutenant John Dunbar, assigned to a remote w...  \n",
      "20                 112  Three trappers protect the daughters of a Brit...  \n",
      "21                  90  A kind-hearted street urchin and a power-hungr...  \n",
      "22                 127  After a young man is murdered, his spirit stay...  \n",
      "23                 126  While Batman deals with a deformed man calling...  \n",
      "24                 115  Tom Reagan, an advisor to a Prohibition-era cr...  \n",
      "25                 135  In November 1984, the Soviet Union's best subm...  \n",
      "26                 112  Follows the lives of three young males living ...  \n",
      "27                 138  Military lawyer Lieutenant Daniel Kaffee defen...  \n",
      "28                 105  The solitary life of an artificial man - who w...  \n",
      "29                 156  A prep school student needing money agrees to ...  \n",
      "30                 107  After a famous author is rescued from a car cr...  \n",
      "31                 121  The victims of an encephalitis epidemic many y...  \n",
      "32                  94  Two slacker friends try to promote their publi...  \n",
      "33                 113  Mourning his dead child, a haunted Vietnam War...  \n",
      "34                 100  An examination of the machinations behind the ...  \n",
      "35                 189  New Orleans District Attorney Jim Garrison dis...  \n",
      "36                  81  When Ash Williams is accidentally transported ...  \n",
      "37                 125  Young lovers Sailor and Lula run from the vari...  \n",
      "38                 118  Jimmy Rabbitte, an unemployed Dublin boy, deci...  \n",
      "39                 104  A young man's mother is bitten by a Sumatran r...  \n",
      "40                 118  Stranded in 1955, Marty McFly learns about the...  \n",
      "41                 134  Laura Palmer's harrowing final days are chroni...  \n",
      "42                 123  Two sons of a stern minister - one reserved, o...  \n",
      "43                 126  A security pro finds his past returning to hau...  \n",
      "44                 112  A British soldier kidnapped by the IRA soon be...  \n",
      "45                 104  Two best friends living on the streets of Port...  \n",
      "46                 140  The story of the famous and influential 1960s ...  \n",
      "47                 139  After hearing stories of her, a passenger on a...  \n",
      "48                  96  While investigating a young nun's rape, a corr...  \n",
      "49                 143  An elderly Charlie Chaplin discusses his autob...  \n"
     ]
    }
   ],
   "source": [
    "df = scrape_imdb('feature', '7.0,', '1990-01-01', '1992-12-31')\n",
    "print(df)"
   ]
  },
  {
   "cell_type": "markdown",
   "id": "9ab1217a-df9d-4a2b-a32c-2c5f1eecd52a",
   "metadata": {
    "id": "9ab1217a-df9d-4a2b-a32c-2c5f1eecd52a"
   },
   "source": [
    "## BONUS\n",
    "\n",
    "The search results span multiple pages, housing a total of 631 movies in our example with each page displaying 50 movies at most. To scrape data seamlessly from all pages, you'll need to dive deep into the structure of the URLs generated with each \"Next\" click.\n",
    "\n",
    "Take a close look at the following URLs:\n",
    "- First page:\n",
    "  ```\n",
    "  https://www.imdb.com/search/title/?title_type=feature&release_date=1990-01-01,1992-12-31&user_rating=7.5,\n",
    "  ```\n",
    "- Second page:\n",
    "  ```\n",
    "  https://www.imdb.com/search/title/?title_type=feature&release_date=1990-01-01,1992-12-31&user_rating=7.5,&start=51&ref_=adv_nxt\n",
    "  ```\n",
    "- Third page:\n",
    "  ```\n",
    "  https://www.imdb.com/search/title/?title_type=feature&release_date=1990-01-01,1992-12-31&user_rating=7.5,&start=101&ref_=adv_nxt\n",
    "  ```\n",
    "\n",
    "You should notice a pattern. There is a `start` parameter incrementing by 50 with each page, paired with a constant `ref_` parameter holding the value \"adv_nxt\".\n",
    "\n",
    "Modify your script so it's capable of iterating over all available pages to fetch data on all the 631 movies (631 is the total number of movies in the proposed example)."
   ]
  },
  {
   "cell_type": "code",
   "execution_count": 27,
   "id": "ef5fc4d5-cace-4aa9-8312-77665b71f106",
   "metadata": {},
   "outputs": [],
   "source": [
    "def scrape_imdb(title_type, user_rating, start_date, end_date):\n",
    "    base_url = f\"https://www.imdb.com/search/title/?title_type={title_type}&release_date={start_date},{end_date}&user_rating={user_rating}\"\n",
    "    headers = {\n",
    "        'User-Agent': 'Mozilla/5.0 (Windows NT 6.3; Win 64 ; x64) AppleWebKit/537.36 (KHTML, like Gecko) Chrome/80.0.3987.162 Safari/537.36',\n",
    "        'Accept-Language': 'en-US,en;q=0.9'\n",
    "    }\n",
    "\n",
    "    all_data = []\n",
    "\n",
    "    start = 1\n",
    "    while True:\n",
    "        url = base_url + f\"&start={start}\"\n",
    "        print(\"Scraping:\", url)  # Debugging print statement\n",
    "        response = requests.get(url, headers=headers)\n",
    "\n",
    "        if response.status_code == 200:\n",
    "            soup = BeautifulSoup(response.content, 'html.parser')\n",
    "            title_elements = soup.find_all(\"h3\", class_=\"ipc-title__text\")\n",
    "            titles = [i.get_text().split(\".\")[1].strip() for i in title_elements if len(i.get_text().split(\".\")) > 1]\n",
    "            movie_nrs = [i.get_text().split(\".\")[0].strip() for i in title_elements if len(i.get_text().split(\".\")) > 1]\n",
    "            release_years_elements = soup.find_all(\"span\", class_=\"sc-b0691f29-8 ilsLEX dli-title-metadata-item\")\n",
    "            release_years = [i.get_text().strip() for i in release_years_elements[::3]]\n",
    "            rating_elements = soup.find_all(\"span\", class_=\"ipc-rating-star ipc-rating-star--base ipc-rating-star--imdb ratingGroup--imdb-rating\")\n",
    "            ratings_whole = [i.get_text() for i in rating_elements]\n",
    "            pattern = r'\\b\\d\\.\\d\\b'\n",
    "            ratings = [re.search(pattern, item).group() for item in ratings_whole]\n",
    "            run_times = [release_years_elements[i].get_text().strip() for i in range(1, len(release_years_elements), 3)]\n",
    "            times_in_minutes = []\n",
    "            for time_str in run_times:\n",
    "                parts = time_str.split()\n",
    "                hours = int(parts[0][:-1]) if 'h' in parts[0] else 0\n",
    "                minutes = int(parts[1][:-1]) if len(parts) > 1 and 'm' in parts[1] else 0\n",
    "                total_minutes = hours * 60 + minutes\n",
    "                times_in_minutes.append(total_minutes)\n",
    "            description_elements = soup.find_all(\"div\", class_=\"ipc-html-content-inner-div\")\n",
    "            descriptions = [i.get_text().strip() for i in description_elements]\n",
    "            pattern_1 = r'\\((.*?)\\)'\n",
    "            votes = [re.search(pattern_1, item).group(1) for item in ratings_whole]\n",
    "\n",
    "            all_data.extend(zip(movie_nrs, titles, release_years, ratings, votes, run_times, descriptions))\n",
    "\n",
    "            more_link = soup.find(\"span\", class_=\"ipc-see-more__text\")\n",
    "            if not more_link or len(all_data) >= 641:\n",
    "                break\n",
    "\n",
    "            start += 50\n",
    "        else:\n",
    "            print(f\"Failed to fetch data from IMDb for page {start // 50 + 1}.\")\n",
    "            break\n",
    "\n",
    "    df = pd.DataFrame(all_data, columns=[\"Ranking\", \"Title\", \"Release Year\", \"Rating\", \"Number of Votes\", \"Running Time(mins)\", \"Description\"])\n",
    "    return df"
   ]
  },
  {
   "cell_type": "code",
   "execution_count": 26,
   "id": "5a2e90a2-ab79-4c59-a031-3041990215b7",
   "metadata": {},
   "outputs": [
    {
     "name": "stdout",
     "output_type": "stream",
     "text": [
      "Scraping: https://www.imdb.com/search/title/?title_type=feature&release_date=1990-01-01,1992-12-31&user_rating=7.5,&start=1\n",
      "Scraping: https://www.imdb.com/search/title/?title_type=feature&release_date=1990-01-01,1992-12-31&user_rating=7.5,&start=51\n",
      "Scraping: https://www.imdb.com/search/title/?title_type=feature&release_date=1990-01-01,1992-12-31&user_rating=7.5,&start=101\n",
      "Scraping: https://www.imdb.com/search/title/?title_type=feature&release_date=1990-01-01,1992-12-31&user_rating=7.5,&start=151\n",
      "Scraping: https://www.imdb.com/search/title/?title_type=feature&release_date=1990-01-01,1992-12-31&user_rating=7.5,&start=201\n",
      "Scraping: https://www.imdb.com/search/title/?title_type=feature&release_date=1990-01-01,1992-12-31&user_rating=7.5,&start=251\n",
      "Scraping: https://www.imdb.com/search/title/?title_type=feature&release_date=1990-01-01,1992-12-31&user_rating=7.5,&start=301\n",
      "Scraping: https://www.imdb.com/search/title/?title_type=feature&release_date=1990-01-01,1992-12-31&user_rating=7.5,&start=351\n",
      "Scraping: https://www.imdb.com/search/title/?title_type=feature&release_date=1990-01-01,1992-12-31&user_rating=7.5,&start=401\n",
      "Scraping: https://www.imdb.com/search/title/?title_type=feature&release_date=1990-01-01,1992-12-31&user_rating=7.5,&start=451\n",
      "Scraping: https://www.imdb.com/search/title/?title_type=feature&release_date=1990-01-01,1992-12-31&user_rating=7.5,&start=501\n",
      "Scraping: https://www.imdb.com/search/title/?title_type=feature&release_date=1990-01-01,1992-12-31&user_rating=7.5,&start=551\n",
      "Scraping: https://www.imdb.com/search/title/?title_type=feature&release_date=1990-01-01,1992-12-31&user_rating=7.5,&start=601\n",
      "    Ranking                                         Title Release Year Rating  \\\n",
      "0         1                      The Silence of the Lambs         1991    8.6   \n",
      "1         2                                    Goodfellas         1990    8.7   \n",
      "2         3                    Terminator 2: Judgment Day         1991    8.6   \n",
      "3         4                               My Cousin Vinny         1992    7.6   \n",
      "4         5                                Reservoir Dogs         1992    8.3   \n",
      "..      ...                                           ...          ...    ...   \n",
      "645      46                            Cyrano de Bergerac         1990    7.5   \n",
      "646      47                                        Baraka         1992    8.5   \n",
      "647      48                              Paris Is Burning         1990    8.2   \n",
      "648      49                                        Europa         1991    7.5   \n",
      "649      50  Hearts of Darkness: A Filmmaker's Apocalypse         1991    8.1   \n",
      "\n",
      "    Number of Votes Running Time(mins)  \\\n",
      "0              1.5M             1h 58m   \n",
      "1              1.3M             2h 25m   \n",
      "2              1.2M             2h 17m   \n",
      "3              140K                 2h   \n",
      "4              1.1M             1h 39m   \n",
      "..              ...                ...   \n",
      "645             26K             2h 17m   \n",
      "646             41K             1h 36m   \n",
      "647             18K             1h 18m   \n",
      "648             23K             1h 52m   \n",
      "649             23K             1h 36m   \n",
      "\n",
      "                                           Description  \n",
      "0    A young F.B.I. cadet must receive the help of ...  \n",
      "1    The story of Henry Hill and his life in the ma...  \n",
      "2    A cyborg, identical to the one who failed to k...  \n",
      "3    Two New Yorkers accused of murder in rural Ala...  \n",
      "4    When a simple jewelry heist goes horribly wron...  \n",
      "..                                                 ...  \n",
      "645  Famed swordsman and poet Cyrano de Bergerac is...  \n",
      "646  A collection of expertly photographed scenes o...  \n",
      "647  A chronicle of New York's drag scene in the 19...  \n",
      "648  Just after World War II, an American takes a r...  \n",
      "649  Documentary that chronicles how Francis Ford C...  \n",
      "\n",
      "[650 rows x 7 columns]\n"
     ]
    }
   ],
   "source": [
    "df = scrape_imdb('feature', '7.5,', '1990-01-01', '1992-12-31')\n",
    "print(df)"
   ]
  }
 ],
 "metadata": {
  "colab": {
   "provenance": []
  },
  "kernelspec": {
   "display_name": "Python 3 (ipykernel)",
   "language": "python",
   "name": "python3"
  },
  "language_info": {
   "codemirror_mode": {
    "name": "ipython",
    "version": 3
   },
   "file_extension": ".py",
   "mimetype": "text/x-python",
   "name": "python",
   "nbconvert_exporter": "python",
   "pygments_lexer": "ipython3",
   "version": "3.11.7"
  }
 },
 "nbformat": 4,
 "nbformat_minor": 5
}
