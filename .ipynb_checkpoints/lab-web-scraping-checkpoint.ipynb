{
 "cells": [
  {
   "cell_type": "markdown",
   "id": "7e7a1ab8-2599-417d-9a65-25ef07f3a786",
   "metadata": {
    "id": "7e7a1ab8-2599-417d-9a65-25ef07f3a786"
   },
   "source": [
    "# Lab | Web Scraping"
   ]
  },
  {
   "cell_type": "markdown",
   "id": "ce8882fc-4815-4567-92fa-b4816358ba7d",
   "metadata": {
    "id": "ce8882fc-4815-4567-92fa-b4816358ba7d"
   },
   "source": [
    "Welcome to the \"Books to Scrape\" Web Scraping Adventure Lab!\n",
    "\n",
    "**Objective**\n",
    "\n",
    "In this lab, we will embark on a mission to unearth valuable insights from the data available on Books to Scrape, an online platform showcasing a wide variety of books. As data analyst, you have been tasked with scraping a specific subset of book data from Books to Scrape to assist publishing companies in understanding the landscape of highly-rated books across different genres. Your insights will help shape future book marketing strategies and publishing decisions.\n",
    "\n",
    "**Background**\n",
    "\n",
    "In a world where data has become the new currency, businesses are leveraging big data to make informed decisions that drive success and profitability. The publishing industry, much like others, utilizes data analytics to understand market trends, reader preferences, and the performance of books based on factors such as genre, author, and ratings. Books to Scrape serves as a rich source of such data, offering detailed information about a diverse range of books, making it an ideal platform for extracting insights to aid in informed decision-making within the literary world.\n",
    "\n",
    "**Task**\n",
    "\n",
    "Your task is to create a Python script using BeautifulSoup and pandas to scrape Books to Scrape book data, focusing on book ratings and genres. The script should be able to filter books with ratings above a certain threshold and in specific genres. Additionally, the script should structure the scraped data in a tabular format using pandas for further analysis.\n",
    "\n",
    "**Expected Outcome**\n",
    "\n",
    "A function named `scrape_books` that takes two parameters: `min_rating` and `max_price`. The function should scrape book data from the \"Books to Scrape\" website and return a `pandas` DataFrame with the following columns:\n",
    "\n",
    "**Expected Outcome**\n",
    "\n",
    "- A function named `scrape_books` that takes two parameters: `min_rating` and `max_price`.\n",
    "- The function should return a DataFrame with the following columns:\n",
    "  \n",
    "  - **Title**: The title of the book.\n",
    "  - **Price (£)**: The price of the book in pounds.\n",
    "  - **Rating**: The rating of the book (1-5 stars).\n",
    "    \n",
    "  \n",
    "You will execute this script to scrape data for books with a minimum rating of `4.0 and above` and a maximum price of `£20`. \n",
    "\n",
    "Remember to experiment with different ratings and prices to ensure your code is versatile and can handle various searches effectively!\n",
    "\n",
    "**Resources**\n",
    "\n",
    "- [Beautiful Soup Documentation](https://www.crummy.com/software/BeautifulSoup/bs4/doc/)\n",
    "- [Pandas Documentation](https://pandas.pydata.org/pandas-docs/stable/index.html)\n",
    "- [Books to Scrape](https://books.toscrape.com/)\n"
   ]
  },
  {
   "cell_type": "markdown",
   "id": "3519921d-5890-445b-9a33-934ed8ee378c",
   "metadata": {
    "id": "3519921d-5890-445b-9a33-934ed8ee378c"
   },
   "source": [
    "**Hint**\n",
    "\n",
    "Your first mission is to familiarize yourself with the **Books to Scrape** website. Navigate to [Books to Scrape](http://books.toscrape.com/) and explore the available books to understand their layout and structure. \n",
    "\n",
    "Next, think about how you can set parameters for your data extraction:\n",
    "\n",
    "- **Minimum Rating**: Focus on books with a rating of 4.0 and above.\n",
    "- **Maximum Price**: Filter for books priced up to £20.\n",
    "\n",
    "After reviewing the site, you can construct a plan for scraping relevant data. Pay attention to the details displayed for each book, including the title, price, rating, and availability. This will help you identify the correct HTML elements to target with your scraping script.\n",
    "\n",
    "Make sure to build your scraping URL and logic based on the patterns you observe in the HTML structure of the book listings!"
   ]
  },
  {
   "cell_type": "markdown",
   "id": "25a83a0d-a742-49f6-985e-e27887cbf922",
   "metadata": {
    "id": "25a83a0d-a742-49f6-985e-e27887cbf922"
   },
   "source": [
    "\n",
    "---\n",
    "\n",
    "**Best of luck! Immerse yourself in the world of books, and may the data be with you!**"
   ]
  },
  {
   "cell_type": "markdown",
   "id": "7b75cf0d-9afa-4eec-a9e2-befeac68b2a0",
   "metadata": {
    "id": "7b75cf0d-9afa-4eec-a9e2-befeac68b2a0"
   },
   "source": [
    "**Important Note**:\n",
    "\n",
    "In the fast-changing online world, websites often update and change their structures. When you try this lab, the **Books to Scrape** website might differ from what you expect.\n",
    "\n",
    "If you encounter issues due to these changes, like new rules or obstacles preventing data extraction, don’t worry! Get creative.\n",
    "\n",
    "You can choose another website that interests you and is suitable for scraping data. Options like Wikipedia, The New York Times, or even library databases are great alternatives. The main goal remains the same: extract useful data and enhance your web scraping skills while exploring a source of information you enjoy. This is your opportunity to practice and adapt to different web environments!"
   ]
  },
  {
   "cell_type": "code",
   "execution_count": 110,
   "id": "9ba2a6d2-81c7-4e73-9253-a20254b8f7a3",
   "metadata": {
    "scrolled": true
   },
   "outputs": [
    {
     "name": "stdout",
     "output_type": "stream",
     "text": [
      "Requirement already satisfied: beautifulsoup4 in /opt/anaconda3/lib/python3.12/site-packages (4.12.3)\n",
      "Requirement already satisfied: soupsieve>1.2 in /opt/anaconda3/lib/python3.12/site-packages (from beautifulsoup4) (2.5)\n",
      "Note: you may need to restart the kernel to use updated packages.\n"
     ]
    }
   ],
   "source": [
    "pip install beautifulsoup4"
   ]
  },
  {
   "cell_type": "code",
   "execution_count": 111,
   "id": "118086a3-98b2-4ef6-89e0-560adf21cf39",
   "metadata": {},
   "outputs": [],
   "source": [
    "from bs4 import BeautifulSoup"
   ]
  },
  {
   "cell_type": "code",
   "execution_count": null,
   "id": "b4828c86-ccd2-4896-a267-aef23764c45b",
   "metadata": {},
   "outputs": [],
   "source": [
    "import requests\n",
    "import pandas as pd\n",
    "\n",
    "\n",
    "url = \"https://books.toscrape.com/index.html\"\n",
    "response = requests.get(url)\n",
    "soup = BeautifulSoup(response.content)\n",
    "#print(soup.prettify())\n"
   ]
  },
  {
   "cell_type": "code",
   "execution_count": null,
   "id": "e1a40aa2-0c6d-4f6d-9bdd-575940cee927",
   "metadata": {},
   "outputs": [],
   "source": [
    "def get_book_ratings(soup):\n",
    "    rating_map = {\n",
    "        \"One\": 1,\n",
    "        \"Two\": 2,\n",
    "        \"Three\": 3,\n",
    "        \"Four\": 4,\n",
    "        \"Five\": 5}\n",
    "    \n",
    "    book_ratings = []\n",
    "    for book in soup.find_all('article', class_='product_pod'):\n",
    "        rating_text = book.p['class'][1]  # rating is stored in class like four-star rating\n",
    "        rating = rating_map.get(rating_text, 0)\n",
    "        book_ratings.append(rating)\n",
    "    return book_ratings\n",
    "\n",
    "book_ratings = get_book_ratings(soup)\n",
    "book_ratings"
   ]
  },
  {
   "cell_type": "code",
   "execution_count": null,
   "id": "1c75df9d-a816-4183-825e-27da1aaf752a",
   "metadata": {},
   "outputs": [],
   "source": [
    "def get_book_titles(soup):\n",
    "    book_titles = []\n",
    "    for book in soup.find_all('article', class_='product_pod'):\n",
    "        title = book.h3.a['title']\n",
    "        book_titles.append(title)\n",
    "    return book_titles\n",
    "\n",
    "book_titles = get_book_titles(soup)\n",
    "book_titles"
   ]
  },
  {
   "cell_type": "code",
   "execution_count": null,
   "id": "c1becbb1-4511-4b05-9948-9aa517d4cfa5",
   "metadata": {},
   "outputs": [],
   "source": [
    "def get_book_prices(soup):\n",
    "    book_prices = []\n",
    "    for book in soup.find_all('article', class_='product_pod'):\n",
    "        price = float(book.find('p', class_='price_color').text[1:])\n",
    "        book_prices.append(price)\n",
    "    return book_prices\n",
    "\n",
    "book_prices = get_book_prices(soup)\n",
    "book_prices"
   ]
  },
  {
   "cell_type": "code",
   "execution_count": 143,
   "id": "40359eee-9cd7-4884-bfa4-83344c222305",
   "metadata": {
    "id": "40359eee-9cd7-4884-bfa4-83344c222305"
   },
   "outputs": [],
   "source": [
    "#Minimum Rating: Focus on books with a rating of 4.0 and above.\n",
    "#Maximum Price: Filter for books priced up to £20.\n",
    "\n",
    "def filter_books_by_rating_and_price(titles, prices, ratings, min_rating=4, max_price=20):\n",
    "    filtered_titles = []\n",
    "    filtered_prices = []\n",
    "    \n",
    "    for title, price, rating in zip(titles, prices, ratings):\n",
    "        if rating >= min_rating and price <= max_price:\n",
    "            filtered_titles.append(title)\n",
    "            filtered_prices.append(price)\n",
    "    \n",
    "    return filtered_titles, filtered_prices\n",
    "\n",
    "\n",
    "#min_rating = 4\n",
    "#filtered_titles, filtered_prices = filter_books_by_rating(book_titles, book_prices, book_ratings, min_rating)\n"
   ]
  },
  {
   "cell_type": "code",
   "execution_count": 144,
   "id": "a6f3a1b0-5d8d-473f-8269-184d0b728175",
   "metadata": {},
   "outputs": [],
   "source": [
    "import pandas as pd\n",
    "\n",
    "def scrape_books_with_min_rating(min_rating=4, max_price = 20):\n",
    "    base_url = \"https://books.toscrape.com/catalogue/page-{}.html\"\n",
    "    \n",
    "    all_filtered_titles = []\n",
    "    all_filtered_prices = []\n",
    "    page = 1\n",
    "\n",
    "    while True:\n",
    "        response = requests.get(base_url.format(page))\n",
    "        if response.status_code != 200:\n",
    "            break  # No more pages\n",
    "\n",
    "        soup = BeautifulSoup(response.content, 'html.parser')\n",
    "\n",
    "        # Get titles, prices, and ratings for current page\n",
    "        book_titles = get_book_titles(soup)\n",
    "        book_prices = get_book_prices(soup)\n",
    "        book_ratings = get_book_ratings(soup)\n",
    "\n",
    "        # Filter books by rating only (4 and above)\n",
    "        filtered_titles, filtered_prices = filter_books_by_rating(book_titles, book_prices, book_ratings, min_rating)\n",
    "\n",
    "        # Append the filtered data\n",
    "        all_filtered_titles.extend(filtered_titles)\n",
    "        all_filtered_prices.extend(filtered_prices)\n",
    "\n",
    "        page += 1\n",
    "\n",
    "    # Return the results as a DataFrame\n",
    "    book_df = pd.DataFrame({'Title': all_filtered_titles, 'Price': all_filtered_prices})\n",
    "    return book_df\n"
   ]
  },
  {
   "cell_type": "code",
   "execution_count": 145,
   "id": "bdce7af7-6599-40eb-951a-1f33899ebe05",
   "metadata": {},
   "outputs": [
    {
     "name": "stdout",
     "output_type": "stream",
     "text": [
      "                                                 Title  Price\n",
      "0                                        Sharp Objects  47.82\n",
      "1                Sapiens: A Brief History of Humankind  54.23\n",
      "2    The Dirty Little Secrets of Getting Your Dream...  33.34\n",
      "3    The Boys in the Boat: Nine Americans and Their...  22.60\n",
      "4                                Shakespeare's Sonnets  20.66\n",
      "..                                                 ...    ...\n",
      "370                      Bounty (Colorado Mountain #7)  37.26\n",
      "371  Bleach, Vol. 1: Strawberry and the Soul Reaper...  34.65\n",
      "372   Ajin: Demi-Human, Volume 1 (Ajin: Demi-Human #1)  57.06\n",
      "373  A Spy's Devotion (The Regency Spies of London #1)  16.97\n",
      "374                 1,000 Places to See Before You Die  26.08\n",
      "\n",
      "[375 rows x 2 columns]\n"
     ]
    }
   ],
   "source": [
    "df = scrape_books_with_min_rating(min_rating=4, max_price=20)\n",
    "print(df)"
   ]
  },
  {
   "cell_type": "code",
   "execution_count": null,
   "id": "fbef1fb3-8953-49c4-8ca4-ec43208cc2ff",
   "metadata": {},
   "outputs": [],
   "source": []
  },
  {
   "cell_type": "code",
   "execution_count": null,
   "id": "29d0afd9-982d-4f12-acfb-177a628bc817",
   "metadata": {},
   "outputs": [],
   "source": []
  }
 ],
 "metadata": {
  "colab": {
   "provenance": []
  },
  "kernelspec": {
   "display_name": "Python 3 (ipykernel)",
   "language": "python",
   "name": "python3"
  },
  "language_info": {
   "codemirror_mode": {
    "name": "ipython",
    "version": 3
   },
   "file_extension": ".py",
   "mimetype": "text/x-python",
   "name": "python",
   "nbconvert_exporter": "python",
   "pygments_lexer": "ipython3",
   "version": "3.12.4"
  }
 },
 "nbformat": 4,
 "nbformat_minor": 5
}
