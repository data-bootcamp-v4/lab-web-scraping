{
 "cells": [
  {
   "cell_type": "markdown",
   "id": "7e7a1ab8-2599-417d-9a65-25ef07f3a786",
   "metadata": {
    "id": "7e7a1ab8-2599-417d-9a65-25ef07f3a786"
   },
   "source": [
    "# Lab | Web Scraping"
   ]
  },
  {
   "cell_type": "markdown",
   "id": "ce8882fc-4815-4567-92fa-b4816358ba7d",
   "metadata": {
    "id": "ce8882fc-4815-4567-92fa-b4816358ba7d"
   },
   "source": [
    "Welcome to the \"Books to Scrape\" Web Scraping Adventure Lab!\n",
    "\n",
    "**Objective**\n",
    "\n",
    "In this lab, we will embark on a mission to unearth valuable insights from the data available on Books to Scrape, an online platform showcasing a wide variety of books. As data analyst, you have been tasked with scraping a specific subset of book data from Books to Scrape to assist publishing companies in understanding the landscape of highly-rated books across different genres. Your insights will help shape future book marketing strategies and publishing decisions.\n",
    "\n",
    "**Background**\n",
    "\n",
    "In a world where data has become the new currency, businesses are leveraging big data to make informed decisions that drive success and profitability. The publishing industry, much like others, utilizes data analytics to understand market trends, reader preferences, and the performance of books based on factors such as genre, author, and ratings. Books to Scrape serves as a rich source of such data, offering detailed information about a diverse range of books, making it an ideal platform for extracting insights to aid in informed decision-making within the literary world.\n",
    "\n",
    "**Task**\n",
    "\n",
    "Your task is to create a Python script using BeautifulSoup and pandas to scrape Books to Scrape book data, focusing on book ratings and genres. The script should be able to filter books with ratings above a certain threshold and in specific genres. Additionally, the script should structure the scraped data in a tabular format using pandas for further analysis.\n",
    "\n",
    "**Expected Outcome**\n",
    "\n",
    "A function named `scrape_books` that takes two parameters: `min_rating` and `max_price`. The function should scrape book data from the \"Books to Scrape\" website and return a `pandas` DataFrame with the following columns:\n",
    "\n",
    "**Expected Outcome**\n",
    "\n",
    "- A function named `scrape_books` that takes two parameters: `min_rating` and `max_price`.\n",
    "- The function should return a DataFrame with the following columns:\n",
    "  - **UPC**: The Universal Product Code (UPC) of the book.\n",
    "  - **Title**: The title of the book.\n",
    "  - **Price (£)**: The price of the book in pounds.\n",
    "  - **Rating**: The rating of the book (1-5 stars).\n",
    "  - **Genre**: The genre of the book.\n",
    "  - **Availability**: Whether the book is in stock or not.\n",
    "  - **Description**: A brief description or product description of the book (if available).\n",
    "  \n",
    "You will execute this script to scrape data for books with a minimum rating of `4.0 and above` and a maximum price of `£20`. \n",
    "\n",
    "Remember to experiment with different ratings and prices to ensure your code is versatile and can handle various searches effectively!\n",
    "\n",
    "**Resources**\n",
    "\n",
    "- [Beautiful Soup Documentation](https://www.crummy.com/software/BeautifulSoup/bs4/doc/)\n",
    "- [Pandas Documentation](https://pandas.pydata.org/pandas-docs/stable/index.html)\n",
    "- [Books to Scrape](https://books.toscrape.com/)\n"
   ]
  },
  {
   "cell_type": "markdown",
   "id": "3519921d-5890-445b-9a33-934ed8ee378c",
   "metadata": {
    "id": "3519921d-5890-445b-9a33-934ed8ee378c"
   },
   "source": [
    "**Hint**\n",
    "\n",
    "Your first mission is to familiarize yourself with the **Books to Scrape** website. Navigate to [Books to Scrape](http://books.toscrape.com/) and explore the available books to understand their layout and structure. \n",
    "\n",
    "Next, think about how you can set parameters for your data extraction:\n",
    "\n",
    "- **Minimum Rating**: Focus on books with a rating of 4.0 and above.\n",
    "- **Maximum Price**: Filter for books priced up to £20.\n",
    "\n",
    "After reviewing the site, you can construct a plan for scraping relevant data. Pay attention to the details displayed for each book, including the title, price, rating, and availability. This will help you identify the correct HTML elements to target with your scraping script.\n",
    "\n",
    "Make sure to build your scraping URL and logic based on the patterns you observe in the HTML structure of the book listings!"
   ]
  },
  {
   "cell_type": "markdown",
   "id": "25a83a0d-a742-49f6-985e-e27887cbf922",
   "metadata": {
    "id": "25a83a0d-a742-49f6-985e-e27887cbf922"
   },
   "source": [
    "\n",
    "---\n",
    "\n",
    "**Best of luck! Immerse yourself in the world of books, and may the data be with you!**"
   ]
  },
  {
   "cell_type": "markdown",
   "id": "7b75cf0d-9afa-4eec-a9e2-befeac68b2a0",
   "metadata": {
    "id": "7b75cf0d-9afa-4eec-a9e2-befeac68b2a0"
   },
   "source": [
    "**Important Note**:\n",
    "\n",
    "In the fast-changing online world, websites often update and change their structures. When you try this lab, the **Books to Scrape** website might differ from what you expect.\n",
    "\n",
    "If you encounter issues due to these changes, like new rules or obstacles preventing data extraction, don’t worry! Get creative.\n",
    "\n",
    "You can choose another website that interests you and is suitable for scraping data. Options like Wikipedia, The New York Times, or even library databases are great alternatives. The main goal remains the same: extract useful data and enhance your web scraping skills while exploring a source of information you enjoy. This is your opportunity to practice and adapt to different web environments!"
   ]
  },
  {
   "cell_type": "code",
   "execution_count": null,
   "id": "40359eee-9cd7-4884-bfa4-83344c222305",
   "metadata": {
    "id": "40359eee-9cd7-4884-bfa4-83344c222305"
   },
   "outputs": [],
   "source": [
    "# Your solution goes here\n",
    "import requests\n",
    "import pandas as pd\n",
    "from bs4 import BeautifulSoup\n",
    "\n",
    "url = \"https://books.toscrape.com/\"\n",
    "\n",
    "response = requests.get(url)\n",
    "\n",
    "soup = BeautifulSoup(response.content)"
   ]
  },
  {
   "cell_type": "code",
   "execution_count": null,
   "id": "208b4291-6339-4a6c-b368-bb7d854a65ae",
   "metadata": {},
   "outputs": [],
   "source": [
    "products = soup.find_all(\"article\", attrs = {\"class\":\"product_pod\"})"
   ]
  },
  {
   "cell_type": "code",
   "execution_count": 15,
   "id": "16f12d02-b624-4a34-a51d-c021a2be227e",
   "metadata": {},
   "outputs": [
    {
     "data": {
      "text/html": [
       "<div>\n",
       "<style scoped>\n",
       "    .dataframe tbody tr th:only-of-type {\n",
       "        vertical-align: middle;\n",
       "    }\n",
       "\n",
       "    .dataframe tbody tr th {\n",
       "        vertical-align: top;\n",
       "    }\n",
       "\n",
       "    .dataframe thead th {\n",
       "        text-align: right;\n",
       "    }\n",
       "</style>\n",
       "<table border=\"1\" class=\"dataframe\">\n",
       "  <thead>\n",
       "    <tr style=\"text-align: right;\">\n",
       "      <th></th>\n",
       "      <th>book_title</th>\n",
       "      <th>book_upc</th>\n",
       "      <th>book_price</th>\n",
       "      <th>book_availability</th>\n",
       "      <th>book_link</th>\n",
       "      <th>book_description</th>\n",
       "    </tr>\n",
       "  </thead>\n",
       "  <tbody>\n",
       "    <tr>\n",
       "      <th>0</th>\n",
       "      <td>The Coming Woman: A Novel Based on the Life of...</td>\n",
       "      <td>e72a5dfc7e9267b2</td>\n",
       "      <td>£17.93</td>\n",
       "      <td>In stock (19 available)</td>\n",
       "      <td>https://books.toscrape.com/catalogue/the-comin...</td>\n",
       "      <td>\"If you have a heart, if you have a soul, Kare...</td>\n",
       "    </tr>\n",
       "    <tr>\n",
       "      <th>1</th>\n",
       "      <td>Starving Hearts (Triangular Trade Trilogy, #1)</td>\n",
       "      <td>0312262ecafa5a40</td>\n",
       "      <td>£13.99</td>\n",
       "      <td>In stock (19 available)</td>\n",
       "      <td>https://books.toscrape.com/catalogue/starving-...</td>\n",
       "      <td>Since her assault, Miss Annette Chetwynd has b...</td>\n",
       "    </tr>\n",
       "    <tr>\n",
       "      <th>2</th>\n",
       "      <td>Set Me Free</td>\n",
       "      <td>ce6396b0f23f6ecc</td>\n",
       "      <td>£17.46</td>\n",
       "      <td>In stock (19 available)</td>\n",
       "      <td>https://books.toscrape.com/catalogue/set-me-fr...</td>\n",
       "      <td>Aaron Ledbetter’s future had been planned out ...</td>\n",
       "    </tr>\n",
       "  </tbody>\n",
       "</table>\n",
       "</div>"
      ],
      "text/plain": [
       "                                          book_title          book_upc  \\\n",
       "0  The Coming Woman: A Novel Based on the Life of...  e72a5dfc7e9267b2   \n",
       "1     Starving Hearts (Triangular Trade Trilogy, #1)  0312262ecafa5a40   \n",
       "2                                        Set Me Free  ce6396b0f23f6ecc   \n",
       "\n",
       "  book_price        book_availability  \\\n",
       "0     £17.93  In stock (19 available)   \n",
       "1     £13.99  In stock (19 available)   \n",
       "2     £17.46  In stock (19 available)   \n",
       "\n",
       "                                           book_link  \\\n",
       "0  https://books.toscrape.com/catalogue/the-comin...   \n",
       "1  https://books.toscrape.com/catalogue/starving-...   \n",
       "2  https://books.toscrape.com/catalogue/set-me-fr...   \n",
       "\n",
       "                                    book_description  \n",
       "0  \"If you have a heart, if you have a soul, Kare...  \n",
       "1  Since her assault, Miss Annette Chetwynd has b...  \n",
       "2  Aaron Ledbetter’s future had been planned out ...  "
      ]
     },
     "execution_count": 15,
     "metadata": {},
     "output_type": "execute_result"
    }
   ],
   "source": [
    "# Your solution goes here\n",
    "import requests\n",
    "import pandas as pd\n",
    "from bs4 import BeautifulSoup\n",
    "\n",
    "url = \"https://books.toscrape.com/\"\n",
    "\n",
    "response = requests.get(url)\n",
    "\n",
    "soup = BeautifulSoup(response.content)\n",
    "\n",
    "products = soup.find_all(\"article\", attrs = {\"class\":\"product_pod\"})\n",
    "\n",
    "def scrape_books(min_rating, max_price, products):\n",
    "    my_product_list = []\n",
    "    \n",
    "    for prod in products:\n",
    "        my_price_string = prod.find(\"p\", attrs ={\"class\":\"price_color\"}).get_text()\n",
    "        my_price = float(my_price_string[1:len(my_price_string)])\n",
    "\n",
    "        if my_price < max_price: \n",
    "            my_product_list.append(prod)\n",
    "    return my_product_list\n",
    "\n",
    "\n",
    "def scrap_each_book_information(my_filtered_list):\n",
    "    my_list = my_filtered_list\n",
    "    my_scraped_dict ={}\n",
    "    i = 0\n",
    "\n",
    "    for product in my_list:\n",
    "        #print(f\"productossss {product} \\n\")\n",
    "        \n",
    "        mylink = product.find(\"a\")['href']\n",
    "    \n",
    "        mylink = \"https://books.toscrape.com/\"+mylink\n",
    "\n",
    "        each_book = requests.get(mylink)\n",
    "            \n",
    "        #print(f\"{mylink}\\n\")\n",
    "            \n",
    "        each_book_soup = BeautifulSoup(each_book.content)\n",
    "    \n",
    "        book_title = each_book_soup.find(\"div\", attrs = {\"class\":\"col-sm-6 product_main\"}).find(\"h1\").get_text()\n",
    "        book_upc = each_book_soup.find(\"table\", attrs = {\"class\": \"table table-striped\"}).find(\"td\").get_text()\n",
    "        book_price = each_book_soup.find(\"p\", attrs = {\"class\": \"price_color\"}).get_text()\n",
    "        book_availability = each_book_soup.find(\"p\", attrs = {\"class\": \"instock availability\"}).get_text().strip()\n",
    "    \n",
    "        my_previous_div = each_book_soup.find(\"div\", attrs = {\"id\": \"product_description\"})\n",
    "        book_description = my_previous_div.find_next_sibling(\"p\").get_text()\n",
    "    \n",
    "        my_scraped_dict[i] = {\"book_title\": book_title,\n",
    "                            \"book_upc\": book_upc,\n",
    "                            \"book_price\": book_price,\n",
    "                            \"book_availability\": book_availability,\n",
    "                            \"book_link\": mylink,\n",
    "                            \"book_description\" : book_description}\n",
    "        i += 1\n",
    "        \n",
    "    return my_scraped_dict\n",
    "\n",
    "\n",
    "filtered_products = scrape_books(1,20,products)\n",
    "my_filtered_dict = scrap_each_book_information(filtered_products)\n",
    "\n",
    "pd.DataFrame.from_dict(my_filtered_dict, orient = \"index\")\n",
    "\n"
   ]
  },
  {
   "cell_type": "code",
   "execution_count": null,
   "id": "710d52c8-5c39-44fa-872c-f781849731d7",
   "metadata": {},
   "outputs": [],
   "source": [
    "#each_book = requests.get(mylink)\n",
    "#each_book_soup = BeautifulSoup(each_book.content)\n",
    "\n",
    "#for item in each_book_soup:\n",
    "#    my_upc = item.find(\"UPC\")\n",
    "#    print(f\"{my_upc}\\n\")"
   ]
  },
  {
   "cell_type": "code",
   "execution_count": null,
   "id": "cbb37ba6-fe1a-4c02-947c-b86be9c53238",
   "metadata": {},
   "outputs": [],
   "source": [
    "#each_book = requests.get(mylink)\n",
    "#each_book_soup = BeautifulSoup(each_book.content)\n",
    "\n"
   ]
  },
  {
   "cell_type": "code",
   "execution_count": null,
   "id": "b6c493d5-46fb-4975-89c5-52c66f2e847d",
   "metadata": {},
   "outputs": [],
   "source": [
    "#find first book title\n",
    "\n",
    "#book_title = each_book_soup.find(\"div\", attrs = {\"class\":\"col-sm-6 product_main\"}).find(\"h1\").get_text()\n",
    "#book_title"
   ]
  },
  {
   "cell_type": "code",
   "execution_count": null,
   "id": "863b0918-189d-4009-8e0c-366e8fd88ebe",
   "metadata": {},
   "outputs": [],
   "source": [
    "#find UPC\n",
    "\n",
    "#book_upc = each_book_soup.find(\"table\", attrs = {\"class\": \"table table-striped\"}).find(\"td\").get_text()\n",
    "#book_upc"
   ]
  },
  {
   "cell_type": "code",
   "execution_count": null,
   "id": "be374ede-3954-496a-ab8f-07dd62b9d6c8",
   "metadata": {},
   "outputs": [],
   "source": [
    "# find Price (£)\n",
    "\n",
    "#book_price = each_book_soup.find(\"p\", attrs = {\"class\": \"price_color\"}).get_text()\n",
    "#book_price"
   ]
  },
  {
   "cell_type": "code",
   "execution_count": null,
   "id": "8c5ac3da-1c6c-4bd9-9f59-7073bc0ea751",
   "metadata": {},
   "outputs": [],
   "source": [
    "#book rating\n",
    "#book_rating = each_book_soup.find_all(\"i\", attrs = {\"class\": \"icon-star\"}).get_text()\n",
    "#book_rating"
   ]
  },
  {
   "cell_type": "code",
   "execution_count": null,
   "id": "5334f7ed-37cc-4bba-89cf-270379d9b862",
   "metadata": {},
   "outputs": [],
   "source": [
    "#Book Availability\n",
    "#book_availability = each_book_soup.find(\"p\", attrs = {\"class\": \"instock availability\"}).get_text().strip()\n",
    "#book_availability"
   ]
  },
  {
   "cell_type": "code",
   "execution_count": null,
   "id": "b76c11c3-ea59-4a2d-9743-f726566503b6",
   "metadata": {},
   "outputs": [],
   "source": [
    "# Book Description\n",
    "#my_previous_div = each_book_soup.find(\"div\", attrs = {\"id\": \"product_description\"})\n",
    "#book_description = my_previous_div.find_next_sibling(\"p\").get_text()\n",
    "#book_description"
   ]
  },
  {
   "cell_type": "code",
   "execution_count": null,
   "id": "f896c57e-124c-45ef-a9c9-3139d61e7c16",
   "metadata": {},
   "outputs": [],
   "source": []
  },
  {
   "cell_type": "code",
   "execution_count": null,
   "id": "aeb0ea65-6ab7-4b60-9442-f2164f5b3569",
   "metadata": {},
   "outputs": [],
   "source": []
  }
 ],
 "metadata": {
  "colab": {
   "provenance": []
  },
  "kernelspec": {
   "display_name": "Python 3 (ipykernel)",
   "language": "python",
   "name": "python3"
  },
  "language_info": {
   "codemirror_mode": {
    "name": "ipython",
    "version": 3
   },
   "file_extension": ".py",
   "mimetype": "text/x-python",
   "name": "python",
   "nbconvert_exporter": "python",
   "pygments_lexer": "ipython3",
   "version": "3.12.4"
  }
 },
 "nbformat": 4,
 "nbformat_minor": 5
}
