{
 "cells": [
  {
   "cell_type": "markdown",
   "id": "7e7a1ab8-2599-417d-9a65-25ef07f3a786",
   "metadata": {
    "id": "7e7a1ab8-2599-417d-9a65-25ef07f3a786"
   },
   "source": [
    "# Lab | Web Scraping"
   ]
  },
  {
   "cell_type": "markdown",
   "id": "ce8882fc-4815-4567-92fa-b4816358ba7d",
   "metadata": {
    "id": "ce8882fc-4815-4567-92fa-b4816358ba7d"
   },
   "source": [
    "Welcome to the IMDb Web Scraping Adventure Lab!\n",
    "\n",
    "**Objective**\n",
    "\n",
    "In this lab, we will embark on a mission to unearth valuable insights from the vast sea of data available on IMDb, one of the largest online databases of movie, TV, and celebrity information. As budding data scientists and business analysts, you have been tasked to scrape a specific subset of data from IMDb to assist film production companies in understanding the landscape of highly-rated movies in a defined time period. Your insights will potentially influence the making of the next netflix movie!\n",
    "\n",
    "**Background**\n",
    "\n",
    "In a world where data has become the new currency, businesses are leveraging big data to make informed decisions that drive success and profitability. The entertainment industry, being no exception, utilizes data analytics to comprehend market trends, audience preferences, and the performance of films based on various parameters such as director, genre, stars involved, etc. IMDb stands as a goldmine of such data, offering intricate details of almost every movie ever made.\n",
    "\n",
    "**Task**\n",
    "\n",
    "Your task is to create a Python script using `BeautifulSoup` and `pandas` to scrape IMDb movie data based on user ratings and release dates. This script should be able to filter movies with ratings above a certain threshold and within a specified date range.\n",
    "\n",
    "**Expected Outcome**\n",
    "\n",
    "- A function named `scrape_imdb` that takes four parameters: `title_type`,`user_rating`, `start_date`, and `end_date`.\n",
    "- The function should return a DataFrame with the following columns:\n",
    "  - **Movie Nr**: The number representing the movie’s position in the list.\n",
    "  - **Title**: The title of the movie.\n",
    "  - **Year**: The year the movie was released.\n",
    "  - **Rating**: The IMDb rating of the movie.\n",
    "  - **Runtime (min)**: The duration of the movie in minutes.\n",
    "  - **Genre**: The genre of the movie.\n",
    "  - **Description**: A brief description of the movie.\n",
    "  - **Director**: The director of the movie.\n",
    "  - **Stars**: The main stars of the movie.\n",
    "  - **Votes**: The number of votes the movie received.\n",
    "  - **Gross ($M)**: The gross earnings of the movie in millions of USD.\n",
    "\n",
    "You will execute this script to scrape data for movies with the Title Type `Feature Film` that have a user rating of `7.5 and above` and were released between `January 1, 1990, and December 31, 1992`.\n",
    "\n",
    "Remember to experiment with different title types, dates and ratings to ensure your code is versatile and can handle various searches effectively!\n",
    "\n",
    "**Resources**\n",
    "\n",
    "- [Beautiful Soup Documentation](https://www.crummy.com/software/BeautifulSoup/bs4/doc/)\n",
    "- [Pandas Documentation](https://pandas.pydata.org/pandas-docs/stable/index.html)\n",
    "- [IMDb Advanced Search](https://www.imdb.com/search/title/)\n"
   ]
  },
  {
   "cell_type": "markdown",
   "id": "3519921d-5890-445b-9a33-934ed8ee378c",
   "metadata": {
    "id": "3519921d-5890-445b-9a33-934ed8ee378c"
   },
   "source": [
    "**Hint**\n",
    "\n",
    "Your first mission is to familiarize yourself with the IMDb advanced search page. Head over to [IMDb advanced search](https://www.imdb.com/search/title/) and input the following parameters, keeping all other fields to their default values or blank:\n",
    "\n",
    "- **Title Type**: Feature film\n",
    "- **Release date**: From 1990 to 1992 (Note: You don't need to specify the day and month)\n",
    "- **User Rating**: 7.5 to -\n",
    "\n",
    "Upon searching, you'll land on a page showcasing a list of movies, each displaying vital details such as the title, release year, and crew information. Your task is to scrape this treasure trove of data.\n",
    "\n",
    "Carefully examine the resulting URL and construct your own URL to include all the necessary parameters for filtering the movies."
   ]
  },
  {
   "cell_type": "markdown",
   "id": "25a83a0d-a742-49f6-985e-e27887cbf922",
   "metadata": {
    "id": "25a83a0d-a742-49f6-985e-e27887cbf922"
   },
   "source": [
    "\n",
    "---\n",
    "\n",
    "**Best of luck! Immerse yourself in the world of movies and may the data be with you!**"
   ]
  },
  {
   "cell_type": "markdown",
   "id": "7b75cf0d-9afa-4eec-a9e2-befeac68b2a0",
   "metadata": {
    "id": "7b75cf0d-9afa-4eec-a9e2-befeac68b2a0"
   },
   "source": [
    "**Important note**:\n",
    "\n",
    "In the fast-changing online world, websites often get updates and make changes. When you try this lab, the IMDb website might be different from what we expect.\n",
    "\n",
    "If you run into problems because of these changes, like new rules or things that stop you from getting data, don't worry! Instead, get creative.\n",
    "\n",
    "You can choose another website that interests you and is good for scraping data. Websites like Wikipedia or The New York Times are good options. The main goal is still the same: get useful data and learn how to scrape it from a website that you find interesting. It's a chance to practice your web scraping skills and explore a source of information you like."
   ]
  },
  {
   "cell_type": "code",
   "execution_count": 1,
   "id": "975ad589",
   "metadata": {},
   "outputs": [
    {
     "name": "stdout",
     "output_type": "stream",
     "text": [
      "Requirement already satisfied: requests in /opt/anaconda3/lib/python3.11/site-packages (2.31.0)\n",
      "Requirement already satisfied: beautifulsoup4 in /opt/anaconda3/lib/python3.11/site-packages (4.12.2)\n",
      "Requirement already satisfied: charset-normalizer<4,>=2 in /opt/anaconda3/lib/python3.11/site-packages (from requests) (2.0.4)\n",
      "Requirement already satisfied: idna<4,>=2.5 in /opt/anaconda3/lib/python3.11/site-packages (from requests) (3.4)\n",
      "Requirement already satisfied: urllib3<3,>=1.21.1 in /opt/anaconda3/lib/python3.11/site-packages (from requests) (2.0.7)\n",
      "Requirement already satisfied: certifi>=2017.4.17 in /opt/anaconda3/lib/python3.11/site-packages (from requests) (2024.2.2)\n",
      "Requirement already satisfied: soupsieve>1.2 in /opt/anaconda3/lib/python3.11/site-packages (from beautifulsoup4) (2.5)\n"
     ]
    }
   ],
   "source": [
    "!pip install requests beautifulsoup4"
   ]
  },
  {
   "cell_type": "code",
   "execution_count": 2,
   "id": "efb5dcd6",
   "metadata": {},
   "outputs": [
    {
     "data": {
      "text/plain": [
       "<Response [200]>"
      ]
     },
     "execution_count": 2,
     "metadata": {},
     "output_type": "execute_result"
    }
   ],
   "source": [
    "import pandas as pd\n",
    "import requests\n",
    "from bs4 import BeautifulSoup\n",
    "\n",
    "url = \"https://en.wikipedia.org/wiki/Harry_Potter_(film_series)\"\n",
    "response = requests.get(url)\n",
    "response # Check if the request was successful"
   ]
  },
  {
   "cell_type": "code",
   "execution_count": 3,
   "id": "eddbec76",
   "metadata": {},
   "outputs": [],
   "source": [
    "# Parse the HTML content\n",
    "soup = BeautifulSoup(response.text, \"html.parser\")"
   ]
  },
  {
   "cell_type": "code",
   "execution_count": 4,
   "id": "8d80f09f",
   "metadata": {},
   "outputs": [
    {
     "data": {
      "text/plain": [
       "<table class=\"wikitable\" style=\"width:99%;\">\n",
       "<tbody><tr>\n",
       "<th style=\"text-align:center;\">Year\n",
       "</th>\n",
       "<th style=\"text-align:center;\">Film\n",
       "</th>\n",
       "<th style=\"text-align:center;\">Director\n",
       "</th>\n",
       "<th style=\"text-align:center;\">Screenwriter\n",
       "</th>\n",
       "<th style=\"text-align:center;\">Producer(s)<sup class=\"reference\" id=\"cite_ref-30\"><a href=\"#cite_note-30\">[n 2]</a></sup>\n",
       "</th>\n",
       "<th style=\"text-align:center;\">Composer\n",
       "</th>\n",
       "<th style=\"text-align:center;\">Novel by <a href=\"/wiki/J._K._Rowling\" title=\"J. K. Rowling\">J. K. Rowling</a>\n",
       "</th></tr>\n",
       "<tr>\n",
       "<td>2001\n",
       "</td>\n",
       "<td><i><a href=\"/wiki/Harry_Potter_and_the_Philosopher%27s_Stone_(film)\" title=\"Harry Potter and the Philosopher's Stone (film)\">Harry Potter and the<br/>Philosopher's Stone</a></i>\n",
       "</td>\n",
       "<td rowspan=\"2\" style=\"text-align:center;\"><a href=\"/wiki/Chris_Columbus_(filmmaker)\" title=\"Chris Columbus (filmmaker)\">Chris Columbus</a>\n",
       "</td>\n",
       "<td rowspan=\"4\" style=\"text-align:center;\"><a href=\"/wiki/Steve_Kloves\" title=\"Steve Kloves\">Steve Kloves</a>\n",
       "</td>\n",
       "<td rowspan=\"2\" style=\"text-align:center;\"><a href=\"/wiki/David_Heyman\" title=\"David Heyman\">David Heyman</a>\n",
       "</td>\n",
       "<td rowspan=\"3\" style=\"text-align:center;\"><a href=\"/wiki/John_Williams\" title=\"John Williams\">John Williams</a>\n",
       "</td>\n",
       "<td><i><a href=\"/wiki/Harry_Potter_and_the_Philosopher%27s_Stone\" title=\"Harry Potter and the Philosopher's Stone\">Harry Potter and the<br/>Philosopher's Stone</a></i> (1997)\n",
       "</td></tr>\n",
       "<tr>\n",
       "<td>2002\n",
       "</td>\n",
       "<td><i><a href=\"/wiki/Harry_Potter_and_the_Chamber_of_Secrets_(film)\" title=\"Harry Potter and the Chamber of Secrets (film)\">Harry Potter and the<br/>Chamber of Secrets</a></i>\n",
       "</td>\n",
       "<td><i><a href=\"/wiki/Harry_Potter_and_the_Chamber_of_Secrets\" title=\"Harry Potter and the Chamber of Secrets\">Harry Potter and the<br/>Chamber of Secrets</a></i> (1998)\n",
       "</td></tr>\n",
       "<tr>\n",
       "<td>2004\n",
       "</td>\n",
       "<td><i><a href=\"/wiki/Harry_Potter_and_the_Prisoner_of_Azkaban_(film)\" title=\"Harry Potter and the Prisoner of Azkaban (film)\">Harry Potter and the<br/>Prisoner of Azkaban</a></i>\n",
       "</td>\n",
       "<td style=\"text-align:center;\"><a href=\"/wiki/Alfonso_Cuar%C3%B3n\" title=\"Alfonso Cuarón\">Alfonso Cuarón</a>\n",
       "</td>\n",
       "<td style=\"text-align:center;\">David Heyman, Chris Columbus and Mark Radcliffe\n",
       "</td>\n",
       "<td><i><a href=\"/wiki/Harry_Potter_and_the_Prisoner_of_Azkaban\" title=\"Harry Potter and the Prisoner of Azkaban\">Harry Potter and the<br/>Prisoner of Azkaban</a></i> (1999)\n",
       "</td></tr>\n",
       "<tr>\n",
       "<td>2005\n",
       "</td>\n",
       "<td><i><a href=\"/wiki/Harry_Potter_and_the_Goblet_of_Fire_(film)\" title=\"Harry Potter and the Goblet of Fire (film)\">Harry Potter and the<br/>Goblet of Fire</a></i>\n",
       "</td>\n",
       "<td style=\"text-align:center;\"><a href=\"/wiki/Mike_Newell_(director)\" title=\"Mike Newell (director)\">Mike Newell</a>\n",
       "</td>\n",
       "<td style=\"text-align:center;\">David Heyman\n",
       "</td>\n",
       "<td style=\"text-align:center;\"><a href=\"/wiki/Patrick_Doyle\" title=\"Patrick Doyle\">Patrick Doyle</a>\n",
       "</td>\n",
       "<td><i><a href=\"/wiki/Harry_Potter_and_the_Goblet_of_Fire\" title=\"Harry Potter and the Goblet of Fire\">Harry Potter and the<br/>Goblet of Fire</a></i> (2000)\n",
       "</td></tr>\n",
       "<tr>\n",
       "<td>2007\n",
       "</td>\n",
       "<td><i><a href=\"/wiki/Harry_Potter_and_the_Order_of_the_Phoenix_(film)\" title=\"Harry Potter and the Order of the Phoenix (film)\">Harry Potter and the<br/>Order of the Phoenix</a></i>\n",
       "</td>\n",
       "<td rowspan=\"4\" style=\"text-align:center;\"><a href=\"/wiki/David_Yates\" title=\"David Yates\">David Yates</a>\n",
       "</td>\n",
       "<td style=\"text-align:center;\"><a href=\"/wiki/Michael_Goldenberg\" title=\"Michael Goldenberg\">Michael Goldenberg</a>\n",
       "</td>\n",
       "<td rowspan=\"2\" style=\"text-align:center;\">David Heyman and <a href=\"/wiki/David_Barron_(film_producer)\" title=\"David Barron (film producer)\">David Barron</a>\n",
       "</td>\n",
       "<td rowspan=\"2\" style=\"text-align:center;\"><a href=\"/wiki/Nicholas_Hooper\" title=\"Nicholas Hooper\">Nicholas Hooper</a>\n",
       "</td>\n",
       "<td><i><a href=\"/wiki/Harry_Potter_and_the_Order_of_the_Phoenix\" title=\"Harry Potter and the Order of the Phoenix\">Harry Potter and the<br/>Order of the Phoenix</a></i> (2003)\n",
       "</td></tr>\n",
       "<tr>\n",
       "<td>2009\n",
       "</td>\n",
       "<td><i><a href=\"/wiki/Harry_Potter_and_the_Half-Blood_Prince_(film)\" title=\"Harry Potter and the Half-Blood Prince (film)\">Harry Potter and the<br/>Half-Blood Prince</a></i>\n",
       "</td>\n",
       "<td rowspan=\"3\" style=\"text-align:center;\">Steve Kloves\n",
       "</td>\n",
       "<td><i><a href=\"/wiki/Harry_Potter_and_the_Half-Blood_Prince\" title=\"Harry Potter and the Half-Blood Prince\">Harry Potter and the<br/>Half-Blood Prince</a></i> (2005)\n",
       "</td></tr>\n",
       "<tr>\n",
       "<td>2010\n",
       "</td>\n",
       "<td><i><a href=\"/wiki/Harry_Potter_and_the_Deathly_Hallows_%E2%80%93_Part_1\" title=\"Harry Potter and the Deathly Hallows – Part 1\">Harry Potter and the<br/>Deathly Hallows – Part 1</a></i>\n",
       "</td>\n",
       "<td rowspan=\"2\" style=\"text-align:center;\">David Heyman, David Barron and <a href=\"/wiki/J._K._Rowling\" title=\"J. K. Rowling\">J. K. Rowling</a>\n",
       "</td>\n",
       "<td rowspan=\"2\" style=\"text-align:center;\"><a href=\"/wiki/Alexandre_Desplat\" title=\"Alexandre Desplat\">Alexandre Desplat</a>\n",
       "</td>\n",
       "<td rowspan=\"2\"><i><a href=\"/wiki/Harry_Potter_and_the_Deathly_Hallows\" title=\"Harry Potter and the Deathly Hallows\">Harry Potter and the<br/>Deathly Hallows</a></i> (2007)\n",
       "</td></tr>\n",
       "<tr>\n",
       "<td>2011\n",
       "</td>\n",
       "<td><i><a href=\"/wiki/Harry_Potter_and_the_Deathly_Hallows_%E2%80%93_Part_2\" title=\"Harry Potter and the Deathly Hallows – Part 2\">Harry Potter and the<br/>Deathly Hallows – Part 2</a></i>\n",
       "</td></tr></tbody></table>"
      ]
     },
     "execution_count": 4,
     "metadata": {},
     "output_type": "execute_result"
    }
   ],
   "source": [
    "# Find the table containing the list of Harry Potter films\n",
    "table = soup.find(\"table\", class_=\"wikitable\")\n",
    "table"
   ]
  },
  {
   "cell_type": "code",
   "execution_count": 5,
   "id": "765423b6",
   "metadata": {
    "scrolled": true
   },
   "outputs": [
    {
     "name": "stdout",
     "output_type": "stream",
     "text": [
      "2001: Harry Potter and thePhilosopher's Stone\n",
      "2002: Harry Potter and theChamber of Secrets\n",
      "2004: Harry Potter and thePrisoner of Azkaban\n",
      "2005: Harry Potter and theGoblet of Fire\n",
      "2007: Harry Potter and theOrder of the Phoenix\n",
      "2009: Harry Potter and theHalf-Blood Prince\n",
      "2010: Harry Potter and theDeathly Hallows – Part 1\n",
      "2011: Harry Potter and theDeathly Hallows – Part 2\n"
     ]
    }
   ],
   "source": [
    "films = {}\n",
    "\n",
    "for row in table.find_all(\"tr\")[1:]:\n",
    "    # Extract film title and release year from the row\n",
    "    cells = row.find_all([\"th\", \"td\"])\n",
    "    title = cells[0].text.strip()\n",
    "    year = cells[1].text.strip()\n",
    "    \n",
    "    #Add title and year to dictionary\n",
    "    films[title] = year\n",
    "    \n",
    "for title, year in films.items():\n",
    "    print(f\"{title}: {year}\")\n"
   ]
  },
  {
   "cell_type": "markdown",
   "id": "9ab1217a-df9d-4a2b-a32c-2c5f1eecd52a",
   "metadata": {
    "id": "9ab1217a-df9d-4a2b-a32c-2c5f1eecd52a"
   },
   "source": [
    "## BONUS\n",
    "\n",
    "The search results span multiple pages, housing a total of 631 movies in our example with each page displaying 50 movies at most. To scrape data seamlessly from all pages, you'll need to dive deep into the structure of the URLs generated with each \"Next\" click.\n",
    "\n",
    "Take a close look at the following URLs:\n",
    "- First page:\n",
    "  ```\n",
    "  https://www.imdb.com/search/title/?title_type=feature&release_date=1990-01-01,1992-12-31&user_rating=7.5,\n",
    "  ```\n",
    "- Second page:\n",
    "  ```\n",
    "  https://www.imdb.com/search/title/?title_type=feature&release_date=1990-01-01,1992-12-31&user_rating=7.5,&start=51&ref_=adv_nxt\n",
    "  ```\n",
    "- Third page:\n",
    "  ```\n",
    "  https://www.imdb.com/search/title/?title_type=feature&release_date=1990-01-01,1992-12-31&user_rating=7.5,&start=101&ref_=adv_nxt\n",
    "  ```\n",
    "\n",
    "You should notice a pattern. There is a `start` parameter incrementing by 50 with each page, paired with a constant `ref_` parameter holding the value \"adv_nxt\".\n",
    "\n",
    "Modify your script so it's capable of iterating over all available pages to fetch data on all the 631 movies (631 is the total number of movies in the proposed example)."
   ]
  },
  {
   "cell_type": "code",
   "execution_count": 6,
   "id": "21ac4fc0-a12b-4a00-9266-2020166f0dea",
   "metadata": {
    "id": "21ac4fc0-a12b-4a00-9266-2020166f0dea"
   },
   "outputs": [],
   "source": [
    "# Your solution goes here"
   ]
  }
 ],
 "metadata": {
  "colab": {
   "provenance": []
  },
  "kernelspec": {
   "display_name": "Python 3 (ipykernel)",
   "language": "python",
   "name": "python3"
  },
  "language_info": {
   "codemirror_mode": {
    "name": "ipython",
    "version": 3
   },
   "file_extension": ".py",
   "mimetype": "text/x-python",
   "name": "python",
   "nbconvert_exporter": "python",
   "pygments_lexer": "ipython3",
   "version": "3.11.7"
  }
 },
 "nbformat": 4,
 "nbformat_minor": 5
}
