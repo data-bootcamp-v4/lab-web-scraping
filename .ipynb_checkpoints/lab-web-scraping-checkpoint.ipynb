{
 "cells": [
  {
   "cell_type": "markdown",
   "id": "7e7a1ab8-2599-417d-9a65-25ef07f3a786",
   "metadata": {
    "id": "7e7a1ab8-2599-417d-9a65-25ef07f3a786"
   },
   "source": [
    "# Lab | Web Scraping"
   ]
  },
  {
   "cell_type": "markdown",
   "id": "ce8882fc-4815-4567-92fa-b4816358ba7d",
   "metadata": {
    "id": "ce8882fc-4815-4567-92fa-b4816358ba7d"
   },
   "source": [
    "Welcome to the IMDb Web Scraping Adventure Lab!\n",
    "\n",
    "**Objective**\n",
    "\n",
    "In this lab, we will embark on a mission to unearth valuable insights from the vast sea of data available on IMDb, one of the largest online databases of movie, TV, and celebrity information. As budding data scientists and business analysts, you have been tasked to scrape a specific subset of data from IMDb to assist film production companies in understanding the landscape of highly-rated movies in a defined time period. Your insights will potentially influence the making of the next netflix movie!\n",
    "\n",
    "**Background**\n",
    "\n",
    "In a world where data has become the new currency, businesses are leveraging big data to make informed decisions that drive success and profitability. The entertainment industry, being no exception, utilizes data analytics to comprehend market trends, audience preferences, and the performance of films based on various parameters such as director, genre, stars involved, etc. IMDb stands as a goldmine of such data, offering intricate details of almost every movie ever made.\n",
    "\n",
    "**Task**\n",
    "\n",
    "Your task is to create a Python script using `BeautifulSoup` and `pandas` to scrape IMDb movie data based on user ratings and release dates. This script should be able to filter movies with ratings above a certain threshold and within a specified date range.\n",
    "\n",
    "**Expected Outcome**\n",
    "\n",
    "- A function named `scrape_imdb` that takes four parameters: `title_type`,`user_rating`, `start_date`, and `end_date`.\n",
    "- The function should return a DataFrame with the following columns:\n",
    "  - **Movie Nr**: The number representing the movie’s position in the list.\n",
    "  - **Title**: The title of the movie.\n",
    "  - **Year**: The year the movie was released.\n",
    "  - **Rating**: The IMDb rating of the movie.\n",
    "  - **Runtime (min)**: The duration of the movie in minutes.\n",
    "  - **Genre**: The genre of the movie.\n",
    "  - **Description**: A brief description of the movie.\n",
    "  - **Director**: The director of the movie.\n",
    "  - **Stars**: The main stars of the movie.\n",
    "  - **Votes**: The number of votes the movie received.\n",
    "  - **Gross ($M)**: The gross earnings of the movie in millions of USD.\n",
    "\n",
    "You will execute this script to scrape data for movies with the Title Type `Feature Film` that have a user rating of `7.5 and above` and were released between `January 1, 1990, and December 31, 1992`.\n",
    "\n",
    "Remember to experiment with different title types, dates and ratings to ensure your code is versatile and can handle various searches effectively!\n",
    "\n",
    "**Resources**\n",
    "\n",
    "- [Beautiful Soup Documentation](https://www.crummy.com/software/BeautifulSoup/bs4/doc/)\n",
    "- [Pandas Documentation](https://pandas.pydata.org/pandas-docs/stable/index.html)\n",
    "- [IMDb Advanced Search](https://www.imdb.com/search/title/)\n"
   ]
  },
  {
   "cell_type": "markdown",
   "id": "3519921d-5890-445b-9a33-934ed8ee378c",
   "metadata": {
    "id": "3519921d-5890-445b-9a33-934ed8ee378c"
   },
   "source": [
    "**Hint**\n",
    "\n",
    "Your first mission is to familiarize yourself with the IMDb advanced search page. Head over to [IMDb advanced search](https://www.imdb.com/search/title/) and input the following parameters, keeping all other fields to their default values or blank:\n",
    "\n",
    "- **Title Type**: Feature film\n",
    "- **Release date**: From 1990 to 1992 (Note: You don't need to specify the day and month)\n",
    "- **User Rating**: 7.5 to -\n",
    "\n",
    "Upon searching, you'll land on a page showcasing a list of movies, each displaying vital details such as the title, release year, and crew information. Your task is to scrape this treasure trove of data.\n",
    "\n",
    "Carefully examine the resulting URL and construct your own URL to include all the necessary parameters for filtering the movies."
   ]
  },
  {
   "cell_type": "markdown",
   "id": "25a83a0d-a742-49f6-985e-e27887cbf922",
   "metadata": {
    "id": "25a83a0d-a742-49f6-985e-e27887cbf922"
   },
   "source": [
    "\n",
    "---\n",
    "\n",
    "**Best of luck! Immerse yourself in the world of movies and may the data be with you!**"
   ]
  },
  {
   "cell_type": "markdown",
   "id": "7b75cf0d-9afa-4eec-a9e2-befeac68b2a0",
   "metadata": {
    "id": "7b75cf0d-9afa-4eec-a9e2-befeac68b2a0"
   },
   "source": [
    "**Important note**:\n",
    "\n",
    "In the fast-changing online world, websites often get updates and make changes. When you try this lab, the IMDb website might be different from what we expect.\n",
    "\n",
    "If you run into problems because of these changes, like new rules or things that stop you from getting data, don't worry! Instead, get creative.\n",
    "\n",
    "You can choose another website that interests you and is good for scraping data. Websites like Wikipedia or The New York Times are good options. The main goal is still the same: get useful data and learn how to scrape it from a website that you find interesting. It's a chance to practice your web scraping skills and explore a source of information you like."
   ]
  },
  {
   "cell_type": "code",
   "execution_count": null,
   "id": "40359eee-9cd7-4884-bfa4-83344c222305",
   "metadata": {
    "id": "40359eee-9cd7-4884-bfa4-83344c222305"
   },
   "outputs": [],
   "source": [
    "# Your task is to create a Python script using BeautifulSoup and pandas to scrape IMDb movie data based on user ratings and release dates.\n",
    "# This script should be able to filter movies with ratings above a certain threshold and within a specified date range.\n",
    "\n",
    "from bs4 import BeautifulSoup\n",
    "import pandas as pd\n",
    "import requests\n",
    "!pip install requests beautifulsoup4\n",
    "\n"
   ]
  },
  {
   "cell_type": "code",
   "execution_count": null,
   "id": "b68bcb1f",
   "metadata": {},
   "outputs": [],
   "source": [
    "\n",
    "url = \"https://www.imdb.com/search/title/?title_type=feature&release_date=1990-01-01,1992-12-31&user_rating=7.5,\"\n",
    "response = requests.get(url,headers = {'User-Agent':'Mozilla/5.0 (Windows NT 6.3; Win 64 ; x64) Apple WeKit /537.36(KHTML , like Gecko) Chrome/80.0.3987.162 Safari/537.36'})\n",
    "response"
   ]
  },
  {
   "cell_type": "code",
   "execution_count": null,
   "id": "e0d7188a",
   "metadata": {},
   "outputs": [],
   "source": [
    "print(response.headers['Content-Type'])"
   ]
  },
  {
   "cell_type": "code",
   "execution_count": null,
   "id": "8df4f4f7",
   "metadata": {},
   "outputs": [],
   "source": [
    "soup = BeautifulSoup(response.content, \"html.parser\")"
   ]
  },
  {
   "cell_type": "code",
   "execution_count": null,
   "id": "052368e9",
   "metadata": {},
   "outputs": [],
   "source": [
    "type(soup)"
   ]
  },
  {
   "cell_type": "code",
   "execution_count": null,
   "id": "0ff3ea81",
   "metadata": {
    "scrolled": false
   },
   "outputs": [],
   "source": [
    "# print(soup.prettify())"
   ]
  },
  {
   "cell_type": "code",
   "execution_count": null,
   "id": "6c10028c",
   "metadata": {},
   "outputs": [],
   "source": [
    "soup.find(\"title\")"
   ]
  },
  {
   "cell_type": "code",
   "execution_count": null,
   "id": "613db24d",
   "metadata": {},
   "outputs": [],
   "source": [
    "soup.find_all('h3', class_=\"ipc-title__text\")\n",
    "print(soup.find_all('h3', class_=\"ipc-title__text\"))"
   ]
  },
  {
   "cell_type": "code",
   "execution_count": null,
   "id": "d39081e5",
   "metadata": {},
   "outputs": [],
   "source": [
    "\n",
    "name_element = soup.find_all(\"h3\" , class_ = 'ipc-title__text')\n"
   ]
  },
  {
   "cell_type": "code",
   "execution_count": null,
   "id": "efe61b29",
   "metadata": {
    "scrolled": true
   },
   "outputs": [],
   "source": [
    "titles_lists = [i.get_text().split(\".\") for i in name_element]\n"
   ]
  },
  {
   "cell_type": "code",
   "execution_count": null,
   "id": "cece12a3",
   "metadata": {},
   "outputs": [],
   "source": [
    "len(titles_lists)"
   ]
  },
  {
   "cell_type": "code",
   "execution_count": null,
   "id": "2a3295e3",
   "metadata": {},
   "outputs": [],
   "source": [
    "# Movie Nr: The number representing the movie’s position in the list.\n",
    "number  = []\n",
    "for i in range(50):\n",
    "    number.append(titles_lists[i][0])\n",
    "\n",
    "print (number)"
   ]
  },
  {
   "cell_type": "code",
   "execution_count": null,
   "id": "54311564",
   "metadata": {
    "scrolled": true
   },
   "outputs": [],
   "source": [
    "# Title: The title of the movie.\n",
    "\n",
    "\n",
    "name  = []\n",
    "for i in range(50):\n",
    "    name.append(titles_lists[i][1])\n",
    "\n",
    "print (name)\n"
   ]
  },
  {
   "cell_type": "code",
   "execution_count": null,
   "id": "77c3ab09",
   "metadata": {},
   "outputs": [],
   "source": [
    "# Year: The year the movie was released.\n",
    "# Runtime (min): The duration of the movie in minutes.\n",
    "\n",
    "year_runtime_element = soup.find_all( \"span\", class_=\"sc-b0691f29-8 ilsLEX dli-title-metadata-item\")\n",
    "year_runtime_element\n",
    "year_runtime_lists = [i.get_text().split(\".\") for i in year_runtime_element]\n",
    "year_runtime_lists\n",
    " "
   ]
  },
  {
   "cell_type": "code",
   "execution_count": null,
   "id": "2832edd2",
   "metadata": {},
   "outputs": [],
   "source": [
    "year = []\n",
    "runtime_interim = []\n",
    "runtime =[]\n",
    "for i in range (0, 50, 3):\n",
    "    year.append(year_runtime_lists[i])\n",
    "for i in range (1, 50, 3):\n",
    "    runtime_interim.append(year_runtime_lists[i])\n",
    "\n",
    "runtime_new = [time[0].replace('m', '') for time in runtime_interim]\n",
    "print(runtime_new)\n",
    "\n",
    "for i in runtime_new:\n",
    "    if 'h' in i:\n",
    "        if 'm' in i:\n",
    "            hours, minutes = map(int, i.split('h '))\n",
    "            total_minutes = hours * 60 + minutes\n",
    "        else:\n",
    "            total_minutes = int(i.split('h')[0]) * 60\n",
    "    else:\n",
    "        total_minutes = int(i.split('m')[0])\n",
    "    runtime.append(total_minutes)\n",
    "\n",
    "print(runtime)"
   ]
  },
  {
   "cell_type": "code",
   "execution_count": null,
   "id": "07db9a66",
   "metadata": {},
   "outputs": [],
   "source": [
    "# <span aria-label=\"IMDb rating: 8.6\" class=\"ipc-rating-star ipc-rating-star--base ipc-rating-star--imdb ratingGroup--imdb-rating\" data-testid=\"ratingGroup--imdb-rating\"><svg width=\"24\" height=\"24\" xmlns=\"http://www.w3.org/2000/svg\" class=\"ipc-icon ipc-icon--star-inline\" viewBox=\"0 0 24 24\" fill=\"currentColor\" role=\"presentation\"><path d=\"M12 20.1l5.82 3.682c1.066.675 2.37-.322 2.09-1.584l-1.543-6.926 5.146-4.667c.94-.85.435-2.465-.799-2.567l-6.773-.602L13.29.89a1.38 1.38 0 0 0-2.581 0l-2.65 6.53-6.774.602C.052 8.126-.453 9.74.486 10.59l5.147 4.666-1.542 6.926c-.28 1.262 1.023 2.26 2.09 1.585L12 20.099z\"></path></svg>8.6<span class=\"ipc-rating-star--voteCount\">&nbsp;(1.5M)</span></span>\n",
    "rating_element = soup.find_all( \"span\", class_=\"ipc-rating-star ipc-rating-star--base ipc-rating-star--imdb ratingGroup--imdb-rating\")\n",
    "rating_element"
   ]
  },
  {
   "cell_type": "code",
   "execution_count": null,
   "id": "fc6f2c7c",
   "metadata": {},
   "outputs": [],
   "source": [
    "rating_element_lists = [i.get_text() for i in rating_element]\n",
    "rating_element_lists\n"
   ]
  },
  {
   "cell_type": "code",
   "execution_count": null,
   "id": "20bef844",
   "metadata": {},
   "outputs": [],
   "source": [
    "import re\n",
    "rating = []\n",
    "votes = []\n",
    "\n",
    "for i in rating_element_lists:\n",
    "    rating_lev = re.search(r'\\d+\\.\\d+', i).group()\n",
    "    rating.append( rating_lev)\n",
    "print(rating)\n",
    "\n",
    "for i in rating_element_lists:\n",
    "    match = re.search(r'\\((.*?)\\)', i)\n",
    "    if match:\n",
    "        value_in_parentheses = match.group(1)\n",
    "        votes.append(value_in_parentheses)\n",
    "\n",
    "print(votes)"
   ]
  },
  {
   "cell_type": "code",
   "execution_count": null,
   "id": "ca333677",
   "metadata": {},
   "outputs": [],
   "source": [
    "description_element = soup.find_all( \"div\" , class_=\"ipc-html-content-inner-div\")\n",
    "description_element\n",
    "description_element_lists = ([i.get_text() for i in description_element])\n",
    "description = description_element_lists\n",
    "print(description)"
   ]
  },
  {
   "cell_type": "code",
   "execution_count": 3,
   "id": "5777146f",
   "metadata": {},
   "outputs": [],
   "source": [
    "def scrape_imdb(title_type, user_rating, start_date, end_date):\n",
    "   \n",
    "    url = f'https://www.imdb.com/search/title/?title_type={title_type}&release_date={start_date},{end_date}&user_rating={user_rating},'\n",
    "    response = requests.get(url,headers = {'User-Agent':'Mozilla/5.0 (Windows NT 6.3; Win 64 ; x64) Apple WeKit /537.36(KHTML , like Gecko) Chrome/80.0.3987.162 Safari/537.36'})\n",
    "    response\n",
    "    type(soup)\n",
    "    soup.find(\"title\")\n",
    "    soup.find_all('h3', class_=\"ipc-title__text\")\n",
    "    print(soup.find_all('h3', class_=\"ipc-title__text\"))\n",
    "    \n",
    "    name_element = soup.find_all(\"h3\" , class_ = 'ipc-title__text')\n",
    "    \n",
    "    titles_lists = [i.get_text().split(\".\") for i in name_element]\n",
    "    len(titles_lists)\n",
    "    \n",
    "    number  = []\n",
    "    for i in range(50):\n",
    "        number.append(titles_lists[i][0])\n",
    "    \n",
    "    name  = []\n",
    "    for i in range(50):\n",
    "        name.append(titles_lists[i][1])\n",
    "    \n",
    "    year_runtime_element = soup.find_all( \"span\", class_=\"sc-b0691f29-8 ilsLEX dli-title-metadata-item\")\n",
    "    year_runtime_element\n",
    "    year_runtime_lists = [i.get_text().split(\".\") for i in year_runtime_element]\n",
    "    year_runtime_lists\n",
    "    year = []\n",
    "    runtime_interim = []\n",
    "    runtime =[]\n",
    "    for i in range (0, 50, 3):\n",
    "        year.append(year_runtime_lists[i])\n",
    "    for i in range (1, 50, 3):\n",
    "        runtime_interim.append(year_runtime_lists[i])\n",
    "\n",
    "    runtime_new = [time[0].replace('m', '') for time in runtime_interim]\n",
    "    print(runtime_new)\n",
    "\n",
    "    for i in runtime_new:\n",
    "        if 'h' in i:\n",
    "            if 'm' in i:\n",
    "                hours, minutes = map(int, i.split('h '))\n",
    "                total_minutes = hours * 60 + minutes\n",
    "            else:\n",
    "                total_minutes = int(i.split('h')[0]) * 60\n",
    "        else:\n",
    "            total_minutes = int(i.split('m')[0])\n",
    "        runtime.append(total_minutes)\n",
    "    \n",
    "    rating_element = soup.find_all( \"span\", class_=\"ipc-rating-star ipc-rating-star--base ipc-rating-star--imdb ratingGroup--imdb-rating\")\n",
    "    rating_element\n",
    "    rating_element_lists = [i.get_text() for i in rating_element]\n",
    "    rating_element_lists\n",
    "    import re\n",
    "    rating = []\n",
    "    votes = []\n",
    "\n",
    "    for i in rating_element_lists:\n",
    "        rating_lev = re.search(r'\\d+\\.\\d+', i).group()\n",
    "        rating.append( rating_lev)\n",
    "\n",
    "    for i in rating_element_lists:\n",
    "        match = re.search(r'\\((.*?)\\)', i)\n",
    "        if match:\n",
    "            value_in_parentheses = match.group(1)\n",
    "            votes.append(value_in_parentheses)\n",
    "    \n",
    "    description_element = soup.find_all( \"div\" , class_=\"ipc-html-content-inner-div\")\n",
    "    description_element\n",
    "    description_element_lists = ([i.get_text() for i in description_element])\n",
    "    description = description_element_lists\n",
    "    \n",
    "    df = pd.DataFrame({\n",
    "    'Title': name,\n",
    "    'Year': year,\n",
    "    'Rating': rating,\n",
    "    'Runtime': runtime,\n",
    "    'Description': description,\n",
    "    'Votes': votes,\n",
    "})\n",
    "\n",
    "    return df\n"
   ]
  },
  {
   "cell_type": "markdown",
   "id": "9ab1217a-df9d-4a2b-a32c-2c5f1eecd52a",
   "metadata": {
    "id": "9ab1217a-df9d-4a2b-a32c-2c5f1eecd52a"
   },
   "source": [
    "## BONUS\n",
    "\n",
    "The search results span multiple pages, housing a total of 631 movies in our example with each page displaying 50 movies at most. To scrape data seamlessly from all pages, you'll need to dive deep into the structure of the URLs generated with each \"Next\" click.\n",
    "\n",
    "Take a close look at the following URLs:\n",
    "- First page:\n",
    "  ```\n",
    "  https://www.imdb.com/search/title/?title_type=feature&release_date=1990-01-01,1992-12-31&user_rating=7.5,\n",
    "  ```\n",
    "- Second page:\n",
    "  ```\n",
    "  https://www.imdb.com/search/title/?title_type=feature&release_date=1990-01-01,1992-12-31&user_rating=7.5,&start=51&ref_=adv_nxt\n",
    "  ```\n",
    "- Third page:\n",
    "  ```\n",
    "  https://www.imdb.com/search/title/?title_type=feature&release_date=1990-01-01,1992-12-31&user_rating=7.5,&start=101&ref_=adv_nxt\n",
    "  ```\n",
    "\n",
    "You should notice a pattern. There is a `start` parameter incrementing by 50 with each page, paired with a constant `ref_` parameter holding the value \"adv_nxt\".\n",
    "\n",
    "Modify your script so it's capable of iterating over all available pages to fetch data on all the 631 movies (631 is the total number of movies in the proposed example)."
   ]
  },
  {
   "cell_type": "code",
   "execution_count": null,
   "id": "21ac4fc0-a12b-4a00-9266-2020166f0dea",
   "metadata": {
    "id": "21ac4fc0-a12b-4a00-9266-2020166f0dea"
   },
   "outputs": [],
   "source": [
    "# Your solution goes here"
   ]
  },
  {
   "cell_type": "code",
   "execution_count": null,
   "id": "a8ae8367",
   "metadata": {},
   "outputs": [],
   "source": [
    "base_url = \"https://www.imdb.com/search/title/?title_type=feature&release_date=1990-01-01,1992-12-31&user_rating=7.5,\"\n",
    "start = 1\n",
    "while start < 631:\n",
    "    page_url = f\"{base_url}&start={start}&ref_=adv_nxt\"\n",
    "    print(page_url)\n",
    "    start += 50"
   ]
  },
  {
   "cell_type": "code",
   "execution_count": null,
   "id": "74a24b56",
   "metadata": {},
   "outputs": [],
   "source": [
    "def scrape_imdb(title_type, user_rating, start_date, end_date):\n",
    "   \n",
    "    base_url = f'https://www.imdb.com/search/title/?title_type={title_type}&release_date={start_date},{end_date}&user_rating={user_rating},'\n",
    "    start = 1\n",
    "    while start < 631:\n",
    "        page_url = f\"{base_url}&start={start}&ref_=adv_nxt\"\n",
    "        response = requests.get(page_url,headers = {'User-Agent':'Mozilla/5.0 (Windows NT 6.3; Win 64 ; x64) Apple WeKit /537.36(KHTML , like Gecko) Chrome/80.0.3987.162 Safari/537.36'})\n",
    "        response\n",
    "        type(soup)\n",
    "        soup.find(\"title\")\n",
    "        soup.find_all('h3', class_=\"ipc-title__text\")\n",
    "        print(soup.find_all('h3', class_=\"ipc-title__text\"))\n",
    "\n",
    "        name_element = soup.find_all(\"h3\" , class_ = 'ipc-title__text')\n",
    "\n",
    "        titles_lists = [i.get_text().split(\".\") for i in name_element]\n",
    "        len(titles_lists)\n",
    "\n",
    "        number  = []\n",
    "        for i in range(50):\n",
    "            number.append(titles_lists[i][0])\n",
    "\n",
    "        name  = []\n",
    "        for i in range(50):\n",
    "            name.append(titles_lists[i][1])\n",
    "\n",
    "        year_runtime_element = soup.find_all( \"span\", class_=\"sc-b0691f29-8 ilsLEX dli-title-metadata-item\")\n",
    "        year_runtime_element\n",
    "        year_runtime_lists = [i.get_text().split(\".\") for i in year_runtime_element]\n",
    "        year_runtime_lists\n",
    "        year = []\n",
    "        runtime_interim = []\n",
    "        runtime =[]\n",
    "        for i in range (0, 50, 3):\n",
    "            year.append(year_runtime_lists[i])\n",
    "        for i in range (1, 50, 3):\n",
    "            runtime_interim.append(year_runtime_lists[i])\n",
    "\n",
    "        runtime_new = [time[0].replace('m', '') for time in runtime_interim]\n",
    "        print(runtime_new)\n",
    "\n",
    "        for i in runtime_new:\n",
    "            if 'h' in i:\n",
    "                if 'm' in i:\n",
    "                    hours, minutes = map(int, i.split('h '))\n",
    "                    total_minutes = hours * 60 + minutes\n",
    "                else:\n",
    "                    total_minutes = int(i.split('h')[0]) * 60\n",
    "            else:\n",
    "                total_minutes = int(i.split('m')[0])\n",
    "            runtime.append(total_minutes)\n",
    "\n",
    "        rating_element = soup.find_all( \"span\", class_=\"ipc-rating-star ipc-rating-star--base ipc-rating-star--imdb ratingGroup--imdb-rating\")\n",
    "        rating_element\n",
    "        rating_element_lists = [i.get_text() for i in rating_element]\n",
    "        rating_element_lists\n",
    "        import re\n",
    "        rating = []\n",
    "        votes = []\n",
    "\n",
    "        for i in rating_element_lists:\n",
    "            rating_lev = re.search(r'\\d+\\.\\d+', i).group()\n",
    "            rating.append( rating_lev)\n",
    "\n",
    "        for i in rating_element_lists:\n",
    "            match = re.search(r'\\((.*?)\\)', i)\n",
    "            if match:\n",
    "                value_in_parentheses = match.group(1)\n",
    "                votes.append(value_in_parentheses)\n",
    "\n",
    "        description_element = soup.find_all( \"div\" , class_=\"ipc-html-content-inner-div\")\n",
    "        description_element\n",
    "        description_element_lists = ([i.get_text() for i in description_element])\n",
    "        description = description_element_lists\n",
    "\n",
    "        df = pd.DataFrame({\n",
    "        'Title': name,\n",
    "        'Year': year,\n",
    "        'Rating': rating,\n",
    "        'Runtime': runtime,\n",
    "        'Description': description,\n",
    "        'Votes': votes,\n",
    "    })\n",
    "\n",
    "        return df\n",
    "        start += 50"
   ]
  }
 ],
 "metadata": {
  "colab": {
   "provenance": []
  },
  "kernelspec": {
   "display_name": "Python 3 (ipykernel)",
   "language": "python",
   "name": "python3"
  },
  "language_info": {
   "codemirror_mode": {
    "name": "ipython",
    "version": 3
   },
   "file_extension": ".py",
   "mimetype": "text/x-python",
   "name": "python",
   "nbconvert_exporter": "python",
   "pygments_lexer": "ipython3",
   "version": "3.11.5"
  }
 },
 "nbformat": 4,
 "nbformat_minor": 5
}
