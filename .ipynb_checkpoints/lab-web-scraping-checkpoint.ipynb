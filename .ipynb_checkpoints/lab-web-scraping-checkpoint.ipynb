{
 "cells": [
  {
   "cell_type": "markdown",
   "id": "7e7a1ab8-2599-417d-9a65-25ef07f3a786",
   "metadata": {
    "id": "7e7a1ab8-2599-417d-9a65-25ef07f3a786"
   },
   "source": [
    "# Lab | Web Scraping"
   ]
  },
  {
   "cell_type": "markdown",
   "id": "ce8882fc-4815-4567-92fa-b4816358ba7d",
   "metadata": {
    "id": "ce8882fc-4815-4567-92fa-b4816358ba7d"
   },
   "source": [
    "Welcome to the \"Books to Scrape\" Web Scraping Adventure Lab!\n",
    "\n",
    "**Objective**\n",
    "\n",
    "In this lab, we will embark on a mission to unearth valuable insights from the data available on Books to Scrape, an online platform showcasing a wide variety of books. As data analyst, you have been tasked with scraping a specific subset of book data from Books to Scrape to assist publishing companies in understanding the landscape of highly-rated books across different genres. Your insights will help shape future book marketing strategies and publishing decisions.\n",
    "\n",
    "**Background**\n",
    "\n",
    "In a world where data has become the new currency, businesses are leveraging big data to make informed decisions that drive success and profitability. The publishing industry, much like others, utilizes data analytics to understand market trends, reader preferences, and the performance of books based on factors such as genre, author, and ratings. Books to Scrape serves as a rich source of such data, offering detailed information about a diverse range of books, making it an ideal platform for extracting insights to aid in informed decision-making within the literary world.\n",
    "\n",
    "**Task**\n",
    "\n",
    "Your task is to create a Python script using BeautifulSoup and pandas to scrape Books to Scrape book data, focusing on book ratings and genres. The script should be able to filter books with ratings above a certain threshold and in specific genres. Additionally, the script should structure the scraped data in a tabular format using pandas for further analysis.\n",
    "\n",
    "**Expected Outcome**\n",
    "\n",
    "A function named `scrape_books` that takes two parameters: `min_rating` and `max_price`. The function should scrape book data from the \"Books to Scrape\" website and return a `pandas` DataFrame with the following columns:\n",
    "\n",
    "**Expected Outcome**\n",
    "\n",
    "- A function named `scrape_books` that takes two parameters: `min_rating` and `max_price`.\n",
    "- The function should return a DataFrame with the following columns:\n",
    "  - **UPC**: The Universal Product Code (UPC) of the book.\n",
    "  - **Title**: The title of the book.\n",
    "  - **Price (£)**: The price of the book in pounds.\n",
    "  - **Rating**: The rating of the book (1-5 stars).\n",
    "  - **Genre**: The genre of the book.\n",
    "  - **Availability**: Whether the book is in stock or not.\n",
    "  - **Description**: A brief description or product description of the book (if available).\n",
    "  \n",
    "You will execute this script to scrape data for books with a minimum rating of `4.0 and above` and a maximum price of `£20`. \n",
    "\n",
    "Remember to experiment with different ratings and prices to ensure your code is versatile and can handle various searches effectively!\n",
    "\n",
    "**Resources**\n",
    "\n",
    "- [Beautiful Soup Documentation](https://www.crummy.com/software/BeautifulSoup/bs4/doc/)\n",
    "- [Pandas Documentation](https://pandas.pydata.org/pandas-docs/stable/index.html)\n",
    "- [Books to Scrape](https://books.toscrape.com/)\n"
   ]
  },
  {
   "cell_type": "markdown",
   "id": "3519921d-5890-445b-9a33-934ed8ee378c",
   "metadata": {
    "id": "3519921d-5890-445b-9a33-934ed8ee378c"
   },
   "source": [
    "**Hint**\n",
    "\n",
    "Your first mission is to familiarize yourself with the **Books to Scrape** website. Navigate to [Books to Scrape](http://books.toscrape.com/) and explore the available books to understand their layout and structure. \n",
    "\n",
    "Next, think about how you can set parameters for your data extraction:\n",
    "\n",
    "- **Minimum Rating**: Focus on books with a rating of 4.0 and above.\n",
    "- **Maximum Price**: Filter for books priced up to £20.\n",
    "\n",
    "After reviewing the site, you can construct a plan for scraping relevant data. Pay attention to the details displayed for each book, including the title, price, rating, and availability. This will help you identify the correct HTML elements to target with your scraping script.\n",
    "\n",
    "Make sure to build your scraping URL and logic based on the patterns you observe in the HTML structure of the book listings!"
   ]
  },
  {
   "cell_type": "markdown",
   "id": "25a83a0d-a742-49f6-985e-e27887cbf922",
   "metadata": {
    "id": "25a83a0d-a742-49f6-985e-e27887cbf922"
   },
   "source": [
    "\n",
    "---\n",
    "\n",
    "**Best of luck! Immerse yourself in the world of books, and may the data be with you!**"
   ]
  },
  {
   "cell_type": "markdown",
   "id": "7b75cf0d-9afa-4eec-a9e2-befeac68b2a0",
   "metadata": {
    "id": "7b75cf0d-9afa-4eec-a9e2-befeac68b2a0"
   },
   "source": [
    "**Important Note**:\n",
    "\n",
    "In the fast-changing online world, websites often update and change their structures. When you try this lab, the **Books to Scrape** website might differ from what you expect.\n",
    "\n",
    "If you encounter issues due to these changes, like new rules or obstacles preventing data extraction, don’t worry! Get creative.\n",
    "\n",
    "You can choose another website that interests you and is suitable for scraping data. Options like Wikipedia, The New York Times, or even library databases are great alternatives. The main goal remains the same: extract useful data and enhance your web scraping skills while exploring a source of information you enjoy. This is your opportunity to practice and adapt to different web environments!"
   ]
  },
  {
   "cell_type": "code",
   "execution_count": 8,
   "id": "40359eee-9cd7-4884-bfa4-83344c222305",
   "metadata": {
    "id": "40359eee-9cd7-4884-bfa4-83344c222305"
   },
   "outputs": [
    {
     "name": "stdout",
     "output_type": "stream",
     "text": [
      "Requirement already satisfied: requests in c:\\users\\ngaut\\anaconda3\\lib\\site-packages (2.32.2)\n",
      "Requirement already satisfied: beautifulsoup4 in c:\\users\\ngaut\\anaconda3\\lib\\site-packages (4.12.3)\n",
      "Requirement already satisfied: charset-normalizer<4,>=2 in c:\\users\\ngaut\\anaconda3\\lib\\site-packages (from requests) (2.0.4)\n",
      "Requirement already satisfied: idna<4,>=2.5 in c:\\users\\ngaut\\anaconda3\\lib\\site-packages (from requests) (3.7)\n",
      "Requirement already satisfied: urllib3<3,>=1.21.1 in c:\\users\\ngaut\\anaconda3\\lib\\site-packages (from requests) (2.2.2)\n",
      "Requirement already satisfied: certifi>=2017.4.17 in c:\\users\\ngaut\\anaconda3\\lib\\site-packages (from requests) (2024.7.4)\n",
      "Requirement already satisfied: soupsieve>1.2 in c:\\users\\ngaut\\anaconda3\\lib\\site-packages (from beautifulsoup4) (2.5)\n"
     ]
    }
   ],
   "source": [
    "# Your solution goes here\n",
    "!pip install requests beautifulsoup4"
   ]
  },
  {
   "cell_type": "code",
   "execution_count": 9,
   "id": "8de62a11-4789-46c0-9231-467423e5288d",
   "metadata": {},
   "outputs": [],
   "source": [
    "import requests\n",
    "from bs4 import BeautifulSoup"
   ]
  },
  {
   "cell_type": "code",
   "execution_count": 43,
   "id": "6829b019-cfeb-42c9-9a12-4fc51fb7fb10",
   "metadata": {},
   "outputs": [
    {
     "data": {
      "text/plain": [
       "'Mark Fallon is an overworked detective investigating a spate of attacks at a string of high profile city centre nightclubs. Scott is a dejected 24 year old struggling to make ends meet working for his brother and supplementing his income with a small-scale drug dealing operation. Angela is an attractive 23 year old, raised by her father, a career criminal and small time dr Mark Fallon is an overworked detective investigating a spate of attacks at a string of high profile city centre nightclubs. Scott is a dejected 24 year old struggling to make ends meet working for his brother and supplementing his income with a small-scale drug dealing operation. Angela is an attractive 23 year old, raised by her father, a career criminal and small time drug dealer who supplies Scott with cannabis. This is a chilling tale spanning a few months in the lives of Scott and Angela, where realizations about the present combine with shocking revelations from the past leading to an apocalyptic climax where they no longer know whom they can trust. ...more'"
      ]
     },
     "execution_count": 43,
     "metadata": {},
     "output_type": "execute_result"
    }
   ],
   "source": [
    "page_url=\"https://books.toscrape.com/catalogue/the-elephant-tree_968/index.html\"\n",
    "response = requests.get(page_url)\n",
    "soup = BeautifulSoup(response.content, 'html.parser')\n",
    "description = soup.find(\"div\", attrs = {\"id\":\"product_description\"}).find_next(\"p\").get_text()\n",
    "description"
   ]
  },
  {
   "cell_type": "code",
   "execution_count": 69,
   "id": "d827144d-5cc8-4223-b227-3f27733e9e29",
   "metadata": {},
   "outputs": [
    {
     "data": {
      "text/html": [
       "<div>\n",
       "<style scoped>\n",
       "    .dataframe tbody tr th:only-of-type {\n",
       "        vertical-align: middle;\n",
       "    }\n",
       "\n",
       "    .dataframe tbody tr th {\n",
       "        vertical-align: top;\n",
       "    }\n",
       "\n",
       "    .dataframe thead th {\n",
       "        text-align: right;\n",
       "    }\n",
       "</style>\n",
       "<table border=\"1\" class=\"dataframe\">\n",
       "  <thead>\n",
       "    <tr style=\"text-align: right;\">\n",
       "      <th></th>\n",
       "      <th>UPC</th>\n",
       "      <th>Title</th>\n",
       "      <th>Price</th>\n",
       "      <th>Rating</th>\n",
       "      <th>Genre</th>\n",
       "      <th>Availability</th>\n",
       "      <th>Description</th>\n",
       "    </tr>\n",
       "  </thead>\n",
       "  <tbody>\n",
       "    <tr>\n",
       "      <th>0</th>\n",
       "      <td>2597b5a345f45e1b</td>\n",
       "      <td>The Dirty Little Secrets of Getting Your Dream...</td>\n",
       "      <td>33.34</td>\n",
       "      <td>4</td>\n",
       "      <td>Business</td>\n",
       "      <td>In stock (19 available)</td>\n",
       "      <td>Drawing on his extensive experience evaluating...</td>\n",
       "    </tr>\n",
       "    <tr>\n",
       "      <th>1</th>\n",
       "      <td>e10e1e165dc8be4a</td>\n",
       "      <td>The Boys in the Boat: Nine Americans and Their...</td>\n",
       "      <td>22.60</td>\n",
       "      <td>4</td>\n",
       "      <td>Default</td>\n",
       "      <td>In stock (19 available)</td>\n",
       "      <td>For readers of Laura Hillenbrand's Seabiscuit ...</td>\n",
       "    </tr>\n",
       "    <tr>\n",
       "      <th>2</th>\n",
       "      <td>30a7f60cd76ca58c</td>\n",
       "      <td>Shakespeare's Sonnets</td>\n",
       "      <td>20.66</td>\n",
       "      <td>4</td>\n",
       "      <td>Poetry</td>\n",
       "      <td>In stock (19 available)</td>\n",
       "      <td>This book is an important and complete collect...</td>\n",
       "    </tr>\n",
       "    <tr>\n",
       "      <th>3</th>\n",
       "      <td>ce6396b0f23f6ecc</td>\n",
       "      <td>Set Me Free</td>\n",
       "      <td>17.46</td>\n",
       "      <td>5</td>\n",
       "      <td>Young Adult</td>\n",
       "      <td>In stock (19 available)</td>\n",
       "      <td>Aaron Ledbetter’s future had been planned out ...</td>\n",
       "    </tr>\n",
       "    <tr>\n",
       "      <th>4</th>\n",
       "      <td>a34ba96d4081e6a4</td>\n",
       "      <td>Rip it Up and Start Again</td>\n",
       "      <td>35.02</td>\n",
       "      <td>5</td>\n",
       "      <td>Music</td>\n",
       "      <td>In stock (19 available)</td>\n",
       "      <td>Punk's raw power rejuvenated rock, but by the ...</td>\n",
       "    </tr>\n",
       "  </tbody>\n",
       "</table>\n",
       "</div>"
      ],
      "text/plain": [
       "                UPC                                              Title  Price  \\\n",
       "0  2597b5a345f45e1b  The Dirty Little Secrets of Getting Your Dream...  33.34   \n",
       "1  e10e1e165dc8be4a  The Boys in the Boat: Nine Americans and Their...  22.60   \n",
       "2  30a7f60cd76ca58c                              Shakespeare's Sonnets  20.66   \n",
       "3  ce6396b0f23f6ecc                                        Set Me Free  17.46   \n",
       "4  a34ba96d4081e6a4                          Rip it Up and Start Again  35.02   \n",
       "\n",
       "   Rating        Genre             Availability  \\\n",
       "0       4     Business  In stock (19 available)   \n",
       "1       4      Default  In stock (19 available)   \n",
       "2       4       Poetry  In stock (19 available)   \n",
       "3       5  Young Adult  In stock (19 available)   \n",
       "4       5        Music  In stock (19 available)   \n",
       "\n",
       "                                         Description  \n",
       "0  Drawing on his extensive experience evaluating...  \n",
       "1  For readers of Laura Hillenbrand's Seabiscuit ...  \n",
       "2  This book is an important and complete collect...  \n",
       "3  Aaron Ledbetter’s future had been planned out ...  \n",
       "4  Punk's raw power rejuvenated rock, but by the ...  "
      ]
     },
     "execution_count": 69,
     "metadata": {},
     "output_type": "execute_result"
    }
   ],
   "source": [
    "#UPC: The Universal Product Code (UPC) of the book.\n",
    "#Title: The title of the book.\n",
    "#Price (£): The price of the book in pounds.\n",
    "#Rating: The rating of the book (1-5 stars).\n",
    "#Genre: The genre of the book.\n",
    "#Availability: Whether the book is in stock or not.\n",
    "#Description: A brief description or product description of the book (if available).\n",
    "\n",
    "def convert_stars(rating_text):\n",
    "    if rating_text == \"One\":\n",
    "        return 1\n",
    "    elif rating_text == \"Two\":\n",
    "        return 2\n",
    "    elif rating_text == \"Three\":\n",
    "        return 3\n",
    "    elif rating_text == \"Four\":\n",
    "        return 4\n",
    "    else:\n",
    "        return 5\n",
    "    \n",
    "\n",
    "def extract_book_details(book_url):\n",
    "    \n",
    "    book_response = requests.get(book_url)\n",
    "    book_soup = BeautifulSoup(book_response.content, 'html.parser')\n",
    "    upc_element = book_soup.find(\"table\", attrs={\"class\": \"table table-striped\"}).find(\"td\")\n",
    "    upc = upc_element.get_text() if upc_element else \"NA\"\n",
    "    price_element=book_soup.find(\"p\",attrs={\"class\":\"price_color\"}).get_text().replace('£', '')\n",
    "    price = price_element if price_element else \"0.0\"\n",
    "    rating_element=convert_stars(book_soup.find('p', class_='star-rating')['class'][1])\n",
    "    rating = rating_element if rating_element else \"NA\"\n",
    "    availability_element=book_soup.find(\"p\", attrs = {\"class\":\"instock availability\"}).get_text().strip()\n",
    "    availability=availability_element if availability_element else \"NA\"\n",
    "    genre_element = book_soup.find('ul', attrs = {\"class\":\"breadcrumb\"}).find_all('li')[2].get_text(strip=True)\n",
    "    genre=genre_element if genre_element else \"NA\"\n",
    "    title_element = book_soup.find('ul', attrs = {\"class\":\"breadcrumb\"}).find_all('li')[3].get_text(strip=True)\n",
    "    title=title_element if title_element else \"NA\"\n",
    "    description=get_book_description(book_soup)\n",
    "    \n",
    "    return upc,price,rating,availability,genre,title,description\n",
    "\n",
    "def get_book_description(soup):\n",
    "    description = soup.find('meta', {'name': 'description'})\n",
    "    return description['content'].strip() if description else 'No description available'\n",
    "    \n",
    "def scrape_books(min_rating, max_price):\n",
    "    base_url = \"http://books.toscrape.com/catalogue/\"\n",
    "    page_url = \"http://books.toscrape.com/catalogue/page-{}.html\"\n",
    "    \n",
    "    book_data = []\n",
    "    page = 1\n",
    "    response_status = 200\n",
    "    response = requests.get(page_url.format(page))\n",
    "    response_status = response.status_code\n",
    "    \n",
    "    while response_status == 200:\n",
    "        soup = BeautifulSoup(response.content, 'html.parser')\n",
    "        \n",
    "  \n",
    "        books = soup.find_all('article',attrs = {\"class\":\"product_pod\"})\n",
    "        \n",
    "        for book in books:\n",
    "            book_rating = convert_stars(book.find('p', class_='star-rating')['class'][1])\n",
    "            price_element=book.find(\"p\",attrs={\"class\":\"price_color\"}).get_text().replace('£', '')\n",
    "            book_price = float(price_element if price_element else \"0.0\")\n",
    "            if(book_rating >= min_rating and book_price <= max_price):\n",
    "                \n",
    "                book_url = base_url + book.find('h3').find('a')['href'].replace('../', '')\n",
    "                upc, price, rating, availability, genre, title, description= extract_book_details(book_url)\n",
    "                price = float(price)\n",
    "                book_data.append({\n",
    "                    'UPC': upc,\n",
    "                    'Title': title,\n",
    "                    'Price': price,\n",
    "                    'Rating': rating,\n",
    "                    'Genre': genre,\n",
    "                    'Availability': availability,\n",
    "                    'Description': description\n",
    "                })\n",
    "        \n",
    "        \n",
    "        page += 1\n",
    "        response = requests.get(page_url.format(page))\n",
    "        response_status = response.status_code\n",
    "    \n",
    "   \n",
    "    df = pd.DataFrame(book_data)\n",
    "    return df\n",
    "\n",
    "min_rating=4\n",
    "max_price=40.0\n",
    "df_books = scrape_books(min_rating, max_price)\n",
    "df_books.head()\n"
   ]
  },
  {
   "cell_type": "code",
   "execution_count": 71,
   "id": "6f036dcb-bf40-4140-95b6-310f07eaa5b4",
   "metadata": {},
   "outputs": [
    {
     "data": {
      "text/plain": [
       "(213, 7)"
      ]
     },
     "execution_count": 71,
     "metadata": {},
     "output_type": "execute_result"
    }
   ],
   "source": [
    "df_books.shape\n"
   ]
  },
  {
   "cell_type": "code",
   "execution_count": null,
   "id": "ea249320-4d9f-4963-8b0e-94fcd5fa554f",
   "metadata": {},
   "outputs": [],
   "source": []
  }
 ],
 "metadata": {
  "colab": {
   "provenance": []
  },
  "kernelspec": {
   "display_name": "Python 3 (ipykernel)",
   "language": "python",
   "name": "python3"
  },
  "language_info": {
   "codemirror_mode": {
    "name": "ipython",
    "version": 3
   },
   "file_extension": ".py",
   "mimetype": "text/x-python",
   "name": "python",
   "nbconvert_exporter": "python",
   "pygments_lexer": "ipython3",
   "version": "3.12.4"
  }
 },
 "nbformat": 4,
 "nbformat_minor": 5
}
