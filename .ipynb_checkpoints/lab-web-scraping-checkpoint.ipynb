{
 "cells": [
  {
   "cell_type": "markdown",
   "id": "7e7a1ab8-2599-417d-9a65-25ef07f3a786",
   "metadata": {
    "id": "7e7a1ab8-2599-417d-9a65-25ef07f3a786"
   },
   "source": [
    "# Lab | Web Scraping"
   ]
  },
  {
   "cell_type": "markdown",
   "id": "ce8882fc-4815-4567-92fa-b4816358ba7d",
   "metadata": {
    "id": "ce8882fc-4815-4567-92fa-b4816358ba7d"
   },
   "source": [
    "Welcome to the \"Books to Scrape\" Web Scraping Adventure Lab!\n",
    "\n",
    "**Objective**\n",
    "\n",
    "In this lab, we will embark on a mission to unearth valuable insights from the data available on Books to Scrape, an online platform showcasing a wide variety of books. As data analyst, you have been tasked with scraping a specific subset of book data from Books to Scrape to assist publishing companies in understanding the landscape of highly-rated books across different genres. Your insights will help shape future book marketing strategies and publishing decisions.\n",
    "\n",
    "**Background**\n",
    "\n",
    "In a world where data has become the new currency, businesses are leveraging big data to make informed decisions that drive success and profitability. The publishing industry, much like others, utilizes data analytics to understand market trends, reader preferences, and the performance of books based on factors such as genre, author, and ratings. Books to Scrape serves as a rich source of such data, offering detailed information about a diverse range of books, making it an ideal platform for extracting insights to aid in informed decision-making within the literary world.\n",
    "\n",
    "**Task**\n",
    "\n",
    "Your task is to create a Python script using BeautifulSoup and pandas to scrape Books to Scrape book data, focusing on book ratings and genres. The script should be able to filter books with ratings above a certain threshold and in specific genres. Additionally, the script should structure the scraped data in a tabular format using pandas for further analysis.\n",
    "\n",
    "**Expected Outcome**\n",
    "\n",
    "A function named `scrape_books` that takes two parameters: `min_rating` and `max_price`. The function should scrape book data from the \"Books to Scrape\" website and return a `pandas` DataFrame with the following columns:\n",
    "\n",
    "**Expected Outcome**\n",
    "\n",
    "- A function named `scrape_books` that takes two parameters: `min_rating` and `max_price`.\n",
    "- The function should return a DataFrame with the following columns:\n",
    "  - **UPC**: The Universal Product Code (UPC) of the book. #not needed\n",
    "  - **Title**: The title of the book.\n",
    "  - **Price (£)**: The price of the book in pounds.\n",
    "  - **Rating**: The rating of the book (1-5 stars).\n",
    "  - **Genre**: The genre of the book. #not needed\n",
    "  - **Availability**: Whether the book is in stock or not. #not needed\n",
    "  - **Description**: A brief description or product description of the book (if available). #not needed\n",
    "  \n",
    "You will execute this script to scrape data for books with a minimum rating of `4.0 and above` and a maximum price of `£20`. \n",
    "\n",
    "Remember to experiment with different ratings and prices to ensure your code is versatile and can handle various searches effectively!\n",
    "\n",
    "**Resources**\n",
    "\n",
    "- [Beautiful Soup Documentation](https://www.crummy.com/software/BeautifulSoup/bs4/doc/)\n",
    "- [Pandas Documentation](https://pandas.pydata.org/pandas-docs/stable/index.html)\n",
    "- [Books to Scrape](https://books.toscrape.com/)\n"
   ]
  },
  {
   "cell_type": "markdown",
   "id": "3519921d-5890-445b-9a33-934ed8ee378c",
   "metadata": {
    "id": "3519921d-5890-445b-9a33-934ed8ee378c"
   },
   "source": [
    "**Hint**\n",
    "\n",
    "Your first mission is to familiarize yourself with the **Books to Scrape** website. Navigate to [Books to Scrape](http://books.toscrape.com/) and explore the available books to understand their layout and structure. \n",
    "\n",
    "Next, think about how you can set parameters for your data extraction:\n",
    "\n",
    "- **Minimum Rating**: Focus on books with a rating of 4.0 and above.\n",
    "- **Maximum Price**: Filter for books priced up to £20.\n",
    "\n",
    "After reviewing the site, you can construct a plan for scraping relevant data. Pay attention to the details displayed for each book, including the title, price, rating, and availability. This will help you identify the correct HTML elements to target with your scraping script.\n",
    "\n",
    "Make sure to build your scraping URL and logic based on the patterns you observe in the HTML structure of the book listings!"
   ]
  },
  {
   "cell_type": "markdown",
   "id": "25a83a0d-a742-49f6-985e-e27887cbf922",
   "metadata": {
    "id": "25a83a0d-a742-49f6-985e-e27887cbf922"
   },
   "source": [
    "\n",
    "---\n",
    "\n",
    "**Best of luck! Immerse yourself in the world of books, and may the data be with you!**"
   ]
  },
  {
   "cell_type": "markdown",
   "id": "7b75cf0d-9afa-4eec-a9e2-befeac68b2a0",
   "metadata": {
    "id": "7b75cf0d-9afa-4eec-a9e2-befeac68b2a0"
   },
   "source": [
    "**Important Note**:\n",
    "\n",
    "In the fast-changing online world, websites often update and change their structures. When you try this lab, the **Books to Scrape** website might differ from what you expect.\n",
    "\n",
    "If you encounter issues due to these changes, like new rules or obstacles preventing data extraction, don’t worry! Get creative.\n",
    "\n",
    "You can choose another website that interests you and is suitable for scraping data. Options like Wikipedia, The New York Times, or even library databases are great alternatives. The main goal remains the same: extract useful data and enhance your web scraping skills while exploring a source of information you enjoy. This is your opportunity to practice and adapt to different web environments!"
   ]
  },
  {
   "cell_type": "code",
   "execution_count": 1,
   "id": "63fea103-c531-4039-be31-4f8d386706d4",
   "metadata": {},
   "outputs": [],
   "source": [
    "from bs4 import BeautifulSoup\n",
    "import pandas as pd\n",
    "import requests"
   ]
  },
  {
   "cell_type": "code",
   "execution_count": 4,
   "id": "40359eee-9cd7-4884-bfa4-83344c222305",
   "metadata": {
    "id": "40359eee-9cd7-4884-bfa4-83344c222305"
   },
   "outputs": [
    {
     "data": {
      "text/plain": [
       "Title                          Price  Rating\n",
       "A Feast for Crows ...          17.21  4         1\n",
       "The Epidemic (The Program ...  14.44  5         1\n",
       "The Edge of Reason ...         19.18  4         1\n",
       "The Darkest Corners            11.33  5         1\n",
       "The Collected Poems of ...     15.42  5         1\n",
       "                                               ..\n",
       "I Am Pilgrim (Pilgrim ...      10.60  4         1\n",
       "Hyperbole and a Half: ...      14.75  5         1\n",
       "History of Beauty              10.29  4         1\n",
       "Green Eggs and Ham ...         10.79  4         1\n",
       "Y: The Last Man, ...           18.51  4         1\n",
       "Name: count, Length: 75, dtype: int64"
      ]
     },
     "execution_count": 4,
     "metadata": {},
     "output_type": "execute_result"
    }
   ],
   "source": [
    "url = 'https://books.toscrape.com/'\n",
    "response = requests.get(url)\n",
    "soup = BeautifulSoup(response.content)\n",
    "soup\n",
    "\n",
    "def scrape_books(number_of_pages, min_rating, max_price):\n",
    "    top_book_list = []\n",
    "    price_list = []\n",
    "    rating_list = []\n",
    "    for i in range(1,number_of_pages+1):\n",
    "        url = 'https://books.toscrape.com/catalogue/page-' + f'{i}' + '.html'\n",
    "        response = requests.get(url)\n",
    "        soup = BeautifulSoup(response.content)\n",
    "        if min_rating == 1:\n",
    "            for book in soup.find_all('li', class_ = ['col-xs-6 col-sm-4 col-md-3 col-lg-3']): \n",
    "                if float(book.find('div', class_ = 'product_price').get_text(strip=True).rstrip('In stockAdd to basket').lstrip('£')) <= max_price:\n",
    "                    top_book_list.append((book.find('a', title = True).get_text()))\n",
    "                    price_list.append(float(book.find('div', class_ = 'product_price').get_text(strip=True).rstrip('In stockAdd to basket').lstrip('£')))\n",
    "                    if \"One\" in str(book.find(\"p\", class_=\"star-rating\")):\n",
    "                        rating_list.append(1)\n",
    "                    elif \"Two\" in str(book.find(\"p\", class_=\"star-rating\")):\n",
    "                            rating_list.append(2)\n",
    "                    elif \"Three\" in str(book.find(\"p\", class_=\"star-rating\")):\n",
    "                            rating_list.append(3)\n",
    "                    elif \"Four\" in str(book.find(\"p\", class_=\"star-rating\")):\n",
    "                            rating_list.append(4)\n",
    "                    elif \"Five\" in str(book.find(\"p\", class_=\"star-rating\")):\n",
    "                            rating_list.append(5)\n",
    "        elif min_rating == 2:\n",
    "            for book in soup.find_all('li', class_ = ['col-xs-6 col-sm-4 col-md-3 col-lg-3']):\n",
    "                if book.find('p', class_ = 'star-rating Two') or book.find('p', class_ = 'star-rating Three') or book.find('p', class_ = 'star-rating Four') or book.find('p', class_ = 'star-rating Five'):                \n",
    "                    if float(book.find('div', class_ = 'product_price').get_text(strip=True).rstrip('In stockAdd to basket').lstrip('£')) <= max_price:\n",
    "                        top_book_list.append((book.find('a', title = True).get_text()))\n",
    "                        price_list.append(float(book.find('div', class_ = 'product_price').get_text(strip=True).rstrip('In stockAdd to basket').lstrip('£')))\n",
    "                        if \"Two\" in str(book.find(\"p\", class_=\"star-rating\")):\n",
    "                            rating_list.append(2)\n",
    "                        elif \"Three\" in str(book.find(\"p\", class_=\"star-rating\")):\n",
    "                            rating_list.append(3)\n",
    "                        elif \"Four\" in str(book.find(\"p\", class_=\"star-rating\")):\n",
    "                            rating_list.append(4)\n",
    "                        elif \"Five\" in str(book.find(\"p\", class_=\"star-rating\")):\n",
    "                            rating_list.append(5)\n",
    "        elif min_rating == 3:\n",
    "            for book in soup.find_all('li', class_ = ['col-xs-6 col-sm-4 col-md-3 col-lg-3']):\n",
    "                if book.find('p', class_ = 'star-rating Three') or book.find('p', class_ = 'star-rating Four') or book.find('p', class_ = 'star-rating Five'):\n",
    "                    if float(book.find('div', class_ = 'product_price').get_text(strip=True).rstrip('In stockAdd to basket').lstrip('£')) <= max_price:\n",
    "                        top_book_list.append((book.find('a', title = True).get_text()))\n",
    "                        price_list.append(float(book.find('div', class_ = 'product_price').get_text(strip=True).rstrip('In stockAdd to basket').lstrip('£')))\n",
    "                        if \"Three\" in str(book.find(\"p\", class_=\"star-rating\")):\n",
    "                            rating_list.append(3)\n",
    "                        elif \"Four\" in str(book.find(\"p\", class_=\"star-rating\")):\n",
    "                            rating_list.append(4)\n",
    "                        elif \"Five\" in str(book.find(\"p\", class_=\"star-rating\")):\n",
    "                            rating_list.append(5)\n",
    "        elif min_rating == 4:\n",
    "            for book in soup.find_all('li', class_ = ['col-xs-6 col-sm-4 col-md-3 col-lg-3']):\n",
    "                if book.find('p', class_ = 'star-rating Four') or book.find('p', class_ = 'star-rating Five'):\n",
    "                     if float(book.find('div', class_ = 'product_price').get_text(strip=True).rstrip('In stockAdd to basket').lstrip('£')) <= max_price:\n",
    "                        top_book_list.append((book.find('a', title = True).get_text()))\n",
    "                        price_list.append(float(book.find('div', class_ = 'product_price').get_text(strip=True).rstrip('In stockAdd to basket').lstrip('£')))\n",
    "                        if \"Four\" in str(book.find(\"p\", class_=\"star-rating\")):\n",
    "                            rating_list.append(4)\n",
    "                        elif \"Five\" in str(book.find(\"p\", class_=\"star-rating\")):\n",
    "                            rating_list.append(5)\n",
    "        elif min_rating == 5:\n",
    "            for book in soup.find_all('li', class_ = ['col-xs-6 col-sm-4 col-md-3 col-lg-3']):\n",
    "                if book.find('p', class_ = 'star-rating Five'):\n",
    "                    if float(book.find('div', class_ = 'product_price').get_text(strip=True).rstrip('In stockAdd to basket').lstrip('£')) <= max_price:\n",
    "                        top_book_list.append((book.find('a', title = True).get_text()))\n",
    "                        price_list.append(float(book.find('div', class_ = 'product_price').get_text(strip=True).rstrip('In stockAdd to basket').lstrip('£')))\n",
    "                        if \"Five\" in str(book.find(\"p\", class_=\"star-rating\")):\n",
    "                            rating_list.append(5)\n",
    "        else:\n",
    "            print('Please give a min_rating of 1-5 (integer)')\n",
    "        \n",
    "    df = pd.DataFrame({'Title': top_book_list, 'Price': price_list, 'Rating': rating_list})\n",
    "    return df\n",
    "    #return rating_list, price_list, top_book_list\n",
    "    \n",
    "    \n",
    "df = scrape_books(50,4,20)\n",
    "df.value_counts()"
   ]
  },
  {
   "cell_type": "code",
   "execution_count": 3,
   "id": "6bc1b4fc-a226-4541-b3e5-531600d0de0d",
   "metadata": {},
   "outputs": [
    {
     "data": {
      "text/plain": [
       "Title                                  Price  Rating\n",
       "A Light in the ...                     51.77  3         6\n",
       "It's Only the Himalayas                45.17  2         6\n",
       "Libertarianism for Beginners           51.33  2         6\n",
       "Our Band Could Be ...                  57.25  3         6\n",
       "Rip it Up and ...                      35.02  5         6\n",
       "Sapiens: A Brief History ...           54.23  5         6\n",
       "Scott Pilgrim's Precious Little ...    52.29  5         6\n",
       "Set Me Free                            17.46  5         6\n",
       "Shakespeare's Sonnets                  20.66  4         6\n",
       "Sharp Objects                          47.82  4         6\n",
       "Starving Hearts (Triangular Trade ...  13.99  2         6\n",
       "The Boys in the ...                    22.60  4         6\n",
       "The Coming Woman: A ...                17.93  3         6\n",
       "The Dirty Little Secrets ...           33.34  4         6\n",
       "Name: count, dtype: int64"
      ]
     },
     "execution_count": 3,
     "metadata": {},
     "output_type": "execute_result"
    }
   ],
   "source": [
    "def pages_scraper(number_of_pages, min_rating, max_price):\n",
    "        df = scrape_books(min_rating, max_price)\n",
    "        for i in range(0,number_of_pages):\n",
    "            url = 'https://books.toscrape.com/catalogue/page-' + f'{i}' + '.html'\n",
    "            response = requests.get(url)\n",
    "            soup = BeautifulSoup(response.content)\n",
    "            df1 = scrape_books(min_rating, max_price)\n",
    "            df = pd.concat([df, df1])\n",
    "        df.reset_index(drop=True, inplace=True)\n",
    "        return df\n",
    "\n",
    "df = pages_scraper(6, 2, 300)\n",
    "df.value_counts()"
   ]
  },
  {
   "cell_type": "code",
   "execution_count": 21,
   "id": "fa5af09d-1d2d-48d8-96ba-3df331b00f70",
   "metadata": {},
   "outputs": [
    {
     "data": {
      "text/plain": [
       "'51.77'"
      ]
     },
     "execution_count": 21,
     "metadata": {},
     "output_type": "execute_result"
    }
   ],
   "source": [
    "#soup.find_all(\"p\", class_=\"star-rating\")\n",
    "soup.find('div', class_ = 'product_price').get_text(strip=True).rstrip('In stockAdd to basket').lstrip('£')"
   ]
  },
  {
   "cell_type": "code",
   "execution_count": 134,
   "id": "f4a8df76-2891-482c-b30f-dfe6a0c8cdf0",
   "metadata": {},
   "outputs": [
    {
     "data": {
      "text/plain": [
       "['Set Me Free']"
      ]
     },
     "execution_count": 134,
     "metadata": {},
     "output_type": "execute_result"
    }
   ],
   "source": [
    "top_book_list = []\n",
    "for book in soup.find_all('li', class_ = ['col-xs-6 col-sm-4 col-md-3 col-lg-3']):\n",
    "            if book.find('p', class_ = 'star-rating Four') or book.find('p', class_ = 'star-rating Five'):\n",
    "                 if float(book.find('div', class_ = 'product_price').get_text(strip=True).rstrip('In stockAdd to basket').lstrip('£')) <= 20:\n",
    "                    top_book_list.append((book.find('a', title = True).get_text()))\n",
    "\n"
   ]
  },
  {
   "cell_type": "code",
   "execution_count": 55,
   "id": "f8ef4c51-c100-4a01-b306-f8925ffb5936",
   "metadata": {},
   "outputs": [
    {
     "name": "stdout",
     "output_type": "stream",
     "text": [
      "https://books.toscrape.com/catalogue/page-0.html\n",
      "https://books.toscrape.com/catalogue/page-1.html\n",
      "https://books.toscrape.com/catalogue/page-2.html\n",
      "https://books.toscrape.com/catalogue/page-3.html\n"
     ]
    }
   ],
   "source": [
    "for i in range(4):\n",
    "    url = 'https://books.toscrape.com/catalogue/page-' + f'{i}' + '.html'\n",
    "    print(url)"
   ]
  },
  {
   "cell_type": "code",
   "execution_count": null,
   "id": "ffd28f78-e06d-420e-8f13-51188ec8118b",
   "metadata": {},
   "outputs": [],
   "source": []
  }
 ],
 "metadata": {
  "colab": {
   "provenance": []
  },
  "kernelspec": {
   "display_name": "Python 3 (ipykernel)",
   "language": "python",
   "name": "python3"
  },
  "language_info": {
   "codemirror_mode": {
    "name": "ipython",
    "version": 3
   },
   "file_extension": ".py",
   "mimetype": "text/x-python",
   "name": "python",
   "nbconvert_exporter": "python",
   "pygments_lexer": "ipython3",
   "version": "3.12.4"
  }
 },
 "nbformat": 4,
 "nbformat_minor": 5
}
