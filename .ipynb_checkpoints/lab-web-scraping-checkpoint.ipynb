{
 "cells": [
  {
   "cell_type": "markdown",
   "id": "7e7a1ab8-2599-417d-9a65-25ef07f3a786",
   "metadata": {
    "id": "7e7a1ab8-2599-417d-9a65-25ef07f3a786"
   },
   "source": [
    "# Lab | Web Scraping"
   ]
  },
  {
   "cell_type": "markdown",
   "id": "ce8882fc-4815-4567-92fa-b4816358ba7d",
   "metadata": {
    "id": "ce8882fc-4815-4567-92fa-b4816358ba7d"
   },
   "source": [
    "Welcome to the IMDb Web Scraping Adventure Lab!\n",
    "\n",
    "**Objective**\n",
    "\n",
    "In this lab, we will embark on a mission to unearth valuable insights from the vast sea of data available on IMDb, one of the largest online databases of movie, TV, and celebrity information. As budding data scientists and business analysts, you have been tasked to scrape a specific subset of data from IMDb to assist film production companies in understanding the landscape of highly-rated movies in a defined time period. Your insights will potentially influence the making of the next netflix movie!\n",
    "\n",
    "**Background**\n",
    "\n",
    "In a world where data has become the new currency, businesses are leveraging big data to make informed decisions that drive success and profitability. The entertainment industry, being no exception, utilizes data analytics to comprehend market trends, audience preferences, and the performance of films based on various parameters such as director, genre, stars involved, etc. IMDb stands as a goldmine of such data, offering intricate details of almost every movie ever made.\n",
    "\n",
    "**Task**\n",
    "\n",
    "Your task is to create a Python script using `BeautifulSoup` and `pandas` to scrape IMDb movie data based on user ratings and release dates. This script should be able to filter movies with ratings above a certain threshold and within a specified date range.\n",
    "\n",
    "**Expected Outcome**\n",
    "\n",
    "- A function named `scrape_imdb` that takes four parameters: `title_type`,`user_rating`, `start_date`, and `end_date`.\n",
    "- The function should return a DataFrame with the following columns:\n",
    "  - **Movie Nr**: The number representing the movie’s position in the list.\n",
    "  - **Title**: The title of the movie.\n",
    "  - **Year**: The year the movie was released.\n",
    "  - **Rating**: The IMDb rating of the movie.\n",
    "  - **Runtime (min)**: The duration of the movie in minutes.\n",
    "  - **Genre**: The genre of the movie.\n",
    "  - **Description**: A brief description of the movie.\n",
    "  - **Director**: The director of the movie.\n",
    "  - **Stars**: The main stars of the movie.\n",
    "  - **Votes**: The number of votes the movie received.\n",
    "  - **Gross ($M)**: The gross earnings of the movie in millions of USD.\n",
    "\n",
    "You will execute this script to scrape data for movies with the Title Type `Feature Film` that have a user rating of `7.5 and above` and were released between `January 1, 1990, and December 31, 1992`.\n",
    "\n",
    "Remember to experiment with different title types, dates and ratings to ensure your code is versatile and can handle various searches effectively!\n",
    "\n",
    "**Resources**\n",
    "\n",
    "- [Beautiful Soup Documentation](https://www.crummy.com/software/BeautifulSoup/bs4/doc/)\n",
    "- [Pandas Documentation](https://pandas.pydata.org/pandas-docs/stable/index.html)\n",
    "- [IMDb Advanced Search](https://www.imdb.com/search/title/)\n"
   ]
  },
  {
   "cell_type": "markdown",
   "id": "3519921d-5890-445b-9a33-934ed8ee378c",
   "metadata": {
    "id": "3519921d-5890-445b-9a33-934ed8ee378c"
   },
   "source": [
    "**Hint**\n",
    "\n",
    "Your first mission is to familiarize yourself with the IMDb advanced search page. Head over to [IMDb advanced search](https://www.imdb.com/search/title/) and input the following parameters, keeping all other fields to their default values or blank:\n",
    "\n",
    "- **Title Type**: Feature film\n",
    "- **Release date**: From 1990 to 1992 (Note: You don't need to specify the day and month)\n",
    "- **User Rating**: 7.5 to -\n",
    "\n",
    "Upon searching, you'll land on a page showcasing a list of movies, each displaying vital details such as the title, release year, and crew information. Your task is to scrape this treasure trove of data.\n",
    "\n",
    "Carefully examine the resulting URL and construct your own URL to include all the necessary parameters for filtering the movies."
   ]
  },
  {
   "cell_type": "markdown",
   "id": "25a83a0d-a742-49f6-985e-e27887cbf922",
   "metadata": {
    "id": "25a83a0d-a742-49f6-985e-e27887cbf922"
   },
   "source": [
    "\n",
    "---\n",
    "\n",
    "**Best of luck! Immerse yourself in the world of movies and may the data be with you!**"
   ]
  },
  {
   "cell_type": "markdown",
   "id": "7b75cf0d-9afa-4eec-a9e2-befeac68b2a0",
   "metadata": {
    "id": "7b75cf0d-9afa-4eec-a9e2-befeac68b2a0"
   },
   "source": [
    "**Important note**:\n",
    "\n",
    "In the fast-changing online world, websites often get updates and make changes. When you try this lab, the IMDb website might be different from what we expect.\n",
    "\n",
    "If you run into problems because of these changes, like new rules or things that stop you from getting data, don't worry! Instead, get creative.\n",
    "\n",
    "You can choose another website that interests you and is good for scraping data. Websites like Wikipedia or The New York Times are good options. The main goal is still the same: get useful data and learn how to scrape it from a website that you find interesting. It's a chance to practice your web scraping skills and explore a source of information you like."
   ]
  },
  {
   "cell_type": "code",
   "execution_count": 5,
   "id": "40359eee-9cd7-4884-bfa4-83344c222305",
   "metadata": {
    "id": "40359eee-9cd7-4884-bfa4-83344c222305",
    "scrolled": true
   },
   "outputs": [],
   "source": [
    "import requests\n",
    "from bs4 import BeautifulSoup\n",
    "import pandas as pd"
   ]
  },
  {
   "cell_type": "code",
   "execution_count": 18,
   "id": "030d1bdf",
   "metadata": {},
   "outputs": [],
   "source": [
    "def scrape_metacritic(start_year, end_year):\n",
    "    \"\"\"\n",
    "    Scrape Metacritic for movies released between start_year and end_year.\n",
    "\n",
    "    Parameters:\n",
    "    start_year (int): The start year for movie releases.\n",
    "    end_year (int): The end year for movie releases.\n",
    "\n",
    "    Returns:\n",
    "    pd.DataFrame: A DataFrame containing the scraped data.\n",
    "    \"\"\"\n",
    "    base_url = \"https://www.metacritic.com/browse/movies/score/metascore/year/filtered?year_selected=\"\n",
    "    headers = {'User-Agent': 'Mozilla/5.0 (Windows NT 10.0; Win64; x64) AppleWebKit/537.36 (KHTML, like Gecko) Chrome/91.0.4472.124 Safari/537.36'}\n",
    "    movies_data = []\n",
    "\n",
    "    for year in range(start_year, end_year + 1):\n",
    "        url = f\"{base_url}{year}\"\n",
    "        print(f\"Fetching URL: {url}\")\n",
    "        try:\n",
    "            response = requests.get(url, headers=headers, timeout=10)\n",
    "        except requests.RequestException as e:\n",
    "            print(f\"Failed to fetch URL: {url} due to {e}\")\n",
    "            continue\n",
    "\n",
    "        print(f\"Response Status Code for {year}: {response.status_code}\")\n",
    "        if response.status_code != 200:\n",
    "            print(f\"Failed to retrieve data for year {year}: Status Code {response.status_code}\")\n",
    "            print(f\"Response Content: {response.text[:500]}\")  # Print the first 500 characters of the response\n",
    "            continue\n",
    "        \n",
    "        soup = BeautifulSoup(response.content, 'html.parser')\n",
    "        movie_list = soup.find_all('td', class_='clamp-summary-wrap')\n",
    "        print(f\"Found {len(movie_list)} movies for year {year}\")\n",
    "\n",
    "        if not movie_list:\n",
    "            print(f\"No movie data found for year {year}\")\n",
    "            continue\n",
    "        \n",
    "        for movie in movie_list:\n",
    "            try:\n",
    "                title_tag = movie.find('a', class_='title')\n",
    "                if not title_tag:\n",
    "                    print(\"No title tag found.\")\n",
    "                    continue\n",
    "                \n",
    "                title = title_tag.text.strip()\n",
    "                release_year = year\n",
    "                rating_tag = movie.find('div', class_='metascore_w')\n",
    "                rating = rating_tag.text.strip() if rating_tag else 'N/A'\n",
    "                description_tag = movie.find('div', class_='summary')\n",
    "                description = description_tag.text.strip() if description_tag else 'N/A'\n",
    "                details_url = \"https://www.metacritic.com\" + title_tag['href']\n",
    "                print(f\"Fetching details for movie: {title}, URL: {details_url}\")\n",
    "                \n",
    "                # Fetch additional details from the movie's page\n",
    "                try:\n",
    "                    details_response = requests.get(details_url, headers=headers, timeout=10)\n",
    "                    if details_response.status_code != 200:\n",
    "                        print(f\"Failed to fetch details for {title}: Status Code {details_response.status_code}\")\n",
    "                        continue\n",
    "                    details_soup = BeautifulSoup(details_response.content, 'html.parser')\n",
    "                except requests.RequestException as e:\n",
    "                    print(f\"Failed to fetch details URL: {details_url} due to {e}\")\n",
    "                    continue\n",
    "                \n",
    "                director_tag = details_soup.find('a', {'class': 'person'})\n",
    "                director = director_tag.text.strip() if director_tag else 'N/A'\n",
    "                \n",
    "                genre_tags = details_soup.find_all('span', class_='genre')\n",
    "                genres = ', '.join([g.text.strip() for g in genre_tags]) if genre_tags else 'N/A'\n",
    "                \n",
    "                runtime_tag = details_soup.find('span', {'class': 'runtime'})\n",
    "                runtime = runtime_tag.text.strip().replace(' min', '') if runtime_tag else 'N/A'\n",
    "                \n",
    "                stars_tags = details_soup.find_all('a', class_='person')\n",
    "                stars = ', '.join([s.text.strip() for s in stars_tags]) if stars_tags else 'N/A'\n",
    "                \n",
    "                votes_tag = details_soup.find('span', {'class': 'score'})\n",
    "                votes = votes_tag.text.strip().replace(',', '') if votes_tag else 'N/A'\n",
    "\n",
    "                gross_tag = details_soup.find('span', {'class': 'gross'})\n",
    "                gross = gross_tag.text.strip().replace('$', '').replace('M', '') if gross_tag else 'N/A'\n",
    "\n",
    "                movies_data.append({\n",
    "                    \"Title\": title,\n",
    "                    \"Year\": release_year,\n",
    "                    \"Rating\": rating,\n",
    "                    \"Runtime (min)\": runtime,\n",
    "                    \"Genre\": genres,\n",
    "                    \"Description\": description,\n",
    "                    \"Director\": director,\n",
    "                    \"Stars\": stars,\n",
    "                    \"Votes\": votes,\n",
    "                    \"Gross ($M)\": gross\n",
    "                })\n",
    "\n",
    "            except AttributeError as e:\n",
    "                print(f\"Failed to extract data for a movie in year {year}: {e}\")\n",
    "                continue\n",
    "        \n",
    "        # Adding a delay between requests to avoid rate limiting\n",
    "        time.sleep(2)\n",
    "\n",
    "    df = pd.DataFrame(movies_data)\n",
    "    print(f\"Total movies scraped: {len(movies_data)}\")\n",
    "    return df\n",
    "\n"
   ]
  },
  {
   "cell_type": "code",
   "execution_count": 19,
   "id": "7793f6e6",
   "metadata": {},
   "outputs": [
    {
     "name": "stdout",
     "output_type": "stream",
     "text": [
      "Fetching URL: https://www.metacritic.com/browse/movies/score/metascore/year/filtered?year_selected=2019\n",
      "Response Status Code for 2019: 200\n",
      "Found 0 movies for year 2019\n",
      "No movie data found for year 2019\n",
      "Fetching URL: https://www.metacritic.com/browse/movies/score/metascore/year/filtered?year_selected=2020\n",
      "Response Status Code for 2020: 200\n",
      "Found 0 movies for year 2020\n",
      "No movie data found for year 2020\n",
      "Fetching URL: https://www.metacritic.com/browse/movies/score/metascore/year/filtered?year_selected=2021\n",
      "Response Status Code for 2021: 200\n",
      "Found 0 movies for year 2021\n",
      "No movie data found for year 2021\n",
      "Total movies scraped: 0\n",
      "Empty DataFrame\n",
      "Columns: []\n",
      "Index: []\n"
     ]
    }
   ],
   "source": [
    "# Scraping movies from Metacritic for the years 2019 to 2021\n",
    "df_movies_2019_2021 = scrape_metacritic(start_year=2019, end_year=2021)\n",
    "\n",
    "print(df_movies_2019_2021)\n"
   ]
  },
  {
   "cell_type": "markdown",
   "id": "9ab1217a-df9d-4a2b-a32c-2c5f1eecd52a",
   "metadata": {
    "id": "9ab1217a-df9d-4a2b-a32c-2c5f1eecd52a"
   },
   "source": [
    "## BONUS\n",
    "\n",
    "The search results span multiple pages, housing a total of 631 movies in our example with each page displaying 50 movies at most. To scrape data seamlessly from all pages, you'll need to dive deep into the structure of the URLs generated with each \"Next\" click.\n",
    "\n",
    "Take a close look at the following URLs:\n",
    "- First page:\n",
    "  ```\n",
    "  https://www.imdb.com/search/title/?title_type=feature&release_date=1990-01-01,1992-12-31&user_rating=7.5,\n",
    "  ```\n",
    "- Second page:\n",
    "  ```\n",
    "  https://www.imdb.com/search/title/?title_type=feature&release_date=1990-01-01,1992-12-31&user_rating=7.5,&start=51&ref_=adv_nxt\n",
    "  ```\n",
    "- Third page:\n",
    "  ```\n",
    "  https://www.imdb.com/search/title/?title_type=feature&release_date=1990-01-01,1992-12-31&user_rating=7.5,&start=101&ref_=adv_nxt\n",
    "  ```\n",
    "\n",
    "You should notice a pattern. There is a `start` parameter incrementing by 50 with each page, paired with a constant `ref_` parameter holding the value \"adv_nxt\".\n",
    "\n",
    "Modify your script so it's capable of iterating over all available pages to fetch data on all the 631 movies (631 is the total number of movies in the proposed example)."
   ]
  },
  {
   "cell_type": "code",
   "execution_count": null,
   "id": "21ac4fc0-a12b-4a00-9266-2020166f0dea",
   "metadata": {
    "id": "21ac4fc0-a12b-4a00-9266-2020166f0dea"
   },
   "outputs": [],
   "source": [
    "# Your solution goes here"
   ]
  }
 ],
 "metadata": {
  "colab": {
   "provenance": []
  },
  "kernelspec": {
   "display_name": "Python 3 (ipykernel)",
   "language": "python",
   "name": "python3"
  },
  "language_info": {
   "codemirror_mode": {
    "name": "ipython",
    "version": 3
   },
   "file_extension": ".py",
   "mimetype": "text/x-python",
   "name": "python",
   "nbconvert_exporter": "python",
   "pygments_lexer": "ipython3",
   "version": "3.11.7"
  }
 },
 "nbformat": 4,
 "nbformat_minor": 5
}
