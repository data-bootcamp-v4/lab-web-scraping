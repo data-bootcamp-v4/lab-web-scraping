{
 "cells": [
  {
   "cell_type": "markdown",
   "id": "7e7a1ab8-2599-417d-9a65-25ef07f3a786",
   "metadata": {
    "id": "7e7a1ab8-2599-417d-9a65-25ef07f3a786"
   },
   "source": [
    "# Lab | Web Scraping"
   ]
  },
  {
   "cell_type": "markdown",
   "id": "25a83a0d-a742-49f6-985e-e27887cbf922",
   "metadata": {
    "id": "25a83a0d-a742-49f6-985e-e27887cbf922"
   },
   "source": [
    "\n",
    "---\n",
    "\n",
    "**Best of luck! Immerse yourself in the world of books, and may the data be with you!**"
   ]
  },
  {
   "cell_type": "markdown",
   "id": "7b75cf0d-9afa-4eec-a9e2-befeac68b2a0",
   "metadata": {
    "id": "7b75cf0d-9afa-4eec-a9e2-befeac68b2a0"
   },
   "source": [
    "**Important Note**:\n",
    "\n",
    "In the fast-changing online world, websites often update and change their structures. When you try this lab, the **Books to Scrape** website might differ from what you expect.\n",
    "\n",
    "If you encounter issues due to these changes, like new rules or obstacles preventing data extraction, don’t worry! Get creative.\n",
    "\n",
    "You can choose another website that interests you and is suitable for scraping data. Options like Wikipedia, The New York Times, or even library databases are great alternatives. The main goal remains the same: extract useful data and enhance your web scraping skills while exploring a source of information you enjoy. This is your opportunity to practice and adapt to different web environments!"
   ]
  },
  {
   "cell_type": "code",
   "execution_count": 10,
   "id": "40359eee-9cd7-4884-bfa4-83344c222305",
   "metadata": {
    "id": "40359eee-9cd7-4884-bfa4-83344c222305"
   },
   "outputs": [],
   "source": [
    "#use the requests library to fetch the content of a webpage\n",
    "import requests\n",
    "\n",
    "url = \"http://books.toscrape.com\"\n",
    "response = requests.get(url)\n"
   ]
  },
  {
   "cell_type": "code",
   "execution_count": 11,
   "id": "03179efe-11bd-4b3b-91a0-6df318b7936e",
   "metadata": {
    "scrolled": true
   },
   "outputs": [
    {
     "data": {
      "text/plain": [
       "{'Date': 'Sat, 28 Sep 2024 21:46:57 GMT', 'Content-Type': 'text/html', 'Transfer-Encoding': 'chunked', 'Connection': 'keep-alive', 'Last-Modified': 'Wed, 08 Feb 2023 21:02:32 GMT', 'ETag': 'W/\"63e40de8-c85e\"', 'Content-Encoding': 'br'}"
      ]
     },
     "execution_count": 11,
     "metadata": {},
     "output_type": "execute_result"
    }
   ],
   "source": [
    "response.headers  # Response headers (as a Python dictionary)"
   ]
  },
  {
   "cell_type": "code",
   "execution_count": 12,
   "id": "dd116964-c7de-4a9b-a157-4775583ba3de",
   "metadata": {
    "scrolled": true
   },
   "outputs": [
    {
     "name": "stdout",
     "output_type": "stream",
     "text": [
      "text/html\n"
     ]
    }
   ],
   "source": [
    "print(response.headers['Content-Type'])"
   ]
  },
  {
   "cell_type": "code",
   "execution_count": 13,
   "id": "204fd0f7-0e57-42a7-897d-e0b04abc63af",
   "metadata": {},
   "outputs": [],
   "source": [
    "from bs4 import BeautifulSoup\n",
    "\n",
    "soup = BeautifulSoup(response.content, \"html.parser\")\n",
    "#print(soup)"
   ]
  },
  {
   "cell_type": "code",
   "execution_count": 14,
   "id": "864fd41c-ede8-4d5e-85c7-42aa0f3a1908",
   "metadata": {
    "scrolled": true
   },
   "outputs": [],
   "source": [
    "#print(soup.prettify())  # This formats the HTML in a readable way"
   ]
  },
  {
   "cell_type": "code",
   "execution_count": 15,
   "id": "fc581ba9-bde6-4766-acd5-4e2a16e78beb",
   "metadata": {
    "scrolled": true
   },
   "outputs": [
    {
     "data": {
      "text/plain": [
       "[<title>\n",
       "     All products | Books to Scrape - Sandbox\n",
       " </title>]"
      ]
     },
     "execution_count": 15,
     "metadata": {},
     "output_type": "execute_result"
    }
   ],
   "source": [
    "soup.find_all(\"title\")\n"
   ]
  },
  {
   "cell_type": "code",
   "execution_count": null,
   "id": "03323020-09ef-481b-95fd-0a6c7373f74f",
   "metadata": {
    "scrolled": true
   },
   "outputs": [],
   "source": [
    "soup.find_all(\"p\", class_='price_color')\n"
   ]
  },
  {
   "cell_type": "code",
   "execution_count": null,
   "id": "15940ae4-7464-4311-bb03-92d1b16763cd",
   "metadata": {},
   "outputs": [],
   "source": [
    "prices =[]\n",
    "for i in soup.find_all(\"p\", class_='price_color'):\n",
    "    price = i.get_text()\n",
    "    prices.append(price)"
   ]
  },
  {
   "cell_type": "code",
   "execution_count": null,
   "id": "e3102b8a-9009-4b1e-8eba-11244bb574b8",
   "metadata": {
    "scrolled": true
   },
   "outputs": [],
   "source": [
    "prices"
   ]
  },
  {
   "cell_type": "code",
   "execution_count": null,
   "id": "2e425de4-6692-4b5b-bb5a-35f70b8f21a4",
   "metadata": {},
   "outputs": [],
   "source": [
    "price = prices\n",
    "price = []\n",
    "for i in prices:\n",
    "    i=i[1:]\n",
    "    prices.append(i)\n",
    "print price"
   ]
  },
  {
   "cell_type": "code",
   "execution_count": null,
   "id": "0260be98-7952-4727-99b0-ce3e5a2fae7a",
   "metadata": {},
   "outputs": [],
   "source": [
    "for num in price:\n",
    "    num_1 = float(num)\n",
    "print(price)"
   ]
  },
  {
   "cell_type": "code",
   "execution_count": null,
   "id": "dba8cbd4-1a1e-4afe-808a-b564489c44d7",
   "metadata": {
    "scrolled": true
   },
   "outputs": [],
   "source": [
    "prices = [float(price) for price in prices]"
   ]
  },
  {
   "cell_type": "code",
   "execution_count": null,
   "id": "32dd5fd1-77b0-46fb-b428-b652d80976ad",
   "metadata": {},
   "outputs": [],
   "source": []
  },
  {
   "cell_type": "code",
   "execution_count": null,
   "id": "87a81bb0-1e1e-40d0-890b-64d45e090d27",
   "metadata": {},
   "outputs": [],
   "source": [
    "ratings =[]\n",
    "for i in soup.find_all(\"p\", class_='star-rating'):\n",
    "    rating = i.get('class')[1]\n",
    "    ratings.append(rating)"
   ]
  },
  {
   "cell_type": "code",
   "execution_count": null,
   "id": "15053127-7131-48bb-babe-ed8e9eb848cc",
   "metadata": {},
   "outputs": [],
   "source": [
    "ratings"
   ]
  },
  {
   "cell_type": "code",
   "execution_count": null,
   "id": "ad9d92de-9cae-4fde-b866-e433d8640e39",
   "metadata": {},
   "outputs": [],
   "source": [
    "rating = []\n",
    "for i in ratings:\n",
    "    if i == \"One\":\n",
    "        rating.append(1)\n",
    "    elif i == \"Two\":\n",
    "        rating.append(2)\n",
    "    elif i == \"Three\": \n",
    "        rating.append(3)\n",
    "    elif i == \"Four\":\n",
    "        rating.append(4)\n",
    "    else:\n",
    "        rating.append(5)\n",
    "rating\n",
    "    "
   ]
  },
  {
   "cell_type": "code",
   "execution_count": null,
   "id": "8a6b6173-b9f8-472f-bf11-11f143c62614",
   "metadata": {},
   "outputs": [],
   "source": [
    "title =[]\n",
    "for i in soup.select('h3 a'):\n",
    "    title.append(i.text)\n",
    "title"
   ]
  },
  {
   "cell_type": "code",
   "execution_count": null,
   "id": "cb89ae78-a2e6-49aa-84a6-029e6fac39e9",
   "metadata": {
    "scrolled": true
   },
   "outputs": [],
   "source": [
    "def scrape_books (rating, price):\n",
    "    min_rating =[]\n",
    "    for i in rating:\n",
    "       if i>= 4:\n",
    "           min_rating.append(i)\n",
    "    max_price =[]\n",
    "    for i in price:\n",
    "        if i<=20:\n",
    "            max_price.append(i)\n",
    "    return [min_rating, max_price]\n",
    "scrape_books(rating, price)"
   ]
  },
  {
   "cell_type": "code",
   "execution_count": null,
   "id": "15608236-f322-42e7-824d-c2bcadadcc28",
   "metadata": {},
   "outputs": [],
   "source": [
    "import pandas as pd\n",
    "data = {\"title\":[],\n",
    "        \"price\":[],\n",
    "        \"rating\":[],\n",
    "}\n",
    "df = pd.DataFrame(data)\n",
    "d"
   ]
  },
  {
   "cell_type": "code",
   "execution_count": null,
   "id": "f96235c5-f906-4f2b-8c75-602880ff8c17",
   "metadata": {},
   "outputs": [],
   "source": [
    "scrape_books_df = df[(df['rating'] >= min_rating) , (df['price'] <= max_price)"
   ]
  },
  {
   "cell_type": "code",
   "execution_count": null,
   "id": "a39594ed-fdc9-46c2-9abe-75c9d6da691c",
   "metadata": {},
   "outputs": [],
   "source": []
  },
  {
   "cell_type": "code",
   "execution_count": null,
   "id": "c90790f9-65e7-4c6b-a34b-8697218ab720",
   "metadata": {},
   "outputs": [],
   "source": []
  },
  {
   "cell_type": "code",
   "execution_count": null,
   "id": "fd9a88b0-d6e5-4f22-a3e0-a01e3e1ba395",
   "metadata": {},
   "outputs": [],
   "source": []
  },
  {
   "cell_type": "code",
   "execution_count": null,
   "id": "ce3b9c38-0d1f-4e23-98eb-e2c906514e37",
   "metadata": {},
   "outputs": [],
   "source": []
  },
  {
   "cell_type": "code",
   "execution_count": null,
   "id": "81c3b9cf-d583-43ad-ae75-249313ed8a24",
   "metadata": {},
   "outputs": [],
   "source": []
  }
 ],
 "metadata": {
  "colab": {
   "provenance": []
  },
  "kernelspec": {
   "display_name": "Python 3 (ipykernel)",
   "language": "python",
   "name": "python3"
  },
  "language_info": {
   "codemirror_mode": {
    "name": "ipython",
    "version": 3
   },
   "file_extension": ".py",
   "mimetype": "text/x-python",
   "name": "python",
   "nbconvert_exporter": "python",
   "pygments_lexer": "ipython3",
   "version": "3.12.4"
  }
 },
 "nbformat": 4,
 "nbformat_minor": 5
}
